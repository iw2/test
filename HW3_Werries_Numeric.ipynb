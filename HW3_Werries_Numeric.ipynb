{
 "cells": [
  {
   "cell_type": "markdown",
   "metadata": {},
   "source": [
    "# Trading Places\n",
    "1. Read in data using Dask __(1 point)__\n",
    "2. Descriptive Statistics: __(2 points)__\n",
    "    \n",
    "    a. In the year 2012, who were the top 10 countries with the most trading partners? What about the bottom 10?\n",
    "    \n",
    "    b. Using the designation [here]( https://www.foreign-trade.com/reference/hscode.htm), describe the trade volume of the whole dataset in terms of value and list the five highest value sectors in the entire sample period.\n",
    "\n",
    "3. Country statistics: __(3 points)__\n",
    "\n",
    "    a. Calculate the top 10 exports (in terms of value) of our chosen country in 2012.\n",
    "\n",
    "    b. Calculate the top 10 goods with the highest trade volume for both exports and imports in terms of:\n",
    "    \n",
    "        i. Value\n",
    "    \n",
    "        ii. Quantity\n",
    "\n",
    "3. The Gravity Equation Relationship __(4 points)__\n",
    "\n",
    "    a. Using the country shapefile, calculate the distance in kilometers between the centroid of our chosen country and all the other centroids. You may use either haversine distance with the geographic CRS or use a projected CRS and use the `distance` function of `geopandas`.\n",
    "    \n",
    "    b. Using the country we chose in class, create a scatterplot of distance and export volume (quantity and value) in logarithm form.\n",
    "    \n",
    "    c. Calculate the correlations between exports and distance for both value and quantity. Interpret the correlations for each of these factors.\n",
    "    \n",
    "    d. Using the designation you created in 2.d., for which sectors are exports (quantity) most strongly related to distance for this country?\n",
    "    \n",
    "4. Estimation __(6 points)__\n",
    "    \n",
    "    a. Create a function called \"SSE_1p\" that does the following given a scalar input $\\beta$:\n",
    "        1. Subtracts the logarithm of quantity exports from the logarithm of distance times $\\beta$.\n",
    "$$ e = log(E_{ij}) - \\beta log(d_{ij}) $$\n",
    "        2. Squares the error.\n",
    "        3. Returns the sum of the squared error. \n",
    "    b. Plot the function from -1 to +3 with steps of .005, and then find the minimum of the function with the numpy function \"argmin.\" Is it what you expected?\n",
    "    \n",
    "    c. Create another function called \"SSE_2p\" does the same as \"SSE_1p\" but instead takes a __vector__ as an argument:\n",
    " $$ e = log(E_{ij}) - \\beta[0] - \\beta[1] log(d_{ij})$$\n",
    " \n",
    "     d. Do a grid search with the first parameter range as 1500 to 2500 in steps of 10, and the second parameter range as -1 to +3 in steps of .005 as before. Do it using either `dask` or `multiprocessing`. Comment on how or why the parameter on $log(d_{ij})$ is different than what you found in part 4b.\n",
    "     \n",
    "     e. Now check your results using the \"econtools\" package \"reg\" function by running OLS with a constant term.\n",
    "     \n",
    "     f. Finally, merge in the GDP numbers from the World Bank and do the regression again, except this time the log of each country's GDP as covariates. How did the coefficient on distance change?\n",
    "     \n",
    "5. An analyst asks you \"for which commodity sectors is distance most important in terms of exporting?\" Describe what your economic intuition would say about the answer, and then also map out an analysis strategy for answering their question. As usual, describe: __(4 points)__\n",
    "    - What data you would need.\n",
    "    - How you would manipulate the data.\n",
    "    - What analysis you would run."
   ]
  },
  {
   "cell_type": "code",
   "execution_count": 1,
   "metadata": {},
   "outputs": [
    {
     "name": "stdout",
     "output_type": "stream",
     "text": [
      "Collecting econtools\n",
      "  Downloading econtools-0.3.2-py3-none-any.whl (536 kB)\n",
      "\u001b[K     |████████████████████████████████| 536 kB 8.8 MB/s eta 0:00:01\n",
      "\u001b[?25hRequirement already satisfied: scipy in /Users/isaacwerries/opt/anaconda3/envs/ace592_test2/lib/python3.8/site-packages (from econtools) (1.5.0)\n",
      "Requirement already satisfied: numpy>=1.9.2 in /Users/isaacwerries/opt/anaconda3/envs/ace592_test2/lib/python3.8/site-packages (from econtools) (1.20.0)\n",
      "Requirement already satisfied: pandas>=0.16.0 in /Users/isaacwerries/opt/anaconda3/envs/ace592_test2/lib/python3.8/site-packages (from econtools) (1.1.3)\n",
      "Requirement already satisfied: python-dateutil>=2.7.3 in /Users/isaacwerries/opt/anaconda3/envs/ace592_test2/lib/python3.8/site-packages (from pandas>=0.16.0->econtools) (2.8.1)\n",
      "Requirement already satisfied: pytz>=2017.2 in /Users/isaacwerries/opt/anaconda3/envs/ace592_test2/lib/python3.8/site-packages (from pandas>=0.16.0->econtools) (2021.1)\n",
      "Requirement already satisfied: six>=1.5 in /Users/isaacwerries/opt/anaconda3/envs/ace592_test2/lib/python3.8/site-packages (from python-dateutil>=2.7.3->pandas>=0.16.0->econtools) (1.15.0)\n",
      "Installing collected packages: econtools\n",
      "Successfully installed econtools-0.3.2\n",
      "Note: you may need to restart the kernel to use updated packages.\n"
     ]
    }
   ],
   "source": [
    "pip install econtools"
   ]
  },
  {
   "cell_type": "code",
   "execution_count": 5,
   "metadata": {},
   "outputs": [],
   "source": [
    "import glob\n",
    "import pandas as pd\n",
    "import numpy as np\n",
    "import dask.dataframe as dd\n",
    "import matplotlib.pyplot as plt\n",
    "import json\n",
    "import dask\n",
    "import geopandas as gp\n",
    "import matplotlib.pyplot as plt\n",
    "from math import radians, cos, sin, asin, sqrt\n",
    "import econtools.metrics as mt\n",
    "\n",
    "\n",
    "def haversine(row):\n",
    "    \"\"\"\n",
    "    Calculate the great circle distance between two points \n",
    "    on the earth (specified in decimal degrees)\n",
    "    \"\"\"\n",
    "    lon1, lat1, lon2, lat2 = row\n",
    "    # convert decimal degrees to radians \n",
    "    lon1, lat1, lon2, lat2 = map(radians, [lon1, lat1, lon2, lat2])\n",
    "\n",
    "    # haversine formula \n",
    "    dlon = lon2 - lon1 \n",
    "    dlat = lat2 - lat1 \n",
    "    a = sin(dlat/2)**2 + cos(lat1) * cos(lat2) * sin(dlon/2)**2\n",
    "    c = 2 * asin(sqrt(a)) \n",
    "    r = 6371 # Radius of earth in kilometers. Use 3956 for miles\n",
    "    return c * r"
   ]
  },
  {
   "cell_type": "code",
   "execution_count": 6,
   "metadata": {},
   "outputs": [],
   "source": [
    "#Each row represents the trade flows from country $i$ to country $j$ for product $k$ in time $t$ \n",
    "#in terms of either value or quantity."
   ]
  },
  {
   "cell_type": "markdown",
   "metadata": {},
   "source": [
    "# Question 1"
   ]
  },
  {
   "cell_type": "code",
   "execution_count": 7,
   "metadata": {},
   "outputs": [],
   "source": [
    "products = pd.read_csv(\"/Users/isaacwerries/Desktop/test/Hw3/product_codes_HS12_V202001.csv\")\n",
    "products = products.rename(columns={\"code\":\"k\"})"
   ]
  },
  {
   "cell_type": "code",
   "execution_count": 8,
   "metadata": {},
   "outputs": [],
   "source": [
    "df = pd.read_csv('/Users/isaacwerries/Desktop/test/Hw3/BACI_HS12_Y2012_V202001.csv.crdownload')"
   ]
  },
  {
   "cell_type": "code",
   "execution_count": 9,
   "metadata": {},
   "outputs": [],
   "source": [
    "df12 = dd.read_csv('/Users/isaacwerries/Desktop/test/Hw3/BACI_HS12_Y*.csv.crdownload')"
   ]
  },
  {
   "cell_type": "code",
   "execution_count": 10,
   "metadata": {},
   "outputs": [],
   "source": [
    "df12_names = df12.merge(products)"
   ]
  },
  {
   "cell_type": "code",
   "execution_count": 11,
   "metadata": {},
   "outputs": [
    {
     "data": {
      "text/html": [
       "<div>\n",
       "<style scoped>\n",
       "    .dataframe tbody tr th:only-of-type {\n",
       "        vertical-align: middle;\n",
       "    }\n",
       "\n",
       "    .dataframe tbody tr th {\n",
       "        vertical-align: top;\n",
       "    }\n",
       "\n",
       "    .dataframe thead th {\n",
       "        text-align: right;\n",
       "    }\n",
       "</style>\n",
       "<table border=\"1\" class=\"dataframe\">\n",
       "  <thead>\n",
       "    <tr style=\"text-align: right;\">\n",
       "      <th></th>\n",
       "      <th>t</th>\n",
       "      <th>i</th>\n",
       "      <th>j</th>\n",
       "      <th>k</th>\n",
       "      <th>v</th>\n",
       "      <th>q</th>\n",
       "      <th>description</th>\n",
       "      <th>name_i</th>\n",
       "      <th>name_j</th>\n",
       "    </tr>\n",
       "  </thead>\n",
       "  <tbody>\n",
       "    <tr>\n",
       "      <th>0</th>\n",
       "      <td>2012</td>\n",
       "      <td>4</td>\n",
       "      <td>8</td>\n",
       "      <td>610469</td>\n",
       "      <td>2.734000</td>\n",
       "      <td>0.044000</td>\n",
       "      <td>Trousers, bib and brace overalls, breeches and...</td>\n",
       "      <td>Afghanistan</td>\n",
       "      <td>Albania</td>\n",
       "    </tr>\n",
       "    <tr>\n",
       "      <th>1</th>\n",
       "      <td>2012</td>\n",
       "      <td>32</td>\n",
       "      <td>8</td>\n",
       "      <td>170490</td>\n",
       "      <td>22.438000</td>\n",
       "      <td>8.443000</td>\n",
       "      <td>Sugar confectionery: (excluding chewing gum, i...</td>\n",
       "      <td>Argentina</td>\n",
       "      <td>Albania</td>\n",
       "    </tr>\n",
       "    <tr>\n",
       "      <th>2</th>\n",
       "      <td>2012</td>\n",
       "      <td>32</td>\n",
       "      <td>8</td>\n",
       "      <td>300490</td>\n",
       "      <td>166.408111</td>\n",
       "      <td>3.360398</td>\n",
       "      <td>Medicaments: consisting of mixed or unmixed pr...</td>\n",
       "      <td>Argentina</td>\n",
       "      <td>Albania</td>\n",
       "    </tr>\n",
       "    <tr>\n",
       "      <th>3</th>\n",
       "      <td>2012</td>\n",
       "      <td>32</td>\n",
       "      <td>8</td>\n",
       "      <td>121190</td>\n",
       "      <td>33.283929</td>\n",
       "      <td>2.216000</td>\n",
       "      <td>Plants and parts (including seeds and fruits) ...</td>\n",
       "      <td>Argentina</td>\n",
       "      <td>Albania</td>\n",
       "    </tr>\n",
       "    <tr>\n",
       "      <th>4</th>\n",
       "      <td>2012</td>\n",
       "      <td>32</td>\n",
       "      <td>8</td>\n",
       "      <td>870829</td>\n",
       "      <td>1.466350</td>\n",
       "      <td>0.130000</td>\n",
       "      <td>Vehicles: parts and accessories, of bodies, ot...</td>\n",
       "      <td>Argentina</td>\n",
       "      <td>Albania</td>\n",
       "    </tr>\n",
       "  </tbody>\n",
       "</table>\n",
       "</div>"
      ],
      "text/plain": [
       "      t   i  j       k           v         q  \\\n",
       "0  2012   4  8  610469    2.734000  0.044000   \n",
       "1  2012  32  8  170490   22.438000  8.443000   \n",
       "2  2012  32  8  300490  166.408111  3.360398   \n",
       "3  2012  32  8  121190   33.283929  2.216000   \n",
       "4  2012  32  8  870829    1.466350  0.130000   \n",
       "\n",
       "                                         description       name_i   name_j  \n",
       "0  Trousers, bib and brace overalls, breeches and...  Afghanistan  Albania  \n",
       "1  Sugar confectionery: (excluding chewing gum, i...    Argentina  Albania  \n",
       "2  Medicaments: consisting of mixed or unmixed pr...    Argentina  Albania  \n",
       "3  Plants and parts (including seeds and fruits) ...    Argentina  Albania  \n",
       "4  Vehicles: parts and accessories, of bodies, ot...    Argentina  Albania  "
      ]
     },
     "execution_count": 11,
     "metadata": {},
     "output_type": "execute_result"
    }
   ],
   "source": [
    "countries = pd.read_csv(\"/Users/isaacwerries/Desktop/test/Hw3/country_codes_V202001.csv\",encoding = \"ISO-8859-1\")\n",
    "countries = countries.rename(columns={\"country_code\":\"i\",\"country_name_full\":\"name_i\"})\n",
    "df12_names = df12_names.merge(countries[['i','name_i']])\n",
    "\n",
    "countries = pd.read_csv(\"/Users/isaacwerries/Desktop/test/Hw3/country_codes_V202001.csv\",encoding = \"ISO-8859-1\")\n",
    "countries = countries.rename(columns={\"country_code\":\"j\",\"country_name_full\":\"name_j\"})\n",
    "df12_names = df12_names.merge(countries[['j','name_j']])\n",
    "df12_names.head()"
   ]
  },
  {
   "cell_type": "markdown",
   "metadata": {},
   "source": [
    "# Question 2"
   ]
  },
  {
   "cell_type": "code",
   "execution_count": 12,
   "metadata": {},
   "outputs": [
    {
     "data": {
      "text/plain": [
       "name_i\n",
       "USA, Puerto Rico and US Virgin Islands    214\n",
       "Netherlands                               213\n",
       "Belgium-Luxembourg                        212\n",
       "Germany                                   212\n",
       "United Kingdom                            212\n",
       "Republic of Korea                         211\n",
       "Italy                                     210\n",
       "Switzerland, Liechtenstein                210\n",
       "France, Monaco                            209\n",
       "Canada                                    208\n",
       "Name: name_j, dtype: int64"
      ]
     },
     "execution_count": 12,
     "metadata": {},
     "output_type": "execute_result"
    }
   ],
   "source": [
    "df12_names.loc[df12_names.t==2012].groupby(\"name_i\")['name_j'].nunique().nlargest(10).compute()"
   ]
  },
  {
   "cell_type": "code",
   "execution_count": 13,
   "metadata": {},
   "outputs": [
    {
     "data": {
      "text/plain": [
       "name_i\n",
       "Bonaire, Saint Eustatius and Saba      1\n",
       "Saint Maarten (Dutch part)             4\n",
       "South Sudan                            9\n",
       "Saint Pierre and Miquelon             14\n",
       "Palau                                 16\n",
       "Norfolk Islands                       18\n",
       "Pitcairn                              19\n",
       "Christmas Islands                     22\n",
       "French South Antarctic Territories    23\n",
       "Northern Mariana Islands              23\n",
       "Name: name_j, dtype: int64"
      ]
     },
     "execution_count": 13,
     "metadata": {},
     "output_type": "execute_result"
    }
   ],
   "source": [
    "df12_names.loc[df12_names.t==2012].groupby(\"name_i\")['name_j'].nunique().nsmallest(10).compute()"
   ]
  },
  {
   "cell_type": "code",
   "execution_count": 14,
   "metadata": {},
   "outputs": [],
   "source": [
    "with open(\"/Users/isaacwerries/Desktop/test/sector_list.json\") as f:\n",
    "    sectors = json.load(f)"
   ]
  },
  {
   "cell_type": "code",
   "execution_count": 15,
   "metadata": {
    "scrolled": true
   },
   "outputs": [],
   "source": [
    "df12_names['sector'] = df12_names.k.astype(str).str[:-4]\n",
    "df12_names = df12_names.replace({'sector':sectors})"
   ]
  },
  {
   "cell_type": "code",
   "execution_count": 16,
   "metadata": {},
   "outputs": [
    {
     "data": {
      "text/plain": [
       "sector\n",
       "Machinery/Electrical             2.658038e+10\n",
       "Mineral Products                 1.563409e+10\n",
       "Transportation                   1.073103e+10\n",
       "Chemicals & Allied Industries    9.675002e+09\n",
       "Metals                           7.515817e+09\n",
       "Name: v, dtype: float64"
      ]
     },
     "execution_count": 16,
     "metadata": {},
     "output_type": "execute_result"
    }
   ],
   "source": [
    "df12_names.groupby(\"sector\")['v'].sum().nlargest(5).compute()"
   ]
  },
  {
   "cell_type": "markdown",
   "metadata": {},
   "source": [
    "# Question 3"
   ]
  },
  {
   "cell_type": "code",
   "execution_count": 17,
   "metadata": {},
   "outputs": [
    {
     "data": {
      "text/html": [
       "<div>\n",
       "<style scoped>\n",
       "    .dataframe tbody tr th:only-of-type {\n",
       "        vertical-align: middle;\n",
       "    }\n",
       "\n",
       "    .dataframe tbody tr th {\n",
       "        vertical-align: top;\n",
       "    }\n",
       "\n",
       "    .dataframe thead th {\n",
       "        text-align: right;\n",
       "    }\n",
       "</style>\n",
       "<table border=\"1\" class=\"dataframe\">\n",
       "  <thead>\n",
       "    <tr style=\"text-align: right;\">\n",
       "      <th></th>\n",
       "      <th>t</th>\n",
       "      <th>i</th>\n",
       "      <th>j</th>\n",
       "      <th>k</th>\n",
       "      <th>v</th>\n",
       "      <th>q</th>\n",
       "      <th>description</th>\n",
       "      <th>name_i</th>\n",
       "      <th>name_j</th>\n",
       "      <th>sector</th>\n",
       "    </tr>\n",
       "  </thead>\n",
       "  <tbody>\n",
       "    <tr>\n",
       "      <th>1448</th>\n",
       "      <td>2012</td>\n",
       "      <td>76</td>\n",
       "      <td>8</td>\n",
       "      <td>170490</td>\n",
       "      <td>121.680605</td>\n",
       "      <td>54.619872</td>\n",
       "      <td>Sugar confectionery: (excluding chewing gum, i...</td>\n",
       "      <td>Brazil</td>\n",
       "      <td>Albania</td>\n",
       "      <td>Foodstuffs</td>\n",
       "    </tr>\n",
       "    <tr>\n",
       "      <th>1449</th>\n",
       "      <td>2012</td>\n",
       "      <td>76</td>\n",
       "      <td>8</td>\n",
       "      <td>870893</td>\n",
       "      <td>4.853813</td>\n",
       "      <td>0.057000</td>\n",
       "      <td>Vehicle parts: clutches and parts thereof</td>\n",
       "      <td>Brazil</td>\n",
       "      <td>Albania</td>\n",
       "      <td>Transportation</td>\n",
       "    </tr>\n",
       "    <tr>\n",
       "      <th>1450</th>\n",
       "      <td>2012</td>\n",
       "      <td>76</td>\n",
       "      <td>8</td>\n",
       "      <td>841490</td>\n",
       "      <td>5.422000</td>\n",
       "      <td>0.046000</td>\n",
       "      <td>Pumps and compressors: parts, of air or vacuum...</td>\n",
       "      <td>Brazil</td>\n",
       "      <td>Albania</td>\n",
       "      <td>Machinery/Electrical</td>\n",
       "    </tr>\n",
       "    <tr>\n",
       "      <th>1451</th>\n",
       "      <td>2012</td>\n",
       "      <td>76</td>\n",
       "      <td>8</td>\n",
       "      <td>392690</td>\n",
       "      <td>2.603550</td>\n",
       "      <td>2.822000</td>\n",
       "      <td>Plastics: other articles n.e.c. in chapter 39</td>\n",
       "      <td>Brazil</td>\n",
       "      <td>Albania</td>\n",
       "      <td>Plastics/Rubbers</td>\n",
       "    </tr>\n",
       "    <tr>\n",
       "      <th>1452</th>\n",
       "      <td>2012</td>\n",
       "      <td>76</td>\n",
       "      <td>8</td>\n",
       "      <td>848210</td>\n",
       "      <td>4.265000</td>\n",
       "      <td>0.312000</td>\n",
       "      <td>Ball bearings</td>\n",
       "      <td>Brazil</td>\n",
       "      <td>Albania</td>\n",
       "      <td>Machinery/Electrical</td>\n",
       "    </tr>\n",
       "  </tbody>\n",
       "</table>\n",
       "</div>"
      ],
      "text/plain": [
       "         t   i  j       k           v          q  \\\n",
       "1448  2012  76  8  170490  121.680605  54.619872   \n",
       "1449  2012  76  8  870893    4.853813   0.057000   \n",
       "1450  2012  76  8  841490    5.422000   0.046000   \n",
       "1451  2012  76  8  392690    2.603550   2.822000   \n",
       "1452  2012  76  8  848210    4.265000   0.312000   \n",
       "\n",
       "                                            description  name_i   name_j  \\\n",
       "1448  Sugar confectionery: (excluding chewing gum, i...  Brazil  Albania   \n",
       "1449          Vehicle parts: clutches and parts thereof  Brazil  Albania   \n",
       "1450  Pumps and compressors: parts, of air or vacuum...  Brazil  Albania   \n",
       "1451      Plastics: other articles n.e.c. in chapter 39  Brazil  Albania   \n",
       "1452                                      Ball bearings  Brazil  Albania   \n",
       "\n",
       "                    sector  \n",
       "1448            Foodstuffs  \n",
       "1449        Transportation  \n",
       "1450  Machinery/Electrical  \n",
       "1451      Plastics/Rubbers  \n",
       "1452  Machinery/Electrical  "
      ]
     },
     "execution_count": 17,
     "metadata": {},
     "output_type": "execute_result"
    }
   ],
   "source": [
    "brazil = df12_names.loc[(df12_names.t==2012) & (df12_names.name_i==\"Brazil\")]\n",
    "brazil.head()"
   ]
  },
  {
   "cell_type": "markdown",
   "metadata": {},
   "source": [
    "## Top exports by volume:"
   ]
  },
  {
   "cell_type": "code",
   "execution_count": 18,
   "metadata": {},
   "outputs": [
    {
     "data": {
      "text/plain": [
       "description\n",
       "Iron ores and concentrates: non-agglomerated                                                                                                                                                                                                2.497592e+07\n",
       "Oils: petroleum oils and oils obtained from bituminous minerals, crude                                                                                                                                                                      2.086092e+07\n",
       "Soya beans: other than seed, whether or not broken                                                                                                                                                                                          1.741984e+07\n",
       "Sugars: cane sugar, raw, in solid form, other than as specified in Subheading Note 2 to this chapter, not containing added flavouring or colouring matter                                                                                   9.870907e+06\n",
       "Iron ores and concentrates: agglomerated (excluding roasted iron pyrites)                                                                                                                                                                   7.571141e+06\n",
       "Oil-cake and other solid residues: whether or not ground or in the form of pellets, resulting from the extraction of soya-bean oil                                                                                                          6.797181e+06\n",
       "Coffee: not roasted or decaffeinated                                                                                                                                                                                                        6.025826e+06\n",
       "Petroleum oils and oils from bituminous minerals, not crude: preparations n.e.c. containing by weight 70% or more of petroleum oils or oils from bituminous minerals: these being the basic constituents of the preparations: waste oils    5.525909e+06\n",
       "Cereals: maize (corn), other than seed                                                                                                                                                                                                      5.187145e+06\n",
       "Wood pulp: chemical wood pulp, soda or sulphate, (other than dissolving grades), semi-bleached or bleached, of non-coniferous wood                                                                                                          4.651875e+06\n",
       "Name: v, dtype: float64"
      ]
     },
     "execution_count": 18,
     "metadata": {},
     "output_type": "execute_result"
    }
   ],
   "source": [
    "brazil.groupby('description')['v'].agg('sum').nlargest(10).compute()"
   ]
  },
  {
   "cell_type": "markdown",
   "metadata": {},
   "source": [
    "## Top exports by quantity:"
   ]
  },
  {
   "cell_type": "code",
   "execution_count": 19,
   "metadata": {},
   "outputs": [
    {
     "data": {
      "text/plain": [
       "description\n",
       "Iron ores and concentrates: non-agglomerated                                                                                                                                                                                                2.760220e+08\n",
       "Iron ores and concentrates: agglomerated (excluding roasted iron pyrites)                                                                                                                                                                   5.161611e+07\n",
       "Soya beans: other than seed, whether or not broken                                                                                                                                                                                          3.248229e+07\n",
       "Oils: petroleum oils and oils obtained from bituminous minerals, crude                                                                                                                                                                      2.866339e+07\n",
       "Cereals: maize (corn), other than seed                                                                                                                                                                                                      1.973197e+07\n",
       "Sugars: cane sugar, raw, in solid form, other than as specified in Subheading Note 2 to this chapter, not containing added flavouring or colouring matter                                                                                   1.957388e+07\n",
       "Oil-cake and other solid residues: whether or not ground or in the form of pellets, resulting from the extraction of soya-bean oil                                                                                                          1.500754e+07\n",
       "Wood pulp: chemical wood pulp, soda or sulphate, (other than dissolving grades), semi-bleached or bleached, of non-coniferous wood                                                                                                          8.928944e+06\n",
       "Petroleum oils and oils from bituminous minerals, not crude: preparations n.e.c. containing by weight 70% or more of petroleum oils or oils from bituminous minerals: these being the basic constituents of the preparations: waste oils    7.924680e+06\n",
       "Aluminium oxide: other than artificial corundum                                                                                                                                                                                             7.285942e+06\n",
       "Name: q, dtype: float64"
      ]
     },
     "execution_count": 19,
     "metadata": {},
     "output_type": "execute_result"
    }
   ],
   "source": [
    "brazil.groupby('description')['q'].agg('sum').nlargest(10).compute()"
   ]
  },
  {
   "cell_type": "markdown",
   "metadata": {},
   "source": [
    "# Question 4"
   ]
  },
  {
   "cell_type": "code",
   "execution_count": 20,
   "metadata": {},
   "outputs": [],
   "source": [
    "countries = gp.read_file(\"/Users/isaacwerries/Desktop/test/Hw3/countries.geojson\")\n",
    "countries_proj = countries.to_crs(epsg=4087) # WGS 84 Equidistant Cylndrical\n",
    "BR_cent = countries_proj.centroid[33]\n",
    "countries_proj['BR_dist'] = countries_proj.centroid.distance(BR_cent)/1000 # res is in meters, so converting to km\n",
    "#countries_proj.sort_values(\"BR_dist\").head(5)"
   ]
  },
  {
   "cell_type": "code",
   "execution_count": 21,
   "metadata": {},
   "outputs": [],
   "source": [
    "#4d\n",
    "brazil_v = df12_names[(df12_names['name_i']=='Brazil')].compute()\n",
    "\n",
    "#Plot\n",
    "b_sum = brazil_v.groupby('name_j').sum()[['q','v']]\n",
    "b_sum['log_v'] = np.log10(b_sum['v'])\n",
    "b_sum['log_qty'] = np.log10(b_sum['q'])\n",
    "b_sum = b_sum.merge(countries_proj,left_on='name_j',right_on='ADMIN',how='left')\n",
    "\n",
    "brazil_v['sector'] = brazil_v['k']/10000\n",
    "bins = [0,5,15,24,27,38,40,43,49,63,67,71,83,85,89,98]\n",
    "categories = ['Animal and Animal Products', 'Vegetable Products', 'Foodstuffs', 'Mineral Products', 'Chemicals and Allied Industries', \n",
    "        'Plastics/Rubbers', 'Raw Hides, Skins, Leather, and Furs', 'Wood and Wood Products', 'Textiles', 'Footwear/Headgear', \n",
    "        'Stone/Glass', 'Metals', 'Machinery/Electrical', 'Transportation', 'Miscellaneous']\n",
    "brazil_v['product_sector'] = pd.cut(brazil_v['sector'], bins, labels = categories, retbins = True)[0]\n",
    "b_all = brazil_v.merge(countries_proj,left_on='name_j',right_on='ADMIN',how='left')"
   ]
  },
  {
   "cell_type": "code",
   "execution_count": 44,
   "metadata": {},
   "outputs": [
    {
     "data": {
      "text/plain": [
       "Text(0, 0.5, 'Log of Quantity Exported')"
      ]
     },
     "execution_count": 44,
     "metadata": {},
     "output_type": "execute_result"
    },
    {
     "data": {
      "image/png": "[encoded data removed]",
      "text/plain": [
       "<Figure size 1080x360 with 2 Axes>"
      ]
     },
     "metadata": {
      "needs_background": "light"
     },
     "output_type": "display_data"
    }
   ],
   "source": [
    "fig,(ax1,ax2) = plt.subplots(1,2, figsize=(15,5))\n",
    "ax1 = b_sum.plot.scatter(x= \"BR_dist\", y= \"log_v\", c='Orange', ax=ax1)\n",
    "ax1.set_xlabel(\"Distance from Brazil\")\n",
    "ax1.set_ylabel(\"Log of Value Exported\")\n",
    "\n",
    "ax2 = b_sum.plot.scatter(x= \"BR_dist\", y= \"log_qty\", c='Red', ax=ax2)\n",
    "ax2.set_xlabel(\"Distance from Brazil\")\n",
    "ax2.set_ylabel(\"Log of Quantity Exported\")"
   ]
  },
  {
   "cell_type": "code",
   "execution_count": 23,
   "metadata": {},
   "outputs": [
    {
     "data": {
      "text/plain": [
       "q    0.128321\n",
       "v    0.060216\n",
       "Name: BR_dist, dtype: float64"
      ]
     },
     "execution_count": 23,
     "metadata": {},
     "output_type": "execute_result"
    }
   ],
   "source": [
    "b_sum.corr().iloc[-1,:2]"
   ]
  },
  {
   "cell_type": "markdown",
   "metadata": {},
   "source": [
    "### There is little correlation between value and the distance it needs to travel. There is more of a correlation between quantity and distance, but still not strong. "
   ]
  },
  {
   "cell_type": "code",
   "execution_count": 24,
   "metadata": {},
   "outputs": [
    {
     "data": {
      "text/html": [
       "<div>\n",
       "<style scoped>\n",
       "    .dataframe tbody tr th:only-of-type {\n",
       "        vertical-align: middle;\n",
       "    }\n",
       "\n",
       "    .dataframe tbody tr th {\n",
       "        vertical-align: top;\n",
       "    }\n",
       "\n",
       "    .dataframe thead th {\n",
       "        text-align: right;\n",
       "    }\n",
       "</style>\n",
       "<table border=\"1\" class=\"dataframe\">\n",
       "  <thead>\n",
       "    <tr style=\"text-align: right;\">\n",
       "      <th></th>\n",
       "      <th>correlation</th>\n",
       "    </tr>\n",
       "    <tr>\n",
       "      <th>product_sector</th>\n",
       "      <th></th>\n",
       "    </tr>\n",
       "  </thead>\n",
       "  <tbody>\n",
       "    <tr>\n",
       "      <th>Animal and Animal Products</th>\n",
       "      <td>0.065832</td>\n",
       "    </tr>\n",
       "    <tr>\n",
       "      <th>Vegetable Products</th>\n",
       "      <td>0.038421</td>\n",
       "    </tr>\n",
       "    <tr>\n",
       "      <th>Foodstuffs</th>\n",
       "      <td>0.049730</td>\n",
       "    </tr>\n",
       "    <tr>\n",
       "      <th>Mineral Products</th>\n",
       "      <td>0.070806</td>\n",
       "    </tr>\n",
       "    <tr>\n",
       "      <th>Chemicals and Allied Industries</th>\n",
       "      <td>0.018798</td>\n",
       "    </tr>\n",
       "    <tr>\n",
       "      <th>Plastics/Rubbers</th>\n",
       "      <td>-0.028502</td>\n",
       "    </tr>\n",
       "    <tr>\n",
       "      <th>Raw Hides, Skins, Leather, and Furs</th>\n",
       "      <td>0.022899</td>\n",
       "    </tr>\n",
       "    <tr>\n",
       "      <th>Wood and Wood Products</th>\n",
       "      <td>0.050998</td>\n",
       "    </tr>\n",
       "    <tr>\n",
       "      <th>Textiles</th>\n",
       "      <td>0.047477</td>\n",
       "    </tr>\n",
       "    <tr>\n",
       "      <th>Footwear/Headgear</th>\n",
       "      <td>-0.075471</td>\n",
       "    </tr>\n",
       "    <tr>\n",
       "      <th>Stone/Glass</th>\n",
       "      <td>-0.068510</td>\n",
       "    </tr>\n",
       "    <tr>\n",
       "      <th>Metals</th>\n",
       "      <td>0.013884</td>\n",
       "    </tr>\n",
       "    <tr>\n",
       "      <th>Machinery/Electrical</th>\n",
       "      <td>-0.018173</td>\n",
       "    </tr>\n",
       "    <tr>\n",
       "      <th>Transportation</th>\n",
       "      <td>-0.040626</td>\n",
       "    </tr>\n",
       "    <tr>\n",
       "      <th>Miscellaneous</th>\n",
       "      <td>0.002216</td>\n",
       "    </tr>\n",
       "  </tbody>\n",
       "</table>\n",
       "</div>"
      ],
      "text/plain": [
       "                                     correlation\n",
       "product_sector                                  \n",
       "Animal and Animal Products              0.065832\n",
       "Vegetable Products                      0.038421\n",
       "Foodstuffs                              0.049730\n",
       "Mineral Products                        0.070806\n",
       "Chemicals and Allied Industries         0.018798\n",
       "Plastics/Rubbers                       -0.028502\n",
       "Raw Hides, Skins, Leather, and Furs     0.022899\n",
       "Wood and Wood Products                  0.050998\n",
       "Textiles                                0.047477\n",
       "Footwear/Headgear                      -0.075471\n",
       "Stone/Glass                            -0.068510\n",
       "Metals                                  0.013884\n",
       "Machinery/Electrical                   -0.018173\n",
       "Transportation                         -0.040626\n",
       "Miscellaneous                           0.002216"
      ]
     },
     "execution_count": 24,
     "metadata": {},
     "output_type": "execute_result"
    }
   ],
   "source": [
    "corr = b_all[['product_sector','BR_dist','q']]\n",
    "corr2 = corr.groupby('product_sector').corr().reset_index()\n",
    "pd.DataFrame(corr2[corr2['level_1']=='BR_dist'].set_index('product_sector')['q']).rename(columns={'q':'correlation'})"
   ]
  },
  {
   "cell_type": "markdown",
   "metadata": {},
   "source": [
    "# Question 5"
   ]
  },
  {
   "cell_type": "code",
   "execution_count": 28,
   "metadata": {},
   "outputs": [],
   "source": [
    "def SSE_p1(data,a,b,beta,ap):\n",
    "  error = np.log10(data[a])-(np.log10(data[b])*beta)\n",
    "  SSE = np.sum(error**2)\n",
    "  ap.append(SSE)\n",
    "  plt.scatter(beta,SSE,c='blue')"
   ]
  },
  {
   "cell_type": "code",
   "execution_count": 36,
   "metadata": {},
   "outputs": [
    {
     "name": "stdout",
     "output_type": "stream",
     "text": [
      "min = 461.0157998055414\n"
     ]
    },
    {
     "data": {
      "image/png": "[encoded data removed]",
      "text/plain": [
       "<Figure size 432x288 with 1 Axes>"
      ]
     },
     "metadata": {
      "needs_background": "light"
     },
     "output_type": "display_data"
    }
   ],
   "source": [
    "SSEs=[]\n",
    "for i in np.linspace(-1,3,int((4/0.005))+1):\n",
    "  SSE_p1(b_sum,'q','BR_dist',i,SSEs)\n",
    "print('min = '+str(SSEs[np.argmin(SSEs)]))"
   ]
  },
  {
   "cell_type": "code",
   "execution_count": 41,
   "metadata": {},
   "outputs": [],
   "source": [
    "def SSE_2p(data,a,b,beta0,beta,ap):\n",
    "  e = np.log(data[a]) - beta0 - (np.log(data[b])*beta)\n",
    "  SSE = np.sum(e**2)\n",
    "  ap.append(SSE)"
   ]
  },
  {
   "cell_type": "code",
   "execution_count": 42,
   "metadata": {},
   "outputs": [],
   "source": [
    "SSEs=[]\n",
    "beta_range = np.linspace(-1,3,int((4/0.005))+1)\n",
    "beta0_range = np.linspace(1500,2500,int((1000/10))+1)\n",
    "for i,z in zip(beta_range,beta0_range):\n",
    "  SSE_2p(b_all[b_all['t'] == 2012],'q','BR_dist',z,i,SSEs)"
   ]
  },
  {
   "cell_type": "code",
   "execution_count": 43,
   "metadata": {},
   "outputs": [
    {
     "data": {
      "text/plain": [
       "=======================================================\n",
       "Dependent variable:\tlog_qty\n",
       "N:\t\t\t71632\n",
       "R-squared:\t\t0.0163\n",
       "Estimation method:\tOLS\n",
       "VCE method:\t\tStandard (Homosk.)\n",
       "=======================================================\n",
       "             coeff    se       t   p>t CI_low CI_high\n",
       "log_BR_dist -0.618 0.018 -34.490 0.000 -0.654  -0.583\n",
       "_cons        2.753 0.069  40.186 0.000  2.619   2.888\n",
       "======================================================="
      ]
     },
     "execution_count": 43,
     "metadata": {},
     "output_type": "execute_result"
    }
   ],
   "source": [
    "b_all['log_BR_dist'] = np.log10(b_all['BR_dist'])\n",
    "b_all['log_qty'] = np.log10(b_all['q'])\n",
    "\n",
    "df5 = b_all[b_all['t'] == 2012]\n",
    "\n",
    "mt.reg(df5, 'log_qty', 'log_BR_dist', addcons=True)"
   ]
  },
  {
   "cell_type": "markdown",
   "metadata": {},
   "source": [
    "# Question 6"
   ]
  },
  {
   "cell_type": "markdown",
   "metadata": {},
   "source": [
    "### I would think that sectors that are perishable, involve live animals, or are difficult to transport in general would be most sensitive to distance. The harder it is to transport, the more that distance plays a factor. This can be seen in the answer for 4 d. The top three sectors that had the highest correlation with distance were animals, vegetable products, and foodstuffs. All things that are perishable or hard to transport.\n",
    "\n",
    "### If I was going to answer this question, I would try to base my answer off of the cost of transportation. Naturally, the higher the cost of transportation, the less distance it will likely travel. I would first run a regression to see if there is in fact a correlation between the two. Then, by finding how much it would cost to transport one thousand pounds or one ton of each good, I would be able to easily see which sectors distance is most important to."
   ]
  },
  {
   "cell_type": "code",
   "execution_count": null,
   "metadata": {},
   "outputs": [],
   "source": []
  }
 ],
 "metadata": {
  "kernelspec": {
   "display_name": "Python 3",
   "language": "python",
   "name": "python3"
  },
  "language_info": {
   "codemirror_mode": {
    "name": "ipython",
    "version": 3
   },
   "file_extension": ".py",
   "mimetype": "text/x-python",
   "name": "python",
   "nbconvert_exporter": "python",
   "pygments_lexer": "ipython3",
   "version": "3.8.5"
  }
 },
 "nbformat": 4,
 "nbformat_minor": 4
}
