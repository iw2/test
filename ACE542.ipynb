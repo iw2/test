{
 "cells": [
  {
   "cell_type": "code",
   "execution_count": 19,
   "id": "coupled-balloon",
   "metadata": {},
   "outputs": [
    {
     "data": {
      "text/html": [
       "<div>\n",
       "<style scoped>\n",
       "    .dataframe tbody tr th:only-of-type {\n",
       "        vertical-align: middle;\n",
       "    }\n",
       "\n",
       "    .dataframe tbody tr th {\n",
       "        vertical-align: top;\n",
       "    }\n",
       "\n",
       "    .dataframe thead th {\n",
       "        text-align: right;\n",
       "    }\n",
       "</style>\n",
       "<table border=\"1\" class=\"dataframe\">\n",
       "  <thead>\n",
       "    <tr style=\"text-align: right;\">\n",
       "      <th></th>\n",
       "      <th>Yield</th>\n",
       "      <th>Price</th>\n",
       "      <th>Revenue</th>\n",
       "    </tr>\n",
       "  </thead>\n",
       "  <tbody>\n",
       "    <tr>\n",
       "      <th>0</th>\n",
       "      <td>250</td>\n",
       "      <td>2.65</td>\n",
       "      <td>662.50</td>\n",
       "    </tr>\n",
       "    <tr>\n",
       "      <th>1</th>\n",
       "      <td>161</td>\n",
       "      <td>6.14</td>\n",
       "      <td>988.54</td>\n",
       "    </tr>\n",
       "    <tr>\n",
       "      <th>2</th>\n",
       "      <td>177</td>\n",
       "      <td>2.71</td>\n",
       "      <td>479.67</td>\n",
       "    </tr>\n",
       "    <tr>\n",
       "      <th>3</th>\n",
       "      <td>171</td>\n",
       "      <td>3.53</td>\n",
       "      <td>603.63</td>\n",
       "    </tr>\n",
       "    <tr>\n",
       "      <th>4</th>\n",
       "      <td>160</td>\n",
       "      <td>5.81</td>\n",
       "      <td>929.60</td>\n",
       "    </tr>\n",
       "    <tr>\n",
       "      <th>...</th>\n",
       "      <td>...</td>\n",
       "      <td>...</td>\n",
       "      <td>...</td>\n",
       "    </tr>\n",
       "    <tr>\n",
       "      <th>4995</th>\n",
       "      <td>166</td>\n",
       "      <td>5.10</td>\n",
       "      <td>846.60</td>\n",
       "    </tr>\n",
       "    <tr>\n",
       "      <th>4996</th>\n",
       "      <td>274</td>\n",
       "      <td>6.31</td>\n",
       "      <td>1728.94</td>\n",
       "    </tr>\n",
       "    <tr>\n",
       "      <th>4997</th>\n",
       "      <td>156</td>\n",
       "      <td>6.39</td>\n",
       "      <td>996.84</td>\n",
       "    </tr>\n",
       "    <tr>\n",
       "      <th>4998</th>\n",
       "      <td>239</td>\n",
       "      <td>5.16</td>\n",
       "      <td>1233.24</td>\n",
       "    </tr>\n",
       "    <tr>\n",
       "      <th>4999</th>\n",
       "      <td>190</td>\n",
       "      <td>6.49</td>\n",
       "      <td>1233.10</td>\n",
       "    </tr>\n",
       "  </tbody>\n",
       "</table>\n",
       "<p>5000 rows × 3 columns</p>\n",
       "</div>"
      ],
      "text/plain": [
       "      Yield  Price  Revenue\n",
       "0       250   2.65   662.50\n",
       "1       161   6.14   988.54\n",
       "2       177   2.71   479.67\n",
       "3       171   3.53   603.63\n",
       "4       160   5.81   929.60\n",
       "...     ...    ...      ...\n",
       "4995    166   5.10   846.60\n",
       "4996    274   6.31  1728.94\n",
       "4997    156   6.39   996.84\n",
       "4998    239   5.16  1233.24\n",
       "4999    190   6.49  1233.10\n",
       "\n",
       "[5000 rows x 3 columns]"
      ]
     },
     "execution_count": 19,
     "metadata": {},
     "output_type": "execute_result"
    }
   ],
   "source": [
    "import random\n",
    "import plotly.express as px\n",
    "import pandas as pd\n",
    "from pandas import DataFrame\n",
    "import numpy as np\n",
    "from sklearn.linear_model import LinearRegression\n",
    "from sklearn import metrics\n",
    "import numpy as np\n",
    "from scipy import stats\n",
    "from datetime import datetime\n",
    "from sklearn import preprocessing\n",
    "from sklearn.model_selection import KFold\n",
    "from sklearn.linear_model import LinearRegression\n",
    "import matplotlib.pyplot as plt\n",
    "\n",
    "randomlist = []\n",
    "for i in range(0,5000): #pulling random numbers for yield\n",
    "    n = random.randint(150,275)\n",
    "    randomlist.append(n)\n",
    "\n",
    "randomlist2 = []\n",
    "for i in range(0,5000): #pulling random numbers for price\n",
    "    n = round(random.uniform(2.50,7),2)\n",
    "    randomlist2.append(n)\n",
    "\n",
    "data = DataFrame(randomlist,columns = ['Yield'])\n",
    "data['Price'] = randomlist2\n",
    "\n",
    "data['Revenue'] = data['Yield']*data['Price']\n",
    "\n",
    "data"
   ]
  },
  {
   "cell_type": "code",
   "execution_count": 2,
   "id": "exceptional-gospel",
   "metadata": {},
   "outputs": [],
   "source": [
    "c_data = pd.read_csv('/Users/isaacwerries/Desktop/542 Data.csv')\n",
    "ci_price = pd.read_csv('/Users/isaacwerries/Desktop/CI Prices.csv')\n",
    "\n",
    "del c_data['Program'], c_data['Week Ending'], c_data['Zip Code'], c_data['Region'], c_data['watershed_code'],c_data['Domain'], c_data['Domain Category'], c_data['Geo Level'], c_data['State ANSI'], c_data['Ag District'], c_data['Ag District Code'],c_data['Watershed']\n",
    "corn = c_data[c_data['Commodity'] == 'CORN'] #splitting the dataframe based on crop\n",
    "corn = corn[corn['Year'] > 2000].copy()\n",
    "beans = c_data[c_data['Commodity'] == 'SOYBEANS'] #splitting the dataframe based on crop\n",
    "beans = beans[beans['Year'] > 2000].copy()"
   ]
  },
  {
   "cell_type": "code",
   "execution_count": 3,
   "id": "sacred-africa",
   "metadata": {},
   "outputs": [],
   "source": [
    "#Linear Regression for corn\n",
    "cornx = np.array(corn['Value']).reshape((-1,1))\n",
    "corny = np.array(corn['Year']).reshape((-1,1))\n",
    "corny.reshape((-1,1))\n",
    "lr = LinearRegression()\n",
    "regress = lr.fit(corny,cornx)\n",
    "cinter = regress.intercept_ #intercept\n",
    "cslope = regress.coef_ #slope"
   ]
  },
  {
   "cell_type": "code",
   "execution_count": 4,
   "id": "negative-november",
   "metadata": {},
   "outputs": [
    {
     "data": {
      "text/plain": [
       "-4858.711407747956"
      ]
     },
     "execution_count": 4,
     "metadata": {},
     "output_type": "execute_result"
    }
   ],
   "source": [
    "cinter = cinter[0]\n",
    "cinter"
   ]
  },
  {
   "cell_type": "code",
   "execution_count": 5,
   "id": "obvious-blast",
   "metadata": {},
   "outputs": [
    {
     "data": {
      "text/plain": [
       "array([2.49784023])"
      ]
     },
     "execution_count": 5,
     "metadata": {},
     "output_type": "execute_result"
    }
   ],
   "source": [
    "cslope = cslope[0]\n",
    "cslope"
   ]
  },
  {
   "cell_type": "code",
   "execution_count": 6,
   "id": "similar-inspector",
   "metadata": {},
   "outputs": [],
   "source": [
    "ci = pd.read_csv('/Users/isaacwerries/Desktop/CI Prices.csv')\n",
    "corn = pd.merge(ci,corn)"
   ]
  },
  {
   "cell_type": "code",
   "execution_count": 24,
   "id": "posted-separate",
   "metadata": {},
   "outputs": [
    {
     "data": {
      "text/html": [
       "<div>\n",
       "<style scoped>\n",
       "    .dataframe tbody tr th:only-of-type {\n",
       "        vertical-align: middle;\n",
       "    }\n",
       "\n",
       "    .dataframe tbody tr th {\n",
       "        vertical-align: top;\n",
       "    }\n",
       "\n",
       "    .dataframe thead th {\n",
       "        text-align: right;\n",
       "    }\n",
       "</style>\n",
       "<table border=\"1\" class=\"dataframe\">\n",
       "  <thead>\n",
       "    <tr style=\"text-align: right;\">\n",
       "      <th></th>\n",
       "      <th>Year</th>\n",
       "      <th>Corn Base Price</th>\n",
       "      <th>Corn Harvest Price</th>\n",
       "      <th>Period</th>\n",
       "      <th>State</th>\n",
       "      <th>County</th>\n",
       "      <th>County ANSI</th>\n",
       "      <th>Commodity</th>\n",
       "      <th>Data Item</th>\n",
       "      <th>Value</th>\n",
       "      <th>...</th>\n",
       "      <th>0</th>\n",
       "      <th>75% dif</th>\n",
       "      <th>80% dif</th>\n",
       "      <th>85% dif</th>\n",
       "      <th>75% payout</th>\n",
       "      <th>80% payout</th>\n",
       "      <th>85% payout</th>\n",
       "      <th>75% Revenue</th>\n",
       "      <th>80% Revenue</th>\n",
       "      <th>85% Revenue</th>\n",
       "    </tr>\n",
       "  </thead>\n",
       "  <tbody>\n",
       "    <tr>\n",
       "      <th>0</th>\n",
       "      <td>2001</td>\n",
       "      <td>2.46</td>\n",
       "      <td>2.05</td>\n",
       "      <td>YEAR</td>\n",
       "      <td>ILLINOIS</td>\n",
       "      <td>DE WITT</td>\n",
       "      <td>39.0</td>\n",
       "      <td>CORN</td>\n",
       "      <td>CORN, GRAIN - YIELD, MEASURED IN BU / ACRE</td>\n",
       "      <td>158.0</td>\n",
       "      <td>...</td>\n",
       "      <td>0</td>\n",
       "      <td>-167.449056</td>\n",
       "      <td>-142.177603</td>\n",
       "      <td>-116.906151</td>\n",
       "      <td>0.0</td>\n",
       "      <td>0.0</td>\n",
       "      <td>0.0</td>\n",
       "      <td>546.520845</td>\n",
       "      <td>546.520845</td>\n",
       "      <td>546.520845</td>\n",
       "    </tr>\n",
       "    <tr>\n",
       "      <th>1</th>\n",
       "      <td>2002</td>\n",
       "      <td>2.32</td>\n",
       "      <td>2.52</td>\n",
       "      <td>YEAR</td>\n",
       "      <td>ILLINOIS</td>\n",
       "      <td>DE WITT</td>\n",
       "      <td>39.0</td>\n",
       "      <td>CORN</td>\n",
       "      <td>CORN, GRAIN - YIELD, MEASURED IN BU / ACRE</td>\n",
       "      <td>133.0</td>\n",
       "      <td>...</td>\n",
       "      <td>0</td>\n",
       "      <td>-537.442595</td>\n",
       "      <td>-515.019493</td>\n",
       "      <td>-492.596391</td>\n",
       "      <td>0.0</td>\n",
       "      <td>0.0</td>\n",
       "      <td>0.0</td>\n",
       "      <td>873.789119</td>\n",
       "      <td>873.789119</td>\n",
       "      <td>873.789119</td>\n",
       "    </tr>\n",
       "    <tr>\n",
       "      <th>2</th>\n",
       "      <td>2003</td>\n",
       "      <td>2.42</td>\n",
       "      <td>2.37</td>\n",
       "      <td>YEAR</td>\n",
       "      <td>ILLINOIS</td>\n",
       "      <td>DE WITT</td>\n",
       "      <td>39.0</td>\n",
       "      <td>CORN</td>\n",
       "      <td>CORN, GRAIN - YIELD, MEASURED IN BU / ACRE</td>\n",
       "      <td>181.0</td>\n",
       "      <td>...</td>\n",
       "      <td>0</td>\n",
       "      <td>-667.037902</td>\n",
       "      <td>-639.998845</td>\n",
       "      <td>-612.959788</td>\n",
       "      <td>0.0</td>\n",
       "      <td>0.0</td>\n",
       "      <td>0.0</td>\n",
       "      <td>1072.623762</td>\n",
       "      <td>1072.623762</td>\n",
       "      <td>1072.623762</td>\n",
       "    </tr>\n",
       "    <tr>\n",
       "      <th>3</th>\n",
       "      <td>2004</td>\n",
       "      <td>2.83</td>\n",
       "      <td>1.99</td>\n",
       "      <td>YEAR</td>\n",
       "      <td>ILLINOIS</td>\n",
       "      <td>DE WITT</td>\n",
       "      <td>39.0</td>\n",
       "      <td>CORN</td>\n",
       "      <td>CORN, GRAIN - YIELD, MEASURED IN BU / ACRE</td>\n",
       "      <td>181.0</td>\n",
       "      <td>...</td>\n",
       "      <td>0</td>\n",
       "      <td>-538.603269</td>\n",
       "      <td>-507.336659</td>\n",
       "      <td>-476.070048</td>\n",
       "      <td>0.0</td>\n",
       "      <td>0.0</td>\n",
       "      <td>0.0</td>\n",
       "      <td>1007.602423</td>\n",
       "      <td>1007.602423</td>\n",
       "      <td>1007.602423</td>\n",
       "    </tr>\n",
       "    <tr>\n",
       "      <th>4</th>\n",
       "      <td>2005</td>\n",
       "      <td>2.32</td>\n",
       "      <td>1.93</td>\n",
       "      <td>YEAR</td>\n",
       "      <td>ILLINOIS</td>\n",
       "      <td>DE WITT</td>\n",
       "      <td>39.0</td>\n",
       "      <td>CORN</td>\n",
       "      <td>CORN, GRAIN - YIELD, MEASURED IN BU / ACRE</td>\n",
       "      <td>162.0</td>\n",
       "      <td>...</td>\n",
       "      <td>0</td>\n",
       "      <td>-686.168556</td>\n",
       "      <td>-663.030314</td>\n",
       "      <td>-639.892072</td>\n",
       "      <td>0.0</td>\n",
       "      <td>0.0</td>\n",
       "      <td>0.0</td>\n",
       "      <td>1033.242186</td>\n",
       "      <td>1033.242186</td>\n",
       "      <td>1033.242186</td>\n",
       "    </tr>\n",
       "  </tbody>\n",
       "</table>\n",
       "<p>5 rows × 33 columns</p>\n",
       "</div>"
      ],
      "text/plain": [
       "   Year  Corn Base Price  Corn Harvest Price Period     State   County  \\\n",
       "0  2001             2.46                2.05   YEAR  ILLINOIS  DE WITT   \n",
       "1  2002             2.32                2.52   YEAR  ILLINOIS  DE WITT   \n",
       "2  2003             2.42                2.37   YEAR  ILLINOIS  DE WITT   \n",
       "3  2004             2.83                1.99   YEAR  ILLINOIS  DE WITT   \n",
       "4  2005             2.32                1.93   YEAR  ILLINOIS  DE WITT   \n",
       "\n",
       "   County ANSI Commodity                                   Data Item  Value  \\\n",
       "0         39.0      CORN  CORN, GRAIN - YIELD, MEASURED IN BU / ACRE  158.0   \n",
       "1         39.0      CORN  CORN, GRAIN - YIELD, MEASURED IN BU / ACRE  133.0   \n",
       "2         39.0      CORN  CORN, GRAIN - YIELD, MEASURED IN BU / ACRE  181.0   \n",
       "3         39.0      CORN  CORN, GRAIN - YIELD, MEASURED IN BU / ACRE  181.0   \n",
       "4         39.0      CORN  CORN, GRAIN - YIELD, MEASURED IN BU / ACRE  162.0   \n",
       "\n",
       "   ...  0     75% dif     80% dif     85% dif  75% payout  80% payout  \\\n",
       "0  ...  0 -167.449056 -142.177603 -116.906151         0.0         0.0   \n",
       "1  ...  0 -537.442595 -515.019493 -492.596391         0.0         0.0   \n",
       "2  ...  0 -667.037902 -639.998845 -612.959788         0.0         0.0   \n",
       "3  ...  0 -538.603269 -507.336659 -476.070048         0.0         0.0   \n",
       "4  ...  0 -686.168556 -663.030314 -639.892072         0.0         0.0   \n",
       "\n",
       "   85% payout  75% Revenue  80% Revenue  85% Revenue  \n",
       "0         0.0   546.520845   546.520845   546.520845  \n",
       "1         0.0   873.789119   873.789119   873.789119  \n",
       "2         0.0  1072.623762  1072.623762  1072.623762  \n",
       "3         0.0  1007.602423  1007.602423  1007.602423  \n",
       "4         0.0  1033.242186  1033.242186  1033.242186  \n",
       "\n",
       "[5 rows x 33 columns]"
      ]
     },
     "execution_count": 24,
     "metadata": {},
     "output_type": "execute_result"
    }
   ],
   "source": [
    "corn['Trend fitted yield'] = corn['Year']*cslope+cinter\n",
    "corn['Trend adjusted yield'] = corn['Value']+cslope*(2020-corn['Year'])\n",
    "corn['Random Price'] = [round(random.uniform(2.50,7),2) for k in corn.index]\n",
    "corn['Revenue'] = corn['Random Price']*corn['Trend adjusted yield']\n",
    "corn = pd.merge(ci_price,corn)\n",
    "del corn['Beans Base Price'], corn['Beans Harvest Price']\n",
    "aph1 = corn.groupby(['County'])['Value'].agg(['sum','count']).reset_index()\n",
    "corn = pd.merge(corn,aph1)\n",
    "corn['County APH'] = ((corn['sum'])/(corn['count']))\n",
    "corn['bp guarantee'] = corn['Trend adjusted yield']*corn['Corn Base Price']\n",
    "corn['hp guarantee'] = corn['Trend adjusted yield']*corn['Corn Harvest Price']\n",
    "corn['Revenue Guarantee 75%'] = corn[['bp guarantee','hp guarantee']].max(axis = 1)*.75\n",
    "corn['Revenue Guarantee 80%'] = corn[['bp guarantee','hp guarantee']].max(axis = 1)*.8\n",
    "corn['Revenue Guarantee 85%'] = corn[['bp guarantee','hp guarantee']].max(axis = 1)*.85\n",
    "corn['0'] = 0\n",
    "corn['75% dif'] = corn['Revenue Guarantee 75%']-corn['Revenue']\n",
    "corn['80% dif'] = corn['Revenue Guarantee 80%']-corn['Revenue']\n",
    "corn['85% dif'] = corn['Revenue Guarantee 85%']-corn['Revenue']\n",
    "corn['75% payout'] = corn[['75% dif','0']].max(axis = 1)\n",
    "corn['80% payout'] = corn[['80% dif','0']].max(axis = 1)\n",
    "corn['85% payout'] = corn[['85% dif','0']].max(axis = 1)\n",
    "corn['75% Revenue'] = corn['75% payout']+corn['Revenue']\n",
    "corn['80% Revenue'] = corn['80% payout']+corn['Revenue']\n",
    "corn['85% Revenue'] = corn['85% payout']+corn['Revenue']\n",
    "corn.head()"
   ]
  },
  {
   "cell_type": "code",
   "execution_count": 25,
   "id": "velvet-malta",
   "metadata": {},
   "outputs": [],
   "source": [
    "#Linear Regression for beans\n",
    "beanx = np.array(beans['Value']).reshape((-1,1))\n",
    "beany = np.array(beans['Year']).reshape((-1,1))\n",
    "beany.reshape((-1,1))\n",
    "lr = LinearRegression()\n",
    "regress = lr.fit(beany,beanx)\n",
    "binter = regress.intercept_ #intercept\n",
    "binter = binter[0]\n",
    "bslope = regress.coef_ #slope\n",
    "bslope = bslope[0]"
   ]
  },
  {
   "cell_type": "code",
   "execution_count": 26,
   "id": "short-pittsburgh",
   "metadata": {},
   "outputs": [],
   "source": [
    "beans = pd.merge(ci,beans)\n",
    "aph = beans.groupby(['County'])['Value'].agg(['sum','count']).reset_index()\n",
    "beans = pd.merge(aph,beans)\n",
    "beans['Trend fitted yield'] = beans['Year']*bslope+binter\n",
    "beans['Trend adjusted yield'] = beans['Value']+bslope*(2020-beans['Year'])\n",
    "beans['Random Price'] = [round(random.uniform(8,17),2) for k in beans.index]\n",
    "beans['Revenue'] = beans['Random Price']*beans['Trend adjusted yield']\n",
    "beans['County APH'] = ((beans['sum'])/(beans['count']))"
   ]
  },
  {
   "cell_type": "code",
   "execution_count": 38,
   "id": "registered-murray",
   "metadata": {},
   "outputs": [
    {
     "data": {
      "text/html": [
       "<div>\n",
       "<style scoped>\n",
       "    .dataframe tbody tr th:only-of-type {\n",
       "        vertical-align: middle;\n",
       "    }\n",
       "\n",
       "    .dataframe tbody tr th {\n",
       "        vertical-align: top;\n",
       "    }\n",
       "\n",
       "    .dataframe thead th {\n",
       "        text-align: right;\n",
       "    }\n",
       "</style>\n",
       "<table border=\"1\" class=\"dataframe\">\n",
       "  <thead>\n",
       "    <tr style=\"text-align: right;\">\n",
       "      <th></th>\n",
       "      <th>County</th>\n",
       "      <th>sum</th>\n",
       "      <th>count</th>\n",
       "      <th>Year</th>\n",
       "      <th>Corn Base Price</th>\n",
       "      <th>Corn Harvest Price</th>\n",
       "      <th>Beans Base Price</th>\n",
       "      <th>Beans Harvest Price</th>\n",
       "      <th>Period</th>\n",
       "      <th>State</th>\n",
       "      <th>County ANSI</th>\n",
       "      <th>Commodity</th>\n",
       "      <th>Data Item</th>\n",
       "      <th>Value</th>\n",
       "      <th>CV (%)</th>\n",
       "      <th>Trend fitted yield</th>\n",
       "      <th>Trend adjusted yield</th>\n",
       "      <th>Revenue</th>\n",
       "      <th>Random Price</th>\n",
       "      <th>County APH</th>\n",
       "      <th>bp guarantee</th>\n",
       "      <th>hp guarantee</th>\n",
       "      <th>Revenue Guarantee 75%</th>\n",
       "      <th>Revenue Guarantee 80%</th>\n",
       "      <th>Revenue Guarantee 85%</th>\n",
       "      <th>0</th>\n",
       "      <th>75% dif</th>\n",
       "      <th>80% dif</th>\n",
       "      <th>85% dif</th>\n",
       "      <th>75% payout</th>\n",
       "      <th>80% payout</th>\n",
       "      <th>85% payout</th>\n",
       "      <th>75% Revenue</th>\n",
       "      <th>80% Revenue</th>\n",
       "      <th>85% Revenue</th>\n",
       "    </tr>\n",
       "  </thead>\n",
       "  <tbody>\n",
       "    <tr>\n",
       "      <th>0</th>\n",
       "      <td>ADAMS</td>\n",
       "      <td>948.9</td>\n",
       "      <td>20</td>\n",
       "      <td>2001</td>\n",
       "      <td>2.46</td>\n",
       "      <td>2.05</td>\n",
       "      <td>4.67</td>\n",
       "      <td>4.37</td>\n",
       "      <td>YEAR</td>\n",
       "      <td>ILLINOIS</td>\n",
       "      <td>1.0</td>\n",
       "      <td>SOYBEANS</td>\n",
       "      <td>SOYBEANS - YIELD, MEASURED IN BU / ACRE</td>\n",
       "      <td>44.0</td>\n",
       "      <td>NaN</td>\n",
       "      <td>40.011797</td>\n",
       "      <td>61.91491</td>\n",
       "      <td>562.187381</td>\n",
       "      <td>9.08</td>\n",
       "      <td>47.445</td>\n",
       "      <td>221.56815</td>\n",
       "      <td>207.33465</td>\n",
       "      <td>166.176112</td>\n",
       "      <td>177.25452</td>\n",
       "      <td>188.332927</td>\n",
       "      <td>0</td>\n",
       "      <td>-396.011268</td>\n",
       "      <td>-384.932861</td>\n",
       "      <td>-373.854453</td>\n",
       "      <td>0.0</td>\n",
       "      <td>0.0</td>\n",
       "      <td>0.0</td>\n",
       "      <td>562.187381</td>\n",
       "      <td>562.187381</td>\n",
       "      <td>562.187381</td>\n",
       "    </tr>\n",
       "    <tr>\n",
       "      <th>1</th>\n",
       "      <td>ADAMS</td>\n",
       "      <td>948.9</td>\n",
       "      <td>20</td>\n",
       "      <td>2002</td>\n",
       "      <td>2.32</td>\n",
       "      <td>2.52</td>\n",
       "      <td>4.50</td>\n",
       "      <td>5.45</td>\n",
       "      <td>YEAR</td>\n",
       "      <td>ILLINOIS</td>\n",
       "      <td>1.0</td>\n",
       "      <td>SOYBEANS</td>\n",
       "      <td>SOYBEANS - YIELD, MEASURED IN BU / ACRE</td>\n",
       "      <td>48.0</td>\n",
       "      <td>NaN</td>\n",
       "      <td>40.954687</td>\n",
       "      <td>64.97202</td>\n",
       "      <td>924.551841</td>\n",
       "      <td>14.23</td>\n",
       "      <td>47.445</td>\n",
       "      <td>213.50250</td>\n",
       "      <td>258.57525</td>\n",
       "      <td>193.931437</td>\n",
       "      <td>206.86020</td>\n",
       "      <td>219.788962</td>\n",
       "      <td>0</td>\n",
       "      <td>-730.620404</td>\n",
       "      <td>-717.691641</td>\n",
       "      <td>-704.762879</td>\n",
       "      <td>0.0</td>\n",
       "      <td>0.0</td>\n",
       "      <td>0.0</td>\n",
       "      <td>924.551841</td>\n",
       "      <td>924.551841</td>\n",
       "      <td>924.551841</td>\n",
       "    </tr>\n",
       "    <tr>\n",
       "      <th>2</th>\n",
       "      <td>ADAMS</td>\n",
       "      <td>948.9</td>\n",
       "      <td>20</td>\n",
       "      <td>2003</td>\n",
       "      <td>2.42</td>\n",
       "      <td>2.37</td>\n",
       "      <td>5.26</td>\n",
       "      <td>7.32</td>\n",
       "      <td>YEAR</td>\n",
       "      <td>ILLINOIS</td>\n",
       "      <td>1.0</td>\n",
       "      <td>SOYBEANS</td>\n",
       "      <td>SOYBEANS - YIELD, MEASURED IN BU / ACRE</td>\n",
       "      <td>44.0</td>\n",
       "      <td>NaN</td>\n",
       "      <td>41.897577</td>\n",
       "      <td>60.02913</td>\n",
       "      <td>494.640029</td>\n",
       "      <td>8.24</td>\n",
       "      <td>47.445</td>\n",
       "      <td>249.56070</td>\n",
       "      <td>347.29740</td>\n",
       "      <td>260.473050</td>\n",
       "      <td>277.83792</td>\n",
       "      <td>295.202790</td>\n",
       "      <td>0</td>\n",
       "      <td>-234.166979</td>\n",
       "      <td>-216.802109</td>\n",
       "      <td>-199.437239</td>\n",
       "      <td>0.0</td>\n",
       "      <td>0.0</td>\n",
       "      <td>0.0</td>\n",
       "      <td>494.640029</td>\n",
       "      <td>494.640029</td>\n",
       "      <td>494.640029</td>\n",
       "    </tr>\n",
       "    <tr>\n",
       "      <th>3</th>\n",
       "      <td>ADAMS</td>\n",
       "      <td>948.9</td>\n",
       "      <td>20</td>\n",
       "      <td>2004</td>\n",
       "      <td>2.83</td>\n",
       "      <td>1.99</td>\n",
       "      <td>6.72</td>\n",
       "      <td>5.26</td>\n",
       "      <td>YEAR</td>\n",
       "      <td>ILLINOIS</td>\n",
       "      <td>1.0</td>\n",
       "      <td>SOYBEANS</td>\n",
       "      <td>SOYBEANS - YIELD, MEASURED IN BU / ACRE</td>\n",
       "      <td>49.0</td>\n",
       "      <td>NaN</td>\n",
       "      <td>42.840467</td>\n",
       "      <td>64.08624</td>\n",
       "      <td>782.492988</td>\n",
       "      <td>12.21</td>\n",
       "      <td>47.445</td>\n",
       "      <td>318.83040</td>\n",
       "      <td>249.56070</td>\n",
       "      <td>239.122800</td>\n",
       "      <td>255.06432</td>\n",
       "      <td>271.005840</td>\n",
       "      <td>0</td>\n",
       "      <td>-543.370188</td>\n",
       "      <td>-527.428668</td>\n",
       "      <td>-511.487148</td>\n",
       "      <td>0.0</td>\n",
       "      <td>0.0</td>\n",
       "      <td>0.0</td>\n",
       "      <td>782.492988</td>\n",
       "      <td>782.492988</td>\n",
       "      <td>782.492988</td>\n",
       "    </tr>\n",
       "    <tr>\n",
       "      <th>4</th>\n",
       "      <td>ADAMS</td>\n",
       "      <td>948.9</td>\n",
       "      <td>20</td>\n",
       "      <td>2005</td>\n",
       "      <td>2.32</td>\n",
       "      <td>1.93</td>\n",
       "      <td>5.53</td>\n",
       "      <td>5.75</td>\n",
       "      <td>YEAR</td>\n",
       "      <td>ILLINOIS</td>\n",
       "      <td>1.0</td>\n",
       "      <td>SOYBEANS</td>\n",
       "      <td>SOYBEANS - YIELD, MEASURED IN BU / ACRE</td>\n",
       "      <td>43.0</td>\n",
       "      <td>NaN</td>\n",
       "      <td>43.783357</td>\n",
       "      <td>57.14335</td>\n",
       "      <td>570.290631</td>\n",
       "      <td>9.98</td>\n",
       "      <td>47.445</td>\n",
       "      <td>262.37085</td>\n",
       "      <td>272.80875</td>\n",
       "      <td>204.606562</td>\n",
       "      <td>218.24700</td>\n",
       "      <td>231.887437</td>\n",
       "      <td>0</td>\n",
       "      <td>-365.684069</td>\n",
       "      <td>-352.043631</td>\n",
       "      <td>-338.403194</td>\n",
       "      <td>0.0</td>\n",
       "      <td>0.0</td>\n",
       "      <td>0.0</td>\n",
       "      <td>570.290631</td>\n",
       "      <td>570.290631</td>\n",
       "      <td>570.290631</td>\n",
       "    </tr>\n",
       "    <tr>\n",
       "      <th>...</th>\n",
       "      <td>...</td>\n",
       "      <td>...</td>\n",
       "      <td>...</td>\n",
       "      <td>...</td>\n",
       "      <td>...</td>\n",
       "      <td>...</td>\n",
       "      <td>...</td>\n",
       "      <td>...</td>\n",
       "      <td>...</td>\n",
       "      <td>...</td>\n",
       "      <td>...</td>\n",
       "      <td>...</td>\n",
       "      <td>...</td>\n",
       "      <td>...</td>\n",
       "      <td>...</td>\n",
       "      <td>...</td>\n",
       "      <td>...</td>\n",
       "      <td>...</td>\n",
       "      <td>...</td>\n",
       "      <td>...</td>\n",
       "      <td>...</td>\n",
       "      <td>...</td>\n",
       "      <td>...</td>\n",
       "      <td>...</td>\n",
       "      <td>...</td>\n",
       "      <td>...</td>\n",
       "      <td>...</td>\n",
       "      <td>...</td>\n",
       "      <td>...</td>\n",
       "      <td>...</td>\n",
       "      <td>...</td>\n",
       "      <td>...</td>\n",
       "      <td>...</td>\n",
       "      <td>...</td>\n",
       "      <td>...</td>\n",
       "    </tr>\n",
       "    <tr>\n",
       "      <th>1972</th>\n",
       "      <td>WOODFORD</td>\n",
       "      <td>1118.5</td>\n",
       "      <td>20</td>\n",
       "      <td>2016</td>\n",
       "      <td>3.86</td>\n",
       "      <td>3.49</td>\n",
       "      <td>8.85</td>\n",
       "      <td>9.75</td>\n",
       "      <td>YEAR</td>\n",
       "      <td>ILLINOIS</td>\n",
       "      <td>203.0</td>\n",
       "      <td>SOYBEANS</td>\n",
       "      <td>SOYBEANS - YIELD, MEASURED IN BU / ACRE</td>\n",
       "      <td>67.0</td>\n",
       "      <td>NaN</td>\n",
       "      <td>54.155147</td>\n",
       "      <td>70.77156</td>\n",
       "      <td>961.785500</td>\n",
       "      <td>13.59</td>\n",
       "      <td>55.925</td>\n",
       "      <td>494.93625</td>\n",
       "      <td>545.26875</td>\n",
       "      <td>408.951562</td>\n",
       "      <td>436.21500</td>\n",
       "      <td>463.478437</td>\n",
       "      <td>0</td>\n",
       "      <td>-552.833937</td>\n",
       "      <td>-525.570500</td>\n",
       "      <td>-498.307062</td>\n",
       "      <td>0.0</td>\n",
       "      <td>0.0</td>\n",
       "      <td>0.0</td>\n",
       "      <td>961.785500</td>\n",
       "      <td>961.785500</td>\n",
       "      <td>961.785500</td>\n",
       "    </tr>\n",
       "    <tr>\n",
       "      <th>1973</th>\n",
       "      <td>WOODFORD</td>\n",
       "      <td>1118.5</td>\n",
       "      <td>20</td>\n",
       "      <td>2017</td>\n",
       "      <td>3.97</td>\n",
       "      <td>3.49</td>\n",
       "      <td>10.19</td>\n",
       "      <td>9.75</td>\n",
       "      <td>YEAR</td>\n",
       "      <td>ILLINOIS</td>\n",
       "      <td>203.0</td>\n",
       "      <td>SOYBEANS</td>\n",
       "      <td>SOYBEANS - YIELD, MEASURED IN BU / ACRE</td>\n",
       "      <td>60.4</td>\n",
       "      <td>NaN</td>\n",
       "      <td>55.098037</td>\n",
       "      <td>63.22867</td>\n",
       "      <td>544.398848</td>\n",
       "      <td>8.61</td>\n",
       "      <td>55.925</td>\n",
       "      <td>569.87575</td>\n",
       "      <td>545.26875</td>\n",
       "      <td>427.406812</td>\n",
       "      <td>455.90060</td>\n",
       "      <td>484.394387</td>\n",
       "      <td>0</td>\n",
       "      <td>-116.992036</td>\n",
       "      <td>-88.498248</td>\n",
       "      <td>-60.004461</td>\n",
       "      <td>0.0</td>\n",
       "      <td>0.0</td>\n",
       "      <td>0.0</td>\n",
       "      <td>544.398848</td>\n",
       "      <td>544.398848</td>\n",
       "      <td>544.398848</td>\n",
       "    </tr>\n",
       "    <tr>\n",
       "      <th>1974</th>\n",
       "      <td>WOODFORD</td>\n",
       "      <td>1118.5</td>\n",
       "      <td>20</td>\n",
       "      <td>2018</td>\n",
       "      <td>3.96</td>\n",
       "      <td>3.68</td>\n",
       "      <td>10.16</td>\n",
       "      <td>8.60</td>\n",
       "      <td>YEAR</td>\n",
       "      <td>ILLINOIS</td>\n",
       "      <td>203.0</td>\n",
       "      <td>SOYBEANS</td>\n",
       "      <td>SOYBEANS - YIELD, MEASURED IN BU / ACRE</td>\n",
       "      <td>64.7</td>\n",
       "      <td>NaN</td>\n",
       "      <td>56.040927</td>\n",
       "      <td>66.58578</td>\n",
       "      <td>789.041493</td>\n",
       "      <td>11.85</td>\n",
       "      <td>55.925</td>\n",
       "      <td>568.19800</td>\n",
       "      <td>480.95500</td>\n",
       "      <td>426.148500</td>\n",
       "      <td>454.55840</td>\n",
       "      <td>482.968300</td>\n",
       "      <td>0</td>\n",
       "      <td>-362.892993</td>\n",
       "      <td>-334.483093</td>\n",
       "      <td>-306.073193</td>\n",
       "      <td>0.0</td>\n",
       "      <td>0.0</td>\n",
       "      <td>0.0</td>\n",
       "      <td>789.041493</td>\n",
       "      <td>789.041493</td>\n",
       "      <td>789.041493</td>\n",
       "    </tr>\n",
       "    <tr>\n",
       "      <th>1975</th>\n",
       "      <td>WOODFORD</td>\n",
       "      <td>1118.5</td>\n",
       "      <td>20</td>\n",
       "      <td>2019</td>\n",
       "      <td>4.00</td>\n",
       "      <td>3.90</td>\n",
       "      <td>9.54</td>\n",
       "      <td>9.25</td>\n",
       "      <td>YEAR</td>\n",
       "      <td>ILLINOIS</td>\n",
       "      <td>203.0</td>\n",
       "      <td>SOYBEANS</td>\n",
       "      <td>SOYBEANS - YIELD, MEASURED IN BU / ACRE</td>\n",
       "      <td>61.4</td>\n",
       "      <td>NaN</td>\n",
       "      <td>56.983817</td>\n",
       "      <td>62.34289</td>\n",
       "      <td>543.006572</td>\n",
       "      <td>8.71</td>\n",
       "      <td>55.925</td>\n",
       "      <td>533.52450</td>\n",
       "      <td>517.30625</td>\n",
       "      <td>400.143375</td>\n",
       "      <td>426.81960</td>\n",
       "      <td>453.495825</td>\n",
       "      <td>0</td>\n",
       "      <td>-142.863197</td>\n",
       "      <td>-116.186972</td>\n",
       "      <td>-89.510747</td>\n",
       "      <td>0.0</td>\n",
       "      <td>0.0</td>\n",
       "      <td>0.0</td>\n",
       "      <td>543.006572</td>\n",
       "      <td>543.006572</td>\n",
       "      <td>543.006572</td>\n",
       "    </tr>\n",
       "    <tr>\n",
       "      <th>1976</th>\n",
       "      <td>WOODFORD</td>\n",
       "      <td>1118.5</td>\n",
       "      <td>20</td>\n",
       "      <td>2020</td>\n",
       "      <td>3.88</td>\n",
       "      <td>3.99</td>\n",
       "      <td>9.17</td>\n",
       "      <td>10.54</td>\n",
       "      <td>YEAR</td>\n",
       "      <td>ILLINOIS</td>\n",
       "      <td>203.0</td>\n",
       "      <td>SOYBEANS</td>\n",
       "      <td>SOYBEANS - YIELD, MEASURED IN BU / ACRE</td>\n",
       "      <td>62.2</td>\n",
       "      <td>2.3</td>\n",
       "      <td>57.926707</td>\n",
       "      <td>62.20000</td>\n",
       "      <td>591.522000</td>\n",
       "      <td>9.51</td>\n",
       "      <td>55.925</td>\n",
       "      <td>512.83225</td>\n",
       "      <td>589.44950</td>\n",
       "      <td>442.087125</td>\n",
       "      <td>471.55960</td>\n",
       "      <td>501.032075</td>\n",
       "      <td>0</td>\n",
       "      <td>-149.434875</td>\n",
       "      <td>-119.962400</td>\n",
       "      <td>-90.489925</td>\n",
       "      <td>0.0</td>\n",
       "      <td>0.0</td>\n",
       "      <td>0.0</td>\n",
       "      <td>591.522000</td>\n",
       "      <td>591.522000</td>\n",
       "      <td>591.522000</td>\n",
       "    </tr>\n",
       "  </tbody>\n",
       "</table>\n",
       "<p>1977 rows × 35 columns</p>\n",
       "</div>"
      ],
      "text/plain": [
       "        County     sum  count  Year  Corn Base Price  Corn Harvest Price  \\\n",
       "0        ADAMS   948.9     20  2001             2.46                2.05   \n",
       "1        ADAMS   948.9     20  2002             2.32                2.52   \n",
       "2        ADAMS   948.9     20  2003             2.42                2.37   \n",
       "3        ADAMS   948.9     20  2004             2.83                1.99   \n",
       "4        ADAMS   948.9     20  2005             2.32                1.93   \n",
       "...        ...     ...    ...   ...              ...                 ...   \n",
       "1972  WOODFORD  1118.5     20  2016             3.86                3.49   \n",
       "1973  WOODFORD  1118.5     20  2017             3.97                3.49   \n",
       "1974  WOODFORD  1118.5     20  2018             3.96                3.68   \n",
       "1975  WOODFORD  1118.5     20  2019             4.00                3.90   \n",
       "1976  WOODFORD  1118.5     20  2020             3.88                3.99   \n",
       "\n",
       "      Beans Base Price  Beans Harvest Price Period     State  County ANSI  \\\n",
       "0                 4.67                 4.37   YEAR  ILLINOIS          1.0   \n",
       "1                 4.50                 5.45   YEAR  ILLINOIS          1.0   \n",
       "2                 5.26                 7.32   YEAR  ILLINOIS          1.0   \n",
       "3                 6.72                 5.26   YEAR  ILLINOIS          1.0   \n",
       "4                 5.53                 5.75   YEAR  ILLINOIS          1.0   \n",
       "...                ...                  ...    ...       ...          ...   \n",
       "1972              8.85                 9.75   YEAR  ILLINOIS        203.0   \n",
       "1973             10.19                 9.75   YEAR  ILLINOIS        203.0   \n",
       "1974             10.16                 8.60   YEAR  ILLINOIS        203.0   \n",
       "1975              9.54                 9.25   YEAR  ILLINOIS        203.0   \n",
       "1976              9.17                10.54   YEAR  ILLINOIS        203.0   \n",
       "\n",
       "     Commodity                                Data Item  Value  CV (%)  \\\n",
       "0     SOYBEANS  SOYBEANS - YIELD, MEASURED IN BU / ACRE   44.0     NaN   \n",
       "1     SOYBEANS  SOYBEANS - YIELD, MEASURED IN BU / ACRE   48.0     NaN   \n",
       "2     SOYBEANS  SOYBEANS - YIELD, MEASURED IN BU / ACRE   44.0     NaN   \n",
       "3     SOYBEANS  SOYBEANS - YIELD, MEASURED IN BU / ACRE   49.0     NaN   \n",
       "4     SOYBEANS  SOYBEANS - YIELD, MEASURED IN BU / ACRE   43.0     NaN   \n",
       "...        ...                                      ...    ...     ...   \n",
       "1972  SOYBEANS  SOYBEANS - YIELD, MEASURED IN BU / ACRE   67.0     NaN   \n",
       "1973  SOYBEANS  SOYBEANS - YIELD, MEASURED IN BU / ACRE   60.4     NaN   \n",
       "1974  SOYBEANS  SOYBEANS - YIELD, MEASURED IN BU / ACRE   64.7     NaN   \n",
       "1975  SOYBEANS  SOYBEANS - YIELD, MEASURED IN BU / ACRE   61.4     NaN   \n",
       "1976  SOYBEANS  SOYBEANS - YIELD, MEASURED IN BU / ACRE   62.2     2.3   \n",
       "\n",
       "      Trend fitted yield  Trend adjusted yield     Revenue  Random Price  \\\n",
       "0              40.011797              61.91491  562.187381          9.08   \n",
       "1              40.954687              64.97202  924.551841         14.23   \n",
       "2              41.897577              60.02913  494.640029          8.24   \n",
       "3              42.840467              64.08624  782.492988         12.21   \n",
       "4              43.783357              57.14335  570.290631          9.98   \n",
       "...                  ...                   ...         ...           ...   \n",
       "1972           54.155147              70.77156  961.785500         13.59   \n",
       "1973           55.098037              63.22867  544.398848          8.61   \n",
       "1974           56.040927              66.58578  789.041493         11.85   \n",
       "1975           56.983817              62.34289  543.006572          8.71   \n",
       "1976           57.926707              62.20000  591.522000          9.51   \n",
       "\n",
       "      County APH  bp guarantee  hp guarantee  Revenue Guarantee 75%  \\\n",
       "0         47.445     221.56815     207.33465             166.176112   \n",
       "1         47.445     213.50250     258.57525             193.931437   \n",
       "2         47.445     249.56070     347.29740             260.473050   \n",
       "3         47.445     318.83040     249.56070             239.122800   \n",
       "4         47.445     262.37085     272.80875             204.606562   \n",
       "...          ...           ...           ...                    ...   \n",
       "1972      55.925     494.93625     545.26875             408.951562   \n",
       "1973      55.925     569.87575     545.26875             427.406812   \n",
       "1974      55.925     568.19800     480.95500             426.148500   \n",
       "1975      55.925     533.52450     517.30625             400.143375   \n",
       "1976      55.925     512.83225     589.44950             442.087125   \n",
       "\n",
       "      Revenue Guarantee 80%  Revenue Guarantee 85%  0     75% dif     80% dif  \\\n",
       "0                 177.25452             188.332927  0 -396.011268 -384.932861   \n",
       "1                 206.86020             219.788962  0 -730.620404 -717.691641   \n",
       "2                 277.83792             295.202790  0 -234.166979 -216.802109   \n",
       "3                 255.06432             271.005840  0 -543.370188 -527.428668   \n",
       "4                 218.24700             231.887437  0 -365.684069 -352.043631   \n",
       "...                     ...                    ... ..         ...         ...   \n",
       "1972              436.21500             463.478437  0 -552.833937 -525.570500   \n",
       "1973              455.90060             484.394387  0 -116.992036  -88.498248   \n",
       "1974              454.55840             482.968300  0 -362.892993 -334.483093   \n",
       "1975              426.81960             453.495825  0 -142.863197 -116.186972   \n",
       "1976              471.55960             501.032075  0 -149.434875 -119.962400   \n",
       "\n",
       "         85% dif  75% payout  80% payout  85% payout  75% Revenue  \\\n",
       "0    -373.854453         0.0         0.0         0.0   562.187381   \n",
       "1    -704.762879         0.0         0.0         0.0   924.551841   \n",
       "2    -199.437239         0.0         0.0         0.0   494.640029   \n",
       "3    -511.487148         0.0         0.0         0.0   782.492988   \n",
       "4    -338.403194         0.0         0.0         0.0   570.290631   \n",
       "...          ...         ...         ...         ...          ...   \n",
       "1972 -498.307062         0.0         0.0         0.0   961.785500   \n",
       "1973  -60.004461         0.0         0.0         0.0   544.398848   \n",
       "1974 -306.073193         0.0         0.0         0.0   789.041493   \n",
       "1975  -89.510747         0.0         0.0         0.0   543.006572   \n",
       "1976  -90.489925         0.0         0.0         0.0   591.522000   \n",
       "\n",
       "      80% Revenue  85% Revenue  \n",
       "0      562.187381   562.187381  \n",
       "1      924.551841   924.551841  \n",
       "2      494.640029   494.640029  \n",
       "3      782.492988   782.492988  \n",
       "4      570.290631   570.290631  \n",
       "...           ...          ...  \n",
       "1972   961.785500   961.785500  \n",
       "1973   544.398848   544.398848  \n",
       "1974   789.041493   789.041493  \n",
       "1975   543.006572   543.006572  \n",
       "1976   591.522000   591.522000  \n",
       "\n",
       "[1977 rows x 35 columns]"
      ]
     },
     "execution_count": 38,
     "metadata": {},
     "output_type": "execute_result"
    }
   ],
   "source": [
    "beans['bp guarantee'] = beans['County APH']*beans['Beans Base Price']\n",
    "beans['hp guarantee'] = beans['County APH']*beans['Beans Harvest Price']\n",
    "beans['Revenue Guarantee 75%'] = beans[['bp guarantee','hp guarantee']].max(axis = 1)*.75\n",
    "beans['Revenue Guarantee 80%'] = beans[['bp guarantee','hp guarantee']].max(axis = 1)*.80\n",
    "beans['Revenue Guarantee 85%'] = beans[['bp guarantee','hp guarantee']].max(axis = 1)*.85\n",
    "beans['0'] = 0\n",
    "beans['75% dif'] = beans['Revenue Guarantee 75%']-beans['Revenue']\n",
    "beans['80% dif'] = beans['Revenue Guarantee 80%']-beans['Revenue']\n",
    "beans['85% dif'] = beans['Revenue Guarantee 85%']-beans['Revenue']\n",
    "beans['75% payout'] = beans[['75% dif','0']].max(axis = 1)\n",
    "beans['80% payout'] = beans[['80% dif','0']].max(axis = 1)\n",
    "beans['85% payout'] = beans[['85% dif','0']].max(axis = 1)\n",
    "beans['75% Revenue'] = beans['75% payout']+beans['Revenue']\n",
    "beans['80% Revenue'] = beans['80% payout']+beans['Revenue']\n",
    "beans['85% Revenue'] = beans['85% payout']+beans['Revenue']\n",
    "pd.set_option('display.max_columns', None)\n",
    "beans"
   ]
  },
  {
   "cell_type": "code",
   "execution_count": 28,
   "id": "under-citizenship",
   "metadata": {},
   "outputs": [
    {
     "data": {
      "text/html": [
       "<div>\n",
       "<style scoped>\n",
       "    .dataframe tbody tr th:only-of-type {\n",
       "        vertical-align: middle;\n",
       "    }\n",
       "\n",
       "    .dataframe tbody tr th {\n",
       "        vertical-align: top;\n",
       "    }\n",
       "\n",
       "    .dataframe thead th {\n",
       "        text-align: right;\n",
       "    }\n",
       "</style>\n",
       "<table border=\"1\" class=\"dataframe\">\n",
       "  <thead>\n",
       "    <tr style=\"text-align: right;\">\n",
       "      <th></th>\n",
       "      <th>index</th>\n",
       "      <th>County</th>\n",
       "      <th>sum</th>\n",
       "      <th>count</th>\n",
       "    </tr>\n",
       "  </thead>\n",
       "  <tbody>\n",
       "    <tr>\n",
       "      <th>0</th>\n",
       "      <td>0</td>\n",
       "      <td>ADAMS</td>\n",
       "      <td>948.9</td>\n",
       "      <td>20</td>\n",
       "    </tr>\n",
       "    <tr>\n",
       "      <th>1</th>\n",
       "      <td>1</td>\n",
       "      <td>ALEXANDER</td>\n",
       "      <td>554.6</td>\n",
       "      <td>14</td>\n",
       "    </tr>\n",
       "    <tr>\n",
       "      <th>2</th>\n",
       "      <td>2</td>\n",
       "      <td>BOND</td>\n",
       "      <td>780.7</td>\n",
       "      <td>18</td>\n",
       "    </tr>\n",
       "    <tr>\n",
       "      <th>3</th>\n",
       "      <td>3</td>\n",
       "      <td>BOONE</td>\n",
       "      <td>981.6</td>\n",
       "      <td>20</td>\n",
       "    </tr>\n",
       "    <tr>\n",
       "      <th>4</th>\n",
       "      <td>4</td>\n",
       "      <td>BROWN</td>\n",
       "      <td>939.5</td>\n",
       "      <td>20</td>\n",
       "    </tr>\n",
       "    <tr>\n",
       "      <th>...</th>\n",
       "      <td>...</td>\n",
       "      <td>...</td>\n",
       "      <td>...</td>\n",
       "      <td>...</td>\n",
       "    </tr>\n",
       "    <tr>\n",
       "      <th>99</th>\n",
       "      <td>99</td>\n",
       "      <td>WHITESIDE</td>\n",
       "      <td>937.4</td>\n",
       "      <td>18</td>\n",
       "    </tr>\n",
       "    <tr>\n",
       "      <th>100</th>\n",
       "      <td>100</td>\n",
       "      <td>WILL</td>\n",
       "      <td>956.1</td>\n",
       "      <td>20</td>\n",
       "    </tr>\n",
       "    <tr>\n",
       "      <th>101</th>\n",
       "      <td>101</td>\n",
       "      <td>WILLIAMSON</td>\n",
       "      <td>730.9</td>\n",
       "      <td>19</td>\n",
       "    </tr>\n",
       "    <tr>\n",
       "      <th>102</th>\n",
       "      <td>102</td>\n",
       "      <td>WINNEBAGO</td>\n",
       "      <td>953.7</td>\n",
       "      <td>20</td>\n",
       "    </tr>\n",
       "    <tr>\n",
       "      <th>103</th>\n",
       "      <td>103</td>\n",
       "      <td>WOODFORD</td>\n",
       "      <td>1118.5</td>\n",
       "      <td>20</td>\n",
       "    </tr>\n",
       "  </tbody>\n",
       "</table>\n",
       "<p>104 rows × 4 columns</p>\n",
       "</div>"
      ],
      "text/plain": [
       "     index      County     sum  count\n",
       "0        0       ADAMS   948.9     20\n",
       "1        1   ALEXANDER   554.6     14\n",
       "2        2        BOND   780.7     18\n",
       "3        3       BOONE   981.6     20\n",
       "4        4       BROWN   939.5     20\n",
       "..     ...         ...     ...    ...\n",
       "99      99   WHITESIDE   937.4     18\n",
       "100    100        WILL   956.1     20\n",
       "101    101  WILLIAMSON   730.9     19\n",
       "102    102   WINNEBAGO   953.7     20\n",
       "103    103    WOODFORD  1118.5     20\n",
       "\n",
       "[104 rows x 4 columns]"
      ]
     },
     "execution_count": 28,
     "metadata": {},
     "output_type": "execute_result"
    }
   ],
   "source": [
    "aph.reset_index()"
   ]
  },
  {
   "cell_type": "code",
   "execution_count": 29,
   "id": "afraid-recall",
   "metadata": {},
   "outputs": [
    {
     "data": {
      "text/html": [
       "<div>\n",
       "<style scoped>\n",
       "    .dataframe tbody tr th:only-of-type {\n",
       "        vertical-align: middle;\n",
       "    }\n",
       "\n",
       "    .dataframe tbody tr th {\n",
       "        vertical-align: top;\n",
       "    }\n",
       "\n",
       "    .dataframe thead th {\n",
       "        text-align: right;\n",
       "    }\n",
       "</style>\n",
       "<table border=\"1\" class=\"dataframe\">\n",
       "  <thead>\n",
       "    <tr style=\"text-align: right;\">\n",
       "      <th></th>\n",
       "      <th>County</th>\n",
       "      <th>sum</th>\n",
       "      <th>count</th>\n",
       "      <th>Year</th>\n",
       "      <th>Corn Base Price</th>\n",
       "      <th>Corn Harvest Price</th>\n",
       "      <th>Beans Base Price</th>\n",
       "      <th>Beans Harvest Price</th>\n",
       "      <th>Period</th>\n",
       "      <th>State</th>\n",
       "      <th>...</th>\n",
       "      <th>0</th>\n",
       "      <th>75% dif</th>\n",
       "      <th>80% dif</th>\n",
       "      <th>85% dif</th>\n",
       "      <th>75% payout</th>\n",
       "      <th>80% payout</th>\n",
       "      <th>85% payout</th>\n",
       "      <th>75% Revenue</th>\n",
       "      <th>80% Revenue</th>\n",
       "      <th>85% Revenue</th>\n",
       "    </tr>\n",
       "  </thead>\n",
       "  <tbody>\n",
       "    <tr>\n",
       "      <th>0</th>\n",
       "      <td>ADAMS</td>\n",
       "      <td>948.9</td>\n",
       "      <td>20</td>\n",
       "      <td>2001</td>\n",
       "      <td>2.46</td>\n",
       "      <td>2.05</td>\n",
       "      <td>4.67</td>\n",
       "      <td>4.37</td>\n",
       "      <td>YEAR</td>\n",
       "      <td>ILLINOIS</td>\n",
       "      <td>...</td>\n",
       "      <td>0</td>\n",
       "      <td>-396.011268</td>\n",
       "      <td>-384.932861</td>\n",
       "      <td>-373.854453</td>\n",
       "      <td>0.0</td>\n",
       "      <td>0.0</td>\n",
       "      <td>0.0</td>\n",
       "      <td>562.187381</td>\n",
       "      <td>562.187381</td>\n",
       "      <td>562.187381</td>\n",
       "    </tr>\n",
       "    <tr>\n",
       "      <th>1</th>\n",
       "      <td>ADAMS</td>\n",
       "      <td>948.9</td>\n",
       "      <td>20</td>\n",
       "      <td>2002</td>\n",
       "      <td>2.32</td>\n",
       "      <td>2.52</td>\n",
       "      <td>4.50</td>\n",
       "      <td>5.45</td>\n",
       "      <td>YEAR</td>\n",
       "      <td>ILLINOIS</td>\n",
       "      <td>...</td>\n",
       "      <td>0</td>\n",
       "      <td>-730.620404</td>\n",
       "      <td>-717.691641</td>\n",
       "      <td>-704.762879</td>\n",
       "      <td>0.0</td>\n",
       "      <td>0.0</td>\n",
       "      <td>0.0</td>\n",
       "      <td>924.551841</td>\n",
       "      <td>924.551841</td>\n",
       "      <td>924.551841</td>\n",
       "    </tr>\n",
       "    <tr>\n",
       "      <th>2</th>\n",
       "      <td>ADAMS</td>\n",
       "      <td>948.9</td>\n",
       "      <td>20</td>\n",
       "      <td>2003</td>\n",
       "      <td>2.42</td>\n",
       "      <td>2.37</td>\n",
       "      <td>5.26</td>\n",
       "      <td>7.32</td>\n",
       "      <td>YEAR</td>\n",
       "      <td>ILLINOIS</td>\n",
       "      <td>...</td>\n",
       "      <td>0</td>\n",
       "      <td>-234.166979</td>\n",
       "      <td>-216.802109</td>\n",
       "      <td>-199.437239</td>\n",
       "      <td>0.0</td>\n",
       "      <td>0.0</td>\n",
       "      <td>0.0</td>\n",
       "      <td>494.640029</td>\n",
       "      <td>494.640029</td>\n",
       "      <td>494.640029</td>\n",
       "    </tr>\n",
       "    <tr>\n",
       "      <th>3</th>\n",
       "      <td>ADAMS</td>\n",
       "      <td>948.9</td>\n",
       "      <td>20</td>\n",
       "      <td>2004</td>\n",
       "      <td>2.83</td>\n",
       "      <td>1.99</td>\n",
       "      <td>6.72</td>\n",
       "      <td>5.26</td>\n",
       "      <td>YEAR</td>\n",
       "      <td>ILLINOIS</td>\n",
       "      <td>...</td>\n",
       "      <td>0</td>\n",
       "      <td>-543.370188</td>\n",
       "      <td>-527.428668</td>\n",
       "      <td>-511.487148</td>\n",
       "      <td>0.0</td>\n",
       "      <td>0.0</td>\n",
       "      <td>0.0</td>\n",
       "      <td>782.492988</td>\n",
       "      <td>782.492988</td>\n",
       "      <td>782.492988</td>\n",
       "    </tr>\n",
       "    <tr>\n",
       "      <th>4</th>\n",
       "      <td>ADAMS</td>\n",
       "      <td>948.9</td>\n",
       "      <td>20</td>\n",
       "      <td>2005</td>\n",
       "      <td>2.32</td>\n",
       "      <td>1.93</td>\n",
       "      <td>5.53</td>\n",
       "      <td>5.75</td>\n",
       "      <td>YEAR</td>\n",
       "      <td>ILLINOIS</td>\n",
       "      <td>...</td>\n",
       "      <td>0</td>\n",
       "      <td>-365.684069</td>\n",
       "      <td>-352.043631</td>\n",
       "      <td>-338.403194</td>\n",
       "      <td>0.0</td>\n",
       "      <td>0.0</td>\n",
       "      <td>0.0</td>\n",
       "      <td>570.290631</td>\n",
       "      <td>570.290631</td>\n",
       "      <td>570.290631</td>\n",
       "    </tr>\n",
       "    <tr>\n",
       "      <th>...</th>\n",
       "      <td>...</td>\n",
       "      <td>...</td>\n",
       "      <td>...</td>\n",
       "      <td>...</td>\n",
       "      <td>...</td>\n",
       "      <td>...</td>\n",
       "      <td>...</td>\n",
       "      <td>...</td>\n",
       "      <td>...</td>\n",
       "      <td>...</td>\n",
       "      <td>...</td>\n",
       "      <td>...</td>\n",
       "      <td>...</td>\n",
       "      <td>...</td>\n",
       "      <td>...</td>\n",
       "      <td>...</td>\n",
       "      <td>...</td>\n",
       "      <td>...</td>\n",
       "      <td>...</td>\n",
       "      <td>...</td>\n",
       "      <td>...</td>\n",
       "    </tr>\n",
       "    <tr>\n",
       "      <th>1972</th>\n",
       "      <td>WOODFORD</td>\n",
       "      <td>1118.5</td>\n",
       "      <td>20</td>\n",
       "      <td>2016</td>\n",
       "      <td>3.86</td>\n",
       "      <td>3.49</td>\n",
       "      <td>8.85</td>\n",
       "      <td>9.75</td>\n",
       "      <td>YEAR</td>\n",
       "      <td>ILLINOIS</td>\n",
       "      <td>...</td>\n",
       "      <td>0</td>\n",
       "      <td>-552.833937</td>\n",
       "      <td>-525.570500</td>\n",
       "      <td>-498.307062</td>\n",
       "      <td>0.0</td>\n",
       "      <td>0.0</td>\n",
       "      <td>0.0</td>\n",
       "      <td>961.785500</td>\n",
       "      <td>961.785500</td>\n",
       "      <td>961.785500</td>\n",
       "    </tr>\n",
       "    <tr>\n",
       "      <th>1973</th>\n",
       "      <td>WOODFORD</td>\n",
       "      <td>1118.5</td>\n",
       "      <td>20</td>\n",
       "      <td>2017</td>\n",
       "      <td>3.97</td>\n",
       "      <td>3.49</td>\n",
       "      <td>10.19</td>\n",
       "      <td>9.75</td>\n",
       "      <td>YEAR</td>\n",
       "      <td>ILLINOIS</td>\n",
       "      <td>...</td>\n",
       "      <td>0</td>\n",
       "      <td>-116.992036</td>\n",
       "      <td>-88.498248</td>\n",
       "      <td>-60.004461</td>\n",
       "      <td>0.0</td>\n",
       "      <td>0.0</td>\n",
       "      <td>0.0</td>\n",
       "      <td>544.398848</td>\n",
       "      <td>544.398848</td>\n",
       "      <td>544.398848</td>\n",
       "    </tr>\n",
       "    <tr>\n",
       "      <th>1974</th>\n",
       "      <td>WOODFORD</td>\n",
       "      <td>1118.5</td>\n",
       "      <td>20</td>\n",
       "      <td>2018</td>\n",
       "      <td>3.96</td>\n",
       "      <td>3.68</td>\n",
       "      <td>10.16</td>\n",
       "      <td>8.60</td>\n",
       "      <td>YEAR</td>\n",
       "      <td>ILLINOIS</td>\n",
       "      <td>...</td>\n",
       "      <td>0</td>\n",
       "      <td>-362.892993</td>\n",
       "      <td>-334.483093</td>\n",
       "      <td>-306.073193</td>\n",
       "      <td>0.0</td>\n",
       "      <td>0.0</td>\n",
       "      <td>0.0</td>\n",
       "      <td>789.041493</td>\n",
       "      <td>789.041493</td>\n",
       "      <td>789.041493</td>\n",
       "    </tr>\n",
       "    <tr>\n",
       "      <th>1975</th>\n",
       "      <td>WOODFORD</td>\n",
       "      <td>1118.5</td>\n",
       "      <td>20</td>\n",
       "      <td>2019</td>\n",
       "      <td>4.00</td>\n",
       "      <td>3.90</td>\n",
       "      <td>9.54</td>\n",
       "      <td>9.25</td>\n",
       "      <td>YEAR</td>\n",
       "      <td>ILLINOIS</td>\n",
       "      <td>...</td>\n",
       "      <td>0</td>\n",
       "      <td>-142.863197</td>\n",
       "      <td>-116.186972</td>\n",
       "      <td>-89.510747</td>\n",
       "      <td>0.0</td>\n",
       "      <td>0.0</td>\n",
       "      <td>0.0</td>\n",
       "      <td>543.006572</td>\n",
       "      <td>543.006572</td>\n",
       "      <td>543.006572</td>\n",
       "    </tr>\n",
       "    <tr>\n",
       "      <th>1976</th>\n",
       "      <td>WOODFORD</td>\n",
       "      <td>1118.5</td>\n",
       "      <td>20</td>\n",
       "      <td>2020</td>\n",
       "      <td>3.88</td>\n",
       "      <td>3.99</td>\n",
       "      <td>9.17</td>\n",
       "      <td>10.54</td>\n",
       "      <td>YEAR</td>\n",
       "      <td>ILLINOIS</td>\n",
       "      <td>...</td>\n",
       "      <td>0</td>\n",
       "      <td>-149.434875</td>\n",
       "      <td>-119.962400</td>\n",
       "      <td>-90.489925</td>\n",
       "      <td>0.0</td>\n",
       "      <td>0.0</td>\n",
       "      <td>0.0</td>\n",
       "      <td>591.522000</td>\n",
       "      <td>591.522000</td>\n",
       "      <td>591.522000</td>\n",
       "    </tr>\n",
       "  </tbody>\n",
       "</table>\n",
       "<p>1977 rows × 35 columns</p>\n",
       "</div>"
      ],
      "text/plain": [
       "        County     sum  count  Year  Corn Base Price  Corn Harvest Price  \\\n",
       "0        ADAMS   948.9     20  2001             2.46                2.05   \n",
       "1        ADAMS   948.9     20  2002             2.32                2.52   \n",
       "2        ADAMS   948.9     20  2003             2.42                2.37   \n",
       "3        ADAMS   948.9     20  2004             2.83                1.99   \n",
       "4        ADAMS   948.9     20  2005             2.32                1.93   \n",
       "...        ...     ...    ...   ...              ...                 ...   \n",
       "1972  WOODFORD  1118.5     20  2016             3.86                3.49   \n",
       "1973  WOODFORD  1118.5     20  2017             3.97                3.49   \n",
       "1974  WOODFORD  1118.5     20  2018             3.96                3.68   \n",
       "1975  WOODFORD  1118.5     20  2019             4.00                3.90   \n",
       "1976  WOODFORD  1118.5     20  2020             3.88                3.99   \n",
       "\n",
       "      Beans Base Price  Beans Harvest Price Period     State  ...  0  \\\n",
       "0                 4.67                 4.37   YEAR  ILLINOIS  ...  0   \n",
       "1                 4.50                 5.45   YEAR  ILLINOIS  ...  0   \n",
       "2                 5.26                 7.32   YEAR  ILLINOIS  ...  0   \n",
       "3                 6.72                 5.26   YEAR  ILLINOIS  ...  0   \n",
       "4                 5.53                 5.75   YEAR  ILLINOIS  ...  0   \n",
       "...                ...                  ...    ...       ...  ... ..   \n",
       "1972              8.85                 9.75   YEAR  ILLINOIS  ...  0   \n",
       "1973             10.19                 9.75   YEAR  ILLINOIS  ...  0   \n",
       "1974             10.16                 8.60   YEAR  ILLINOIS  ...  0   \n",
       "1975              9.54                 9.25   YEAR  ILLINOIS  ...  0   \n",
       "1976              9.17                10.54   YEAR  ILLINOIS  ...  0   \n",
       "\n",
       "         75% dif     80% dif     85% dif  75% payout  80% payout  85% payout  \\\n",
       "0    -396.011268 -384.932861 -373.854453         0.0         0.0         0.0   \n",
       "1    -730.620404 -717.691641 -704.762879         0.0         0.0         0.0   \n",
       "2    -234.166979 -216.802109 -199.437239         0.0         0.0         0.0   \n",
       "3    -543.370188 -527.428668 -511.487148         0.0         0.0         0.0   \n",
       "4    -365.684069 -352.043631 -338.403194         0.0         0.0         0.0   \n",
       "...          ...         ...         ...         ...         ...         ...   \n",
       "1972 -552.833937 -525.570500 -498.307062         0.0         0.0         0.0   \n",
       "1973 -116.992036  -88.498248  -60.004461         0.0         0.0         0.0   \n",
       "1974 -362.892993 -334.483093 -306.073193         0.0         0.0         0.0   \n",
       "1975 -142.863197 -116.186972  -89.510747         0.0         0.0         0.0   \n",
       "1976 -149.434875 -119.962400  -90.489925         0.0         0.0         0.0   \n",
       "\n",
       "      75% Revenue  80% Revenue  85% Revenue  \n",
       "0      562.187381   562.187381   562.187381  \n",
       "1      924.551841   924.551841   924.551841  \n",
       "2      494.640029   494.640029   494.640029  \n",
       "3      782.492988   782.492988   782.492988  \n",
       "4      570.290631   570.290631   570.290631  \n",
       "...           ...          ...          ...  \n",
       "1972   961.785500   961.785500   961.785500  \n",
       "1973   544.398848   544.398848   544.398848  \n",
       "1974   789.041493   789.041493   789.041493  \n",
       "1975   543.006572   543.006572   543.006572  \n",
       "1976   591.522000   591.522000   591.522000  \n",
       "\n",
       "[1977 rows x 35 columns]"
      ]
     },
     "execution_count": 29,
     "metadata": {},
     "output_type": "execute_result"
    }
   ],
   "source": [
    "beans['bp guarantee'] = beans['County APH']*beans['Beans Base Price']\n",
    "beans['hp guarantee'] = beans['County APH']*beans['Beans Harvest Price']\n",
    "beans['Revenue Guarantee 75%'] = beans[['bp guarantee','hp guarantee']].max(axis = 1)*.75\n",
    "beans['Revenue Guarantee 80%'] = beans[['bp guarantee','hp guarantee']].max(axis = 1)*.80\n",
    "beans['Revenue Guarantee 85%'] = beans[['bp guarantee','hp guarantee']].max(axis = 1)*.85\n",
    "beans"
   ]
  },
  {
   "cell_type": "code",
   "execution_count": 30,
   "id": "minor-mattress",
   "metadata": {},
   "outputs": [
    {
     "data": {
      "text/html": [
       "<div>\n",
       "<style scoped>\n",
       "    .dataframe tbody tr th:only-of-type {\n",
       "        vertical-align: middle;\n",
       "    }\n",
       "\n",
       "    .dataframe tbody tr th {\n",
       "        vertical-align: top;\n",
       "    }\n",
       "\n",
       "    .dataframe thead th {\n",
       "        text-align: right;\n",
       "    }\n",
       "</style>\n",
       "<table border=\"1\" class=\"dataframe\">\n",
       "  <thead>\n",
       "    <tr style=\"text-align: right;\">\n",
       "      <th></th>\n",
       "      <th>sum</th>\n",
       "      <th>count</th>\n",
       "    </tr>\n",
       "    <tr>\n",
       "      <th>County</th>\n",
       "      <th></th>\n",
       "      <th></th>\n",
       "    </tr>\n",
       "  </thead>\n",
       "  <tbody>\n",
       "    <tr>\n",
       "      <th>ADAMS</th>\n",
       "      <td>948.9</td>\n",
       "      <td>20</td>\n",
       "    </tr>\n",
       "    <tr>\n",
       "      <th>ALEXANDER</th>\n",
       "      <td>554.6</td>\n",
       "      <td>14</td>\n",
       "    </tr>\n",
       "    <tr>\n",
       "      <th>BOND</th>\n",
       "      <td>780.7</td>\n",
       "      <td>18</td>\n",
       "    </tr>\n",
       "    <tr>\n",
       "      <th>BOONE</th>\n",
       "      <td>981.6</td>\n",
       "      <td>20</td>\n",
       "    </tr>\n",
       "    <tr>\n",
       "      <th>BROWN</th>\n",
       "      <td>939.5</td>\n",
       "      <td>20</td>\n",
       "    </tr>\n",
       "    <tr>\n",
       "      <th>...</th>\n",
       "      <td>...</td>\n",
       "      <td>...</td>\n",
       "    </tr>\n",
       "    <tr>\n",
       "      <th>WHITESIDE</th>\n",
       "      <td>937.4</td>\n",
       "      <td>18</td>\n",
       "    </tr>\n",
       "    <tr>\n",
       "      <th>WILL</th>\n",
       "      <td>956.1</td>\n",
       "      <td>20</td>\n",
       "    </tr>\n",
       "    <tr>\n",
       "      <th>WILLIAMSON</th>\n",
       "      <td>730.9</td>\n",
       "      <td>19</td>\n",
       "    </tr>\n",
       "    <tr>\n",
       "      <th>WINNEBAGO</th>\n",
       "      <td>953.7</td>\n",
       "      <td>20</td>\n",
       "    </tr>\n",
       "    <tr>\n",
       "      <th>WOODFORD</th>\n",
       "      <td>1118.5</td>\n",
       "      <td>20</td>\n",
       "    </tr>\n",
       "  </tbody>\n",
       "</table>\n",
       "<p>104 rows × 2 columns</p>\n",
       "</div>"
      ],
      "text/plain": [
       "               sum  count\n",
       "County                   \n",
       "ADAMS        948.9     20\n",
       "ALEXANDER    554.6     14\n",
       "BOND         780.7     18\n",
       "BOONE        981.6     20\n",
       "BROWN        939.5     20\n",
       "...            ...    ...\n",
       "WHITESIDE    937.4     18\n",
       "WILL         956.1     20\n",
       "WILLIAMSON   730.9     19\n",
       "WINNEBAGO    953.7     20\n",
       "WOODFORD    1118.5     20\n",
       "\n",
       "[104 rows x 2 columns]"
      ]
     },
     "execution_count": 30,
     "metadata": {},
     "output_type": "execute_result"
    }
   ],
   "source": [
    "aph = beans.groupby(['County'])['Value'].agg(['sum','count'])\n",
    "aph"
   ]
  },
  {
   "cell_type": "code",
   "execution_count": 31,
   "id": "generous-olive",
   "metadata": {},
   "outputs": [
    {
     "data": {
      "text/plain": [
       "0       221.56815\n",
       "1       213.50250\n",
       "2       249.56070\n",
       "3       318.83040\n",
       "4       262.37085\n",
       "          ...    \n",
       "1972    494.93625\n",
       "1973    569.87575\n",
       "1974    568.19800\n",
       "1975    533.52450\n",
       "1976    512.83225\n",
       "Length: 1977, dtype: float64"
      ]
     },
     "execution_count": 31,
     "metadata": {},
     "output_type": "execute_result"
    }
   ],
   "source": [
    "beans['County APH']*beans['Beans Base Price']"
   ]
  },
  {
   "cell_type": "code",
   "execution_count": 32,
   "id": "middle-differential",
   "metadata": {},
   "outputs": [
    {
     "data": {
      "text/html": [
       "<div>\n",
       "<style scoped>\n",
       "    .dataframe tbody tr th:only-of-type {\n",
       "        vertical-align: middle;\n",
       "    }\n",
       "\n",
       "    .dataframe tbody tr th {\n",
       "        vertical-align: top;\n",
       "    }\n",
       "\n",
       "    .dataframe thead th {\n",
       "        text-align: right;\n",
       "    }\n",
       "</style>\n",
       "<table border=\"1\" class=\"dataframe\">\n",
       "  <thead>\n",
       "    <tr style=\"text-align: right;\">\n",
       "      <th></th>\n",
       "      <th>Year</th>\n",
       "      <th>Period</th>\n",
       "      <th>State</th>\n",
       "      <th>Commodity</th>\n",
       "      <th>Data Item</th>\n",
       "      <th>Value</th>\n",
       "    </tr>\n",
       "  </thead>\n",
       "  <tbody>\n",
       "    <tr>\n",
       "      <th>0</th>\n",
       "      <td>2021</td>\n",
       "      <td>JAN</td>\n",
       "      <td>ILLINOIS</td>\n",
       "      <td>CORN</td>\n",
       "      <td>CORN, GRAIN - PRICE RECEIVED, MEASURED IN $ / BU</td>\n",
       "      <td>4.10</td>\n",
       "    </tr>\n",
       "    <tr>\n",
       "      <th>2</th>\n",
       "      <td>2021</td>\n",
       "      <td>FEB</td>\n",
       "      <td>ILLINOIS</td>\n",
       "      <td>CORN</td>\n",
       "      <td>CORN, GRAIN - PRICE RECEIVED, MEASURED IN $ / BU</td>\n",
       "      <td>4.69</td>\n",
       "    </tr>\n",
       "    <tr>\n",
       "      <th>4</th>\n",
       "      <td>2021</td>\n",
       "      <td>MAR</td>\n",
       "      <td>ILLINOIS</td>\n",
       "      <td>CORN</td>\n",
       "      <td>CORN, GRAIN - PRICE RECEIVED, MEASURED IN $ / BU</td>\n",
       "      <td>4.96</td>\n",
       "    </tr>\n",
       "    <tr>\n",
       "      <th>6</th>\n",
       "      <td>2020</td>\n",
       "      <td>JAN</td>\n",
       "      <td>ILLINOIS</td>\n",
       "      <td>CORN</td>\n",
       "      <td>CORN, GRAIN - PRICE RECEIVED, MEASURED IN $ / BU</td>\n",
       "      <td>3.76</td>\n",
       "    </tr>\n",
       "    <tr>\n",
       "      <th>8</th>\n",
       "      <td>2020</td>\n",
       "      <td>FEB</td>\n",
       "      <td>ILLINOIS</td>\n",
       "      <td>CORN</td>\n",
       "      <td>CORN, GRAIN - PRICE RECEIVED, MEASURED IN $ / BU</td>\n",
       "      <td>3.71</td>\n",
       "    </tr>\n",
       "    <tr>\n",
       "      <th>...</th>\n",
       "      <td>...</td>\n",
       "      <td>...</td>\n",
       "      <td>...</td>\n",
       "      <td>...</td>\n",
       "      <td>...</td>\n",
       "      <td>...</td>\n",
       "    </tr>\n",
       "    <tr>\n",
       "      <th>476</th>\n",
       "      <td>2001</td>\n",
       "      <td>AUG</td>\n",
       "      <td>ILLINOIS</td>\n",
       "      <td>CORN</td>\n",
       "      <td>CORN, GRAIN - PRICE RECEIVED, MEASURED IN $ / BU</td>\n",
       "      <td>1.99</td>\n",
       "    </tr>\n",
       "    <tr>\n",
       "      <th>478</th>\n",
       "      <td>2001</td>\n",
       "      <td>SEP</td>\n",
       "      <td>ILLINOIS</td>\n",
       "      <td>CORN</td>\n",
       "      <td>CORN, GRAIN - PRICE RECEIVED, MEASURED IN $ / BU</td>\n",
       "      <td>1.94</td>\n",
       "    </tr>\n",
       "    <tr>\n",
       "      <th>480</th>\n",
       "      <td>2001</td>\n",
       "      <td>OCT</td>\n",
       "      <td>ILLINOIS</td>\n",
       "      <td>CORN</td>\n",
       "      <td>CORN, GRAIN - PRICE RECEIVED, MEASURED IN $ / BU</td>\n",
       "      <td>1.85</td>\n",
       "    </tr>\n",
       "    <tr>\n",
       "      <th>482</th>\n",
       "      <td>2001</td>\n",
       "      <td>NOV</td>\n",
       "      <td>ILLINOIS</td>\n",
       "      <td>CORN</td>\n",
       "      <td>CORN, GRAIN - PRICE RECEIVED, MEASURED IN $ / BU</td>\n",
       "      <td>1.91</td>\n",
       "    </tr>\n",
       "    <tr>\n",
       "      <th>484</th>\n",
       "      <td>2001</td>\n",
       "      <td>DEC</td>\n",
       "      <td>ILLINOIS</td>\n",
       "      <td>CORN</td>\n",
       "      <td>CORN, GRAIN - PRICE RECEIVED, MEASURED IN $ / BU</td>\n",
       "      <td>2.06</td>\n",
       "    </tr>\n",
       "  </tbody>\n",
       "</table>\n",
       "<p>243 rows × 6 columns</p>\n",
       "</div>"
      ],
      "text/plain": [
       "     Year Period     State Commodity  \\\n",
       "0    2021    JAN  ILLINOIS      CORN   \n",
       "2    2021    FEB  ILLINOIS      CORN   \n",
       "4    2021    MAR  ILLINOIS      CORN   \n",
       "6    2020    JAN  ILLINOIS      CORN   \n",
       "8    2020    FEB  ILLINOIS      CORN   \n",
       "..    ...    ...       ...       ...   \n",
       "476  2001    AUG  ILLINOIS      CORN   \n",
       "478  2001    SEP  ILLINOIS      CORN   \n",
       "480  2001    OCT  ILLINOIS      CORN   \n",
       "482  2001    NOV  ILLINOIS      CORN   \n",
       "484  2001    DEC  ILLINOIS      CORN   \n",
       "\n",
       "                                            Data Item  Value  \n",
       "0    CORN, GRAIN - PRICE RECEIVED, MEASURED IN $ / BU   4.10  \n",
       "2    CORN, GRAIN - PRICE RECEIVED, MEASURED IN $ / BU   4.69  \n",
       "4    CORN, GRAIN - PRICE RECEIVED, MEASURED IN $ / BU   4.96  \n",
       "6    CORN, GRAIN - PRICE RECEIVED, MEASURED IN $ / BU   3.76  \n",
       "8    CORN, GRAIN - PRICE RECEIVED, MEASURED IN $ / BU   3.71  \n",
       "..                                                ...    ...  \n",
       "476  CORN, GRAIN - PRICE RECEIVED, MEASURED IN $ / BU   1.99  \n",
       "478  CORN, GRAIN - PRICE RECEIVED, MEASURED IN $ / BU   1.94  \n",
       "480  CORN, GRAIN - PRICE RECEIVED, MEASURED IN $ / BU   1.85  \n",
       "482  CORN, GRAIN - PRICE RECEIVED, MEASURED IN $ / BU   1.91  \n",
       "484  CORN, GRAIN - PRICE RECEIVED, MEASURED IN $ / BU   2.06  \n",
       "\n",
       "[243 rows x 6 columns]"
      ]
     },
     "execution_count": 32,
     "metadata": {},
     "output_type": "execute_result"
    }
   ],
   "source": [
    "p_data = pd.read_csv('/Users/isaacwerries/Desktop/Price Data.csv')\n",
    "del p_data['Program'], p_data['Week Ending'], p_data['Geo Level'], p_data['State ANSI'], p_data['County ANSI'], p_data['Ag District'], p_data['Ag District Code'], p_data['County'],p_data['Zip Code'], p_data['Region'], p_data['watershed_code'], p_data['Watershed'], p_data['Domain'], p_data['Domain Category'], p_data['CV (%)']\n",
    "corn_p = p_data[p_data['Commodity'] == 'CORN'] #splitting the dataframe based on crop\n",
    "corn_p = corn_p[corn_p['Year'] > 2000].copy()\n",
    "bean_p = p_data[p_data['Commodity'] == 'SOYBEANS'].copy() #splitting the dataframe based on crop\n",
    "bean_p = bean_p[bean_p['Year'] > 2000].copy()\n",
    "corn_p"
   ]
  },
  {
   "cell_type": "code",
   "execution_count": 37,
   "id": "expired-brighton",
   "metadata": {},
   "outputs": [
    {
     "data": {
      "application/vnd.plotly.v1+json": {
       "config": {
        "plotlyServerURL": "https://plot.ly"
       },
       "data": [
        {
         "hovertemplate": "variable=85% Revenue<br>County=ADAMS<br>Year=%{x}<br>value=%{y}<extra></extra>",
         "legendgroup": "85% Revenue",
         "line": {
          "color": "#636efa",
          "dash": "solid"
         },
         "mode": "lines",
         "name": "85% Revenue",
         "orientation": "v",
         "showlegend": true,
         "type": "scatter",
         "x": [
          2001,
          2002,
          2003,
          2004,
          2005,
          2006,
          2007,
          2008,
          2009,
          2010,
          2011,
          2012,
          2013,
          2014,
          2015,
          2016,
          2017,
          2018,
          2019,
          2020
         ],
         "xaxis": "x",
         "y": [
          562.1873806890004,
          924.5518414658043,
          494.6400294859447,
          782.4929880095242,
          570.2906311682318,
          619.8910719104767,
          643.3038621225278,
          630.3918922306368,
          809.5159550008101,
          846.9380712171769,
          544.0280924999998,
          642.115925897083,
          824.2877751935644,
          768.1505431993187,
          525.5336619340729,
          632.3670858890138,
          716.4897735521528,
          898.8191078404985,
          845.8839760960216,
          514.2059999999999
         ],
         "yaxis": "y"
        },
        {
         "hovertemplate": "variable=Revenue<br>County=ADAMS<br>Year=%{x}<br>value=%{y}<extra></extra>",
         "legendgroup": "Revenue",
         "line": {
          "color": "#EF553B",
          "dash": "solid"
         },
         "mode": "lines",
         "name": "Revenue",
         "orientation": "v",
         "showlegend": true,
         "type": "scatter",
         "x": [
          2001,
          2002,
          2003,
          2004,
          2005,
          2006,
          2007,
          2008,
          2009,
          2010,
          2011,
          2012,
          2013,
          2014,
          2015,
          2016,
          2017,
          2018,
          2019,
          2020
         ],
         "xaxis": "x",
         "y": [
          562.1873806890004,
          924.5518414658043,
          494.6400294859447,
          782.4929880095242,
          570.2906311682318,
          619.8910719104767,
          643.3038621225278,
          630.3918922306368,
          809.5159550008101,
          846.9380712171769,
          530.7871452282557,
          642.115925897083,
          824.2877751935644,
          768.1505431993187,
          525.5336619340729,
          632.3670858890138,
          716.4897735521528,
          898.8191078404985,
          845.8839760960216,
          514.2059999999999
         ],
         "yaxis": "y"
        }
       ],
       "frames": [
        {
         "data": [
          {
           "hovertemplate": "variable=85% Revenue<br>County=ADAMS<br>Year=%{x}<br>value=%{y}<extra></extra>",
           "legendgroup": "85% Revenue",
           "line": {
            "color": "#636efa",
            "dash": "solid"
           },
           "mode": "lines",
           "name": "85% Revenue",
           "orientation": "v",
           "showlegend": true,
           "type": "scatter",
           "x": [
            2001,
            2002,
            2003,
            2004,
            2005,
            2006,
            2007,
            2008,
            2009,
            2010,
            2011,
            2012,
            2013,
            2014,
            2015,
            2016,
            2017,
            2018,
            2019,
            2020
           ],
           "xaxis": "x",
           "y": [
            562.1873806890004,
            924.5518414658043,
            494.6400294859447,
            782.4929880095242,
            570.2906311682318,
            619.8910719104767,
            643.3038621225278,
            630.3918922306368,
            809.5159550008101,
            846.9380712171769,
            544.0280924999998,
            642.115925897083,
            824.2877751935644,
            768.1505431993187,
            525.5336619340729,
            632.3670858890138,
            716.4897735521528,
            898.8191078404985,
            845.8839760960216,
            514.2059999999999
           ],
           "yaxis": "y"
          },
          {
           "hovertemplate": "variable=Revenue<br>County=ADAMS<br>Year=%{x}<br>value=%{y}<extra></extra>",
           "legendgroup": "Revenue",
           "line": {
            "color": "#EF553B",
            "dash": "solid"
           },
           "mode": "lines",
           "name": "Revenue",
           "orientation": "v",
           "showlegend": true,
           "type": "scatter",
           "x": [
            2001,
            2002,
            2003,
            2004,
            2005,
            2006,
            2007,
            2008,
            2009,
            2010,
            2011,
            2012,
            2013,
            2014,
            2015,
            2016,
            2017,
            2018,
            2019,
            2020
           ],
           "xaxis": "x",
           "y": [
            562.1873806890004,
            924.5518414658043,
            494.6400294859447,
            782.4929880095242,
            570.2906311682318,
            619.8910719104767,
            643.3038621225278,
            630.3918922306368,
            809.5159550008101,
            846.9380712171769,
            530.7871452282557,
            642.115925897083,
            824.2877751935644,
            768.1505431993187,
            525.5336619340729,
            632.3670858890138,
            716.4897735521528,
            898.8191078404985,
            845.8839760960216,
            514.2059999999999
           ],
           "yaxis": "y"
          }
         ],
         "name": "ADAMS"
        },
        {
         "data": [
          {
           "hovertemplate": "variable=85% Revenue<br>County=ALEXANDER<br>Year=%{x}<br>value=%{y}<extra></extra>",
           "legendgroup": "85% Revenue",
           "line": {
            "color": "#636efa",
            "dash": "solid"
           },
           "mode": "lines",
           "name": "85% Revenue",
           "orientation": "v",
           "showlegend": true,
           "type": "scatter",
           "x": [
            2001,
            2002,
            2003,
            2004,
            2005,
            2006,
            2007,
            2008,
            2009,
            2010,
            2011,
            2016,
            2017,
            2020
           ],
           "xaxis": "x",
           "y": [
            583.1223056379719,
            428.99489327058643,
            439.2568252088265,
            989.0195071774585,
            502.45028629671253,
            781.3582812599376,
            634.5870434082113,
            646.0518193513458,
            527.0745640190157,
            743.848677151101,
            669.4811119084594,
            367.31428717368874,
            663.3914484603808,
            397.91999999999996
           ],
           "yaxis": "y"
          },
          {
           "hovertemplate": "variable=Revenue<br>County=ALEXANDER<br>Year=%{x}<br>value=%{y}<extra></extra>",
           "legendgroup": "Revenue",
           "line": {
            "color": "#EF553B",
            "dash": "solid"
           },
           "mode": "lines",
           "name": "Revenue",
           "orientation": "v",
           "showlegend": true,
           "type": "scatter",
           "x": [
            2001,
            2002,
            2003,
            2004,
            2005,
            2006,
            2007,
            2008,
            2009,
            2010,
            2011,
            2016,
            2017,
            2020
           ],
           "xaxis": "x",
           "y": [
            583.1223056379719,
            428.99489327058643,
            439.2568252088265,
            989.0195071774585,
            502.45028629671253,
            781.3582812599376,
            634.5870434082113,
            646.0518193513458,
            527.0745640190157,
            743.848677151101,
            669.4811119084594,
            367.31428717368874,
            663.3914484603808,
            397.91999999999996
           ],
           "yaxis": "y"
          }
         ],
         "name": "ALEXANDER"
        },
        {
         "data": [
          {
           "hovertemplate": "variable=85% Revenue<br>County=BOND<br>Year=%{x}<br>value=%{y}<extra></extra>",
           "legendgroup": "85% Revenue",
           "line": {
            "color": "#636efa",
            "dash": "solid"
           },
           "mode": "lines",
           "name": "85% Revenue",
           "orientation": "v",
           "showlegend": true,
           "type": "scatter",
           "x": [
            2001,
            2002,
            2003,
            2004,
            2005,
            2006,
            2007,
            2008,
            2009,
            2010,
            2011,
            2012,
            2014,
            2015,
            2017,
            2018,
            2019,
            2020
           ],
           "xaxis": "x",
           "y": [
            532.125475647182,
            845.4334356847671,
            694.0209254941627,
            529.2935519574045,
            854.1080699935508,
            768.5111825241746,
            511.54643391594993,
            749.5483888456246,
            627.2024978179111,
            526.8406309134201,
            741.3478055564849,
            567.3737250000001,
            580.3577618371916,
            478.3979049499801,
            529.143623761178,
            751.5438595330048,
            855.9733912010386,
            941.801
           ],
           "yaxis": "y"
          },
          {
           "hovertemplate": "variable=Revenue<br>County=BOND<br>Year=%{x}<br>value=%{y}<extra></extra>",
           "legendgroup": "Revenue",
           "line": {
            "color": "#EF553B",
            "dash": "solid"
           },
           "mode": "lines",
           "name": "Revenue",
           "orientation": "v",
           "showlegend": true,
           "type": "scatter",
           "x": [
            2001,
            2002,
            2003,
            2004,
            2005,
            2006,
            2007,
            2008,
            2009,
            2010,
            2011,
            2012,
            2014,
            2015,
            2017,
            2018,
            2019,
            2020
           ],
           "xaxis": "x",
           "y": [
            532.125475647182,
            845.4334356847671,
            694.0209254941627,
            529.2935519574045,
            854.1080699935508,
            768.5111825241746,
            511.54643391594993,
            749.5483888456246,
            627.2024978179111,
            526.8406309134201,
            741.3478055564849,
            543.0725594207287,
            580.3577618371916,
            478.3979049499801,
            529.143623761178,
            751.5438595330048,
            855.9733912010386,
            941.801
           ],
           "yaxis": "y"
          }
         ],
         "name": "BOND"
        },
        {
         "data": [
          {
           "hovertemplate": "variable=85% Revenue<br>County=BOONE<br>Year=%{x}<br>value=%{y}<extra></extra>",
           "legendgroup": "85% Revenue",
           "line": {
            "color": "#636efa",
            "dash": "solid"
           },
           "mode": "lines",
           "name": "85% Revenue",
           "orientation": "v",
           "showlegend": true,
           "type": "scatter",
           "x": [
            2001,
            2002,
            2003,
            2004,
            2005,
            2006,
            2007,
            2008,
            2009,
            2010,
            2011,
            2012,
            2013,
            2014,
            2015,
            2016,
            2017,
            2018,
            2019,
            2020
           ],
           "xaxis": "x",
           "y": [
            766.3036009682846,
            595.8966944124609,
            621.3406341962428,
            569.7266718595143,
            449.6616508205733,
            515.5296924243996,
            892.4146093441528,
            810.3831337681061,
            738.1059589057973,
            652.3291728179773,
            1092.5351789302697,
            642.0400199999999,
            881.1844280229016,
            711.2867943718499,
            645.104400871668,
            751.2336366434947,
            749.9140425519379,
            641.7572493474436,
            626.0881179496164,
            810.676
           ],
           "yaxis": "y"
          },
          {
           "hovertemplate": "variable=Revenue<br>County=BOONE<br>Year=%{x}<br>value=%{y}<extra></extra>",
           "legendgroup": "Revenue",
           "line": {
            "color": "#EF553B",
            "dash": "solid"
           },
           "mode": "lines",
           "name": "Revenue",
           "orientation": "v",
           "showlegend": true,
           "type": "scatter",
           "x": [
            2001,
            2002,
            2003,
            2004,
            2005,
            2006,
            2007,
            2008,
            2009,
            2010,
            2011,
            2012,
            2013,
            2014,
            2015,
            2016,
            2017,
            2018,
            2019,
            2020
           ],
           "xaxis": "x",
           "y": [
            766.3036009682846,
            595.8966944124609,
            621.3406341962428,
            569.7266718595143,
            449.6616508205733,
            515.5296924243996,
            892.4146093441528,
            810.3831337681061,
            738.1059589057973,
            652.3291728179773,
            1092.5351789302697,
            522.1476670064156,
            881.1844280229016,
            711.2867943718499,
            645.104400871668,
            751.2336366434947,
            749.9140425519379,
            641.7572493474436,
            626.0881179496164,
            810.676
           ],
           "yaxis": "y"
          }
         ],
         "name": "BOONE"
        },
        {
         "data": [
          {
           "hovertemplate": "variable=85% Revenue<br>County=BROWN<br>Year=%{x}<br>value=%{y}<extra></extra>",
           "legendgroup": "85% Revenue",
           "line": {
            "color": "#636efa",
            "dash": "solid"
           },
           "mode": "lines",
           "name": "85% Revenue",
           "orientation": "v",
           "showlegend": true,
           "type": "scatter",
           "x": [
            2001,
            2002,
            2003,
            2004,
            2005,
            2006,
            2007,
            2008,
            2009,
            2010,
            2011,
            2012,
            2013,
            2014,
            2015,
            2016,
            2017,
            2018,
            2019,
            2020
           ],
           "xaxis": "x",
           "y": [
            656.9012439077483,
            903.5520483887159,
            574.8536283031945,
            614.6537740617764,
            864.0101782725376,
            783.9601938924861,
            561.419929710232,
            533.4481,
            882.7822292921819,
            847.9759841963753,
            538.6388375,
            614.5034625000001,
            780.57228087772,
            889.5202368473442,
            771.3395011214365,
            501.3863239599841,
            614.268867123735,
            986.2664704118657,
            915.4290976039752,
            1021.845
           ],
           "yaxis": "y"
          },
          {
           "hovertemplate": "variable=Revenue<br>County=BROWN<br>Year=%{x}<br>value=%{y}<extra></extra>",
           "legendgroup": "Revenue",
           "line": {
            "color": "#EF553B",
            "dash": "solid"
           },
           "mode": "lines",
           "name": "Revenue",
           "orientation": "v",
           "showlegend": true,
           "type": "scatter",
           "x": [
            2001,
            2002,
            2003,
            2004,
            2005,
            2006,
            2007,
            2008,
            2009,
            2010,
            2011,
            2012,
            2013,
            2014,
            2015,
            2016,
            2017,
            2018,
            2019,
            2020
           ],
           "xaxis": "x",
           "y": [
            656.9012439077483,
            903.5520483887159,
            574.8536283031945,
            614.6537740617764,
            864.0101782725376,
            783.9601938924861,
            561.419929710232,
            400.04554918420513,
            882.7822292921819,
            847.9759841963753,
            465.29433731635675,
            604.9343938823995,
            780.57228087772,
            889.5202368473442,
            771.3395011214365,
            501.3863239599841,
            614.268867123735,
            986.2664704118657,
            915.4290976039752,
            1021.845
           ],
           "yaxis": "y"
          }
         ],
         "name": "BROWN"
        },
        {
         "data": [
          {
           "hovertemplate": "variable=85% Revenue<br>County=BUREAU<br>Year=%{x}<br>value=%{y}<extra></extra>",
           "legendgroup": "85% Revenue",
           "line": {
            "color": "#636efa",
            "dash": "solid"
           },
           "mode": "lines",
           "name": "85% Revenue",
           "orientation": "v",
           "showlegend": true,
           "type": "scatter",
           "x": [
            2001,
            2002,
            2003,
            2004,
            2005,
            2006,
            2007,
            2008,
            2009,
            2010,
            2011,
            2012,
            2013,
            2014,
            2015,
            2016,
            2017,
            2018,
            2019,
            2020
           ],
           "xaxis": "x",
           "y": [
            802.9789172101327,
            1103.052170717375,
            463.47459438193647,
            784.4436664760893,
            738.2629958194984,
            754.023237448806,
            940.6400635346085,
            982.5261348080558,
            531.2123869849692,
            1054.0568019981476,
            884.262211337522,
            878.7308346246443,
            595.32759,
            532.3256002038494,
            1032.7888985266056,
            1078.708656423242,
            881.2449735776341,
            682.7420657626166,
            513.4174318923209,
            561.8340000000001
           ],
           "yaxis": "y"
          },
          {
           "hovertemplate": "variable=Revenue<br>County=BUREAU<br>Year=%{x}<br>value=%{y}<extra></extra>",
           "legendgroup": "Revenue",
           "line": {
            "color": "#EF553B",
            "dash": "solid"
           },
           "mode": "lines",
           "name": "Revenue",
           "orientation": "v",
           "showlegend": true,
           "type": "scatter",
           "x": [
            2001,
            2002,
            2003,
            2004,
            2005,
            2006,
            2007,
            2008,
            2009,
            2010,
            2011,
            2012,
            2013,
            2014,
            2015,
            2016,
            2017,
            2018,
            2019,
            2020
           ],
           "xaxis": "x",
           "y": [
            802.9789172101327,
            1103.052170717375,
            463.47459438193647,
            784.4436664760893,
            738.2629958194984,
            754.023237448806,
            940.6400635346085,
            982.5261348080558,
            531.2123869849692,
            1054.0568019981476,
            884.262211337522,
            878.7308346246443,
            588.1171496991367,
            532.3256002038494,
            1032.7888985266056,
            1078.708656423242,
            881.2449735776341,
            682.7420657626166,
            513.4174318923209,
            561.8340000000001
           ],
           "yaxis": "y"
          }
         ],
         "name": "BUREAU"
        },
        {
         "data": [
          {
           "hovertemplate": "variable=85% Revenue<br>County=CALHOUN<br>Year=%{x}<br>value=%{y}<extra></extra>",
           "legendgroup": "85% Revenue",
           "line": {
            "color": "#636efa",
            "dash": "solid"
           },
           "mode": "lines",
           "name": "85% Revenue",
           "orientation": "v",
           "showlegend": true,
           "type": "scatter",
           "x": [
            2001,
            2002,
            2003,
            2004,
            2005,
            2006,
            2007,
            2008,
            2009,
            2010,
            2011,
            2012,
            2014,
            2015,
            2017,
            2018,
            2019,
            2020
           ],
           "xaxis": "x",
           "y": [
            639.292087219343,
            848.1306493777032,
            476.2476032318604,
            937.1028804238372,
            488.0186458756364,
            836.2707226954823,
            476.3207003617797,
            716.3227277322572,
            799.2653110213968,
            949.0922190556582,
            688.056190645231,
            707.2280825854882,
            481.2300731341027,
            846.5911776355083,
            943.4873617862291,
            840.1474838600767,
            607.1262739447218,
            619.1460000000001
           ],
           "yaxis": "y"
          },
          {
           "hovertemplate": "variable=Revenue<br>County=CALHOUN<br>Year=%{x}<br>value=%{y}<extra></extra>",
           "legendgroup": "Revenue",
           "line": {
            "color": "#EF553B",
            "dash": "solid"
           },
           "mode": "lines",
           "name": "Revenue",
           "orientation": "v",
           "showlegend": true,
           "type": "scatter",
           "x": [
            2001,
            2002,
            2003,
            2004,
            2005,
            2006,
            2007,
            2008,
            2009,
            2010,
            2011,
            2012,
            2014,
            2015,
            2017,
            2018,
            2019,
            2020
           ],
           "xaxis": "x",
           "y": [
            639.292087219343,
            848.1306493777032,
            476.2476032318604,
            937.1028804238372,
            488.0186458756364,
            836.2707226954823,
            476.3207003617797,
            716.3227277322572,
            799.2653110213968,
            949.0922190556582,
            688.056190645231,
            707.2280825854882,
            481.2300731341027,
            846.5911776355083,
            943.4873617862291,
            840.1474838600767,
            607.1262739447218,
            619.1460000000001
           ],
           "yaxis": "y"
          }
         ],
         "name": "CALHOUN"
        },
        {
         "data": [
          {
           "hovertemplate": "variable=85% Revenue<br>County=CARROLL<br>Year=%{x}<br>value=%{y}<extra></extra>",
           "legendgroup": "85% Revenue",
           "line": {
            "color": "#636efa",
            "dash": "solid"
           },
           "mode": "lines",
           "name": "85% Revenue",
           "orientation": "v",
           "showlegend": true,
           "type": "scatter",
           "x": [
            2001,
            2002,
            2003,
            2004,
            2005,
            2006,
            2007,
            2008,
            2009,
            2010,
            2011,
            2012,
            2013,
            2014,
            2015,
            2016,
            2017,
            2018,
            2019,
            2020
           ],
           "xaxis": "x",
           "y": [
            842.1672078147528,
            1240.5107717063624,
            698.0784955543353,
            1194.2488287108931,
            1159.6366020082344,
            703.4605431074806,
            912.8067328046,
            881.1974726547388,
            959.0041573254347,
            1092.579109043422,
            1206.9500853586876,
            972.860412968847,
            926.8683038691545,
            653.3070918739004,
            549.9313220074905,
            702.2455535276804,
            852.5341085337984,
            579.0276801998149,
            791.6532532524307,
            1137.66
           ],
           "yaxis": "y"
          },
          {
           "hovertemplate": "variable=Revenue<br>County=CARROLL<br>Year=%{x}<br>value=%{y}<extra></extra>",
           "legendgroup": "Revenue",
           "line": {
            "color": "#EF553B",
            "dash": "solid"
           },
           "mode": "lines",
           "name": "Revenue",
           "orientation": "v",
           "showlegend": true,
           "type": "scatter",
           "x": [
            2001,
            2002,
            2003,
            2004,
            2005,
            2006,
            2007,
            2008,
            2009,
            2010,
            2011,
            2012,
            2013,
            2014,
            2015,
            2016,
            2017,
            2018,
            2019,
            2020
           ],
           "xaxis": "x",
           "y": [
            842.1672078147528,
            1240.5107717063624,
            698.0784955543353,
            1194.2488287108931,
            1159.6366020082344,
            703.4605431074806,
            912.8067328046,
            881.1974726547388,
            959.0041573254347,
            1092.579109043422,
            1206.9500853586876,
            972.860412968847,
            926.8683038691545,
            653.3070918739004,
            549.9313220074905,
            702.2455535276804,
            852.5341085337984,
            579.0276801998149,
            791.6532532524307,
            1137.66
           ],
           "yaxis": "y"
          }
         ],
         "name": "CARROLL"
        },
        {
         "data": [
          {
           "hovertemplate": "variable=85% Revenue<br>County=CASS<br>Year=%{x}<br>value=%{y}<extra></extra>",
           "legendgroup": "85% Revenue",
           "line": {
            "color": "#636efa",
            "dash": "solid"
           },
           "mode": "lines",
           "name": "85% Revenue",
           "orientation": "v",
           "showlegend": true,
           "type": "scatter",
           "x": [
            2001,
            2002,
            2003,
            2004,
            2005,
            2006,
            2007,
            2008,
            2009,
            2010,
            2011,
            2012,
            2013,
            2014,
            2015,
            2016,
            2017,
            2018,
            2020
           ],
           "xaxis": "x",
           "y": [
            814.0491356287616,
            973.2808563006148,
            991.1130678218133,
            921.2421828708244,
            494.9797689894337,
            833.1743640291022,
            892.4097529309971,
            968.0506116432963,
            1002.2013285020005,
            690.0178986540113,
            820.8709778648388,
            686.0214,
            947.7956809286825,
            908.0651678730404,
            652.3216553832925,
            887.3606189436471,
            841.3269755301277,
            1217.4653695962036,
            859.172
           ],
           "yaxis": "y"
          },
          {
           "hovertemplate": "variable=Revenue<br>County=CASS<br>Year=%{x}<br>value=%{y}<extra></extra>",
           "legendgroup": "Revenue",
           "line": {
            "color": "#EF553B",
            "dash": "solid"
           },
           "mode": "lines",
           "name": "Revenue",
           "orientation": "v",
           "showlegend": true,
           "type": "scatter",
           "x": [
            2001,
            2002,
            2003,
            2004,
            2005,
            2006,
            2007,
            2008,
            2009,
            2010,
            2011,
            2012,
            2013,
            2014,
            2015,
            2016,
            2017,
            2018,
            2020
           ],
           "xaxis": "x",
           "y": [
            814.0491356287616,
            973.2808563006148,
            991.1130678218133,
            921.2421828708244,
            494.9797689894337,
            833.1743640291022,
            892.4097529309971,
            968.0506116432963,
            1002.2013285020005,
            690.0178986540113,
            820.8709778648388,
            442.20532707983324,
            947.7956809286825,
            908.0651678730404,
            652.3216553832925,
            887.3606189436471,
            841.3269755301277,
            1217.4653695962036,
            859.172
           ],
           "yaxis": "y"
          }
         ],
         "name": "CASS"
        },
        {
         "data": [
          {
           "hovertemplate": "variable=85% Revenue<br>County=CHAMPAIGN<br>Year=%{x}<br>value=%{y}<extra></extra>",
           "legendgroup": "85% Revenue",
           "line": {
            "color": "#636efa",
            "dash": "solid"
           },
           "mode": "lines",
           "name": "85% Revenue",
           "orientation": "v",
           "showlegend": true,
           "type": "scatter",
           "x": [
            2001,
            2002,
            2003,
            2004,
            2005,
            2006,
            2007,
            2008,
            2009,
            2010,
            2011,
            2012,
            2013,
            2014,
            2015,
            2016,
            2017,
            2018,
            2019,
            2020
           ],
           "xaxis": "x",
           "y": [
            687.7244290984189,
            648.6842607868905,
            603.5053797764566,
            769.3745097876841,
            765.9312519369665,
            853.1877524569414,
            706.2044833297504,
            633.097,
            1003.5414627648652,
            736.3562566270916,
            1008.2432459520801,
            729.293625,
            609.877125,
            1166.188737367319,
            1033.4653270798333,
            740.4453610929293,
            1106.951767694672,
            984.6773554546928,
            544.9529044759244,
            1027.65
           ],
           "yaxis": "y"
          },
          {
           "hovertemplate": "variable=Revenue<br>County=CHAMPAIGN<br>Year=%{x}<br>value=%{y}<extra></extra>",
           "legendgroup": "Revenue",
           "line": {
            "color": "#EF553B",
            "dash": "solid"
           },
           "mode": "lines",
           "name": "Revenue",
           "orientation": "v",
           "showlegend": true,
           "type": "scatter",
           "x": [
            2001,
            2002,
            2003,
            2004,
            2005,
            2006,
            2007,
            2008,
            2009,
            2010,
            2011,
            2012,
            2013,
            2014,
            2015,
            2016,
            2017,
            2018,
            2019,
            2020
           ],
           "xaxis": "x",
           "y": [
            687.7244290984189,
            648.6842607868905,
            603.5053797764566,
            769.3745097876841,
            765.9312519369665,
            853.1877524569414,
            706.2044833297504,
            499.7146408032938,
            1003.5414627648652,
            736.3562566270916,
            1008.2432459520801,
            698.8855035479858,
            584.5442324683015,
            1166.188737367319,
            1033.4653270798333,
            740.4453610929293,
            1106.951767694672,
            984.6773554546928,
            544.9529044759244,
            1027.65
           ],
           "yaxis": "y"
          }
         ],
         "name": "CHAMPAIGN"
        },
        {
         "data": [
          {
           "hovertemplate": "variable=85% Revenue<br>County=CHRISTIAN<br>Year=%{x}<br>value=%{y}<extra></extra>",
           "legendgroup": "85% Revenue",
           "line": {
            "color": "#636efa",
            "dash": "solid"
           },
           "mode": "lines",
           "name": "85% Revenue",
           "orientation": "v",
           "showlegend": true,
           "type": "scatter",
           "x": [
            2001,
            2002,
            2003,
            2004,
            2005,
            2006,
            2007,
            2008,
            2009,
            2010,
            2011,
            2012,
            2013,
            2014,
            2015,
            2016,
            2017,
            2018,
            2020
           ],
           "xaxis": "x",
           "y": [
            1111.9845277779116,
            826.6294078402337,
            692.8653797764566,
            633.9649661498773,
            977.6071733276008,
            722.4049431584428,
            621.8219115363283,
            947.3552342371187,
            812.5713480269361,
            1133.5474670165022,
            1006.4457434796116,
            923.5426881727625,
            1069.140883253307,
            947.2212181075467,
            689.3914583502547,
            651.3811407218069,
            918.997037607001,
            906.584217506085,
            601.063
           ],
           "yaxis": "y"
          },
          {
           "hovertemplate": "variable=Revenue<br>County=CHRISTIAN<br>Year=%{x}<br>value=%{y}<extra></extra>",
           "legendgroup": "Revenue",
           "line": {
            "color": "#EF553B",
            "dash": "solid"
           },
           "mode": "lines",
           "name": "Revenue",
           "orientation": "v",
           "showlegend": true,
           "type": "scatter",
           "x": [
            2001,
            2002,
            2003,
            2004,
            2005,
            2006,
            2007,
            2008,
            2009,
            2010,
            2011,
            2012,
            2013,
            2014,
            2015,
            2016,
            2017,
            2018,
            2020
           ],
           "xaxis": "x",
           "y": [
            1111.9845277779116,
            826.6294078402337,
            692.8653797764566,
            633.9649661498773,
            977.6071733276008,
            722.4049431584428,
            621.8219115363283,
            947.3552342371187,
            812.5713480269361,
            1133.5474670165022,
            1006.4457434796116,
            923.5426881727625,
            1069.140883253307,
            947.2212181075467,
            689.3914583502547,
            651.3811407218069,
            918.997037607001,
            906.584217506085,
            601.063
           ],
           "yaxis": "y"
          }
         ],
         "name": "CHRISTIAN"
        },
        {
         "data": [
          {
           "hovertemplate": "variable=85% Revenue<br>County=CLARK<br>Year=%{x}<br>value=%{y}<extra></extra>",
           "legendgroup": "85% Revenue",
           "line": {
            "color": "#636efa",
            "dash": "solid"
           },
           "mode": "lines",
           "name": "85% Revenue",
           "orientation": "v",
           "showlegend": true,
           "type": "scatter",
           "x": [
            2001,
            2002,
            2003,
            2004,
            2005,
            2006,
            2007,
            2008,
            2009,
            2010,
            2011,
            2012,
            2013,
            2014,
            2015,
            2017,
            2018,
            2020
           ],
           "xaxis": "x",
           "y": [
            590.5737662518021,
            867.7951262129436,
            530.3862462987299,
            929.1444212884446,
            651.2623060764599,
            873.2944559948406,
            828.5170355982372,
            559.4722666666665,
            632.4526281757886,
            616.5268707176399,
            734.5914960846615,
            666.5589633766781,
            762.5731590231165,
            559.4303253465838,
            792.6807227517527,
            529.8050227721906,
            571.436854588068,
            711.76
           ],
           "yaxis": "y"
          },
          {
           "hovertemplate": "variable=Revenue<br>County=CLARK<br>Year=%{x}<br>value=%{y}<extra></extra>",
           "legendgroup": "Revenue",
           "line": {
            "color": "#EF553B",
            "dash": "solid"
           },
           "mode": "lines",
           "name": "Revenue",
           "orientation": "v",
           "showlegend": true,
           "type": "scatter",
           "x": [
            2001,
            2002,
            2003,
            2004,
            2005,
            2006,
            2007,
            2008,
            2009,
            2010,
            2011,
            2012,
            2013,
            2014,
            2015,
            2017,
            2018,
            2020
           ],
           "xaxis": "x",
           "y": [
            590.5737662518021,
            867.7951262129436,
            530.3862462987299,
            929.1444212884446,
            651.2623060764599,
            873.2944559948406,
            828.5170355982372,
            477.4312831768634,
            632.4526281757886,
            616.5268707176399,
            734.5914960846615,
            666.5589633766781,
            762.5731590231165,
            559.4303253465838,
            792.6807227517527,
            529.8050227721906,
            571.436854588068,
            711.76
           ],
           "yaxis": "y"
          }
         ],
         "name": "CLARK"
        },
        {
         "data": [
          {
           "hovertemplate": "variable=85% Revenue<br>County=CLAY<br>Year=%{x}<br>value=%{y}<extra></extra>",
           "legendgroup": "85% Revenue",
           "line": {
            "color": "#636efa",
            "dash": "solid"
           },
           "mode": "lines",
           "name": "85% Revenue",
           "orientation": "v",
           "showlegend": true,
           "type": "scatter",
           "x": [
            2001,
            2002,
            2003,
            2004,
            2005,
            2006,
            2007,
            2008,
            2009,
            2010,
            2011,
            2012,
            2013,
            2014,
            2015,
            2016,
            2017,
            2018,
            2019,
            2020
           ],
           "xaxis": "x",
           "y": [
            630.0480511263474,
            540.4217074221837,
            744.5150036650404,
            611.6481051384349,
            787.2443063312716,
            677.5619685764268,
            600.7102168839207,
            511.63756896395245,
            589.4226242708015,
            812.4778331462066,
            549.2497345022817,
            525.2222249999999,
            783.2918073815728,
            727.6126624081288,
            679.389195682006,
            937.4841887845756,
            749.3458524163303,
            923.9024336255704,
            360.55314289354453,
            612.85
           ],
           "yaxis": "y"
          },
          {
           "hovertemplate": "variable=Revenue<br>County=CLAY<br>Year=%{x}<br>value=%{y}<extra></extra>",
           "legendgroup": "Revenue",
           "line": {
            "color": "#EF553B",
            "dash": "solid"
           },
           "mode": "lines",
           "name": "Revenue",
           "orientation": "v",
           "showlegend": true,
           "type": "scatter",
           "x": [
            2001,
            2002,
            2003,
            2004,
            2005,
            2006,
            2007,
            2008,
            2009,
            2010,
            2011,
            2012,
            2013,
            2014,
            2015,
            2016,
            2017,
            2018,
            2019,
            2020
           ],
           "xaxis": "x",
           "y": [
            630.0480511263474,
            540.4217074221837,
            744.5150036650404,
            611.6481051384349,
            787.2443063312716,
            677.5619685764268,
            600.7102168839207,
            511.63756896395245,
            589.4226242708015,
            812.4778331462066,
            549.2497345022817,
            450.3382113375222,
            783.2918073815728,
            727.6126624081288,
            679.389195682006,
            937.4841887845756,
            749.3458524163303,
            923.9024336255704,
            360.55314289354453,
            612.85
           ],
           "yaxis": "y"
          }
         ],
         "name": "CLAY"
        },
        {
         "data": [
          {
           "hovertemplate": "variable=85% Revenue<br>County=CLINTON<br>Year=%{x}<br>value=%{y}<extra></extra>",
           "legendgroup": "85% Revenue",
           "line": {
            "color": "#636efa",
            "dash": "solid"
           },
           "mode": "lines",
           "name": "85% Revenue",
           "orientation": "v",
           "showlegend": true,
           "type": "scatter",
           "x": [
            2001,
            2002,
            2003,
            2004,
            2005,
            2006,
            2007,
            2008,
            2009,
            2010,
            2011,
            2012,
            2013,
            2014,
            2015,
            2016,
            2017,
            2018,
            2019,
            2020
           ],
           "xaxis": "x",
           "y": [
            885.4910938056911,
            705.8407339719555,
            396.15536871922734,
            885.6718340943181,
            593.3424440250676,
            554.4891822693629,
            446.0832643452277,
            570.4677069125603,
            778.593126177376,
            602.9502007543487,
            690.8225208093457,
            567.21384,
            636.1471521256861,
            746.635712642635,
            652.0777457431873,
            924.7875280178583,
            906.3245223796215,
            965.1185942189628,
            860.2822490007937,
            687.828
           ],
           "yaxis": "y"
          },
          {
           "hovertemplate": "variable=Revenue<br>County=CLINTON<br>Year=%{x}<br>value=%{y}<extra></extra>",
           "legendgroup": "Revenue",
           "line": {
            "color": "#EF553B",
            "dash": "solid"
           },
           "mode": "lines",
           "name": "Revenue",
           "orientation": "v",
           "showlegend": true,
           "type": "scatter",
           "x": [
            2001,
            2002,
            2003,
            2004,
            2005,
            2006,
            2007,
            2008,
            2009,
            2010,
            2011,
            2012,
            2013,
            2014,
            2015,
            2016,
            2017,
            2018,
            2019,
            2020
           ],
           "xaxis": "x",
           "y": [
            885.4910938056911,
            705.8407339719555,
            396.15536871922734,
            885.6718340943181,
            593.3424440250676,
            554.4891822693629,
            446.0832643452277,
            570.4677069125603,
            778.593126177376,
            602.9502007543487,
            690.8225208093457,
            518.2877433522056,
            636.1471521256861,
            746.635712642635,
            652.0777457431873,
            924.7875280178583,
            906.3245223796215,
            965.1185942189628,
            860.2822490007937,
            687.828
           ],
           "yaxis": "y"
          }
         ],
         "name": "CLINTON"
        },
        {
         "data": [
          {
           "hovertemplate": "variable=85% Revenue<br>County=COLES<br>Year=%{x}<br>value=%{y}<extra></extra>",
           "legendgroup": "85% Revenue",
           "line": {
            "color": "#636efa",
            "dash": "solid"
           },
           "mode": "lines",
           "name": "85% Revenue",
           "orientation": "v",
           "showlegend": true,
           "type": "scatter",
           "x": [
            2001,
            2002,
            2003,
            2004,
            2005,
            2006,
            2007,
            2008,
            2009,
            2010,
            2011,
            2012,
            2013,
            2014,
            2015,
            2016,
            2017,
            2018,
            2019,
            2020
           ],
           "xaxis": "x",
           "y": [
            707.6733597774653,
            877.3906493777032,
            1062.6711282928432,
            974.1159812394995,
            958.9101092982338,
            932.8326813108999,
            653.2282741076954,
            750.4916814027381,
            889.2764647173589,
            1101.788224000595,
            717.3601492606487,
            725.0421375,
            1057.4238165781467,
            732.5758997857993,
            1080.2729330137574,
            700.2199574836299,
            775.3361380760136,
            891.4829055158741,
            549.4645648959918,
            706.0899999999999
           ],
           "yaxis": "y"
          },
          {
           "hovertemplate": "variable=Revenue<br>County=COLES<br>Year=%{x}<br>value=%{y}<extra></extra>",
           "legendgroup": "Revenue",
           "line": {
            "color": "#EF553B",
            "dash": "solid"
           },
           "mode": "lines",
           "name": "Revenue",
           "orientation": "v",
           "showlegend": true,
           "type": "scatter",
           "x": [
            2001,
            2002,
            2003,
            2004,
            2005,
            2006,
            2007,
            2008,
            2009,
            2010,
            2011,
            2012,
            2013,
            2014,
            2015,
            2016,
            2017,
            2018,
            2019,
            2020
           ],
           "xaxis": "x",
           "y": [
            707.6733597774653,
            877.3906493777032,
            1062.6711282928432,
            974.1159812394995,
            958.9101092982338,
            932.8326813108999,
            653.2282741076954,
            750.4916814027381,
            889.2764647173589,
            1101.788224000595,
            717.3601492606487,
            570.2743189232091,
            1057.4238165781467,
            732.5758997857993,
            1080.2729330137574,
            700.2199574836299,
            775.3361380760136,
            891.4829055158741,
            549.4645648959918,
            706.0899999999999
           ],
           "yaxis": "y"
          }
         ],
         "name": "COLES"
        },
        {
         "data": [
          {
           "hovertemplate": "variable=85% Revenue<br>County=COOK<br>Year=%{x}<br>value=%{y}<extra></extra>",
           "legendgroup": "85% Revenue",
           "line": {
            "color": "#636efa",
            "dash": "solid"
           },
           "mode": "lines",
           "name": "85% Revenue",
           "orientation": "v",
           "showlegend": true,
           "type": "scatter",
           "x": [
            2001,
            2002,
            2003,
            2004,
            2005,
            2006,
            2007
           ],
           "xaxis": "x",
           "y": [
            598.1844139169585,
            620.6222670265887,
            486.2812020491102,
            553.4413326262318,
            926.2235625761456,
            484.9364419451682,
            697.3431109959156
           ],
           "yaxis": "y"
          },
          {
           "hovertemplate": "variable=Revenue<br>County=COOK<br>Year=%{x}<br>value=%{y}<extra></extra>",
           "legendgroup": "Revenue",
           "line": {
            "color": "#EF553B",
            "dash": "solid"
           },
           "mode": "lines",
           "name": "Revenue",
           "orientation": "v",
           "showlegend": true,
           "type": "scatter",
           "x": [
            2001,
            2002,
            2003,
            2004,
            2005,
            2006,
            2007
           ],
           "xaxis": "x",
           "y": [
            598.1844139169585,
            620.6222670265887,
            486.2812020491102,
            553.4413326262318,
            926.2235625761456,
            484.9364419451682,
            697.3431109959156
           ],
           "yaxis": "y"
          }
         ],
         "name": "COOK"
        },
        {
         "data": [
          {
           "hovertemplate": "variable=85% Revenue<br>County=CRAWFORD<br>Year=%{x}<br>value=%{y}<extra></extra>",
           "legendgroup": "85% Revenue",
           "line": {
            "color": "#636efa",
            "dash": "solid"
           },
           "mode": "lines",
           "name": "85% Revenue",
           "orientation": "v",
           "showlegend": true,
           "type": "scatter",
           "x": [
            2001,
            2002,
            2003,
            2004,
            2005,
            2006,
            2007,
            2008,
            2009,
            2010,
            2011,
            2012,
            2013,
            2014,
            2015,
            2016,
            2017,
            2018,
            2019,
            2020
           ],
           "xaxis": "x",
           "y": [
            523.0571622703716,
            720.3321941472977,
            477.3681858277001,
            667.4270778953633,
            631.0595425415866,
            661.7392282522321,
            867.9982350578243,
            765.5551691678019,
            727.0280016769791,
            648.7103075548977,
            657.3975482716614,
            601.48737,
            677.3348785276141,
            780.3270387743568,
            761.6165306636516,
            590.2830031198491,
            837.9276297460646,
            699.4687081361863,
            675.9347258360342,
            706.904
           ],
           "yaxis": "y"
          },
          {
           "hovertemplate": "variable=Revenue<br>County=CRAWFORD<br>Year=%{x}<br>value=%{y}<extra></extra>",
           "legendgroup": "Revenue",
           "line": {
            "color": "#EF553B",
            "dash": "solid"
           },
           "mode": "lines",
           "name": "Revenue",
           "orientation": "v",
           "showlegend": true,
           "type": "scatter",
           "x": [
            2001,
            2002,
            2003,
            2004,
            2005,
            2006,
            2007,
            2008,
            2009,
            2010,
            2011,
            2012,
            2013,
            2014,
            2015,
            2016,
            2017,
            2018,
            2019,
            2020
           ],
           "xaxis": "x",
           "y": [
            523.0571622703716,
            720.3321941472977,
            477.3681858277001,
            667.4270778953633,
            631.0595425415866,
            661.7392282522321,
            867.9982350578243,
            765.5551691678019,
            727.0280016769791,
            648.7103075548977,
            657.3975482716614,
            381.20551101131014,
            677.3348785276141,
            780.3270387743568,
            761.6165306636516,
            590.2830031198491,
            837.9276297460646,
            699.4687081361863,
            675.9347258360342,
            706.904
           ],
           "yaxis": "y"
          }
         ],
         "name": "CRAWFORD"
        },
        {
         "data": [
          {
           "hovertemplate": "variable=85% Revenue<br>County=CUMBERLAND<br>Year=%{x}<br>value=%{y}<extra></extra>",
           "legendgroup": "85% Revenue",
           "line": {
            "color": "#636efa",
            "dash": "solid"
           },
           "mode": "lines",
           "name": "85% Revenue",
           "orientation": "v",
           "showlegend": true,
           "type": "scatter",
           "x": [
            2001,
            2002,
            2003,
            2004,
            2005,
            2006,
            2007,
            2008,
            2009,
            2010,
            2011,
            2012,
            2013,
            2014,
            2015,
            2016,
            2017,
            2018,
            2019,
            2020
           ],
           "xaxis": "x",
           "y": [
            1007.7687822895359,
            796.7119872243862,
            599.7359586865532,
            943.0996147631454,
            590.2506311682318,
            657.9167868166875,
            826.0923403443678,
            906.6076027933724,
            615.4340425875057,
            567.1842828302135,
            778.2976823152819,
            659.9436963293866,
            668.9627221858588,
            789.7585658441033,
            696.4589493270057,
            797.198811378398,
            708.7619410429756,
            1153.041667791554,
            511.3054686786163,
            576.572
           ],
           "yaxis": "y"
          },
          {
           "hovertemplate": "variable=Revenue<br>County=CUMBERLAND<br>Year=%{x}<br>value=%{y}<extra></extra>",
           "legendgroup": "Revenue",
           "line": {
            "color": "#EF553B",
            "dash": "solid"
           },
           "mode": "lines",
           "name": "Revenue",
           "orientation": "v",
           "showlegend": true,
           "type": "scatter",
           "x": [
            2001,
            2002,
            2003,
            2004,
            2005,
            2006,
            2007,
            2008,
            2009,
            2010,
            2011,
            2012,
            2013,
            2014,
            2015,
            2016,
            2017,
            2018,
            2019,
            2020
           ],
           "xaxis": "x",
           "y": [
            1007.7687822895359,
            796.7119872243862,
            599.7359586865532,
            943.0996147631454,
            590.2506311682318,
            657.9167868166875,
            826.0923403443678,
            906.6076027933724,
            615.4340425875057,
            567.1842828302135,
            778.2976823152819,
            659.9436963293866,
            668.9627221858588,
            789.7585658441033,
            696.4589493270057,
            797.198811378398,
            708.7619410429756,
            1153.041667791554,
            511.3054686786163,
            576.572
           ],
           "yaxis": "y"
          }
         ],
         "name": "CUMBERLAND"
        },
        {
         "data": [
          {
           "hovertemplate": "variable=85% Revenue<br>County=DE KALB<br>Year=%{x}<br>value=%{y}<extra></extra>",
           "legendgroup": "85% Revenue",
           "line": {
            "color": "#636efa",
            "dash": "solid"
           },
           "mode": "lines",
           "name": "85% Revenue",
           "orientation": "v",
           "showlegend": true,
           "type": "scatter",
           "x": [
            2001,
            2002,
            2003,
            2004,
            2005,
            2006,
            2007,
            2008,
            2009,
            2010,
            2011,
            2012,
            2013,
            2014,
            2015,
            2016,
            2017,
            2018,
            2019,
            2020
           ],
           "xaxis": "x",
           "y": [
            534.3286456563924,
            653.6495653137772,
            591.4276142890897,
            805.7676487762416,
            616.9009415525991,
            958.9505617554399,
            948.23097191552,
            740.2472045674976,
            598.9614861947879,
            629.9208148448969,
            611.6231100000001,
            697.7672100000002,
            974.4673843391759,
            542.3296277935709,
            692.7608688569845,
            616.4989935766254,
            911.3230199071531,
            731.264905515874,
            581.2609090742112,
            772.5600000000001
           ],
           "yaxis": "y"
          },
          {
           "hovertemplate": "variable=Revenue<br>County=DE KALB<br>Year=%{x}<br>value=%{y}<extra></extra>",
           "legendgroup": "Revenue",
           "line": {
            "color": "#EF553B",
            "dash": "solid"
           },
           "mode": "lines",
           "name": "Revenue",
           "orientation": "v",
           "showlegend": true,
           "type": "scatter",
           "x": [
            2001,
            2002,
            2003,
            2004,
            2005,
            2006,
            2007,
            2008,
            2009,
            2010,
            2011,
            2012,
            2013,
            2014,
            2015,
            2016,
            2017,
            2018,
            2019,
            2020
           ],
           "xaxis": "x",
           "y": [
            534.3286456563924,
            653.6495653137772,
            591.4276142890897,
            805.7676487762416,
            616.9009415525991,
            958.9505617554399,
            948.23097191552,
            740.2472045674976,
            598.9614861947879,
            629.9208148448969,
            553.1546594156855,
            607.553703792711,
            974.4673843391759,
            542.3296277935709,
            692.7608688569845,
            616.4989935766254,
            911.3230199071531,
            731.264905515874,
            581.2609090742112,
            772.5600000000001
           ],
           "yaxis": "y"
          }
         ],
         "name": "DE KALB"
        },
        {
         "data": [
          {
           "hovertemplate": "variable=85% Revenue<br>County=DE WITT<br>Year=%{x}<br>value=%{y}<extra></extra>",
           "legendgroup": "85% Revenue",
           "line": {
            "color": "#636efa",
            "dash": "solid"
           },
           "mode": "lines",
           "name": "85% Revenue",
           "orientation": "v",
           "showlegend": true,
           "type": "scatter",
           "x": [
            2001,
            2002,
            2003,
            2004,
            2005,
            2006,
            2007,
            2008,
            2009,
            2010,
            2011,
            2012,
            2014,
            2015,
            2016,
            2017,
            2018,
            2020
           ],
           "xaxis": "x",
           "y": [
            566.8682240005951,
            617.989297226536,
            530.5958591300845,
            1124.0331216146567,
            589.9055719563958,
            1053.0312055156094,
            608.2444911397246,
            847.4212519369665,
            702.0930231544082,
            850.28546849494,
            972.4490291392948,
            747.462375,
            874.1487766720021,
            736.3172038386301,
            906.3926649265163,
            931.2734780025961,
            1065.636910460811,
            570.722
           ],
           "yaxis": "y"
          },
          {
           "hovertemplate": "variable=Revenue<br>County=DE WITT<br>Year=%{x}<br>value=%{y}<extra></extra>",
           "legendgroup": "Revenue",
           "line": {
            "color": "#EF553B",
            "dash": "solid"
           },
           "mode": "lines",
           "name": "Revenue",
           "orientation": "v",
           "showlegend": true,
           "type": "scatter",
           "x": [
            2001,
            2002,
            2003,
            2004,
            2005,
            2006,
            2007,
            2008,
            2009,
            2010,
            2011,
            2012,
            2014,
            2015,
            2016,
            2017,
            2018,
            2020
           ],
           "xaxis": "x",
           "y": [
            566.8682240005951,
            617.989297226536,
            530.5958591300845,
            1124.0331216146567,
            589.9055719563958,
            1053.0312055156094,
            608.2444911397246,
            847.4212519369665,
            702.0930231544082,
            850.28546849494,
            972.4490291392948,
            543.0308311581452,
            874.1487766720021,
            736.3172038386301,
            906.3926649265163,
            931.2734780025961,
            1065.636910460811,
            570.722
           ],
           "yaxis": "y"
          }
         ],
         "name": "DE WITT"
        },
        {
         "data": [
          {
           "hovertemplate": "variable=85% Revenue<br>County=DOUGLAS<br>Year=%{x}<br>value=%{y}<extra></extra>",
           "legendgroup": "85% Revenue",
           "line": {
            "color": "#636efa",
            "dash": "solid"
           },
           "mode": "lines",
           "name": "85% Revenue",
           "orientation": "v",
           "showlegend": true,
           "type": "scatter",
           "x": [
            2001,
            2002,
            2003,
            2004,
            2005,
            2006,
            2007,
            2008,
            2009,
            2010,
            2011,
            2012,
            2013,
            2014,
            2015,
            2016,
            2017,
            2018,
            2019,
            2020
           ],
           "xaxis": "x",
           "y": [
            970.3219295265558,
            631.3522292921818,
            848.248595110804,
            1079.1270657419136,
            771.2972618268401,
            1129.6397297203184,
            1150.1400518196472,
            731.5743414761556,
            566.7734181330279,
            1133.4181419247302,
            718.3167610520536,
            745.38387,
            824.1512279974203,
            816.7573953608372,
            902.8849247297275,
            1054.050802875124,
            586.1175823765957,
            684.6782765905152,
            866.5307350326079,
            609.84
           ],
           "yaxis": "y"
          },
          {
           "hovertemplate": "variable=Revenue<br>County=DOUGLAS<br>Year=%{x}<br>value=%{y}<extra></extra>",
           "legendgroup": "Revenue",
           "line": {
            "color": "#EF553B",
            "dash": "solid"
           },
           "mode": "lines",
           "name": "Revenue",
           "orientation": "v",
           "showlegend": true,
           "type": "scatter",
           "x": [
            2001,
            2002,
            2003,
            2004,
            2005,
            2006,
            2007,
            2008,
            2009,
            2010,
            2011,
            2012,
            2013,
            2014,
            2015,
            2016,
            2017,
            2018,
            2019,
            2020
           ],
           "xaxis": "x",
           "y": [
            970.3219295265558,
            631.3522292921818,
            848.248595110804,
            1079.1270657419136,
            771.2972618268401,
            1129.6397297203184,
            1150.1400518196472,
            731.5743414761556,
            566.7734181330279,
            1133.4181419247302,
            718.3167610520536,
            646.0652004076987,
            824.1512279974203,
            816.7573953608372,
            902.8849247297275,
            1054.050802875124,
            586.1175823765957,
            684.6782765905152,
            866.5307350326079,
            609.84
           ],
           "yaxis": "y"
          }
         ],
         "name": "DOUGLAS"
        },
        {
         "data": [
          {
           "hovertemplate": "variable=85% Revenue<br>County=DU PAGE<br>Year=%{x}<br>value=%{y}<extra></extra>",
           "legendgroup": "85% Revenue",
           "line": {
            "color": "#636efa",
            "dash": "solid"
           },
           "mode": "lines",
           "name": "85% Revenue",
           "orientation": "v",
           "showlegend": true,
           "type": "scatter",
           "x": [
            2001,
            2002,
            2003,
            2004,
            2005,
            2006,
            2007
           ],
           "xaxis": "x",
           "y": [
            616.5795572845589,
            536.5269130503337,
            880.853167378282,
            763.8138885804615,
            666.6069664046892,
            711.5694351751437,
            853.8497646459585
           ],
           "yaxis": "y"
          },
          {
           "hovertemplate": "variable=Revenue<br>County=DU PAGE<br>Year=%{x}<br>value=%{y}<extra></extra>",
           "legendgroup": "Revenue",
           "line": {
            "color": "#EF553B",
            "dash": "solid"
           },
           "mode": "lines",
           "name": "Revenue",
           "orientation": "v",
           "showlegend": true,
           "type": "scatter",
           "x": [
            2001,
            2002,
            2003,
            2004,
            2005,
            2006,
            2007
           ],
           "xaxis": "x",
           "y": [
            616.5795572845589,
            536.5269130503337,
            880.853167378282,
            763.8138885804615,
            666.6069664046892,
            711.5694351751437,
            853.8497646459585
           ],
           "yaxis": "y"
          }
         ],
         "name": "DU PAGE"
        },
        {
         "data": [
          {
           "hovertemplate": "variable=85% Revenue<br>County=EDGAR<br>Year=%{x}<br>value=%{y}<extra></extra>",
           "legendgroup": "85% Revenue",
           "line": {
            "color": "#636efa",
            "dash": "solid"
           },
           "mode": "lines",
           "name": "85% Revenue",
           "orientation": "v",
           "showlegend": true,
           "type": "scatter",
           "x": [
            2001,
            2002,
            2003,
            2004,
            2005,
            2006,
            2007,
            2008,
            2009,
            2010,
            2011,
            2012,
            2013,
            2014,
            2015,
            2016,
            2017,
            2018,
            2019,
            2020
           ],
           "xaxis": "x",
           "y": [
            818.3693464566603,
            934.5380582785895,
            517.0951769777762,
            1116.0539649262512,
            961.062872833107,
            616.3262810051259,
            628.1217620920032,
            765.2072045674977,
            948.5415853127686,
            1039.2272469920297,
            959.827412402953,
            714.642345,
            740.6026440149809,
            693.3728948408625,
            1047.5255914813313,
            828.0095818107015,
            681.3642799296084,
            660.3184647736292,
            788.1752854404391,
            603.792
           ],
           "yaxis": "y"
          },
          {
           "hovertemplate": "variable=Revenue<br>County=EDGAR<br>Year=%{x}<br>value=%{y}<extra></extra>",
           "legendgroup": "Revenue",
           "line": {
            "color": "#EF553B",
            "dash": "solid"
           },
           "mode": "lines",
           "name": "Revenue",
           "orientation": "v",
           "showlegend": true,
           "type": "scatter",
           "x": [
            2001,
            2002,
            2003,
            2004,
            2005,
            2006,
            2007,
            2008,
            2009,
            2010,
            2011,
            2012,
            2013,
            2014,
            2015,
            2016,
            2017,
            2018,
            2019,
            2020
           ],
           "xaxis": "x",
           "y": [
            818.3693464566603,
            934.5380582785895,
            517.0951769777762,
            1116.0539649262512,
            961.062872833107,
            616.3262810051259,
            628.1217620920032,
            765.2072045674977,
            948.5415853127686,
            1039.2272469920297,
            959.827412402953,
            607.4760083195977,
            740.6026440149809,
            693.3728948408625,
            1047.5255914813313,
            828.0095818107015,
            681.3642799296084,
            660.3184647736292,
            788.1752854404391,
            603.792
           ],
           "yaxis": "y"
          }
         ],
         "name": "EDGAR"
        },
        {
         "data": [
          {
           "hovertemplate": "variable=85% Revenue<br>County=EDWARDS<br>Year=%{x}<br>value=%{y}<extra></extra>",
           "legendgroup": "85% Revenue",
           "line": {
            "color": "#636efa",
            "dash": "solid"
           },
           "mode": "lines",
           "name": "85% Revenue",
           "orientation": "v",
           "showlegend": true,
           "type": "scatter",
           "x": [
            2001,
            2002,
            2003,
            2004,
            2005,
            2006,
            2007,
            2008,
            2009,
            2010,
            2011,
            2012,
            2013,
            2014,
            2016,
            2017,
            2018,
            2020
           ],
           "xaxis": "x",
           "y": [
            701.1916883357362,
            478.9520106543089,
            548.6359623722963,
            731.1695193309079,
            638.2912174498146,
            701.315540935743,
            354.3827083333333,
            518.2186881727627,
            444.3659823357199,
            487.2897869085256,
            696.0926724254083,
            559.3794750000001,
            478.35518648543217,
            675.7325559542296,
            774.1322616638666,
            656.7382503873934,
            386.7404095941861,
            909.2199999999999
           ],
           "yaxis": "y"
          },
          {
           "hovertemplate": "variable=Revenue<br>County=EDWARDS<br>Year=%{x}<br>value=%{y}<extra></extra>",
           "legendgroup": "Revenue",
           "line": {
            "color": "#EF553B",
            "dash": "solid"
           },
           "mode": "lines",
           "name": "Revenue",
           "orientation": "v",
           "showlegend": true,
           "type": "scatter",
           "x": [
            2001,
            2002,
            2003,
            2004,
            2005,
            2006,
            2007,
            2008,
            2009,
            2010,
            2011,
            2012,
            2013,
            2014,
            2016,
            2017,
            2018,
            2020
           ],
           "xaxis": "x",
           "y": [
            701.1916883357362,
            478.9520106543089,
            548.6359623722963,
            731.1695193309079,
            638.2912174498146,
            701.315540935743,
            347.422827727214,
            518.2186881727627,
            444.3659823357199,
            487.2897869085256,
            696.0926724254083,
            438.6133550162047,
            478.35518648543217,
            675.7325559542296,
            774.1322616638666,
            656.7382503873934,
            386.7404095941861,
            909.2199999999999
           ],
           "yaxis": "y"
          }
         ],
         "name": "EDWARDS"
        },
        {
         "data": [
          {
           "hovertemplate": "variable=85% Revenue<br>County=EFFINGHAM<br>Year=%{x}<br>value=%{y}<extra></extra>",
           "legendgroup": "85% Revenue",
           "line": {
            "color": "#636efa",
            "dash": "solid"
           },
           "mode": "lines",
           "name": "85% Revenue",
           "orientation": "v",
           "showlegend": true,
           "type": "scatter",
           "x": [
            2001,
            2002,
            2003,
            2004,
            2005,
            2006,
            2007,
            2008,
            2009,
            2010,
            2011,
            2012,
            2013,
            2014,
            2015,
            2016,
            2017,
            2018,
            2019,
            2020
           ],
           "xaxis": "x",
           "y": [
            506.812049265692,
            763.0727420367415,
            457.75799040050583,
            891.0306229197695,
            503.26752276183925,
            745.4216007134729,
            457.4817620920033,
            679.7521030585353,
            622.5782702027084,
            918.0479481033797,
            844.9419198203583,
            731.7518809541634,
            842.6556832278258,
            894.6678781809643,
            504.97687046282806,
            622.8141775081024,
            602.213020819697,
            952.1969882850386,
            770.910482820127,
            865.8299999999999
           ],
           "yaxis": "y"
          },
          {
           "hovertemplate": "variable=Revenue<br>County=EFFINGHAM<br>Year=%{x}<br>value=%{y}<extra></extra>",
           "legendgroup": "Revenue",
           "line": {
            "color": "#EF553B",
            "dash": "solid"
           },
           "mode": "lines",
           "name": "Revenue",
           "orientation": "v",
           "showlegend": true,
           "type": "scatter",
           "x": [
            2001,
            2002,
            2003,
            2004,
            2005,
            2006,
            2007,
            2008,
            2009,
            2010,
            2011,
            2012,
            2013,
            2014,
            2015,
            2016,
            2017,
            2018,
            2019,
            2020
           ],
           "xaxis": "x",
           "y": [
            506.812049265692,
            763.0727420367415,
            457.75799040050583,
            891.0306229197695,
            503.26752276183925,
            745.4216007134729,
            457.4817620920033,
            679.7521030585353,
            622.5782702027084,
            918.0479481033797,
            844.9419198203583,
            731.7518809541634,
            842.6556832278258,
            894.6678781809643,
            504.97687046282806,
            622.8141775081024,
            602.213020819697,
            952.1969882850386,
            770.910482820127,
            865.8299999999999
           ],
           "yaxis": "y"
          }
         ],
         "name": "EFFINGHAM"
        },
        {
         "data": [
          {
           "hovertemplate": "variable=85% Revenue<br>County=FAYETTE<br>Year=%{x}<br>value=%{y}<extra></extra>",
           "legendgroup": "85% Revenue",
           "line": {
            "color": "#636efa",
            "dash": "solid"
           },
           "mode": "lines",
           "name": "85% Revenue",
           "orientation": "v",
           "showlegend": true,
           "type": "scatter",
           "x": [
            2001,
            2002,
            2003,
            2004,
            2005,
            2006,
            2007,
            2008,
            2009,
            2010,
            2011,
            2012,
            2013,
            2014,
            2015,
            2016,
            2017,
            2018,
            2019,
            2020
           ],
           "xaxis": "x",
           "y": [
            477.7980055819662,
            424.5523750507637,
            781.5243288842182,
            1044.9114159050198,
            594.6740844461436,
            543.708699449236,
            371.31812856835757,
            627.0225975936237,
            598.1317273856074,
            993.3655179443084,
            778.3235158644088,
            576.0438525,
            481.7208824999999,
            511.8712475223559,
            932.5364929648124,
            836.5452797103644,
            937.3090681891659,
            506.43268479810166,
            464.0373057860804,
            837.8100000000001
           ],
           "yaxis": "y"
          },
          {
           "hovertemplate": "variable=Revenue<br>County=FAYETTE<br>Year=%{x}<br>value=%{y}<extra></extra>",
           "legendgroup": "Revenue",
           "line": {
            "color": "#EF553B",
            "dash": "solid"
           },
           "mode": "lines",
           "name": "Revenue",
           "orientation": "v",
           "showlegend": true,
           "type": "scatter",
           "x": [
            2001,
            2002,
            2003,
            2004,
            2005,
            2006,
            2007,
            2008,
            2009,
            2010,
            2011,
            2012,
            2013,
            2014,
            2015,
            2016,
            2017,
            2018,
            2019,
            2020
           ],
           "xaxis": "x",
           "y": [
            477.7980055819662,
            424.5523750507637,
            781.5243288842182,
            1044.9114159050198,
            594.6740844461436,
            543.708699449236,
            371.31812856835757,
            627.0225975936237,
            598.1317273856074,
            993.3655179443084,
            778.3235158644088,
            374.05084955129297,
            476.4261519982802,
            511.8712475223559,
            932.5364929648124,
            836.5452797103644,
            937.3090681891659,
            506.43268479810166,
            464.0373057860804,
            837.8100000000001
           ],
           "yaxis": "y"
          }
         ],
         "name": "FAYETTE"
        },
        {
         "data": [
          {
           "hovertemplate": "variable=85% Revenue<br>County=FORD<br>Year=%{x}<br>value=%{y}<extra></extra>",
           "legendgroup": "85% Revenue",
           "line": {
            "color": "#636efa",
            "dash": "solid"
           },
           "mode": "lines",
           "name": "85% Revenue",
           "orientation": "v",
           "showlegend": true,
           "type": "scatter",
           "x": [
            2001,
            2002,
            2003,
            2004,
            2005,
            2006,
            2007,
            2008,
            2009,
            2010,
            2011,
            2012,
            2013,
            2014,
            2015,
            2016,
            2017,
            2018,
            2019,
            2020
           ],
           "xaxis": "x",
           "y": [
            596.4333445960049,
            782.3579476648915,
            618.9033480625039,
            995.2593041595339,
            830.6563801231064,
            864.5822904565115,
            815.6306847418313,
            814.8734174752958,
            855.5010873111811,
            712.6970054545604,
            583.988845,
            693.0838714109397,
            814.5723866383192,
            959.9996722980023,
            950.3498935816687,
            924.2250320961703,
            737.0839705851909,
            782.9481074938487,
            605.570085761608,
            683.636
           ],
           "yaxis": "y"
          },
          {
           "hovertemplate": "variable=Revenue<br>County=FORD<br>Year=%{x}<br>value=%{y}<extra></extra>",
           "legendgroup": "Revenue",
           "line": {
            "color": "#EF553B",
            "dash": "solid"
           },
           "mode": "lines",
           "name": "Revenue",
           "orientation": "v",
           "showlegend": true,
           "type": "scatter",
           "x": [
            2001,
            2002,
            2003,
            2004,
            2005,
            2006,
            2007,
            2008,
            2009,
            2010,
            2011,
            2012,
            2013,
            2014,
            2015,
            2016,
            2017,
            2018,
            2019,
            2020
           ],
           "xaxis": "x",
           "y": [
            596.4333445960049,
            782.3579476648915,
            618.9033480625039,
            995.2593041595339,
            830.6563801231064,
            864.5822904565115,
            815.6306847418313,
            814.8734174752958,
            855.5010873111811,
            712.6970054545604,
            482.21371069014145,
            693.0838714109397,
            814.5723866383192,
            959.9996722980023,
            950.3498935816687,
            924.2250320961703,
            737.0839705851909,
            782.9481074938487,
            605.570085761608,
            683.636
           ],
           "yaxis": "y"
          }
         ],
         "name": "FORD"
        },
        {
         "data": [
          {
           "hovertemplate": "variable=85% Revenue<br>County=FRANKLIN<br>Year=%{x}<br>value=%{y}<extra></extra>",
           "legendgroup": "85% Revenue",
           "line": {
            "color": "#636efa",
            "dash": "solid"
           },
           "mode": "lines",
           "name": "85% Revenue",
           "orientation": "v",
           "showlegend": true,
           "type": "scatter",
           "x": [
            2001,
            2002,
            2003,
            2004,
            2005,
            2006,
            2007,
            2008,
            2009,
            2010,
            2011,
            2012,
            2013,
            2014,
            2015,
            2016,
            2017,
            2018,
            2019,
            2020
           ],
           "xaxis": "x",
           "y": [
            721.0406266055126,
            566.5425351138299,
            614.6466518960908,
            951.0567551383025,
            634.4198529259539,
            915.2236239597192,
            376.6740310917883,
            857.9814471449166,
            784.0240230625701,
            442.7980168228718,
            444.556205,
            507.169755,
            777.1237223132647,
            620.2104416903564,
            679.2459181789469,
            487.7567371125075,
            539.0539360980388,
            646.9537176794099,
            599.6354943158443,
            634.032
           ],
           "yaxis": "y"
          },
          {
           "hovertemplate": "variable=Revenue<br>County=FRANKLIN<br>Year=%{x}<br>value=%{y}<extra></extra>",
           "legendgroup": "Revenue",
           "line": {
            "color": "#EF553B",
            "dash": "solid"
           },
           "mode": "lines",
           "name": "Revenue",
           "orientation": "v",
           "showlegend": true,
           "type": "scatter",
           "x": [
            2001,
            2002,
            2003,
            2004,
            2005,
            2006,
            2007,
            2008,
            2009,
            2010,
            2011,
            2012,
            2013,
            2014,
            2015,
            2016,
            2017,
            2018,
            2019,
            2020
           ],
           "xaxis": "x",
           "y": [
            721.0406266055126,
            566.5425351138299,
            614.6466518960908,
            951.0567551383025,
            634.4198529259539,
            915.2236239597192,
            376.6740310917883,
            857.9814471449166,
            784.0240230625701,
            442.7980168228718,
            373.04845158023005,
            487.3428986540113,
            777.1237223132647,
            620.2104416903564,
            679.2459181789469,
            487.7567371125075,
            539.0539360980388,
            646.9537176794099,
            599.6354943158443,
            634.032
           ],
           "yaxis": "y"
          }
         ],
         "name": "FRANKLIN"
        },
        {
         "data": [
          {
           "hovertemplate": "variable=85% Revenue<br>County=FULTON<br>Year=%{x}<br>value=%{y}<extra></extra>",
           "legendgroup": "85% Revenue",
           "line": {
            "color": "#636efa",
            "dash": "solid"
           },
           "mode": "lines",
           "name": "85% Revenue",
           "orientation": "v",
           "showlegend": true,
           "type": "scatter",
           "x": [
            2001,
            2002,
            2003,
            2004,
            2005,
            2006,
            2007,
            2008,
            2009,
            2010,
            2011,
            2012,
            2013,
            2014,
            2015,
            2016,
            2017,
            2018,
            2019,
            2020
           ],
           "xaxis": "x",
           "y": [
            1021.3602580848267,
            998.9860150689195,
            965.503167378282,
            950.9809907827234,
            927.3677251220315,
            722.1654259785699,
            500.7973696317712,
            1001.3969052403596,
            771.2223635550464,
            606.9446917310997,
            800.0886152934717,
            656.6913,
            549.1628999999999,
            952.0356545981546,
            710.966208783567,
            1020.5096567698922,
            656.9753144167603,
            536.7862627956544,
            629.5963770595278,
            859.852
           ],
           "yaxis": "y"
          },
          {
           "hovertemplate": "variable=Revenue<br>County=FULTON<br>Year=%{x}<br>value=%{y}<extra></extra>",
           "legendgroup": "Revenue",
           "line": {
            "color": "#EF553B",
            "dash": "solid"
           },
           "mode": "lines",
           "name": "Revenue",
           "orientation": "v",
           "showlegend": true,
           "type": "scatter",
           "x": [
            2001,
            2002,
            2003,
            2004,
            2005,
            2006,
            2007,
            2008,
            2009,
            2010,
            2011,
            2012,
            2013,
            2014,
            2015,
            2016,
            2017,
            2018,
            2019,
            2020
           ],
           "xaxis": "x",
           "y": [
            1021.3602580848267,
            998.9860150689195,
            965.503167378282,
            950.9809907827234,
            927.3677251220315,
            722.1654259785699,
            500.7973696317712,
            1001.3969052403596,
            771.2223635550464,
            606.9446917310997,
            800.0886152934717,
            576.1056949427871,
            480.82190598992975,
            952.0356545981546,
            710.966208783567,
            1020.5096567698922,
            656.9753144167603,
            536.7862627956544,
            629.5963770595278,
            859.852
           ],
           "yaxis": "y"
          }
         ],
         "name": "FULTON"
        },
        {
         "data": [
          {
           "hovertemplate": "variable=85% Revenue<br>County=GALLATIN<br>Year=%{x}<br>value=%{y}<extra></extra>",
           "legendgroup": "85% Revenue",
           "line": {
            "color": "#636efa",
            "dash": "solid"
           },
           "mode": "lines",
           "name": "85% Revenue",
           "orientation": "v",
           "showlegend": true,
           "type": "scatter",
           "x": [
            2001,
            2002,
            2003,
            2004,
            2005,
            2006,
            2007,
            2008,
            2009,
            2010,
            2011,
            2012,
            2013,
            2014,
            2015,
            2016,
            2017,
            2018,
            2019,
            2020
           ],
           "xaxis": "x",
           "y": [
            844.2806493777032,
            572.51569753231,
            680.2267440810732,
            478.97648792803733,
            944.2505921183606,
            652.4271546796414,
            803.3786872957864,
            551.9198724508894,
            872.074540589093,
            511.74280174333603,
            849.1746863476749,
            581.2764525000001,
            793.8873429545935,
            843.3604200855214,
            648.1793187958032,
            498.2383975325749,
            643.8009636877604,
            819.7953236133342,
            606.9894115466797,
            772.59
           ],
           "yaxis": "y"
          },
          {
           "hovertemplate": "variable=Revenue<br>County=GALLATIN<br>Year=%{x}<br>value=%{y}<extra></extra>",
           "legendgroup": "Revenue",
           "line": {
            "color": "#EF553B",
            "dash": "solid"
           },
           "mode": "lines",
           "name": "Revenue",
           "orientation": "v",
           "showlegend": true,
           "type": "scatter",
           "x": [
            2001,
            2002,
            2003,
            2004,
            2005,
            2006,
            2007,
            2008,
            2009,
            2010,
            2011,
            2012,
            2013,
            2014,
            2015,
            2016,
            2017,
            2018,
            2019,
            2020
           ],
           "xaxis": "x",
           "y": [
            844.2806493777032,
            572.51569753231,
            680.2267440810732,
            478.97648792803733,
            944.2505921183606,
            652.4271546796414,
            803.3786872957864,
            551.9198724508894,
            872.074540589093,
            511.74280174333603,
            849.1746863476749,
            538.7549803832262,
            793.8873429545935,
            843.3604200855214,
            648.1793187958032,
            498.2383975325749,
            643.8009636877604,
            819.7953236133342,
            606.9894115466797,
            772.59
           ],
           "yaxis": "y"
          }
         ],
         "name": "GALLATIN"
        },
        {
         "data": [
          {
           "hovertemplate": "variable=85% Revenue<br>County=GREENE<br>Year=%{x}<br>value=%{y}<extra></extra>",
           "legendgroup": "85% Revenue",
           "line": {
            "color": "#636efa",
            "dash": "solid"
           },
           "mode": "lines",
           "name": "85% Revenue",
           "orientation": "v",
           "showlegend": true,
           "type": "scatter",
           "x": [
            2001,
            2002,
            2003,
            2004,
            2005,
            2006,
            2007,
            2008,
            2009,
            2010,
            2011,
            2012,
            2013,
            2014,
            2015,
            2016,
            2017,
            2018,
            2019,
            2020
           ],
           "xaxis": "x",
           "y": [
            1073.043458456958,
            1044.0937883662607,
            571.8429461508861,
            544.0694048122227,
            850.2930452688668,
            793.8542720633639,
            644.8202285988821,
            921.3081623977773,
            882.8585152985149,
            867.0730613273032,
            600.0419449999999,
            684.554895,
            572.464035,
            590.6055322694953,
            610.9936553832924,
            923.1628301181955,
            933.5340927864443,
            652.9110243780342,
            943.7526457126629,
            785.808
           ],
           "yaxis": "y"
          },
          {
           "hovertemplate": "variable=Revenue<br>County=GREENE<br>Year=%{x}<br>value=%{y}<extra></extra>",
           "legendgroup": "Revenue",
           "line": {
            "color": "#EF553B",
            "dash": "solid"
           },
           "mode": "lines",
           "name": "Revenue",
           "orientation": "v",
           "showlegend": true,
           "type": "scatter",
           "x": [
            2001,
            2002,
            2003,
            2004,
            2005,
            2006,
            2007,
            2008,
            2009,
            2010,
            2011,
            2012,
            2013,
            2014,
            2015,
            2016,
            2017,
            2018,
            2019,
            2020
           ],
           "xaxis": "x",
           "y": [
            1073.043458456958,
            1044.0937883662607,
            571.8429461508861,
            544.0694048122227,
            850.2930452688668,
            793.8542720633639,
            644.8202285988821,
            921.3081623977773,
            882.8585152985149,
            867.0730613273032,
            526.4063116791287,
            590.4758965741119,
            563.2463083400356,
            590.6055322694953,
            610.9936553832924,
            923.1628301181955,
            933.5340927864443,
            652.9110243780342,
            943.7526457126629,
            785.808
           ],
           "yaxis": "y"
          }
         ],
         "name": "GREENE"
        },
        {
         "data": [
          {
           "hovertemplate": "variable=85% Revenue<br>County=GRUNDY<br>Year=%{x}<br>value=%{y}<extra></extra>",
           "legendgroup": "85% Revenue",
           "line": {
            "color": "#636efa",
            "dash": "solid"
           },
           "mode": "lines",
           "name": "85% Revenue",
           "orientation": "v",
           "showlegend": true,
           "type": "scatter",
           "x": [
            2001,
            2002,
            2003,
            2004,
            2005,
            2006,
            2007,
            2008,
            2009,
            2010,
            2011,
            2012,
            2013,
            2014,
            2015,
            2016,
            2017,
            2018,
            2019,
            2020
           ],
           "xaxis": "x",
           "y": [
            880.4300168940073,
            968.7124505195776,
            842.6328723946191,
            765.1897032623847,
            574.8733602159533,
            972.8151917207485,
            588.4276685204212,
            979.1034747346382,
            608.8177682961339,
            588.1791137335471,
            817.1698586560286,
            650.804625,
            852.5330578608041,
            851.2721944228123,
            707.1354337529764,
            696.7831962478999,
            698.6951449734439,
            870.159089447351,
            621.2895514477809,
            645.2210000000001
           ],
           "yaxis": "y"
          },
          {
           "hovertemplate": "variable=Revenue<br>County=GRUNDY<br>Year=%{x}<br>value=%{y}<extra></extra>",
           "legendgroup": "Revenue",
           "line": {
            "color": "#EF553B",
            "dash": "solid"
           },
           "mode": "lines",
           "name": "Revenue",
           "orientation": "v",
           "showlegend": true,
           "type": "scatter",
           "x": [
            2001,
            2002,
            2003,
            2004,
            2005,
            2006,
            2007,
            2008,
            2009,
            2010,
            2011,
            2012,
            2013,
            2014,
            2015,
            2016,
            2017,
            2018,
            2019,
            2020
           ],
           "xaxis": "x",
           "y": [
            880.4300168940073,
            968.7124505195776,
            842.6328723946191,
            765.1897032623847,
            574.8733602159533,
            972.8151917207485,
            588.4276685204212,
            979.1034747346382,
            608.8177682961339,
            588.1791137335471,
            817.1698586560286,
            550.4413829525761,
            852.5330578608041,
            851.2721944228123,
            707.1354337529764,
            696.7831962478999,
            698.6951449734439,
            870.159089447351,
            621.2895514477809,
            645.2210000000001
           ],
           "yaxis": "y"
          }
         ],
         "name": "GRUNDY"
        },
        {
         "data": [
          {
           "hovertemplate": "variable=85% Revenue<br>County=HAMILTON<br>Year=%{x}<br>value=%{y}<extra></extra>",
           "legendgroup": "85% Revenue",
           "line": {
            "color": "#636efa",
            "dash": "solid"
           },
           "mode": "lines",
           "name": "85% Revenue",
           "orientation": "v",
           "showlegend": true,
           "type": "scatter",
           "x": [
            2001,
            2002,
            2003,
            2004,
            2005,
            2006,
            2007,
            2008,
            2009,
            2010,
            2011,
            2012,
            2013,
            2014,
            2016,
            2017,
            2018,
            2020
           ],
           "xaxis": "x",
           "y": [
            554.9784500099541,
            685.373581443349,
            478.71178833069297,
            589.4460124793966,
            962.2724394623484,
            787.5326813109,
            496.64340597957846,
            852.8499791596003,
            723.7214705748395,
            771.9144489700045,
            672.5226607104469,
            522.53325,
            515.8974255963522,
            660.6973776609893,
            470.2888103384483,
            589.4612159002414,
            604.1161761215028,
            717.6899999999999
           ],
           "yaxis": "y"
          },
          {
           "hovertemplate": "variable=Revenue<br>County=HAMILTON<br>Year=%{x}<br>value=%{y}<extra></extra>",
           "legendgroup": "Revenue",
           "line": {
            "color": "#EF553B",
            "dash": "solid"
           },
           "mode": "lines",
           "name": "Revenue",
           "orientation": "v",
           "showlegend": true,
           "type": "scatter",
           "x": [
            2001,
            2002,
            2003,
            2004,
            2005,
            2006,
            2007,
            2008,
            2009,
            2010,
            2011,
            2012,
            2013,
            2014,
            2016,
            2017,
            2018,
            2020
           ],
           "xaxis": "x",
           "y": [
            554.9784500099541,
            685.373581443349,
            478.71178833069297,
            589.4460124793966,
            962.2724394623484,
            787.5326813109,
            496.64340597957846,
            852.8499791596003,
            723.7214705748395,
            771.9144489700045,
            672.5226607104469,
            334.9130334827699,
            515.8974255963522,
            660.6973776609893,
            470.2888103384483,
            589.4612159002414,
            604.1161761215028,
            717.6899999999999
           ],
           "yaxis": "y"
          }
         ],
         "name": "HAMILTON"
        },
        {
         "data": [
          {
           "hovertemplate": "variable=85% Revenue<br>County=HANCOCK<br>Year=%{x}<br>value=%{y}<extra></extra>",
           "legendgroup": "85% Revenue",
           "line": {
            "color": "#636efa",
            "dash": "solid"
           },
           "mode": "lines",
           "name": "85% Revenue",
           "orientation": "v",
           "showlegend": true,
           "type": "scatter",
           "x": [
            2001,
            2002,
            2003,
            2004,
            2005,
            2006,
            2007,
            2008,
            2009,
            2010,
            2011,
            2012,
            2013,
            2014,
            2015,
            2016,
            2017,
            2018,
            2020
           ],
           "xaxis": "x",
           "y": [
            528.5763037773164,
            989.0074257948935,
            602.0971238782324,
            1104.2395071774583,
            663.9825819736752,
            914.6353526607909,
            692.6825054086413,
            970.6113820756,
            553.0055951670745,
            689.4681285683575,
            686.1621857002942,
            680.8576500000001,
            569.3721868421054,
            668.2524229505589,
            729.755110267048,
            1006.67567446974,
            730.6439016108868,
            775.6401393352073,
            990.56
           ],
           "yaxis": "y"
          },
          {
           "hovertemplate": "variable=Revenue<br>County=HANCOCK<br>Year=%{x}<br>value=%{y}<extra></extra>",
           "legendgroup": "Revenue",
           "line": {
            "color": "#EF553B",
            "dash": "solid"
           },
           "mode": "lines",
           "name": "Revenue",
           "orientation": "v",
           "showlegend": true,
           "type": "scatter",
           "x": [
            2001,
            2002,
            2003,
            2004,
            2005,
            2006,
            2007,
            2008,
            2009,
            2010,
            2011,
            2012,
            2013,
            2014,
            2015,
            2016,
            2017,
            2018,
            2020
           ],
           "xaxis": "x",
           "y": [
            528.5763037773164,
            989.0074257948935,
            602.0971238782324,
            1104.2395071774583,
            663.9825819736752,
            914.6353526607909,
            692.6825054086413,
            970.6113820756,
            553.0055951670745,
            689.4681285683575,
            686.1621857002942,
            616.9870253261458,
            510.9651634939976,
            668.2524229505589,
            729.755110267048,
            1006.67567446974,
            730.6439016108868,
            775.6401393352073,
            990.56
           ],
           "yaxis": "y"
          }
         ],
         "name": "HANCOCK"
        },
        {
         "data": [
          {
           "hovertemplate": "variable=85% Revenue<br>County=HARDIN<br>Year=%{x}<br>value=%{y}<extra></extra>",
           "legendgroup": "85% Revenue",
           "line": {
            "color": "#636efa",
            "dash": "solid"
           },
           "mode": "lines",
           "name": "85% Revenue",
           "orientation": "v",
           "showlegend": true,
           "type": "scatter",
           "x": [
            2001,
            2002,
            2003,
            2004,
            2005,
            2006,
            2007,
            2010,
            2015,
            2016,
            2018,
            2019,
            2020
           ],
           "xaxis": "x",
           "y": [
            820.1019674802067,
            386.16496614987744,
            770.4078170877701,
            486.8008190046959,
            597.3543258562072,
            724.813536337456,
            408.2787263456576,
            382.7955604606785,
            454.69684092061306,
            572.9660133563727,
            661.067961041967,
            758.4171159971227,
            537.5730000000001
           ],
           "yaxis": "y"
          },
          {
           "hovertemplate": "variable=Revenue<br>County=HARDIN<br>Year=%{x}<br>value=%{y}<extra></extra>",
           "legendgroup": "Revenue",
           "line": {
            "color": "#EF553B",
            "dash": "solid"
           },
           "mode": "lines",
           "name": "Revenue",
           "orientation": "v",
           "showlegend": true,
           "type": "scatter",
           "x": [
            2001,
            2002,
            2003,
            2004,
            2005,
            2006,
            2007,
            2010,
            2015,
            2016,
            2018,
            2019,
            2020
           ],
           "xaxis": "x",
           "y": [
            820.1019674802067,
            386.16496614987744,
            770.4078170877701,
            486.8008190046959,
            597.3543258562072,
            724.813536337456,
            408.2787263456576,
            382.7955604606785,
            454.69684092061306,
            572.9660133563727,
            661.067961041967,
            758.4171159971227,
            537.5730000000001
           ],
           "yaxis": "y"
          }
         ],
         "name": "HARDIN"
        },
        {
         "data": [
          {
           "hovertemplate": "variable=85% Revenue<br>County=HENDERSON<br>Year=%{x}<br>value=%{y}<extra></extra>",
           "legendgroup": "85% Revenue",
           "line": {
            "color": "#636efa",
            "dash": "solid"
           },
           "mode": "lines",
           "name": "85% Revenue",
           "orientation": "v",
           "showlegend": true,
           "type": "scatter",
           "x": [
            2001,
            2002,
            2003,
            2004,
            2005,
            2006,
            2007,
            2008,
            2009,
            2010,
            2011,
            2012,
            2013,
            2014,
            2015,
            2016,
            2017,
            2018,
            2020
           ],
           "xaxis": "x",
           "y": [
            1099.5423891360042,
            1067.4272800363115,
            800.7117035171966,
            727.6095002444603,
            979.1337350119053,
            601.6683775691513,
            709.3626587579533,
            689.2003591760035,
            650.8454569992227,
            588.4635767739267,
            899.3827394472185,
            684.7821,
            855.2733613477411,
            736.4696298734704,
            656.7330248520899,
            1036.249353976255,
            954.1886021563429,
            1039.31595679033,
            909.7790000000001
           ],
           "yaxis": "y"
          },
          {
           "hovertemplate": "variable=Revenue<br>County=HENDERSON<br>Year=%{x}<br>value=%{y}<extra></extra>",
           "legendgroup": "Revenue",
           "line": {
            "color": "#EF553B",
            "dash": "solid"
           },
           "mode": "lines",
           "name": "Revenue",
           "orientation": "v",
           "showlegend": true,
           "type": "scatter",
           "x": [
            2001,
            2002,
            2003,
            2004,
            2005,
            2006,
            2007,
            2008,
            2009,
            2010,
            2011,
            2012,
            2013,
            2014,
            2015,
            2016,
            2017,
            2018,
            2020
           ],
           "xaxis": "x",
           "y": [
            1099.5423891360042,
            1067.4272800363115,
            800.7117035171966,
            727.6095002444603,
            979.1337350119053,
            601.6683775691513,
            709.3626587579533,
            689.2003591760035,
            650.8454569992227,
            588.4635767739267,
            899.3827394472185,
            676.0091077486604,
            855.2733613477411,
            736.4696298734704,
            656.7330248520899,
            1036.249353976255,
            954.1886021563429,
            1039.31595679033,
            909.7790000000001
           ],
           "yaxis": "y"
          }
         ],
         "name": "HENDERSON"
        },
        {
         "data": [
          {
           "hovertemplate": "variable=85% Revenue<br>County=HENRY<br>Year=%{x}<br>value=%{y}<extra></extra>",
           "legendgroup": "85% Revenue",
           "line": {
            "color": "#636efa",
            "dash": "solid"
           },
           "mode": "lines",
           "name": "85% Revenue",
           "orientation": "v",
           "showlegend": true,
           "type": "scatter",
           "x": [
            2001,
            2002,
            2003,
            2004,
            2005,
            2006,
            2007,
            2008,
            2009,
            2010,
            2011,
            2012,
            2013,
            2014,
            2015,
            2016,
            2017,
            2018,
            2019,
            2020
           ],
           "xaxis": "x",
           "y": [
            608.2527045215786,
            761.2955752036509,
            778.5825810966993,
            1059.291726508631,
            926.8090206715884,
            827.294019157583,
            859.7662844716249,
            833.5488755707386,
            544.4582858226569,
            1104.0032059540972,
            813.8331965027115,
            697.374765,
            601.3162370665884,
            650.5734682401282,
            948.2527145951284,
            1085.106473185065,
            707.4105577793174,
            655.4138043535618,
            800.4662053170679,
            689.724
           ],
           "yaxis": "y"
          },
          {
           "hovertemplate": "variable=Revenue<br>County=HENRY<br>Year=%{x}<br>value=%{y}<extra></extra>",
           "legendgroup": "Revenue",
           "line": {
            "color": "#EF553B",
            "dash": "solid"
           },
           "mode": "lines",
           "name": "Revenue",
           "orientation": "v",
           "showlegend": true,
           "type": "scatter",
           "x": [
            2001,
            2002,
            2003,
            2004,
            2005,
            2006,
            2007,
            2008,
            2009,
            2010,
            2011,
            2012,
            2013,
            2014,
            2015,
            2016,
            2017,
            2018,
            2019,
            2020
           ],
           "xaxis": "x",
           "y": [
            608.2527045215786,
            761.2955752036509,
            778.5825810966993,
            1059.291726508631,
            926.8090206715884,
            827.294019157583,
            859.7662844716249,
            833.5488755707386,
            544.4582858226569,
            1104.0032059540972,
            813.8331965027115,
            653.3940805055888,
            601.3162370665884,
            650.5734682401282,
            948.2527145951284,
            1085.106473185065,
            707.4105577793174,
            655.4138043535618,
            800.4662053170679,
            689.724
           ],
           "yaxis": "y"
          }
         ],
         "name": "HENRY"
        },
        {
         "data": [
          {
           "hovertemplate": "variable=85% Revenue<br>County=IROQUOIS<br>Year=%{x}<br>value=%{y}<extra></extra>",
           "legendgroup": "85% Revenue",
           "line": {
            "color": "#636efa",
            "dash": "solid"
           },
           "mode": "lines",
           "name": "85% Revenue",
           "orientation": "v",
           "showlegend": true,
           "type": "scatter",
           "x": [
            2001,
            2002,
            2003,
            2004,
            2005,
            2006,
            2007,
            2008,
            2009,
            2010,
            2011,
            2012,
            2013,
            2014,
            2015,
            2016,
            2017,
            2018,
            2019,
            2020
           ],
           "xaxis": "x",
           "y": [
            1066.6236616941262,
            1090.4476327178052,
            448.7840154718399,
            1039.4788096244456,
            609.0903207838645,
            690.7810259276075,
            889.324766598452,
            568.3678,
            497.7252158084032,
            494.7692750000001,
            573.898325,
            887.0881759378265,
            703.0828969207619,
            766.2671205035716,
            912.4400660174282,
            945.5882616638665,
            598.0881262336464,
            902.9634658135788,
            726.0133728078906,
            519.2
           ],
           "yaxis": "y"
          },
          {
           "hovertemplate": "variable=Revenue<br>County=IROQUOIS<br>Year=%{x}<br>value=%{y}<extra></extra>",
           "legendgroup": "Revenue",
           "line": {
            "color": "#EF553B",
            "dash": "solid"
           },
           "mode": "lines",
           "name": "Revenue",
           "orientation": "v",
           "showlegend": true,
           "type": "scatter",
           "x": [
            2001,
            2002,
            2003,
            2004,
            2005,
            2006,
            2007,
            2008,
            2009,
            2010,
            2011,
            2012,
            2013,
            2014,
            2015,
            2016,
            2017,
            2018,
            2019,
            2020
           ],
           "xaxis": "x",
           "y": [
            1066.6236616941262,
            1090.4476327178052,
            448.7840154718399,
            1039.4788096244456,
            609.0903207838645,
            690.7810259276075,
            889.324766598452,
            489.843310766585,
            497.7252158084032,
            469.219203966036,
            572.3003058216481,
            887.0881759378265,
            703.0828969207619,
            766.2671205035716,
            912.4400660174282,
            945.5882616638665,
            598.0881262336464,
            902.9634658135788,
            726.0133728078906,
            519.2
           ],
           "yaxis": "y"
          }
         ],
         "name": "IROQUOIS"
        },
        {
         "data": [
          {
           "hovertemplate": "variable=85% Revenue<br>County=JACKSON<br>Year=%{x}<br>value=%{y}<extra></extra>",
           "legendgroup": "85% Revenue",
           "line": {
            "color": "#636efa",
            "dash": "solid"
           },
           "mode": "lines",
           "name": "85% Revenue",
           "orientation": "v",
           "showlegend": true,
           "type": "scatter",
           "x": [
            2001,
            2002,
            2003,
            2004,
            2005,
            2006,
            2007,
            2008,
            2009,
            2010,
            2011,
            2012,
            2013,
            2014,
            2017,
            2018,
            2019,
            2020
           ],
           "xaxis": "x",
           "y": [
            634.4988944379421,
            574.2926925873732,
            711.3460693002511,
            748.9714662313642,
            888.7492275945,
            786.9906767126131,
            730.4571772325879,
            798.9689406400554,
            530.1249511876612,
            525.5976687396652,
            468.08801111111114,
            596.5442297306698,
            587.3169291087703,
            716.3565431993186,
            809.8086504383557,
            517.5070979506249,
            489.758111052186,
            761.748
           ],
           "yaxis": "y"
          },
          {
           "hovertemplate": "variable=Revenue<br>County=JACKSON<br>Year=%{x}<br>value=%{y}<extra></extra>",
           "legendgroup": "Revenue",
           "line": {
            "color": "#EF553B",
            "dash": "solid"
           },
           "mode": "lines",
           "name": "Revenue",
           "orientation": "v",
           "showlegend": true,
           "type": "scatter",
           "x": [
            2001,
            2002,
            2003,
            2004,
            2005,
            2006,
            2007,
            2008,
            2009,
            2010,
            2011,
            2012,
            2013,
            2014,
            2017,
            2018,
            2019,
            2020
           ],
           "xaxis": "x",
           "y": [
            634.4988944379421,
            574.2926925873732,
            711.3460693002511,
            748.9714662313642,
            888.7492275945,
            786.9906767126131,
            730.4571772325879,
            798.9689406400554,
            530.1249511876612,
            525.5976687396652,
            388.6358092066604,
            596.5442297306698,
            587.3169291087703,
            716.3565431993186,
            809.8086504383557,
            517.5070979506249,
            489.758111052186,
            761.748
           ],
           "yaxis": "y"
          }
         ],
         "name": "JACKSON"
        },
        {
         "data": [
          {
           "hovertemplate": "variable=85% Revenue<br>County=JASPER<br>Year=%{x}<br>value=%{y}<extra></extra>",
           "legendgroup": "85% Revenue",
           "line": {
            "color": "#636efa",
            "dash": "solid"
           },
           "mode": "lines",
           "name": "85% Revenue",
           "orientation": "v",
           "showlegend": true,
           "type": "scatter",
           "x": [
            2001,
            2002,
            2003,
            2004,
            2005,
            2006,
            2007,
            2008,
            2009,
            2010,
            2011,
            2012,
            2013,
            2014,
            2015,
            2016,
            2017,
            2018,
            2019,
            2020
           ],
           "xaxis": "x",
           "y": [
            1048.8385714616375,
            538.2645288741317,
            663.248779480769,
            1075.8839840126989,
            599.4337395746245,
            610.1685844920629,
            441.3276763303954,
            532.19894,
            639.7422371021561,
            790.2949102771346,
            689.7844753923703,
            792.5855887436998,
            600.5458946216185,
            855.8410525692174,
            905.3742860419009,
            863.7269769167274,
            965.3759420829253,
            635.245666751604,
            520.459025983878,
            718.24
           ],
           "yaxis": "y"
          },
          {
           "hovertemplate": "variable=Revenue<br>County=JASPER<br>Year=%{x}<br>value=%{y}<extra></extra>",
           "legendgroup": "Revenue",
           "line": {
            "color": "#EF553B",
            "dash": "solid"
           },
           "mode": "lines",
           "name": "Revenue",
           "orientation": "v",
           "showlegend": true,
           "type": "scatter",
           "x": [
            2001,
            2002,
            2003,
            2004,
            2005,
            2006,
            2007,
            2008,
            2009,
            2010,
            2011,
            2012,
            2013,
            2014,
            2015,
            2016,
            2017,
            2018,
            2019,
            2020
           ],
           "xaxis": "x",
           "y": [
            1048.8385714616375,
            538.2645288741317,
            663.248779480769,
            1075.8839840126989,
            599.4337395746245,
            610.1685844920629,
            441.3276763303954,
            460.7712831768634,
            639.7422371021561,
            790.2949102771346,
            689.7844753923703,
            792.5855887436998,
            600.5458946216185,
            855.8410525692174,
            905.3742860419009,
            863.7269769167274,
            965.3759420829253,
            635.245666751604,
            520.459025983878,
            718.24
           ],
           "yaxis": "y"
          }
         ],
         "name": "JASPER"
        },
        {
         "data": [
          {
           "hovertemplate": "variable=85% Revenue<br>County=JEFFERSON<br>Year=%{x}<br>value=%{y}<extra></extra>",
           "legendgroup": "85% Revenue",
           "line": {
            "color": "#636efa",
            "dash": "solid"
           },
           "mode": "lines",
           "name": "85% Revenue",
           "orientation": "v",
           "showlegend": true,
           "type": "scatter",
           "x": [
            2001,
            2002,
            2003,
            2004,
            2005,
            2006,
            2007,
            2008,
            2009,
            2010,
            2011,
            2012,
            2013,
            2014,
            2015,
            2016,
            2017,
            2018,
            2019,
            2020
           ],
           "xaxis": "x",
           "y": [
            882.1811013964214,
            344.9844065454724,
            361.46304202161167,
            538.4279021205105,
            658.9245672662706,
            448.00402350105816,
            308.75081249999994,
            791.785510134334,
            436.85315351228576,
            492.3024207788213,
            461.45278174434475,
            533.000340089556,
            742.1877751935643,
            852.2812831768634,
            730.7735635449599,
            758.5744816883391,
            459.5883213141907,
            827.5281630199416,
            476.9855514477809,
            542.633
           ],
           "yaxis": "y"
          },
          {
           "hovertemplate": "variable=Revenue<br>County=JEFFERSON<br>Year=%{x}<br>value=%{y}<extra></extra>",
           "legendgroup": "Revenue",
           "line": {
            "color": "#EF553B",
            "dash": "solid"
           },
           "mode": "lines",
           "name": "Revenue",
           "orientation": "v",
           "showlegend": true,
           "type": "scatter",
           "x": [
            2001,
            2002,
            2003,
            2004,
            2005,
            2006,
            2007,
            2008,
            2009,
            2010,
            2011,
            2012,
            2013,
            2014,
            2015,
            2016,
            2017,
            2018,
            2019,
            2020
           ],
           "xaxis": "x",
           "y": [
            882.1811013964214,
            344.9844065454724,
            361.46304202161167,
            538.4279021205105,
            658.9245672662706,
            448.00402350105816,
            289.672977171539,
            791.785510134334,
            436.85315351228576,
            492.3024207788213,
            461.45278174434475,
            533.000340089556,
            742.1877751935643,
            852.2812831768634,
            730.7735635449599,
            758.5744816883391,
            459.5883213141907,
            827.5281630199416,
            476.9855514477809,
            542.633
           ],
           "yaxis": "y"
          }
         ],
         "name": "JEFFERSON"
        },
        {
         "data": [
          {
           "hovertemplate": "variable=85% Revenue<br>County=JERSEY<br>Year=%{x}<br>value=%{y}<extra></extra>",
           "legendgroup": "85% Revenue",
           "line": {
            "color": "#636efa",
            "dash": "solid"
           },
           "mode": "lines",
           "name": "85% Revenue",
           "orientation": "v",
           "showlegend": true,
           "type": "scatter",
           "x": [
            2001,
            2002,
            2003,
            2004,
            2005,
            2006,
            2007,
            2008,
            2009,
            2010,
            2011,
            2012,
            2013,
            2014,
            2015,
            2016,
            2017,
            2019,
            2020
           ],
           "xaxis": "x",
           "y": [
            690.7750767635754,
            896.7215616636017,
            442.43420352754794,
            855.8168054646468,
            921.3123704880445,
            505.5719269370327,
            534.2379674090712,
            956.9438963904356,
            496.35764574823065,
            748.7911335132944,
            863.109194677624,
            777.5885049345854,
            850.5193199631588,
            499.8896051487862,
            683.4490642841787,
            569.4498379281698,
            503.51268779054493,
            861.3151777273464,
            682.446
           ],
           "yaxis": "y"
          },
          {
           "hovertemplate": "variable=Revenue<br>County=JERSEY<br>Year=%{x}<br>value=%{y}<extra></extra>",
           "legendgroup": "Revenue",
           "line": {
            "color": "#EF553B",
            "dash": "solid"
           },
           "mode": "lines",
           "name": "Revenue",
           "orientation": "v",
           "showlegend": true,
           "type": "scatter",
           "x": [
            2001,
            2002,
            2003,
            2004,
            2005,
            2006,
            2007,
            2008,
            2009,
            2010,
            2011,
            2012,
            2013,
            2014,
            2015,
            2016,
            2017,
            2019,
            2020
           ],
           "xaxis": "x",
           "y": [
            690.7750767635754,
            896.7215616636017,
            442.43420352754794,
            855.8168054646468,
            921.3123704880445,
            505.5719269370327,
            534.2379674090712,
            956.9438963904356,
            496.35764574823065,
            748.7911335132944,
            863.109194677624,
            777.5885049345854,
            850.5193199631588,
            499.8896051487862,
            683.4490642841787,
            569.4498379281698,
            503.51268779054493,
            861.3151777273464,
            682.446
           ],
           "yaxis": "y"
          }
         ],
         "name": "JERSEY"
        },
        {
         "data": [
          {
           "hovertemplate": "variable=85% Revenue<br>County=JO DAVIESS<br>Year=%{x}<br>value=%{y}<extra></extra>",
           "legendgroup": "85% Revenue",
           "line": {
            "color": "#636efa",
            "dash": "solid"
           },
           "mode": "lines",
           "name": "85% Revenue",
           "orientation": "v",
           "showlegend": true,
           "type": "scatter",
           "x": [
            2001,
            2002,
            2003,
            2004,
            2005,
            2006,
            2007,
            2008,
            2009,
            2010,
            2011,
            2012,
            2013,
            2014,
            2015,
            2016,
            2017,
            2019,
            2020
           ],
           "xaxis": "x",
           "y": [
            907.36617644745,
            1158.7366475526155,
            593.871603960728,
            896.9430261824191,
            869.5063801231064,
            876.2939961661483,
            682.5941805361133,
            915.7455023243598,
            842.758258487747,
            787.8978675059527,
            718.1452023601923,
            706.3375975936237,
            558.0296526315789,
            814.3097540272173,
            696.1676192902968,
            565.826011969773,
            685.9897735521528,
            832.3113406198823,
            667.535
           ],
           "yaxis": "y"
          },
          {
           "hovertemplate": "variable=Revenue<br>County=JO DAVIESS<br>Year=%{x}<br>value=%{y}<extra></extra>",
           "legendgroup": "Revenue",
           "line": {
            "color": "#EF553B",
            "dash": "solid"
           },
           "mode": "lines",
           "name": "Revenue",
           "orientation": "v",
           "showlegend": true,
           "type": "scatter",
           "x": [
            2001,
            2002,
            2003,
            2004,
            2005,
            2006,
            2007,
            2008,
            2009,
            2010,
            2011,
            2012,
            2013,
            2014,
            2015,
            2016,
            2017,
            2019,
            2020
           ],
           "xaxis": "x",
           "y": [
            907.36617644745,
            1158.7366475526155,
            593.871603960728,
            896.9430261824191,
            869.5063801231064,
            876.2939961661483,
            682.5941805361133,
            915.7455023243598,
            842.758258487747,
            787.8978675059527,
            718.1452023601923,
            706.3375975936237,
            544.986225570871,
            814.3097540272173,
            696.1676192902968,
            565.826011969773,
            685.9897735521528,
            832.3113406198823,
            667.535
           ],
           "yaxis": "y"
          }
         ],
         "name": "JO DAVIESS"
        },
        {
         "data": [
          {
           "hovertemplate": "variable=85% Revenue<br>County=JOHNSON<br>Year=%{x}<br>value=%{y}<extra></extra>",
           "legendgroup": "85% Revenue",
           "line": {
            "color": "#636efa",
            "dash": "solid"
           },
           "mode": "lines",
           "name": "85% Revenue",
           "orientation": "v",
           "showlegend": true,
           "type": "scatter",
           "x": [
            2001,
            2002,
            2003,
            2004,
            2005,
            2006,
            2007,
            2008,
            2009,
            2010,
            2011,
            2014,
            2015,
            2017,
            2020
           ],
           "xaxis": "x",
           "y": [
            489.5829001680169,
            495.56466291775223,
            472.82332963378843,
            1002.1026270795685,
            575.6625819736753,
            792.1265985417353,
            513.2208419961305,
            716.4810411090679,
            520.9641768503702,
            407.6962877751503,
            733.689339523662,
            467.98773424747,
            778.5644929648124,
            745.6565883614821,
            707.4
           ],
           "yaxis": "y"
          },
          {
           "hovertemplate": "variable=Revenue<br>County=JOHNSON<br>Year=%{x}<br>value=%{y}<extra></extra>",
           "legendgroup": "Revenue",
           "line": {
            "color": "#EF553B",
            "dash": "solid"
           },
           "mode": "lines",
           "name": "Revenue",
           "orientation": "v",
           "showlegend": true,
           "type": "scatter",
           "x": [
            2001,
            2002,
            2003,
            2004,
            2005,
            2006,
            2007,
            2008,
            2009,
            2010,
            2011,
            2014,
            2015,
            2017,
            2020
           ],
           "xaxis": "x",
           "y": [
            489.5829001680169,
            495.56466291775223,
            472.82332963378843,
            1002.1026270795685,
            575.6625819736753,
            792.1265985417353,
            513.2208419961305,
            716.4810411090679,
            520.9641768503702,
            407.6962877751503,
            733.689339523662,
            467.98773424747,
            778.5644929648124,
            745.6565883614821,
            707.4
           ],
           "yaxis": "y"
          }
         ],
         "name": "JOHNSON"
        },
        {
         "data": [
          {
           "hovertemplate": "variable=85% Revenue<br>County=KANE<br>Year=%{x}<br>value=%{y}<extra></extra>",
           "legendgroup": "85% Revenue",
           "line": {
            "color": "#636efa",
            "dash": "solid"
           },
           "mode": "lines",
           "name": "85% Revenue",
           "orientation": "v",
           "showlegend": true,
           "type": "scatter",
           "x": [
            2001,
            2002,
            2003,
            2004,
            2005,
            2006,
            2007,
            2008,
            2009,
            2010,
            2011,
            2012,
            2013,
            2014,
            2015,
            2016,
            2017,
            2018,
            2019,
            2020
           ],
           "xaxis": "x",
           "y": [
            696.9633825496558,
            707.2586413129172,
            555.6711061783845,
            773.5945479605792,
            524.964690252662,
            625.5943453811427,
            930.7506691218828,
            694.1992321572192,
            492.60841618053433,
            917.2702633052778,
            677.6763215690024,
            661.5968624999999,
            761.2947520747238,
            705.3925007747866,
            859.6639871532507,
            684.0810307095707,
            670.3725991638997,
            499.6591113988359,
            419.16684009990735,
            518.256
           ],
           "yaxis": "y"
          },
          {
           "hovertemplate": "variable=Revenue<br>County=KANE<br>Year=%{x}<br>value=%{y}<extra></extra>",
           "legendgroup": "Revenue",
           "line": {
            "color": "#EF553B",
            "dash": "solid"
           },
           "mode": "lines",
           "name": "Revenue",
           "orientation": "v",
           "showlegend": true,
           "type": "scatter",
           "x": [
            2001,
            2002,
            2003,
            2004,
            2005,
            2006,
            2007,
            2008,
            2009,
            2010,
            2011,
            2012,
            2013,
            2014,
            2015,
            2016,
            2017,
            2018,
            2019,
            2020
           ],
           "xaxis": "x",
           "y": [
            696.9633825496558,
            707.2586413129172,
            555.6711061783845,
            773.5945479605792,
            524.964690252662,
            625.5943453811427,
            930.7506691218828,
            694.1992321572192,
            492.60841618053433,
            917.2702633052778,
            677.6763215690024,
            454.5026383767444,
            761.2947520747238,
            705.3925007747866,
            859.6639871532507,
            684.0810307095707,
            670.3725991638997,
            499.6591113988359,
            419.16684009990735,
            518.256
           ],
           "yaxis": "y"
          }
         ],
         "name": "KANE"
        },
        {
         "data": [
          {
           "hovertemplate": "variable=85% Revenue<br>County=KANKAKEE<br>Year=%{x}<br>value=%{y}<extra></extra>",
           "legendgroup": "85% Revenue",
           "line": {
            "color": "#636efa",
            "dash": "solid"
           },
           "mode": "lines",
           "name": "85% Revenue",
           "orientation": "v",
           "showlegend": true,
           "type": "scatter",
           "x": [
            2001,
            2002,
            2003,
            2004,
            2005,
            2006,
            2007,
            2008,
            2009,
            2010,
            2011,
            2012,
            2013,
            2014,
            2015,
            2016,
            2017,
            2018,
            2019,
            2020
           ],
           "xaxis": "x",
           "y": [
            708.3065677403264,
            780.7895418838544,
            688.8592735773693,
            815.8178327077185,
            659.9270204167766,
            589.3625017228982,
            1073.7439920419172,
            935.3674648447645,
            708.5933986080923,
            804.3012731951517,
            574.3480003822176,
            677.2157515088297,
            592.2825405535253,
            547.7969677201534,
            533.3331693514782,
            829.8318301181955,
            862.8495450244063,
            854.1864290272836,
            724.6357327334645,
            435.78000000000003
           ],
           "yaxis": "y"
          },
          {
           "hovertemplate": "variable=Revenue<br>County=KANKAKEE<br>Year=%{x}<br>value=%{y}<extra></extra>",
           "legendgroup": "Revenue",
           "line": {
            "color": "#EF553B",
            "dash": "solid"
           },
           "mode": "lines",
           "name": "Revenue",
           "orientation": "v",
           "showlegend": true,
           "type": "scatter",
           "x": [
            2001,
            2002,
            2003,
            2004,
            2005,
            2006,
            2007,
            2008,
            2009,
            2010,
            2011,
            2012,
            2013,
            2014,
            2015,
            2016,
            2017,
            2018,
            2019,
            2020
           ],
           "xaxis": "x",
           "y": [
            708.3065677403264,
            780.7895418838544,
            688.8592735773693,
            815.8178327077185,
            659.9270204167766,
            589.3625017228982,
            1073.7439920419172,
            935.3674648447645,
            708.5933986080923,
            804.3012731951517,
            574.3480003822176,
            677.2157515088297,
            592.2825405535253,
            547.7969677201534,
            533.3331693514782,
            829.8318301181955,
            862.8495450244063,
            854.1864290272836,
            724.6357327334645,
            435.78000000000003
           ],
           "yaxis": "y"
          }
         ],
         "name": "KANKAKEE"
        },
        {
         "data": [
          {
           "hovertemplate": "variable=85% Revenue<br>County=KENDALL<br>Year=%{x}<br>value=%{y}<extra></extra>",
           "legendgroup": "85% Revenue",
           "line": {
            "color": "#636efa",
            "dash": "solid"
           },
           "mode": "lines",
           "name": "85% Revenue",
           "orientation": "v",
           "showlegend": true,
           "type": "scatter",
           "x": [
            2001,
            2002,
            2003,
            2004,
            2005,
            2006,
            2007,
            2008,
            2009,
            2010,
            2011,
            2012,
            2013,
            2017,
            2018,
            2019,
            2020
           ],
           "xaxis": "x",
           "y": [
            900.5210938056912,
            497.4967790067132,
            838.91889378021,
            776.1877945348234,
            665.580232284625,
            1012.8670353789931,
            571.5244911397247,
            770.9200676588397,
            597.2403324988259,
            624.126067750678,
            962.7848114139657,
            646.4569499999999,
            939.0756970226864,
            912.9670287570771,
            1040.5839475937562,
            642.9386476651564,
            835.416
           ],
           "yaxis": "y"
          },
          {
           "hovertemplate": "variable=Revenue<br>County=KENDALL<br>Year=%{x}<br>value=%{y}<extra></extra>",
           "legendgroup": "Revenue",
           "line": {
            "color": "#EF553B",
            "dash": "solid"
           },
           "mode": "lines",
           "name": "Revenue",
           "orientation": "v",
           "showlegend": true,
           "type": "scatter",
           "x": [
            2001,
            2002,
            2003,
            2004,
            2005,
            2006,
            2007,
            2008,
            2009,
            2010,
            2011,
            2012,
            2013,
            2017,
            2018,
            2019,
            2020
           ],
           "xaxis": "x",
           "y": [
            900.5210938056912,
            497.4967790067132,
            838.91889378021,
            776.1877945348234,
            665.580232284625,
            1012.8670353789931,
            571.5244911397247,
            770.9200676588397,
            597.2403324988259,
            624.126067750678,
            962.7848114139657,
            515.5355110113101,
            939.0756970226864,
            912.9670287570771,
            1040.5839475937562,
            642.9386476651564,
            835.416
           ],
           "yaxis": "y"
          }
         ],
         "name": "KENDALL"
        },
        {
         "data": [
          {
           "hovertemplate": "variable=85% Revenue<br>County=KNOX<br>Year=%{x}<br>value=%{y}<extra></extra>",
           "legendgroup": "85% Revenue",
           "line": {
            "color": "#636efa",
            "dash": "solid"
           },
           "mode": "lines",
           "name": "85% Revenue",
           "orientation": "v",
           "showlegend": true,
           "type": "scatter",
           "x": [
            2001,
            2002,
            2003,
            2004,
            2005,
            2006,
            2007,
            2008,
            2009,
            2010,
            2011,
            2012,
            2013,
            2014,
            2015,
            2016,
            2017,
            2018,
            2019,
            2020
           ],
           "xaxis": "x",
           "y": [
            777.1367861589554,
            1147.3676938821345,
            730.7868436375419,
            819.3081433113298,
            847.5242028698158,
            973.9190859601492,
            633.2082741076955,
            869.5344716147891,
            678.1345562090415,
            590.6775619391162,
            1062.8287493370922,
            721.1830950000002,
            768.5147957584496,
            1032.985815191547,
            850.9680577333984,
            978.9087660888285,
            614.7249104608109,
            858.4749974816125,
            455.8799777018652,
            699.448
           ],
           "yaxis": "y"
          },
          {
           "hovertemplate": "variable=Revenue<br>County=KNOX<br>Year=%{x}<br>value=%{y}<extra></extra>",
           "legendgroup": "Revenue",
           "line": {
            "color": "#EF553B",
            "dash": "solid"
           },
           "mode": "lines",
           "name": "Revenue",
           "orientation": "v",
           "showlegend": true,
           "type": "scatter",
           "x": [
            2001,
            2002,
            2003,
            2004,
            2005,
            2006,
            2007,
            2008,
            2009,
            2010,
            2011,
            2012,
            2013,
            2014,
            2015,
            2016,
            2017,
            2018,
            2019,
            2020
           ],
           "xaxis": "x",
           "y": [
            777.1367861589554,
            1147.3676938821345,
            730.7868436375419,
            819.3081433113298,
            847.5242028698158,
            973.9190859601492,
            633.2082741076955,
            869.5344716147891,
            678.1345562090415,
            590.6775619391162,
            1062.8287493370922,
            603.9785014680864,
            768.5147957584496,
            1032.985815191547,
            850.9680577333984,
            978.9087660888285,
            614.7249104608109,
            858.4749974816125,
            455.8799777018652,
            699.448
           ],
           "yaxis": "y"
          }
         ],
         "name": "KNOX"
        },
        {
         "data": [
          {
           "hovertemplate": "variable=85% Revenue<br>County=LA SALLE<br>Year=%{x}<br>value=%{y}<extra></extra>",
           "legendgroup": "85% Revenue",
           "line": {
            "color": "#636efa",
            "dash": "solid"
           },
           "mode": "lines",
           "name": "85% Revenue",
           "orientation": "v",
           "showlegend": true,
           "type": "scatter",
           "x": [
            2001,
            2002,
            2003,
            2004,
            2005,
            2006,
            2007,
            2008,
            2009,
            2010,
            2011,
            2012,
            2013,
            2014,
            2015,
            2016,
            2017,
            2018,
            2019,
            2020
           ],
           "xaxis": "x",
           "y": [
            809.16275765669,
            807.4954177301074,
            766.4462684131885,
            680.027407585422,
            702.5370893910805,
            703.0488833807128,
            477.12949699720537,
            645.9368636009656,
            607.1241768503703,
            680.5096326466697,
            948.3262783593324,
            922.289955220054,
            963.7955682706527,
            685.0146150386599,
            555.9078819585454,
            1044.7426840129635,
            537.6622611898107,
            1132.7465071981612,
            484.5488538947682,
            963.6990000000001
           ],
           "yaxis": "y"
          },
          {
           "hovertemplate": "variable=Revenue<br>County=LA SALLE<br>Year=%{x}<br>value=%{y}<extra></extra>",
           "legendgroup": "Revenue",
           "line": {
            "color": "#EF553B",
            "dash": "solid"
           },
           "mode": "lines",
           "name": "Revenue",
           "orientation": "v",
           "showlegend": true,
           "type": "scatter",
           "x": [
            2001,
            2002,
            2003,
            2004,
            2005,
            2006,
            2007,
            2008,
            2009,
            2010,
            2011,
            2012,
            2013,
            2014,
            2015,
            2016,
            2017,
            2018,
            2019,
            2020
           ],
           "xaxis": "x",
           "y": [
            809.16275765669,
            807.4954177301074,
            766.4462684131885,
            680.027407585422,
            702.5370893910805,
            703.0488833807128,
            477.12949699720537,
            645.9368636009656,
            607.1241768503703,
            680.5096326466697,
            948.3262783593324,
            922.289955220054,
            963.7955682706527,
            685.0146150386599,
            555.9078819585454,
            1044.7426840129635,
            537.6622611898107,
            1132.7465071981612,
            484.5488538947682,
            963.6990000000001
           ],
           "yaxis": "y"
          }
         ],
         "name": "LA SALLE"
        },
        {
         "data": [
          {
           "hovertemplate": "variable=85% Revenue<br>County=LAKE<br>Year=%{x}<br>value=%{y}<extra></extra>",
           "legendgroup": "85% Revenue",
           "line": {
            "color": "#636efa",
            "dash": "solid"
           },
           "mode": "lines",
           "name": "85% Revenue",
           "orientation": "v",
           "showlegend": true,
           "type": "scatter",
           "x": [
            2001,
            2002,
            2003,
            2004,
            2005,
            2006,
            2007,
            2008,
            2009,
            2010,
            2012,
            2014,
            2015,
            2016,
            2018,
            2019,
            2020
           ],
           "xaxis": "x",
           "y": [
            834.4681270336494,
            599.0299557296776,
            565.1417993879222,
            709.3475984498972,
            526.780301258929,
            557.5246442697928,
            669.9620531706792,
            715.5187948814734,
            504.9880212019147,
            491.9524469819432,
            693.1786881727626,
            662.5980062396983,
            711.7181136061412,
            815.9376192902969,
            405.08261617044775,
            510.59462697286534,
            858.8580000000001
           ],
           "yaxis": "y"
          },
          {
           "hovertemplate": "variable=Revenue<br>County=LAKE<br>Year=%{x}<br>value=%{y}<extra></extra>",
           "legendgroup": "Revenue",
           "line": {
            "color": "#EF553B",
            "dash": "solid"
           },
           "mode": "lines",
           "name": "Revenue",
           "orientation": "v",
           "showlegend": true,
           "type": "scatter",
           "x": [
            2001,
            2002,
            2003,
            2004,
            2005,
            2006,
            2007,
            2008,
            2009,
            2010,
            2012,
            2014,
            2015,
            2016,
            2018,
            2019,
            2020
           ],
           "xaxis": "x",
           "y": [
            834.4681270336494,
            599.0299557296776,
            565.1417993879222,
            709.3475984498972,
            526.780301258929,
            557.5246442697928,
            669.9620531706792,
            715.5187948814734,
            504.9880212019147,
            491.9524469819432,
            693.1786881727626,
            662.5980062396983,
            711.7181136061412,
            815.9376192902969,
            405.08261617044775,
            510.59462697286534,
            858.8580000000001
           ],
           "yaxis": "y"
          }
         ],
         "name": "LAKE"
        },
        {
         "data": [
          {
           "hovertemplate": "variable=85% Revenue<br>County=LAWRENCE<br>Year=%{x}<br>value=%{y}<extra></extra>",
           "legendgroup": "85% Revenue",
           "line": {
            "color": "#636efa",
            "dash": "solid"
           },
           "mode": "lines",
           "name": "85% Revenue",
           "orientation": "v",
           "showlegend": true,
           "type": "scatter",
           "x": [
            2001,
            2002,
            2003,
            2004,
            2005,
            2006,
            2007,
            2008,
            2009,
            2010,
            2011,
            2012,
            2013,
            2014,
            2015,
            2017,
            2018,
            2019,
            2020
           ],
           "xaxis": "x",
           "y": [
            1006.5704840941858,
            746.7400897732981,
            727.1049962935542,
            930.3434322182682,
            907.0362571367151,
            552.9043683725774,
            559.3052344563627,
            504.31351378450944,
            606.0985270134763,
            855.7779070654474,
            644.6144398652688,
            577.9957499999999,
            708.579365946028,
            649.6939510602552,
            474.64854697689987,
            494.68547696264625,
            787.7199242556717,
            783.7856710032409,
            674.834
           ],
           "yaxis": "y"
          },
          {
           "hovertemplate": "variable=Revenue<br>County=LAWRENCE<br>Year=%{x}<br>value=%{y}<extra></extra>",
           "legendgroup": "Revenue",
           "line": {
            "color": "#EF553B",
            "dash": "solid"
           },
           "mode": "lines",
           "name": "Revenue",
           "orientation": "v",
           "showlegend": true,
           "type": "scatter",
           "x": [
            2001,
            2002,
            2003,
            2004,
            2005,
            2006,
            2007,
            2008,
            2009,
            2010,
            2011,
            2012,
            2013,
            2014,
            2015,
            2017,
            2018,
            2019,
            2020
           ],
           "xaxis": "x",
           "y": [
            1006.5704840941858,
            746.7400897732981,
            727.1049962935542,
            930.3434322182682,
            907.0362571367151,
            552.9043683725774,
            559.3052344563627,
            504.31351378450944,
            606.0985270134763,
            855.7779070654474,
            644.6144398652688,
            558.3963387029564,
            708.579365946028,
            649.6939510602552,
            474.64854697689987,
            494.68547696264625,
            787.7199242556717,
            783.7856710032409,
            674.834
           ],
           "yaxis": "y"
          }
         ],
         "name": "LAWRENCE"
        },
        {
         "data": [
          {
           "hovertemplate": "variable=85% Revenue<br>County=LEE<br>Year=%{x}<br>value=%{y}<extra></extra>",
           "legendgroup": "85% Revenue",
           "line": {
            "color": "#636efa",
            "dash": "solid"
           },
           "mode": "lines",
           "name": "85% Revenue",
           "orientation": "v",
           "showlegend": true,
           "type": "scatter",
           "x": [
            2001,
            2002,
            2003,
            2004,
            2005,
            2006,
            2007,
            2008,
            2009,
            2010,
            2011,
            2012,
            2013,
            2014,
            2015,
            2016,
            2017,
            2018,
            2019,
            2020
           ],
           "xaxis": "x",
           "y": [
            963.1976901963916,
            1032.741124387856,
            470.877997771992,
            1076.0079663128508,
            967.2877940963355,
            977.7807916697861,
            893.1353682807393,
            854.5618766106883,
            839.4363343594813,
            589.3475209011839,
            794.5637354148255,
            788.3661643147033,
            902.9834372194753,
            1072.381549184205,
            528.2370445044314,
            1089.322216374297,
            1004.9930199071531,
            726.6904421288446,
            852.0326043280807,
            990.5350000000001
           ],
           "yaxis": "y"
          },
          {
           "hovertemplate": "variable=Revenue<br>County=LEE<br>Year=%{x}<br>value=%{y}<extra></extra>",
           "legendgroup": "Revenue",
           "line": {
            "color": "#EF553B",
            "dash": "solid"
           },
           "mode": "lines",
           "name": "Revenue",
           "orientation": "v",
           "showlegend": true,
           "type": "scatter",
           "x": [
            2001,
            2002,
            2003,
            2004,
            2005,
            2006,
            2007,
            2008,
            2009,
            2010,
            2011,
            2012,
            2013,
            2014,
            2015,
            2016,
            2017,
            2018,
            2019,
            2020
           ],
           "xaxis": "x",
           "y": [
            963.1976901963916,
            1032.741124387856,
            470.877997771992,
            1076.0079663128508,
            967.2877940963355,
            977.7807916697861,
            893.1353682807393,
            854.5618766106883,
            839.4363343594813,
            589.3475209011839,
            794.5637354148255,
            788.3661643147033,
            902.9834372194753,
            1072.381549184205,
            528.2370445044314,
            1089.322216374297,
            1004.9930199071531,
            726.6904421288446,
            852.0326043280807,
            990.5350000000001
           ],
           "yaxis": "y"
          }
         ],
         "name": "LEE"
        },
        {
         "data": [
          {
           "hovertemplate": "variable=85% Revenue<br>County=LIVINGSTON<br>Year=%{x}<br>value=%{y}<extra></extra>",
           "legendgroup": "85% Revenue",
           "line": {
            "color": "#636efa",
            "dash": "solid"
           },
           "mode": "lines",
           "name": "85% Revenue",
           "orientation": "v",
           "showlegend": true,
           "type": "scatter",
           "x": [
            2001,
            2002,
            2003,
            2004,
            2005,
            2006,
            2007,
            2008,
            2009,
            2010,
            2011,
            2012,
            2013,
            2014,
            2015,
            2016,
            2017,
            2018,
            2019,
            2020
           ],
           "xaxis": "x",
           "y": [
            994.0555743266747,
            1001.2188248059061,
            482.0485803678317,
            802.2869512232288,
            876.1981584927903,
            545.727848766155,
            781.8393241229577,
            871.2213170062832,
            811.3350620206031,
            513.947145,
            596.1433349999999,
            751.1314776915139,
            568.7446049999999,
            1026.8322920267874,
            664.6195568667736,
            548.4456907829882,
            856.6385124897479,
            901.7820848490641,
            547.193739284245,
            884.906
           ],
           "yaxis": "y"
          },
          {
           "hovertemplate": "variable=Revenue<br>County=LIVINGSTON<br>Year=%{x}<br>value=%{y}<extra></extra>",
           "legendgroup": "Revenue",
           "line": {
            "color": "#EF553B",
            "dash": "solid"
           },
           "mode": "lines",
           "name": "Revenue",
           "orientation": "v",
           "showlegend": true,
           "type": "scatter",
           "x": [
            2001,
            2002,
            2003,
            2004,
            2005,
            2006,
            2007,
            2008,
            2009,
            2010,
            2011,
            2012,
            2013,
            2014,
            2015,
            2016,
            2017,
            2018,
            2019,
            2020
           ],
           "xaxis": "x",
           "y": [
            994.0555743266747,
            1001.2188248059061,
            482.0485803678317,
            802.2869512232288,
            876.1981584927903,
            545.727848766155,
            781.8393241229577,
            871.2213170062832,
            811.3350620206031,
            512.6797819635888,
            575.3782545471922,
            751.1314776915139,
            567.9890761265459,
            1026.8322920267874,
            664.6195568667736,
            548.4456907829882,
            856.6385124897479,
            901.7820848490641,
            547.193739284245,
            884.906
           ],
           "yaxis": "y"
          }
         ],
         "name": "LIVINGSTON"
        },
        {
         "data": [
          {
           "hovertemplate": "variable=85% Revenue<br>County=LOGAN<br>Year=%{x}<br>value=%{y}<extra></extra>",
           "legendgroup": "85% Revenue",
           "line": {
            "color": "#636efa",
            "dash": "solid"
           },
           "mode": "lines",
           "name": "85% Revenue",
           "orientation": "v",
           "showlegend": true,
           "type": "scatter",
           "x": [
            2001,
            2002,
            2003,
            2004,
            2005,
            2006,
            2007,
            2008,
            2009,
            2010,
            2011,
            2012,
            2013,
            2014,
            2015,
            2016,
            2017,
            2018,
            2020
           ],
           "xaxis": "x",
           "y": [
            859.4734053218465,
            1076.6532287618554,
            916.4581157571761,
            974.592347715854,
            627.7903207838644,
            827.393835226106,
            612.6144872347376,
            633.007347368421,
            624.1511029311296,
            788.9301515597922,
            1079.4778676333585,
            729.1903500000002,
            682.4484439895,
            778.6167805769892,
            556.7352054444738,
            1077.3885828506513,
            896.1054504128745,
            652.9110243780342,
            1015.3519999999999
           ],
           "yaxis": "y"
          },
          {
           "hovertemplate": "variable=Revenue<br>County=LOGAN<br>Year=%{x}<br>value=%{y}<extra></extra>",
           "legendgroup": "Revenue",
           "line": {
            "color": "#EF553B",
            "dash": "solid"
           },
           "mode": "lines",
           "name": "Revenue",
           "orientation": "v",
           "showlegend": true,
           "type": "scatter",
           "x": [
            2001,
            2002,
            2003,
            2004,
            2005,
            2006,
            2007,
            2008,
            2009,
            2010,
            2011,
            2012,
            2013,
            2014,
            2015,
            2016,
            2017,
            2018,
            2020
           ],
           "xaxis": "x",
           "y": [
            859.4734053218465,
            1076.6532287618554,
            916.4581157571761,
            974.592347715854,
            627.7903207838644,
            827.393835226106,
            612.6144872347376,
            515.043310766585,
            624.1511029311296,
            788.9301515597922,
            1079.4778676333585,
            476.5867119493351,
            682.4484439895,
            778.6167805769892,
            556.7352054444738,
            1077.3885828506513,
            896.1054504128745,
            652.9110243780342,
            1015.3519999999999
           ],
           "yaxis": "y"
          }
         ],
         "name": "LOGAN"
        },
        {
         "data": [
          {
           "hovertemplate": "variable=85% Revenue<br>County=MACON<br>Year=%{x}<br>value=%{y}<extra></extra>",
           "legendgroup": "85% Revenue",
           "line": {
            "color": "#636efa",
            "dash": "solid"
           },
           "mode": "lines",
           "name": "85% Revenue",
           "orientation": "v",
           "showlegend": true,
           "type": "scatter",
           "x": [
            2001,
            2002,
            2003,
            2004,
            2005,
            2006,
            2007,
            2008,
            2009,
            2010,
            2011,
            2012,
            2013,
            2014,
            2015,
            2016,
            2017,
            2018,
            2019,
            2020
           ],
           "xaxis": "x",
           "y": [
            833.507441414842,
            909.094432564918,
            1007.8890892074043,
            1068.1142946163102,
            780.9227888965869,
            581.2838625610159,
            768.734172726139,
            767.7168557909913,
            589.6535445859182,
            1063.4941451364175,
            735.6295118320159,
            749.3737275000001,
            626.6692575000001,
            786.8275510092928,
            1091.8127720737152,
            901.8036461867185,
            827.6537528598618,
            759.2949327589457,
            756.1969550570803,
            991.473
           ],
           "yaxis": "y"
          },
          {
           "hovertemplate": "variable=Revenue<br>County=MACON<br>Year=%{x}<br>value=%{y}<extra></extra>",
           "legendgroup": "Revenue",
           "line": {
            "color": "#EF553B",
            "dash": "solid"
           },
           "mode": "lines",
           "name": "Revenue",
           "orientation": "v",
           "showlegend": true,
           "type": "scatter",
           "x": [
            2001,
            2002,
            2003,
            2004,
            2005,
            2006,
            2007,
            2008,
            2009,
            2010,
            2011,
            2012,
            2013,
            2014,
            2015,
            2016,
            2017,
            2018,
            2019,
            2020
           ],
           "xaxis": "x",
           "y": [
            833.507441414842,
            909.094432564918,
            1007.8890892074043,
            1068.1142946163102,
            780.9227888965869,
            581.2838625610159,
            768.734172726139,
            767.7168557909913,
            589.6535445859182,
            1063.4941451364175,
            735.6295118320159,
            610.8442092576227,
            591.8801565965672,
            786.8275510092928,
            1091.8127720737152,
            901.8036461867185,
            827.6537528598618,
            759.2949327589457,
            756.1969550570803,
            991.473
           ],
           "yaxis": "y"
          }
         ],
         "name": "MACON"
        },
        {
         "data": [
          {
           "hovertemplate": "variable=85% Revenue<br>County=MACOUPIN<br>Year=%{x}<br>value=%{y}<extra></extra>",
           "legendgroup": "85% Revenue",
           "line": {
            "color": "#636efa",
            "dash": "solid"
           },
           "mode": "lines",
           "name": "85% Revenue",
           "orientation": "v",
           "showlegend": true,
           "type": "scatter",
           "x": [
            2001,
            2002,
            2003,
            2004,
            2005,
            2006,
            2007,
            2008,
            2009,
            2010,
            2011,
            2012,
            2013,
            2014,
            2015,
            2016,
            2017,
            2018,
            2019,
            2020
           ],
           "xaxis": "x",
           "y": [
            1017.2789931174345,
            987.6011361028173,
            580.8466371531184,
            1067.4143327892052,
            853.721646257854,
            963.8093618573648,
            616.7047744084263,
            955.4357131522586,
            526.3364881472816,
            603.2733468595804,
            586.2248125,
            668.7916875,
            575.9403773143395,
            680.4969638151663,
            487.26991150076054,
            1017.6491332584826,
            607.9397912520008,
            585.5716801998149,
            675.3689458605066,
            822.2040000000001
           ],
           "yaxis": "y"
          },
          {
           "hovertemplate": "variable=Revenue<br>County=MACOUPIN<br>Year=%{x}<br>value=%{y}<extra></extra>",
           "legendgroup": "Revenue",
           "line": {
            "color": "#EF553B",
            "dash": "solid"
           },
           "mode": "lines",
           "name": "Revenue",
           "orientation": "v",
           "showlegend": true,
           "type": "scatter",
           "x": [
            2001,
            2002,
            2003,
            2004,
            2005,
            2006,
            2007,
            2008,
            2009,
            2010,
            2011,
            2012,
            2013,
            2014,
            2015,
            2016,
            2017,
            2018,
            2019,
            2020
           ],
           "xaxis": "x",
           "y": [
            1017.2789931174345,
            987.6011361028173,
            580.8466371531184,
            1067.4143327892052,
            853.721646257854,
            963.8093618573648,
            616.7047744084263,
            955.4357131522586,
            526.3364881472816,
            603.2733468595804,
            421.6208456463059,
            523.1162814436138,
            575.9403773143395,
            680.4969638151663,
            487.26991150076054,
            1017.6491332584826,
            607.9397912520008,
            585.5716801998149,
            675.3689458605066,
            822.2040000000001
           ],
           "yaxis": "y"
          }
         ],
         "name": "MACOUPIN"
        },
        {
         "data": [
          {
           "hovertemplate": "variable=85% Revenue<br>County=MADISON<br>Year=%{x}<br>value=%{y}<extra></extra>",
           "legendgroup": "85% Revenue",
           "line": {
            "color": "#636efa",
            "dash": "solid"
           },
           "mode": "lines",
           "name": "85% Revenue",
           "orientation": "v",
           "showlegend": true,
           "type": "scatter",
           "x": [
            2001,
            2002,
            2003,
            2004,
            2005,
            2006,
            2007,
            2008,
            2009,
            2010,
            2011,
            2012,
            2013,
            2014,
            2015,
            2016,
            2017,
            2018,
            2019,
            2020
           ],
           "xaxis": "x",
           "y": [
            834.8242714056316,
            653.1850884785366,
            493.1709070654473,
            594.9799756931012,
            694.2547741891822,
            554.8675225425952,
            683.9021791850814,
            779.6672696368144,
            853.799147562967,
            836.9763322795819,
            580.8982527221044,
            603.3187800000002,
            504.52974000000006,
            913.875943250281,
            595.153776891246,
            749.6053985725247,
            680.4126976804187,
            647.7209465538065,
            749.7838565405615,
            726.9119999999999
           ],
           "yaxis": "y"
          },
          {
           "hovertemplate": "variable=Revenue<br>County=MADISON<br>Year=%{x}<br>value=%{y}<extra></extra>",
           "legendgroup": "Revenue",
           "line": {
            "color": "#EF553B",
            "dash": "solid"
           },
           "mode": "lines",
           "name": "Revenue",
           "orientation": "v",
           "showlegend": true,
           "type": "scatter",
           "x": [
            2001,
            2002,
            2003,
            2004,
            2005,
            2006,
            2007,
            2008,
            2009,
            2010,
            2011,
            2012,
            2013,
            2014,
            2015,
            2016,
            2017,
            2018,
            2019,
            2020
           ],
           "xaxis": "x",
           "y": [
            834.8242714056316,
            653.1850884785366,
            493.1709070654473,
            594.9799756931012,
            694.2547741891822,
            554.8675225425952,
            683.9021791850814,
            779.6672696368144,
            853.799147562967,
            836.9763322795819,
            580.8982527221044,
            538.7426499998676,
            453.6800945196937,
            913.875943250281,
            595.153776891246,
            749.6053985725247,
            680.4126976804187,
            647.7209465538065,
            749.7838565405615,
            726.9119999999999
           ],
           "yaxis": "y"
          }
         ],
         "name": "MADISON"
        },
        {
         "data": [
          {
           "hovertemplate": "variable=85% Revenue<br>County=MARION<br>Year=%{x}<br>value=%{y}<extra></extra>",
           "legendgroup": "85% Revenue",
           "line": {
            "color": "#636efa",
            "dash": "solid"
           },
           "mode": "lines",
           "name": "85% Revenue",
           "orientation": "v",
           "showlegend": true,
           "type": "scatter",
           "x": [
            2001,
            2002,
            2003,
            2004,
            2005,
            2006,
            2007,
            2008,
            2009,
            2010,
            2011,
            2012,
            2013,
            2014,
            2015,
            2016,
            2017,
            2018,
            2019,
            2020
           ],
           "xaxis": "x",
           "y": [
            618.531236317018,
            759.1276938821346,
            511.1781968849293,
            890.6373763455252,
            529.1474193003834,
            802.8232101138962,
            587.7605196775578,
            933.6973919654736,
            699.743126177376,
            734.0719644166279,
            687.0632261723326,
            552.2355225,
            545.503554348386,
            811.7934151405846,
            526.0319213906342,
            764.7589033441365,
            575.4855922664693,
            1014.3927824020768,
            516.1786430668695,
            686.147
           ],
           "yaxis": "y"
          },
          {
           "hovertemplate": "variable=Revenue<br>County=MARION<br>Year=%{x}<br>value=%{y}<extra></extra>",
           "legendgroup": "Revenue",
           "line": {
            "color": "#EF553B",
            "dash": "solid"
           },
           "mode": "lines",
           "name": "Revenue",
           "orientation": "v",
           "showlegend": true,
           "type": "scatter",
           "x": [
            2001,
            2002,
            2003,
            2004,
            2005,
            2006,
            2007,
            2008,
            2009,
            2010,
            2011,
            2012,
            2013,
            2014,
            2015,
            2016,
            2017,
            2018,
            2019,
            2020
           ],
           "xaxis": "x",
           "y": [
            618.531236317018,
            759.1276938821346,
            511.1781968849293,
            890.6373763455252,
            529.1474193003834,
            802.8232101138962,
            587.7605196775578,
            933.6973919654736,
            699.743126177376,
            734.0719644166279,
            687.0632261723326,
            413.7542276507704,
            545.503554348386,
            811.7934151405846,
            526.0319213906342,
            764.7589033441365,
            575.4855922664693,
            1014.3927824020768,
            516.1786430668695,
            686.147
           ],
           "yaxis": "y"
          }
         ],
         "name": "MARION"
        },
        {
         "data": [
          {
           "hovertemplate": "variable=85% Revenue<br>County=MARSHALL<br>Year=%{x}<br>value=%{y}<extra></extra>",
           "legendgroup": "85% Revenue",
           "line": {
            "color": "#636efa",
            "dash": "solid"
           },
           "mode": "lines",
           "name": "85% Revenue",
           "orientation": "v",
           "showlegend": true,
           "type": "scatter",
           "x": [
            2001,
            2002,
            2003,
            2004,
            2005,
            2006,
            2007,
            2008,
            2009,
            2010,
            2011,
            2012,
            2013,
            2014,
            2015,
            2016,
            2017,
            2018,
            2019,
            2020
           ],
           "xaxis": "x",
           "y": [
            1027.6030216197,
            671.7062076873468,
            780.7456858173488,
            732.6079402934054,
            1060.9310059641837,
            1063.4194998059722,
            752.694019376827,
            714.7493779158011,
            901.9486378464183,
            717.1009035989482,
            820.2777659969905,
            883.2498455544676,
            767.804913014766,
            797.8575195145843,
            1040.920066017428,
            726.3849942699251,
            756.4026129587604,
            890.1661534767181,
            780.6336112255109,
            613.5480000000001
           ],
           "yaxis": "y"
          },
          {
           "hovertemplate": "variable=Revenue<br>County=MARSHALL<br>Year=%{x}<br>value=%{y}<extra></extra>",
           "legendgroup": "Revenue",
           "line": {
            "color": "#EF553B",
            "dash": "solid"
           },
           "mode": "lines",
           "name": "Revenue",
           "orientation": "v",
           "showlegend": true,
           "type": "scatter",
           "x": [
            2001,
            2002,
            2003,
            2004,
            2005,
            2006,
            2007,
            2008,
            2009,
            2010,
            2011,
            2012,
            2013,
            2014,
            2015,
            2016,
            2017,
            2018,
            2019,
            2020
           ],
           "xaxis": "x",
           "y": [
            1027.6030216197,
            671.7062076873468,
            780.7456858173488,
            732.6079402934054,
            1060.9310059641837,
            1063.4194998059722,
            752.694019376827,
            714.7493779158011,
            901.9486378464183,
            717.1009035989482,
            820.2777659969905,
            883.2498455544676,
            767.804913014766,
            797.8575195145843,
            1040.920066017428,
            726.3849942699251,
            756.4026129587604,
            890.1661534767181,
            780.6336112255109,
            613.5480000000001
           ],
           "yaxis": "y"
          }
         ],
         "name": "MARSHALL"
        },
        {
         "data": [
          {
           "hovertemplate": "variable=85% Revenue<br>County=MASON<br>Year=%{x}<br>value=%{y}<extra></extra>",
           "legendgroup": "85% Revenue",
           "line": {
            "color": "#636efa",
            "dash": "solid"
           },
           "mode": "lines",
           "name": "85% Revenue",
           "orientation": "v",
           "showlegend": true,
           "type": "scatter",
           "x": [
            2001,
            2002,
            2003,
            2004,
            2005,
            2006,
            2007,
            2008,
            2009,
            2010,
            2011,
            2012,
            2013,
            2014,
            2015,
            2016,
            2017,
            2019,
            2020
           ],
           "xaxis": "x",
           "y": [
            922.2517338801174,
            903.9246394878296,
            801.3822824272933,
            742.7595193309078,
            629.2172618268402,
            869.8966445246045,
            631.9746210591142,
            921.6083081563593,
            649.9667371480751,
            944.0133340128314,
            555.6424499999999,
            698.8475696572522,
            798.0032188008465,
            962.317507799623,
            748.5667621838413,
            973.5403168433098,
            1001.8493775335834,
            479.4779937958694,
            934.304
           ],
           "yaxis": "y"
          },
          {
           "hovertemplate": "variable=Revenue<br>County=MASON<br>Year=%{x}<br>value=%{y}<extra></extra>",
           "legendgroup": "Revenue",
           "line": {
            "color": "#EF553B",
            "dash": "solid"
           },
           "mode": "lines",
           "name": "Revenue",
           "orientation": "v",
           "showlegend": true,
           "type": "scatter",
           "x": [
            2001,
            2002,
            2003,
            2004,
            2005,
            2006,
            2007,
            2008,
            2009,
            2010,
            2011,
            2012,
            2013,
            2014,
            2015,
            2016,
            2017,
            2019,
            2020
           ],
           "xaxis": "x",
           "y": [
            922.2517338801174,
            903.9246394878296,
            801.3822824272933,
            742.7595193309078,
            629.2172618268402,
            869.8966445246045,
            631.9746210591142,
            921.6083081563593,
            649.9667371480751,
            944.0133340128314,
            543.6959018656987,
            698.8475696572522,
            798.0032188008465,
            962.317507799623,
            748.5667621838413,
            973.5403168433098,
            1001.8493775335834,
            479.4779937958694,
            934.304
           ],
           "yaxis": "y"
          }
         ],
         "name": "MASON"
        },
        {
         "data": [
          {
           "hovertemplate": "variable=85% Revenue<br>County=MASSAC<br>Year=%{x}<br>value=%{y}<extra></extra>",
           "legendgroup": "85% Revenue",
           "line": {
            "color": "#636efa",
            "dash": "solid"
           },
           "mode": "lines",
           "name": "85% Revenue",
           "orientation": "v",
           "showlegend": true,
           "type": "scatter",
           "x": [
            2001,
            2002,
            2003,
            2004,
            2005,
            2006,
            2007,
            2008,
            2009,
            2010,
            2011,
            2012,
            2013,
            2014,
            2015,
            2016,
            2019,
            2020
           ],
           "xaxis": "x",
           "y": [
            705.6461612659895,
            565.4033745204375,
            654.1241187140516,
            564.5029498366292,
            905.8182424293104,
            822.6792469001916,
            339.0082780126826,
            478.7659630300283,
            443.13008740301933,
            671.6983060764599,
            790.858463677409,
            519.33555,
            964.4438901507374,
            608.4306387233943,
            651.8345207737779,
            637.3054901916131,
            557.3138404465573,
            449.58
           ],
           "yaxis": "y"
          },
          {
           "hovertemplate": "variable=Revenue<br>County=MASSAC<br>Year=%{x}<br>value=%{y}<extra></extra>",
           "legendgroup": "Revenue",
           "line": {
            "color": "#EF553B",
            "dash": "solid"
           },
           "mode": "lines",
           "name": "Revenue",
           "orientation": "v",
           "showlegend": true,
           "type": "scatter",
           "x": [
            2001,
            2002,
            2003,
            2004,
            2005,
            2006,
            2007,
            2008,
            2009,
            2010,
            2011,
            2012,
            2013,
            2014,
            2015,
            2016,
            2019,
            2020
           ],
           "xaxis": "x",
           "y": [
            705.6461612659895,
            565.4033745204375,
            654.1241187140516,
            564.5029498366292,
            905.8182424293104,
            822.6792469001916,
            339.0082780126826,
            478.7659630300283,
            443.13008740301933,
            671.6983060764599,
            790.858463677409,
            431.54706211244115,
            964.4438901507374,
            608.4306387233943,
            651.8345207737779,
            637.3054901916131,
            557.3138404465573,
            449.58
           ],
           "yaxis": "y"
          }
         ],
         "name": "MASSAC"
        },
        {
         "data": [
          {
           "hovertemplate": "variable=85% Revenue<br>County=MCDONOUGH<br>Year=%{x}<br>value=%{y}<extra></extra>",
           "legendgroup": "85% Revenue",
           "line": {
            "color": "#636efa",
            "dash": "solid"
           },
           "mode": "lines",
           "name": "85% Revenue",
           "orientation": "v",
           "showlegend": true,
           "type": "scatter",
           "x": [
            2001,
            2002,
            2003,
            2004,
            2005,
            2006,
            2007,
            2008,
            2009,
            2010,
            2011,
            2012,
            2013,
            2014,
            2015,
            2016,
            2017,
            2018,
            2019,
            2020
           ],
           "xaxis": "x",
           "y": [
            708.585280000744,
            969.2810020591967,
            600.8915892177556,
            894.9304389882925,
            687.631079501207,
            755.7355869186122,
            602.7744872347375,
            659.0251197184335,
            782.1422449121302,
            622.7878427812685,
            865.4592477771677,
            718.7630175000002,
            708.1516647072722,
            802.3660614191413,
            561.0498589671109,
            929.1272705137904,
            975.7892809695581,
            679.8241987662875,
            664.0117852671142,
            823.04
           ],
           "yaxis": "y"
          },
          {
           "hovertemplate": "variable=Revenue<br>County=MCDONOUGH<br>Year=%{x}<br>value=%{y}<extra></extra>",
           "legendgroup": "Revenue",
           "line": {
            "color": "#EF553B",
            "dash": "solid"
           },
           "mode": "lines",
           "name": "Revenue",
           "orientation": "v",
           "showlegend": true,
           "type": "scatter",
           "x": [
            2001,
            2002,
            2003,
            2004,
            2005,
            2006,
            2007,
            2008,
            2009,
            2010,
            2011,
            2012,
            2013,
            2014,
            2015,
            2016,
            2017,
            2018,
            2019,
            2020
           ],
           "xaxis": "x",
           "y": [
            708.585280000744,
            969.2810020591967,
            600.8915892177556,
            894.9304389882925,
            687.631079501207,
            755.7355869186122,
            602.7744872347375,
            659.0251197184335,
            782.1422449121302,
            622.7878427812685,
            865.4592477771677,
            475.88160159044895,
            708.1516647072722,
            802.3660614191413,
            561.0498589671109,
            929.1272705137904,
            975.7892809695581,
            679.8241987662875,
            664.0117852671142,
            823.04
           ],
           "yaxis": "y"
          }
         ],
         "name": "MCDONOUGH"
        },
        {
         "data": [
          {
           "hovertemplate": "variable=85% Revenue<br>County=MCHENRY<br>Year=%{x}<br>value=%{y}<extra></extra>",
           "legendgroup": "85% Revenue",
           "line": {
            "color": "#636efa",
            "dash": "solid"
           },
           "mode": "lines",
           "name": "85% Revenue",
           "orientation": "v",
           "showlegend": true,
           "type": "scatter",
           "x": [
            2001,
            2002,
            2003,
            2004,
            2005,
            2006,
            2007,
            2008,
            2009,
            2010,
            2011,
            2012,
            2013,
            2014,
            2015,
            2016,
            2017,
            2018,
            2020
           ],
           "xaxis": "x",
           "y": [
            919.2059883917418,
            711.5634473997284,
            568.2676179748328,
            946.8057088087834,
            471.3474882746873,
            752.5057478586544,
            752.0144716147892,
            562.0149739598517,
            612.1744297561511,
            1045.632352059329,
            535.84765,
            611.31915,
            698.3428417413187,
            828.6746486132679,
            507.9490904873007,
            943.7021148653349,
            544.3119292006086,
            649.1921301386334,
            735.3000000000001
           ],
           "yaxis": "y"
          },
          {
           "hovertemplate": "variable=Revenue<br>County=MCHENRY<br>Year=%{x}<br>value=%{y}<extra></extra>",
           "legendgroup": "Revenue",
           "line": {
            "color": "#EF553B",
            "dash": "solid"
           },
           "mode": "lines",
           "name": "Revenue",
           "orientation": "v",
           "showlegend": true,
           "type": "scatter",
           "x": [
            2001,
            2002,
            2003,
            2004,
            2005,
            2006,
            2007,
            2008,
            2009,
            2010,
            2011,
            2012,
            2013,
            2014,
            2015,
            2016,
            2017,
            2018,
            2020
           ],
           "xaxis": "x",
           "y": [
            919.2059883917418,
            711.5634473997284,
            568.2676179748328,
            946.8057088087834,
            471.3474882746873,
            752.5057478586544,
            752.0144716147892,
            562.0149739598517,
            612.1744297561511,
            1045.632352059329,
            513.457425943002,
            603.3840444125933,
            698.3428417413187,
            828.6746486132679,
            507.9490904873007,
            943.7021148653349,
            544.3119292006086,
            649.1921301386334,
            735.3000000000001
           ],
           "yaxis": "y"
          }
         ],
         "name": "MCHENRY"
        },
        {
         "data": [
          {
           "hovertemplate": "variable=85% Revenue<br>County=MCLEAN<br>Year=%{x}<br>value=%{y}<extra></extra>",
           "legendgroup": "85% Revenue",
           "line": {
            "color": "#636efa",
            "dash": "solid"
           },
           "mode": "lines",
           "name": "85% Revenue",
           "orientation": "v",
           "showlegend": true,
           "type": "scatter",
           "x": [
            2001,
            2002,
            2003,
            2004,
            2005,
            2006,
            2007,
            2008,
            2009,
            2010,
            2011,
            2012,
            2013,
            2014,
            2015,
            2016,
            2017,
            2018,
            2019,
            2020
           ],
           "xaxis": "x",
           "y": [
            1070.638556280177,
            760.8200520388913,
            585.3277101598153,
            725.4055179443083,
            866.7834096653215,
            791.621416781996,
            844.7840154718398,
            811.9602784867383,
            1006.7747934948738,
            574.6784929648123,
            796.4022221399397,
            941.9307072592101,
            857.1220647582345,
            751.2335785990144,
            1127.052956005192,
            583.1425623776042,
            1086.207251427343,
            824.9969239090218,
            600.8460328813082,
            717.1759999999999
           ],
           "yaxis": "y"
          },
          {
           "hovertemplate": "variable=Revenue<br>County=MCLEAN<br>Year=%{x}<br>value=%{y}<extra></extra>",
           "legendgroup": "Revenue",
           "line": {
            "color": "#EF553B",
            "dash": "solid"
           },
           "mode": "lines",
           "name": "Revenue",
           "orientation": "v",
           "showlegend": true,
           "type": "scatter",
           "x": [
            2001,
            2002,
            2003,
            2004,
            2005,
            2006,
            2007,
            2008,
            2009,
            2010,
            2011,
            2012,
            2013,
            2014,
            2015,
            2016,
            2017,
            2018,
            2019,
            2020
           ],
           "xaxis": "x",
           "y": [
            1070.638556280177,
            760.8200520388913,
            585.3277101598153,
            725.4055179443083,
            866.7834096653215,
            791.621416781996,
            844.7840154718398,
            811.9602784867383,
            1006.7747934948738,
            574.6784929648123,
            796.4022221399397,
            941.9307072592101,
            857.1220647582345,
            751.2335785990144,
            1127.052956005192,
            583.1425623776042,
            1086.207251427343,
            824.9969239090218,
            600.8460328813082,
            717.1759999999999
           ],
           "yaxis": "y"
          }
         ],
         "name": "MCLEAN"
        },
        {
         "data": [
          {
           "hovertemplate": "variable=85% Revenue<br>County=MENARD<br>Year=%{x}<br>value=%{y}<extra></extra>",
           "legendgroup": "85% Revenue",
           "line": {
            "color": "#636efa",
            "dash": "solid"
           },
           "mode": "lines",
           "name": "85% Revenue",
           "orientation": "v",
           "showlegend": true,
           "type": "scatter",
           "x": [
            2001,
            2002,
            2003,
            2004,
            2005,
            2006,
            2007,
            2008,
            2009,
            2010,
            2011,
            2012,
            2014,
            2015,
            2016,
            2017,
            2018,
            2019,
            2020
           ],
           "xaxis": "x",
           "y": [
            752.0891204473012,
            920.6535202790194,
            972.471902630134,
            960.674953996428,
            971.3150995357659,
            913.7247548834907,
            729.3847744084262,
            847.0136283031944,
            606.7364881472815,
            799.1789824631257,
            691.7608546236357,
            703.6470000000002,
            685.5749086357232,
            614.7872744187777,
            991.7093624795291,
            1115.7033617862292,
            917.0199974816124,
            718.8078036602619,
            638.83
           ],
           "yaxis": "y"
          },
          {
           "hovertemplate": "variable=Revenue<br>County=MENARD<br>Year=%{x}<br>value=%{y}<extra></extra>",
           "legendgroup": "Revenue",
           "line": {
            "color": "#EF553B",
            "dash": "solid"
           },
           "mode": "lines",
           "name": "Revenue",
           "orientation": "v",
           "showlegend": true,
           "type": "scatter",
           "x": [
            2001,
            2002,
            2003,
            2004,
            2005,
            2006,
            2007,
            2008,
            2009,
            2010,
            2011,
            2012,
            2014,
            2015,
            2016,
            2017,
            2018,
            2019,
            2020
           ],
           "xaxis": "x",
           "y": [
            752.0891204473012,
            920.6535202790194,
            972.471902630134,
            960.674953996428,
            971.3150995357659,
            913.7247548834907,
            729.3847744084262,
            847.0136283031944,
            606.7364881472815,
            799.1789824631257,
            691.7608546236357,
            396.9278584012169,
            685.5749086357232,
            614.7872744187777,
            991.7093624795291,
            1115.7033617862292,
            917.0199974816124,
            718.8078036602619,
            638.83
           ],
           "yaxis": "y"
          }
         ],
         "name": "MENARD"
        },
        {
         "data": [
          {
           "hovertemplate": "variable=85% Revenue<br>County=MERCER<br>Year=%{x}<br>value=%{y}<extra></extra>",
           "legendgroup": "85% Revenue",
           "line": {
            "color": "#636efa",
            "dash": "solid"
           },
           "mode": "lines",
           "name": "85% Revenue",
           "orientation": "v",
           "showlegend": true,
           "type": "scatter",
           "x": [
            2001,
            2002,
            2003,
            2004,
            2005,
            2006,
            2007,
            2008,
            2009,
            2010,
            2011,
            2012,
            2013,
            2014,
            2015,
            2016,
            2017,
            2018,
            2019,
            2020
           ],
           "xaxis": "x",
           "y": [
            1025.655574326675,
            767.2075338190685,
            484.776733023844,
            1094.8267360518548,
            844.257813621271,
            635.2607730218267,
            541.484797838349,
            598.4044199999998,
            464.7114979097492,
            1035.9063159663335,
            663.5827669095343,
            848.9992194941462,
            668.135798057593,
            919.8097501222302,
            533.2403679903598,
            837.2810133563728,
            744.519739065001,
            762.8053413131822,
            523.6730397787387,
            793.656
           ],
           "yaxis": "y"
          },
          {
           "hovertemplate": "variable=Revenue<br>County=MERCER<br>Year=%{x}<br>value=%{y}<extra></extra>",
           "legendgroup": "Revenue",
           "line": {
            "color": "#EF553B",
            "dash": "solid"
           },
           "mode": "lines",
           "name": "Revenue",
           "orientation": "v",
           "showlegend": true,
           "type": "scatter",
           "x": [
            2001,
            2002,
            2003,
            2004,
            2005,
            2006,
            2007,
            2008,
            2009,
            2010,
            2011,
            2012,
            2013,
            2014,
            2015,
            2016,
            2017,
            2018,
            2019,
            2020
           ],
           "xaxis": "x",
           "y": [
            1025.655574326675,
            767.2075338190685,
            484.776733023844,
            1094.8267360518548,
            844.257813621271,
            635.2607730218267,
            541.484797838349,
            593.1467985316488,
            464.7114979097492,
            1035.9063159663335,
            663.5827669095343,
            848.9992194941462,
            668.135798057593,
            919.8097501222302,
            533.2403679903598,
            837.2810133563728,
            744.519739065001,
            762.8053413131822,
            523.6730397787387,
            793.656
           ],
           "yaxis": "y"
          }
         ],
         "name": "MERCER"
        },
        {
         "data": [
          {
           "hovertemplate": "variable=85% Revenue<br>County=MONROE<br>Year=%{x}<br>value=%{y}<extra></extra>",
           "legendgroup": "85% Revenue",
           "line": {
            "color": "#636efa",
            "dash": "solid"
           },
           "mode": "lines",
           "name": "85% Revenue",
           "orientation": "v",
           "showlegend": true,
           "type": "scatter",
           "x": [
            2001,
            2002,
            2003,
            2004,
            2005,
            2006,
            2007,
            2008,
            2009,
            2010,
            2011,
            2012,
            2013,
            2014,
            2015,
            2016,
            2017,
            2018,
            2019,
            2020
           ],
           "xaxis": "x",
           "y": [
            949.8045201871812,
            797.1151756623118,
            505.18838494063743,
            588.8713517126793,
            479.8844488425985,
            659.9267134989084,
            405.13812075838337,
            963.4597683317015,
            627.9377604861597,
            856.6490170776837,
            474.9997624999999,
            595.5658979607115,
            472.00271298928493,
            861.3495215944837,
            708.1090676232719,
            838.3969684134532,
            617.1527440099377,
            800.596653650043,
            708.6633406198823,
            655.956
           ],
           "yaxis": "y"
          },
          {
           "hovertemplate": "variable=Revenue<br>County=MONROE<br>Year=%{x}<br>value=%{y}<extra></extra>",
           "legendgroup": "Revenue",
           "line": {
            "color": "#EF553B",
            "dash": "solid"
           },
           "mode": "lines",
           "name": "Revenue",
           "orientation": "v",
           "showlegend": true,
           "type": "scatter",
           "x": [
            2001,
            2002,
            2003,
            2004,
            2005,
            2006,
            2007,
            2008,
            2009,
            2010,
            2011,
            2012,
            2013,
            2014,
            2015,
            2016,
            2017,
            2018,
            2019,
            2020
           ],
           "xaxis": "x",
           "y": [
            949.8045201871812,
            797.1151756623118,
            505.18838494063743,
            588.8713517126793,
            479.8844488425985,
            659.9267134989084,
            405.13812075838337,
            963.4597683317015,
            627.9377604861597,
            856.6490170776837,
            458.6513265139393,
            595.5658979607115,
            472.00271298928493,
            861.3495215944837,
            708.1090676232719,
            838.3969684134532,
            617.1527440099377,
            800.596653650043,
            708.6633406198823,
            655.956
           ],
           "yaxis": "y"
          }
         ],
         "name": "MONROE"
        },
        {
         "data": [
          {
           "hovertemplate": "variable=85% Revenue<br>County=MONTGOMERY<br>Year=%{x}<br>value=%{y}<extra></extra>",
           "legendgroup": "85% Revenue",
           "line": {
            "color": "#636efa",
            "dash": "solid"
           },
           "mode": "lines",
           "name": "85% Revenue",
           "orientation": "v",
           "showlegend": true,
           "type": "scatter",
           "x": [
            2001,
            2002,
            2003,
            2004,
            2005,
            2006,
            2007,
            2008,
            2009,
            2010,
            2011,
            2012,
            2013,
            2014,
            2015,
            2016,
            2017,
            2018,
            2019,
            2020
           ],
           "xaxis": "x",
           "y": [
            528.7533294145444,
            958.7071459926909,
            575.4191629636713,
            951.5608259376938,
            676.0084884020931,
            951.7692698916262,
            696.5020375507307,
            583.3009399999999,
            504.57020995092256,
            1003.8007921082741,
            886.178686347675,
            671.9312474999999,
            596.5664232972086,
            994.414250642205,
            526.0779804750645,
            1085.4660419860438,
            567.0231488784311,
            1146.501291425326,
            1025.3122535990808,
            977.1620000000001
           ],
           "yaxis": "y"
          },
          {
           "hovertemplate": "variable=Revenue<br>County=MONTGOMERY<br>Year=%{x}<br>value=%{y}<extra></extra>",
           "legendgroup": "Revenue",
           "line": {
            "color": "#EF553B",
            "dash": "solid"
           },
           "mode": "lines",
           "name": "Revenue",
           "orientation": "v",
           "showlegend": true,
           "type": "scatter",
           "x": [
            2001,
            2002,
            2003,
            2004,
            2005,
            2006,
            2007,
            2008,
            2009,
            2010,
            2011,
            2012,
            2013,
            2014,
            2015,
            2016,
            2017,
            2018,
            2019,
            2020
           ],
           "xaxis": "x",
           "y": [
            528.7533294145444,
            958.7071459926909,
            575.4191629636713,
            951.5608259376938,
            676.0084884020931,
            951.7692698916262,
            696.5020375507307,
            579.0209265903828,
            504.57020995092256,
            1003.8007921082741,
            886.178686347675,
            418.86091358065994,
            596.5664232972086,
            994.414250642205,
            526.0779804750645,
            1085.4660419860438,
            567.0231488784311,
            1146.501291425326,
            1025.3122535990808,
            977.1620000000001
           ],
           "yaxis": "y"
          }
         ],
         "name": "MONTGOMERY"
        },
        {
         "data": [
          {
           "hovertemplate": "variable=85% Revenue<br>County=MORGAN<br>Year=%{x}<br>value=%{y}<extra></extra>",
           "legendgroup": "85% Revenue",
           "line": {
            "color": "#636efa",
            "dash": "solid"
           },
           "mode": "lines",
           "name": "85% Revenue",
           "orientation": "v",
           "showlegend": true,
           "type": "scatter",
           "x": [
            2001,
            2002,
            2003,
            2004,
            2005,
            2006,
            2007,
            2008,
            2009,
            2010,
            2011,
            2012,
            2013,
            2014,
            2015,
            2016,
            2017,
            2018,
            2019,
            2020
           ],
           "xaxis": "x",
           "y": [
            772.5227424752297,
            1131.0544091349952,
            981.5665597111083,
            704.3667100324093,
            637.7478331462065,
            768.5873386111183,
            703.7514436784177,
            627.36222,
            702.9300717830708,
            750.911596553674,
            633.4667925000001,
            722.6874675,
            848.9611130402473,
            992.9658742759772,
            559.0486044554864,
            868.882921737284,
            1031.7793272990773,
            1159.1212178527348,
            1032.2306641058103,
            666.663
           ],
           "yaxis": "y"
          },
          {
           "hovertemplate": "variable=Revenue<br>County=MORGAN<br>Year=%{x}<br>value=%{y}<extra></extra>",
           "legendgroup": "Revenue",
           "line": {
            "color": "#EF553B",
            "dash": "solid"
           },
           "mode": "lines",
           "name": "Revenue",
           "orientation": "v",
           "showlegend": true,
           "type": "scatter",
           "x": [
            2001,
            2002,
            2003,
            2004,
            2005,
            2006,
            2007,
            2008,
            2009,
            2010,
            2011,
            2012,
            2013,
            2014,
            2015,
            2016,
            2017,
            2018,
            2019,
            2020
           ],
           "xaxis": "x",
           "y": [
            772.5227424752297,
            1131.0544091349952,
            981.5665597111083,
            704.3667100324093,
            637.7478331462065,
            768.5873386111183,
            703.7514436784177,
            508.4168792209139,
            702.9300717830708,
            750.911596553674,
            525.8654880198756,
            610.6361172918843,
            848.9611130402473,
            992.9658742759772,
            559.0486044554864,
            868.882921737284,
            1031.7793272990773,
            1159.1212178527348,
            1032.2306641058103,
            666.663
           ],
           "yaxis": "y"
          }
         ],
         "name": "MORGAN"
        },
        {
         "data": [
          {
           "hovertemplate": "variable=85% Revenue<br>County=MOULTRIE<br>Year=%{x}<br>value=%{y}<extra></extra>",
           "legendgroup": "85% Revenue",
           "line": {
            "color": "#636efa",
            "dash": "solid"
           },
           "mode": "lines",
           "name": "85% Revenue",
           "orientation": "v",
           "showlegend": true,
           "type": "scatter",
           "x": [
            2001,
            2002,
            2003,
            2004,
            2005,
            2006,
            2007,
            2008,
            2009,
            2010,
            2011,
            2012,
            2013,
            2014,
            2015,
            2016,
            2017,
            2018,
            2019,
            2020
           ],
           "xaxis": "x",
           "y": [
            823.8078554799092,
            843.8527537517028,
            503.6765339109066,
            655.3063421694554,
            879.5778825955748,
            1093.2533710539385,
            1123.2014163435078,
            898.5776834826376,
            979.9231300823631,
            697.7311728179772,
            747.4821699529399,
            745.7109075,
            956.5474579117665,
            881.6459372653944,
            629.1057719463092,
            642.4941679648786,
            924.8950307095707,
            885.9800339212582,
            775.928423042397,
            572.5440000000001
           ],
           "yaxis": "y"
          },
          {
           "hovertemplate": "variable=Revenue<br>County=MOULTRIE<br>Year=%{x}<br>value=%{y}<extra></extra>",
           "legendgroup": "Revenue",
           "line": {
            "color": "#EF553B",
            "dash": "solid"
           },
           "mode": "lines",
           "name": "Revenue",
           "orientation": "v",
           "showlegend": true,
           "type": "scatter",
           "x": [
            2001,
            2002,
            2003,
            2004,
            2005,
            2006,
            2007,
            2008,
            2009,
            2010,
            2011,
            2012,
            2013,
            2014,
            2015,
            2016,
            2017,
            2018,
            2019,
            2020
           ],
           "xaxis": "x",
           "y": [
            823.8078554799092,
            843.8527537517028,
            503.6765339109066,
            655.3063421694554,
            879.5778825955748,
            1093.2533710539385,
            1123.2014163435078,
            898.5776834826376,
            979.9231300823631,
            697.7311728179772,
            747.4821699529399,
            739.4210914354122,
            956.5474579117665,
            881.6459372653944,
            629.1057719463092,
            642.4941679648786,
            924.8950307095707,
            885.9800339212582,
            775.928423042397,
            572.5440000000001
           ],
           "yaxis": "y"
          }
         ],
         "name": "MOULTRIE"
        },
        {
         "data": [
          {
           "hovertemplate": "variable=85% Revenue<br>County=OGLE<br>Year=%{x}<br>value=%{y}<extra></extra>",
           "legendgroup": "85% Revenue",
           "line": {
            "color": "#636efa",
            "dash": "solid"
           },
           "mode": "lines",
           "name": "85% Revenue",
           "orientation": "v",
           "showlegend": true,
           "type": "scatter",
           "x": [
            2001,
            2002,
            2003,
            2004,
            2005,
            2006,
            2007,
            2008,
            2009,
            2010,
            2011,
            2012,
            2013,
            2014,
            2015,
            2016,
            2017,
            2018,
            2019,
            2020
           ],
           "xaxis": "x",
           "y": [
            943.2136389219357,
            848.6073646305639,
            671.6847160528637,
            1035.5220752851376,
            860.0499023753222,
            1024.1350077892716,
            661.6741805361133,
            907.2294924344861,
            574.7591788028639,
            880.1652353689066,
            957.4041384582313,
            785.8818250814205,
            851.2032188008466,
            648.694798276837,
            1008.1214075498544,
            747.8254162723723,
            577.7084129332793,
            1055.6631906096634,
            854.8426043280806,
            724.71
           ],
           "yaxis": "y"
          },
          {
           "hovertemplate": "variable=Revenue<br>County=OGLE<br>Year=%{x}<br>value=%{y}<extra></extra>",
           "legendgroup": "Revenue",
           "line": {
            "color": "#EF553B",
            "dash": "solid"
           },
           "mode": "lines",
           "name": "Revenue",
           "orientation": "v",
           "showlegend": true,
           "type": "scatter",
           "x": [
            2001,
            2002,
            2003,
            2004,
            2005,
            2006,
            2007,
            2008,
            2009,
            2010,
            2011,
            2012,
            2013,
            2014,
            2015,
            2016,
            2017,
            2018,
            2019,
            2020
           ],
           "xaxis": "x",
           "y": [
            943.2136389219357,
            848.6073646305639,
            671.6847160528637,
            1035.5220752851376,
            860.0499023753222,
            1024.1350077892716,
            661.6741805361133,
            907.2294924344861,
            574.7591788028639,
            880.1652353689066,
            957.4041384582313,
            785.8818250814205,
            851.2032188008466,
            648.694798276837,
            1008.1214075498544,
            747.8254162723723,
            577.7084129332793,
            1055.6631906096634,
            854.8426043280806,
            724.71
           ],
           "yaxis": "y"
          }
         ],
         "name": "OGLE"
        },
        {
         "data": [
          {
           "hovertemplate": "variable=85% Revenue<br>County=OTHER (COMBINED) COUNTIES<br>Year=%{x}<br>value=%{y}<extra></extra>",
           "legendgroup": "85% Revenue",
           "line": {
            "color": "#636efa",
            "dash": "solid"
           },
           "mode": "lines",
           "name": "85% Revenue",
           "orientation": "v",
           "showlegend": true,
           "type": "scatter",
           "x": [
            2008,
            2008,
            2009,
            2009,
            2010,
            2011,
            2011,
            2012,
            2012,
            2012,
            2013,
            2013,
            2013,
            2013,
            2013,
            2014,
            2014,
            2014,
            2015,
            2015,
            2015,
            2016,
            2016,
            2016,
            2016,
            2017,
            2017,
            2018,
            2018,
            2018,
            2018,
            2018,
            2018,
            2019,
            2019,
            2019,
            2019,
            2019,
            2019,
            2019,
            2019,
            2019
           ],
           "xaxis": "x",
           "y": [
            544.5742761904761,
            544.5742761904761,
            401.0021379841754,
            810.4820989343043,
            626.9748937090746,
            549.8732773809523,
            608.5990349967755,
            690.0393666393278,
            627.3202178571429,
            645.0999368269064,
            524.6011178571428,
            745.341490099775,
            583.4388601344664,
            660.8390026813611,
            593.4628969207619,
            830.2097540272173,
            599.7556022837488,
            553.8833815659765,
            651.0227522939678,
            825.7704830749386,
            711.6718475987994,
            975.7711060154111,
            878.1915641108538,
            420.7910119697731,
            759.154627793571,
            418.758029669621,
            854.2199351854949,
            628.0086299653085,
            468.13547856849,
            843.7519058625238,
            536.5006805464647,
            414.13732380952376,
            579.8859921900258,
            1022.2833889018951,
            636.2686384685826,
            432.6163126835108,
            715.9611823256333,
            482.00156719513524,
            640.2903199275911,
            446.0777944636881,
            761.9490033390932,
            481.14311990210996
           ],
           "yaxis": "y"
          },
          {
           "hovertemplate": "variable=Revenue<br>County=OTHER (COMBINED) COUNTIES<br>Year=%{x}<br>value=%{y}<extra></extra>",
           "legendgroup": "Revenue",
           "line": {
            "color": "#EF553B",
            "dash": "solid"
           },
           "mode": "lines",
           "name": "Revenue",
           "orientation": "v",
           "showlegend": true,
           "type": "scatter",
           "x": [
            2008,
            2008,
            2009,
            2009,
            2010,
            2011,
            2011,
            2012,
            2012,
            2012,
            2013,
            2013,
            2013,
            2013,
            2013,
            2014,
            2014,
            2014,
            2015,
            2015,
            2015,
            2016,
            2016,
            2016,
            2016,
            2017,
            2017,
            2018,
            2018,
            2018,
            2018,
            2018,
            2018,
            2019,
            2019,
            2019,
            2019,
            2019,
            2019,
            2019,
            2019,
            2019
           ],
           "xaxis": "x",
           "y": [
            452.5219807298762,
            542.5738547510416,
            401.0021379841754,
            810.4820989343043,
            626.9748937090746,
            516.9159018656987,
            608.5990349967755,
            690.0393666393278,
            427.32448376823845,
            645.0999368269064,
            521.0119013916428,
            745.341490099775,
            583.4388601344664,
            660.8390026813611,
            593.4628969207619,
            830.2097540272173,
            599.7556022837488,
            553.8833815659765,
            651.0227522939678,
            825.7704830749386,
            711.6718475987994,
            975.7711060154111,
            878.1915641108538,
            420.7910119697731,
            759.154627793571,
            418.758029669621,
            854.2199351854949,
            628.0086299653085,
            468.13547856849,
            843.7519058625238,
            536.5006805464647,
            402.08583159663334,
            579.8859921900258,
            1022.2833889018951,
            636.2686384685826,
            432.6163126835108,
            715.9611823256333,
            482.00156719513524,
            640.2903199275911,
            446.0777944636881,
            761.9490033390932,
            481.14311990210996
           ],
           "yaxis": "y"
          }
         ],
         "name": "OTHER (COMBINED) COUNTIES"
        },
        {
         "data": [
          {
           "hovertemplate": "variable=85% Revenue<br>County=OTHER COUNTIES<br>Year=%{x}<br>value=%{y}<extra></extra>",
           "legendgroup": "85% Revenue",
           "line": {
            "color": "#636efa",
            "dash": "solid"
           },
           "mode": "lines",
           "name": "85% Revenue",
           "orientation": "v",
           "showlegend": true,
           "type": "scatter",
           "x": [
            2020
           ],
           "xaxis": "x",
           "y": [
            652.311
           ],
           "yaxis": "y"
          },
          {
           "hovertemplate": "variable=Revenue<br>County=OTHER COUNTIES<br>Year=%{x}<br>value=%{y}<extra></extra>",
           "legendgroup": "Revenue",
           "line": {
            "color": "#EF553B",
            "dash": "solid"
           },
           "mode": "lines",
           "name": "Revenue",
           "orientation": "v",
           "showlegend": true,
           "type": "scatter",
           "x": [
            2020
           ],
           "xaxis": "x",
           "y": [
            652.311
           ],
           "yaxis": "y"
          }
         ],
         "name": "OTHER COUNTIES"
        },
        {
         "data": [
          {
           "hovertemplate": "variable=85% Revenue<br>County=PEORIA<br>Year=%{x}<br>value=%{y}<extra></extra>",
           "legendgroup": "85% Revenue",
           "line": {
            "color": "#636efa",
            "dash": "solid"
           },
           "mode": "lines",
           "name": "85% Revenue",
           "orientation": "v",
           "showlegend": true,
           "type": "scatter",
           "x": [
            2001,
            2002,
            2003,
            2004,
            2005,
            2006,
            2007,
            2008,
            2009,
            2010,
            2011,
            2012,
            2013,
            2014,
            2015,
            2016,
            2017,
            2018,
            2019,
            2020
           ],
           "xaxis": "x",
           "y": [
            523.4631109959155,
            607.4883849406374,
            791.3188864087239,
            958.7797605217272,
            755.8520106543089,
            1007.3471043532969,
            730.3217464720548,
            610.8960199999999,
            807.8744141362026,
            547.8725159562468,
            718.0489068106356,
            981.9749000406109,
            900.8675958603743,
            1010.4653058216481,
            722.8296718239468,
            962.3128396614194,
            1004.9337696471658,
            1047.147575825815,
            818.6621915222071,
            999.9599999999999
           ],
           "yaxis": "y"
          },
          {
           "hovertemplate": "variable=Revenue<br>County=PEORIA<br>Year=%{x}<br>value=%{y}<extra></extra>",
           "legendgroup": "Revenue",
           "line": {
            "color": "#EF553B",
            "dash": "solid"
           },
           "mode": "lines",
           "name": "Revenue",
           "orientation": "v",
           "showlegend": true,
           "type": "scatter",
           "x": [
            2001,
            2002,
            2003,
            2004,
            2005,
            2006,
            2007,
            2008,
            2009,
            2010,
            2011,
            2012,
            2013,
            2014,
            2015,
            2016,
            2017,
            2018,
            2019,
            2020
           ],
           "xaxis": "x",
           "y": [
            523.4631109959155,
            607.4883849406374,
            791.3188864087239,
            958.7797605217272,
            755.8520106543089,
            1007.3471043532969,
            730.3217464720548,
            566.6663846858256,
            807.8744141362026,
            547.8725159562468,
            718.0489068106356,
            981.9749000406109,
            900.8675958603743,
            1010.4653058216481,
            722.8296718239468,
            962.3128396614194,
            1004.9337696471658,
            1047.147575825815,
            818.6621915222071,
            999.9599999999999
           ],
           "yaxis": "y"
          }
         ],
         "name": "PEORIA"
        },
        {
         "data": [
          {
           "hovertemplate": "variable=85% Revenue<br>County=PERRY<br>Year=%{x}<br>value=%{y}<extra></extra>",
           "legendgroup": "85% Revenue",
           "line": {
            "color": "#636efa",
            "dash": "solid"
           },
           "mode": "lines",
           "name": "85% Revenue",
           "orientation": "v",
           "showlegend": true,
           "type": "scatter",
           "x": [
            2001,
            2002,
            2003,
            2004,
            2005,
            2006,
            2007,
            2008,
            2009,
            2010,
            2011,
            2012,
            2013,
            2014,
            2015,
            2016,
            2017,
            2018,
            2019,
            2020
           ],
           "xaxis": "x",
           "y": [
            718.2661612659895,
            600.3797370918046,
            663.0788900944669,
            801.4908068512465,
            866.8534591146898,
            657.124019157583,
            487.55597386801355,
            744.5176912926117,
            742.8760736437263,
            879.8086969308484,
            433.08970500000004,
            513.4055887436999,
            660.5657407064124,
            606.5454190455716,
            693.7425356085884,
            700.4692061377735,
            429.7906444534691,
            716.8045800774521,
            377.85348247347713,
            647.4250000000001
           ],
           "yaxis": "y"
          },
          {
           "hovertemplate": "variable=Revenue<br>County=PERRY<br>Year=%{x}<br>value=%{y}<extra></extra>",
           "legendgroup": "Revenue",
           "line": {
            "color": "#EF553B",
            "dash": "solid"
           },
           "mode": "lines",
           "name": "Revenue",
           "orientation": "v",
           "showlegend": true,
           "type": "scatter",
           "x": [
            2001,
            2002,
            2003,
            2004,
            2005,
            2006,
            2007,
            2008,
            2009,
            2010,
            2011,
            2012,
            2013,
            2014,
            2015,
            2016,
            2017,
            2018,
            2019,
            2020
           ],
           "xaxis": "x",
           "y": [
            718.2661612659895,
            600.3797370918046,
            663.0788900944669,
            801.4908068512465,
            866.8534591146898,
            657.124019157583,
            487.55597386801355,
            744.5176912926117,
            742.8760736437263,
            879.8086969308484,
            355.2024830749387,
            513.4055887436999,
            660.5657407064124,
            606.5454190455716,
            693.7425356085884,
            700.4692061377735,
            429.7906444534691,
            716.8045800774521,
            377.85348247347713,
            647.4250000000001
           ],
           "yaxis": "y"
          }
         ],
         "name": "PERRY"
        },
        {
         "data": [
          {
           "hovertemplate": "variable=85% Revenue<br>County=PIATT<br>Year=%{x}<br>value=%{y}<extra></extra>",
           "legendgroup": "85% Revenue",
           "line": {
            "color": "#636efa",
            "dash": "solid"
           },
           "mode": "lines",
           "name": "85% Revenue",
           "orientation": "v",
           "showlegend": true,
           "type": "scatter",
           "x": [
            2001,
            2002,
            2003,
            2004,
            2005,
            2006,
            2007,
            2008,
            2009,
            2010,
            2011,
            2012,
            2013,
            2014,
            2015,
            2016,
            2017,
            2018,
            2020
           ],
           "xaxis": "x",
           "y": [
            869.4176598334709,
            809.041792016436,
            520.6759550008101,
            921.6104389882925,
            1066.8803507082973,
            1128.7176101648586,
            953.676736709587,
            672.9326526315788,
            901.9926242708015,
            818.9274126221969,
            844.8177758868641,
            841.1183210031085,
            833.9789589976352,
            949.7094968697994,
            882.415862306204,
            937.6437837886764,
            857.3543124642667,
            760.3506299653086,
            1037.055
           ],
           "yaxis": "y"
          },
          {
           "hovertemplate": "variable=Revenue<br>County=PIATT<br>Year=%{x}<br>value=%{y}<extra></extra>",
           "legendgroup": "Revenue",
           "line": {
            "color": "#EF553B",
            "dash": "solid"
           },
           "mode": "lines",
           "name": "Revenue",
           "orientation": "v",
           "showlegend": true,
           "type": "scatter",
           "x": [
            2001,
            2002,
            2003,
            2004,
            2005,
            2006,
            2007,
            2008,
            2009,
            2010,
            2011,
            2012,
            2013,
            2014,
            2015,
            2016,
            2017,
            2018,
            2020
           ],
           "xaxis": "x",
           "y": [
            869.4176598334709,
            809.041792016436,
            520.6759550008101,
            921.6104389882925,
            1066.8803507082973,
            1128.7176101648586,
            953.676736709587,
            504.00666839301533,
            901.9926242708015,
            818.9274126221969,
            844.8177758868641,
            841.1183210031085,
            833.9789589976352,
            949.7094968697994,
            882.415862306204,
            937.6437837886764,
            857.3543124642667,
            760.3506299653086,
            1037.055
           ],
           "yaxis": "y"
          }
         ],
         "name": "PIATT"
        },
        {
         "data": [
          {
           "hovertemplate": "variable=85% Revenue<br>County=PIKE<br>Year=%{x}<br>value=%{y}<extra></extra>",
           "legendgroup": "85% Revenue",
           "line": {
            "color": "#636efa",
            "dash": "solid"
           },
           "mode": "lines",
           "name": "85% Revenue",
           "orientation": "v",
           "showlegend": true,
           "type": "scatter",
           "x": [
            2001,
            2002,
            2003,
            2004,
            2005,
            2006,
            2007,
            2008,
            2009,
            2010,
            2011,
            2012,
            2013,
            2014,
            2015,
            2016,
            2017,
            2018,
            2020
           ],
           "xaxis": "x",
           "y": [
            713.9295421030985,
            780.2359773345125,
            754.9825700394699,
            522.6425056278852,
            689.6114588598781,
            679.2290213293205,
            550.8229654565777,
            864.7616579728154,
            570.2923869849691,
            918.7279841963752,
            726.9680556890667,
            637.8264000000001,
            783.6934717066273,
            553.2859450753687,
            789.3616160786096,
            751.1207378058073,
            559.2849104608109,
            656.0921117454858,
            963.9000000000001
           ],
           "yaxis": "y"
          },
          {
           "hovertemplate": "variable=Revenue<br>County=PIKE<br>Year=%{x}<br>value=%{y}<extra></extra>",
           "legendgroup": "Revenue",
           "line": {
            "color": "#EF553B",
            "dash": "solid"
           },
           "mode": "lines",
           "name": "Revenue",
           "orientation": "v",
           "showlegend": true,
           "type": "scatter",
           "x": [
            2001,
            2002,
            2003,
            2004,
            2005,
            2006,
            2007,
            2008,
            2009,
            2010,
            2011,
            2012,
            2013,
            2014,
            2015,
            2016,
            2017,
            2018,
            2020
           ],
           "xaxis": "x",
           "y": [
            713.9295421030985,
            780.2359773345125,
            754.9825700394699,
            522.6425056278852,
            689.6114588598781,
            679.2290213293205,
            550.8229654565777,
            864.7616579728154,
            570.2923869849691,
            918.7279841963752,
            726.9680556890667,
            590.5932732869896,
            783.6934717066273,
            553.2859450753687,
            789.3616160786096,
            751.1207378058073,
            559.2849104608109,
            656.0921117454858,
            963.9000000000001
           ],
           "yaxis": "y"
          }
         ],
         "name": "PIKE"
        },
        {
         "data": [
          {
           "hovertemplate": "variable=85% Revenue<br>County=POPE<br>Year=%{x}<br>value=%{y}<extra></extra>",
           "legendgroup": "85% Revenue",
           "line": {
            "color": "#636efa",
            "dash": "solid"
           },
           "mode": "lines",
           "name": "85% Revenue",
           "orientation": "v",
           "showlegend": true,
           "type": "scatter",
           "x": [
            2001,
            2002,
            2003,
            2004,
            2005,
            2006,
            2007,
            2010,
            2015,
            2016,
            2017,
            2020
           ],
           "xaxis": "x",
           "y": [
            825.6836768755866,
            674.7276938821346,
            776.1507374384546,
            640.1398871938618,
            716.9037890239928,
            826.0150077892715,
            323.2032721552019,
            563.2756361131687,
            709.0536291801706,
            502.60927016714066,
            778.3044740976089,
            775.52
           ],
           "yaxis": "y"
          },
          {
           "hovertemplate": "variable=Revenue<br>County=POPE<br>Year=%{x}<br>value=%{y}<extra></extra>",
           "legendgroup": "Revenue",
           "line": {
            "color": "#EF553B",
            "dash": "solid"
           },
           "mode": "lines",
           "name": "Revenue",
           "orientation": "v",
           "showlegend": true,
           "type": "scatter",
           "x": [
            2001,
            2002,
            2003,
            2004,
            2005,
            2006,
            2007,
            2010,
            2015,
            2016,
            2017,
            2020
           ],
           "xaxis": "x",
           "y": [
            825.6836768755866,
            674.7276938821346,
            776.1507374384546,
            640.1398871938618,
            716.9037890239928,
            826.0150077892715,
            323.2032721552019,
            563.2756361131687,
            709.0536291801706,
            502.60927016714066,
            778.3044740976089,
            775.52
           ],
           "yaxis": "y"
          }
         ],
         "name": "POPE"
        },
        {
         "data": [
          {
           "hovertemplate": "variable=85% Revenue<br>County=PULASKI<br>Year=%{x}<br>value=%{y}<extra></extra>",
           "legendgroup": "85% Revenue",
           "line": {
            "color": "#636efa",
            "dash": "solid"
           },
           "mode": "lines",
           "name": "85% Revenue",
           "orientation": "v",
           "showlegend": true,
           "type": "scatter",
           "x": [
            2001,
            2002,
            2003,
            2004,
            2005,
            2006,
            2007,
            2008,
            2009,
            2010,
            2011,
            2012,
            2013,
            2014,
            2015,
            2016,
            2017,
            2018,
            2019,
            2020
           ],
           "xaxis": "x",
           "y": [
            644.2767785682252,
            457.1733485009919,
            639.958296441398,
            585.509297226536,
            602.8623405636118,
            642.3712558419536,
            451.20827801268257,
            738.9414627648652,
            860.4776145083337,
            748.800925111945,
            805.6414429851178,
            553.6090800000001,
            792.564524586927,
            560.1986840129638,
            408.0400330087141,
            453.2943791394272,
            790.3887883869634,
            779.8355942189629,
            548.6961225479033,
            745.13
           ],
           "yaxis": "y"
          },
          {
           "hovertemplate": "variable=Revenue<br>County=PULASKI<br>Year=%{x}<br>value=%{y}<extra></extra>",
           "legendgroup": "Revenue",
           "line": {
            "color": "#EF553B",
            "dash": "solid"
           },
           "mode": "lines",
           "name": "Revenue",
           "orientation": "v",
           "showlegend": true,
           "type": "scatter",
           "x": [
            2001,
            2002,
            2003,
            2004,
            2005,
            2006,
            2007,
            2008,
            2009,
            2010,
            2011,
            2012,
            2013,
            2014,
            2015,
            2016,
            2017,
            2018,
            2019,
            2020
           ],
           "xaxis": "x",
           "y": [
            644.2767785682252,
            457.1733485009919,
            639.958296441398,
            585.509297226536,
            602.8623405636118,
            642.3712558419536,
            451.20827801268257,
            738.9414627648652,
            860.4776145083337,
            748.800925111945,
            805.6414429851178,
            397.7700607258415,
            792.564524586927,
            560.1986840129638,
            408.0400330087141,
            453.2943791394272,
            790.3887883869634,
            779.8355942189629,
            548.6961225479033,
            745.13
           ],
           "yaxis": "y"
          }
         ],
         "name": "PULASKI"
        },
        {
         "data": [
          {
           "hovertemplate": "variable=85% Revenue<br>County=PUTNAM<br>Year=%{x}<br>value=%{y}<extra></extra>",
           "legendgroup": "85% Revenue",
           "line": {
            "color": "#636efa",
            "dash": "solid"
           },
           "mode": "lines",
           "name": "85% Revenue",
           "orientation": "v",
           "showlegend": true,
           "type": "scatter",
           "x": [
            2001,
            2002,
            2003,
            2004,
            2005,
            2006,
            2007,
            2008,
            2009,
            2010,
            2011,
            2012,
            2013,
            2014,
            2015,
            2016,
            2017,
            2020
           ],
           "xaxis": "x",
           "y": [
            827.2321175822639,
            878.7473034662343,
            446.93022491313894,
            922.5685493471788,
            510.8297000151298,
            715.2490443207553,
            872.8640037568786,
            947.924950529929,
            940.449151467954,
            623.3026457482306,
            935.0217601395098,
            866.149908197235,
            1048.546832672151,
            524.1658662111912,
            883.9993861642635,
            922.9046649265161,
            545.6606099663172,
            650.844
           ],
           "yaxis": "y"
          },
          {
           "hovertemplate": "variable=Revenue<br>County=PUTNAM<br>Year=%{x}<br>value=%{y}<extra></extra>",
           "legendgroup": "Revenue",
           "line": {
            "color": "#EF553B",
            "dash": "solid"
           },
           "mode": "lines",
           "name": "Revenue",
           "orientation": "v",
           "showlegend": true,
           "type": "scatter",
           "x": [
            2001,
            2002,
            2003,
            2004,
            2005,
            2006,
            2007,
            2008,
            2009,
            2010,
            2011,
            2012,
            2013,
            2014,
            2015,
            2016,
            2017,
            2020
           ],
           "xaxis": "x",
           "y": [
            827.2321175822639,
            878.7473034662343,
            446.93022491313894,
            922.5685493471788,
            510.8297000151298,
            715.2490443207553,
            872.8640037568786,
            947.924950529929,
            940.449151467954,
            623.3026457482306,
            935.0217601395098,
            866.149908197235,
            1048.546832672151,
            524.1658662111912,
            883.9993861642635,
            922.9046649265161,
            545.6606099663172,
            650.844
           ],
           "yaxis": "y"
          }
         ],
         "name": "PUTNAM"
        },
        {
         "data": [
          {
           "hovertemplate": "variable=85% Revenue<br>County=RANDOLPH<br>Year=%{x}<br>value=%{y}<extra></extra>",
           "legendgroup": "85% Revenue",
           "line": {
            "color": "#636efa",
            "dash": "solid"
           },
           "mode": "lines",
           "name": "85% Revenue",
           "orientation": "v",
           "showlegend": true,
           "type": "scatter",
           "x": [
            2001,
            2002,
            2003,
            2004,
            2005,
            2006,
            2007,
            2008,
            2009,
            2010,
            2011,
            2012,
            2013,
            2014,
            2015,
            2016,
            2017,
            2018,
            2019,
            2020
           ],
           "xaxis": "x",
           "y": [
            890.7198364290292,
            588.2340187190948,
            361.5839122296281,
            643.3619225935576,
            540.9562616994343,
            446.75844654345514,
            402.1731227108769,
            554.699596553674,
            510.0105893095938,
            444.18791496725964,
            716.397660710447,
            624.7757433522056,
            576.3828808267576,
            414.07502680458356,
            454.8616094004233,
            703.3320041597989,
            699.9288888559759,
            881.0479292006085,
            468.8226476651564,
            450.97499999999997
           ],
           "yaxis": "y"
          },
          {
           "hovertemplate": "variable=Revenue<br>County=RANDOLPH<br>Year=%{x}<br>value=%{y}<extra></extra>",
           "legendgroup": "Revenue",
           "line": {
            "color": "#EF553B",
            "dash": "solid"
           },
           "mode": "lines",
           "name": "Revenue",
           "orientation": "v",
           "showlegend": true,
           "type": "scatter",
           "x": [
            2001,
            2002,
            2003,
            2004,
            2005,
            2006,
            2007,
            2008,
            2009,
            2010,
            2011,
            2012,
            2013,
            2014,
            2015,
            2016,
            2017,
            2018,
            2019,
            2020
           ],
           "xaxis": "x",
           "y": [
            890.7198364290292,
            588.2340187190948,
            361.5839122296281,
            643.3619225935576,
            540.9562616994343,
            446.75844654345514,
            402.1731227108769,
            554.699596553674,
            510.0105893095938,
            444.18791496725964,
            716.397660710447,
            624.7757433522056,
            576.3828808267576,
            414.07502680458356,
            454.8616094004233,
            703.3320041597989,
            699.9288888559759,
            881.0479292006085,
            468.8226476651564,
            450.97499999999997
           ],
           "yaxis": "y"
          }
         ],
         "name": "RANDOLPH"
        },
        {
         "data": [
          {
           "hovertemplate": "variable=85% Revenue<br>County=RICHLAND<br>Year=%{x}<br>value=%{y}<extra></extra>",
           "legendgroup": "85% Revenue",
           "line": {
            "color": "#636efa",
            "dash": "solid"
           },
           "mode": "lines",
           "name": "85% Revenue",
           "orientation": "v",
           "showlegend": true,
           "type": "scatter",
           "x": [
            2001,
            2002,
            2003,
            2004,
            2005,
            2006,
            2007,
            2008,
            2009,
            2010,
            2011,
            2012,
            2013,
            2014,
            2015,
            2016,
            2017,
            2018,
            2020
           ],
           "xaxis": "x",
           "y": [
            580.8865449681358,
            647.7441527627154,
            745.6019911293735,
            826.1857973080228,
            427.0540349967754,
            861.5530491738539,
            461.0037165831899,
            561.8596616229908,
            489.42084221537453,
            465.77431892320914,
            475.73904999999996,
            542.74455,
            684.1595912620874,
            607.8055096247106,
            453.34426947384077,
            544.045571920828,
            759.4577351600138,
            735.4682588906674,
            442.624
           ],
           "yaxis": "y"
          },
          {
           "hovertemplate": "variable=Revenue<br>County=RICHLAND<br>Year=%{x}<br>value=%{y}<extra></extra>",
           "legendgroup": "Revenue",
           "line": {
            "color": "#EF553B",
            "dash": "solid"
           },
           "mode": "lines",
           "name": "Revenue",
           "orientation": "v",
           "showlegend": true,
           "type": "scatter",
           "x": [
            2001,
            2002,
            2003,
            2004,
            2005,
            2006,
            2007,
            2008,
            2009,
            2010,
            2011,
            2012,
            2013,
            2014,
            2015,
            2016,
            2017,
            2018,
            2020
           ],
           "xaxis": "x",
           "y": [
            580.8865449681358,
            647.7441527627154,
            745.6019911293735,
            826.1857973080228,
            427.0540349967754,
            861.5530491738539,
            461.0037165831899,
            561.8596616229908,
            489.42084221537453,
            465.77431892320914,
            394.56978851436924,
            434.89787956756385,
            684.1595912620874,
            607.8055096247106,
            453.34426947384077,
            544.045571920828,
            759.4577351600138,
            735.4682588906674,
            442.624
           ],
           "yaxis": "y"
          }
         ],
         "name": "RICHLAND"
        },
        {
         "data": [
          {
           "hovertemplate": "variable=85% Revenue<br>County=ROCK ISLAND<br>Year=%{x}<br>value=%{y}<extra></extra>",
           "legendgroup": "85% Revenue",
           "line": {
            "color": "#636efa",
            "dash": "solid"
           },
           "mode": "lines",
           "name": "85% Revenue",
           "orientation": "v",
           "showlegend": true,
           "type": "scatter",
           "x": [
            2001,
            2002,
            2003,
            2004,
            2005,
            2006,
            2007,
            2008,
            2009,
            2010,
            2011,
            2012,
            2013,
            2014,
            2015,
            2016,
            2017,
            2018,
            2020
           ],
           "xaxis": "x",
           "y": [
            752.3638042054532,
            991.5035202790194,
            687.825095850023,
            1118.9984799343868,
            554.6875572489911,
            748.893536337456,
            538.374951187661,
            872.5189406400553,
            540.5227741536146,
            574.30375081553,
            722.9860053271545,
            679.61835,
            574.5764784766518,
            644.9286564232422,
            546.7265699683345,
            820.9440317495204,
            1003.1301805005455,
            1031.8608007952243,
            577.92
           ],
           "yaxis": "y"
          },
          {
           "hovertemplate": "variable=Revenue<br>County=ROCK ISLAND<br>Year=%{x}<br>value=%{y}<extra></extra>",
           "legendgroup": "Revenue",
           "line": {
            "color": "#EF553B",
            "dash": "solid"
           },
           "mode": "lines",
           "name": "Revenue",
           "orientation": "v",
           "showlegend": true,
           "type": "scatter",
           "x": [
            2001,
            2002,
            2003,
            2004,
            2005,
            2006,
            2007,
            2008,
            2009,
            2010,
            2011,
            2012,
            2013,
            2014,
            2015,
            2016,
            2017,
            2018,
            2020
           ],
           "xaxis": "x",
           "y": [
            752.3638042054532,
            991.5035202790194,
            687.825095850023,
            1118.9984799343868,
            554.6875572489911,
            748.893536337456,
            538.374951187661,
            872.5189406400553,
            540.5227741536146,
            574.30375081553,
            722.9860053271545,
            631.6468693310402,
            574.5764784766518,
            644.9286564232422,
            546.7265699683345,
            820.9440317495204,
            1003.1301805005455,
            1031.8608007952243,
            577.92
           ],
           "yaxis": "y"
          }
         ],
         "name": "ROCK ISLAND"
        },
        {
         "data": [
          {
           "hovertemplate": "variable=85% Revenue<br>County=SALINE<br>Year=%{x}<br>value=%{y}<extra></extra>",
           "legendgroup": "85% Revenue",
           "line": {
            "color": "#636efa",
            "dash": "solid"
           },
           "mode": "lines",
           "name": "85% Revenue",
           "orientation": "v",
           "showlegend": true,
           "type": "scatter",
           "x": [
            2001,
            2002,
            2003,
            2004,
            2005,
            2006,
            2007,
            2008,
            2009,
            2010,
            2011,
            2012,
            2013,
            2014,
            2016,
            2017,
            2018,
            2020
           ],
           "xaxis": "x",
           "y": [
            728.554655107778,
            464.6227043023345,
            868.7884070550958,
            640.6912250405447,
            901.5488137486768,
            736.8178214312453,
            458.9209914404555,
            704.5505543839538,
            456.8172663895594,
            615.8317394472186,
            481.6567027777777,
            591.2268632543155,
            691.9789681942092,
            786.6341264884582,
            605.8472882136384,
            440.81168089311456,
            412.8505288029962,
            491.26000000000005
           ],
           "yaxis": "y"
          },
          {
           "hovertemplate": "variable=Revenue<br>County=SALINE<br>Year=%{x}<br>value=%{y}<extra></extra>",
           "legendgroup": "Revenue",
           "line": {
            "color": "#EF553B",
            "dash": "solid"
           },
           "mode": "lines",
           "name": "Revenue",
           "orientation": "v",
           "showlegend": true,
           "type": "scatter",
           "x": [
            2001,
            2002,
            2003,
            2004,
            2005,
            2006,
            2007,
            2008,
            2009,
            2010,
            2011,
            2012,
            2013,
            2014,
            2016,
            2017,
            2018,
            2020
           ],
           "xaxis": "x",
           "y": [
            728.554655107778,
            464.6227043023345,
            868.7884070550958,
            640.6912250405447,
            901.5488137486768,
            736.8178214312453,
            458.9209914404555,
            704.5505543839538,
            456.8172663895594,
            615.8317394472186,
            470.83822305248356,
            591.2268632543155,
            691.9789681942092,
            786.6341264884582,
            605.8472882136384,
            440.81168089311456,
            412.8505288029962,
            491.26000000000005
           ],
           "yaxis": "y"
          }
         ],
         "name": "SALINE"
        },
        {
         "data": [
          {
           "hovertemplate": "variable=85% Revenue<br>County=SANGAMON<br>Year=%{x}<br>value=%{y}<extra></extra>",
           "legendgroup": "85% Revenue",
           "line": {
            "color": "#636efa",
            "dash": "solid"
           },
           "mode": "lines",
           "name": "85% Revenue",
           "orientation": "v",
           "showlegend": true,
           "type": "scatter",
           "x": [
            2001,
            2002,
            2003,
            2004,
            2005,
            2006,
            2007,
            2008,
            2009,
            2010,
            2011,
            2012,
            2013,
            2014,
            2015,
            2016,
            2017,
            2018,
            2019,
            2020
           ],
           "xaxis": "x",
           "y": [
            1039.4781270336493,
            1035.8935814433491,
            784.3568399517989,
            978.2611556277528,
            1078.3221980522849,
            919.3022904565115,
            926.090822471195,
            905.4322982664856,
            614.072643795737,
            1164.7460499589918,
            919.7047808318008,
            857.358092128712,
            726.3146256218333,
            1038.4975392943315,
            667.8815338753391,
            1144.734720799259,
            984.3118977058998,
            1211.2466812397647,
            899.636730434321,
            960.596
           ],
           "yaxis": "y"
          },
          {
           "hovertemplate": "variable=Revenue<br>County=SANGAMON<br>Year=%{x}<br>value=%{y}<extra></extra>",
           "legendgroup": "Revenue",
           "line": {
            "color": "#EF553B",
            "dash": "solid"
           },
           "mode": "lines",
           "name": "Revenue",
           "orientation": "v",
           "showlegend": true,
           "type": "scatter",
           "x": [
            2001,
            2002,
            2003,
            2004,
            2005,
            2006,
            2007,
            2008,
            2009,
            2010,
            2011,
            2012,
            2013,
            2014,
            2015,
            2016,
            2017,
            2018,
            2019,
            2020
           ],
           "xaxis": "x",
           "y": [
            1039.4781270336493,
            1035.8935814433491,
            784.3568399517989,
            978.2611556277528,
            1078.3221980522849,
            919.3022904565115,
            926.090822471195,
            905.4322982664856,
            614.072643795737,
            1164.7460499589918,
            919.7047808318008,
            857.358092128712,
            726.3146256218333,
            1038.4975392943315,
            667.8815338753391,
            1144.734720799259,
            984.3118977058998,
            1211.2466812397647,
            899.636730434321,
            960.596
           ],
           "yaxis": "y"
          }
         ],
         "name": "SANGAMON"
        },
        {
         "data": [
          {
           "hovertemplate": "variable=85% Revenue<br>County=SCHUYLER<br>Year=%{x}<br>value=%{y}<extra></extra>",
           "legendgroup": "85% Revenue",
           "line": {
            "color": "#636efa",
            "dash": "solid"
           },
           "mode": "lines",
           "name": "85% Revenue",
           "orientation": "v",
           "showlegend": true,
           "type": "scatter",
           "x": [
            2001,
            2002,
            2003,
            2004,
            2005,
            2006,
            2007,
            2008,
            2009,
            2010,
            2011,
            2012,
            2013,
            2014,
            2015,
            2016,
            2017,
            2018,
            2020
           ],
           "xaxis": "x",
           "y": [
            586.0997225680763,
            482.7747592269659,
            499.38643804018113,
            868.7668054646467,
            494.2184734398768,
            876.4214354299555,
            521.6735749488391,
            805.8443987354982,
            615.238665181328,
            815.3060432808055,
            654.2851807553574,
            633.21345,
            529.5293763157895,
            516.7103253465837,
            839.180379613483,
            708.0371046288113,
            670.1867892995073,
            554.8363041802368,
            502.216
           ],
           "yaxis": "y"
          },
          {
           "hovertemplate": "variable=Revenue<br>County=SCHUYLER<br>Year=%{x}<br>value=%{y}<extra></extra>",
           "legendgroup": "Revenue",
           "line": {
            "color": "#EF553B",
            "dash": "solid"
           },
           "mode": "lines",
           "name": "Revenue",
           "orientation": "v",
           "showlegend": true,
           "type": "scatter",
           "x": [
            2001,
            2002,
            2003,
            2004,
            2005,
            2006,
            2007,
            2008,
            2009,
            2010,
            2011,
            2012,
            2013,
            2014,
            2015,
            2016,
            2017,
            2018,
            2020
           ],
           "xaxis": "x",
           "y": [
            586.0997225680763,
            482.7747592269659,
            499.38643804018113,
            868.7668054646467,
            494.2184734398768,
            876.4214354299555,
            521.6735749488391,
            805.8443987354982,
            615.238665181328,
            815.3060432808055,
            654.2851807553574,
            591.0872011009985,
            487.86198875909446,
            516.7103253465837,
            839.180379613483,
            708.0371046288113,
            670.1867892995073,
            554.8363041802368,
            502.216
           ],
           "yaxis": "y"
          }
         ],
         "name": "SCHUYLER"
        },
        {
         "data": [
          {
           "hovertemplate": "variable=85% Revenue<br>County=SCOTT<br>Year=%{x}<br>value=%{y}<extra></extra>",
           "legendgroup": "85% Revenue",
           "line": {
            "color": "#636efa",
            "dash": "solid"
           },
           "mode": "lines",
           "name": "85% Revenue",
           "orientation": "v",
           "showlegend": true,
           "type": "scatter",
           "x": [
            2001,
            2002,
            2003,
            2004,
            2005,
            2006,
            2007,
            2008,
            2009,
            2010,
            2011,
            2012,
            2013,
            2014,
            2015,
            2016,
            2017,
            2020
           ],
           "xaxis": "x",
           "y": [
            966.4274945499533,
            830.4389094001583,
            581.833237448806,
            774.8460697387391,
            712.3200253617135,
            556.3121798428135,
            811.5600596296214,
            719.020002589523,
            568.3027741536146,
            935.810122144983,
            691.7490093595474,
            844.7636343799192,
            888.9194119288973,
            944.8350900488126,
            681.0435897480818,
            820.8484629485415,
            790.7158996583934,
            939.3299999999999
           ],
           "yaxis": "y"
          },
          {
           "hovertemplate": "variable=Revenue<br>County=SCOTT<br>Year=%{x}<br>value=%{y}<extra></extra>",
           "legendgroup": "Revenue",
           "line": {
            "color": "#EF553B",
            "dash": "solid"
           },
           "mode": "lines",
           "name": "Revenue",
           "orientation": "v",
           "showlegend": true,
           "type": "scatter",
           "x": [
            2001,
            2002,
            2003,
            2004,
            2005,
            2006,
            2007,
            2008,
            2009,
            2010,
            2011,
            2012,
            2013,
            2014,
            2015,
            2016,
            2017,
            2020
           ],
           "xaxis": "x",
           "y": [
            966.4274945499533,
            830.4389094001583,
            581.833237448806,
            774.8460697387391,
            712.3200253617135,
            556.3121798428135,
            811.5600596296214,
            719.020002589523,
            568.3027741536146,
            935.810122144983,
            691.7490093595474,
            844.7636343799192,
            888.9194119288973,
            944.8350900488126,
            681.0435897480818,
            820.8484629485415,
            790.7158996583934,
            939.3299999999999
           ],
           "yaxis": "y"
          }
         ],
         "name": "SCOTT"
        },
        {
         "data": [
          {
           "hovertemplate": "variable=85% Revenue<br>County=SHELBY<br>Year=%{x}<br>value=%{y}<extra></extra>",
           "legendgroup": "85% Revenue",
           "line": {
            "color": "#636efa",
            "dash": "solid"
           },
           "mode": "lines",
           "name": "85% Revenue",
           "orientation": "v",
           "showlegend": true,
           "type": "scatter",
           "x": [
            2001,
            2002,
            2003,
            2004,
            2005,
            2006,
            2007,
            2008,
            2009,
            2010,
            2011,
            2012,
            2013,
            2014,
            2015,
            2016,
            2017,
            2018,
            2019,
            2020
           ],
           "xaxis": "x",
           "y": [
            499.5984348284938,
            856.4640681684632,
            955.7397676739695,
            694.4701787110256,
            714.0003357460809,
            1004.9115503871286,
            811.050224693895,
            921.0051613578277,
            584.3016165526655,
            916.0323552710165,
            586.9128025,
            669.5765774999999,
            559.9383074999998,
            919.3070575141542,
            816.7935142229974,
            917.2352524672928,
            761.4760326620642,
            682.3777629689795,
            945.1434003976123,
            938.126
           ],
           "yaxis": "y"
          },
          {
           "hovertemplate": "variable=Revenue<br>County=SHELBY<br>Year=%{x}<br>value=%{y}<extra></extra>",
           "legendgroup": "Revenue",
           "line": {
            "color": "#EF553B",
            "dash": "solid"
           },
           "mode": "lines",
           "name": "Revenue",
           "orientation": "v",
           "showlegend": true,
           "type": "scatter",
           "x": [
            2001,
            2002,
            2003,
            2004,
            2005,
            2006,
            2007,
            2008,
            2009,
            2010,
            2011,
            2012,
            2013,
            2014,
            2015,
            2016,
            2017,
            2018,
            2019,
            2020
           ],
           "xaxis": "x",
           "y": [
            499.5984348284938,
            856.4640681684632,
            955.7397676739695,
            694.4701787110256,
            714.0003357460809,
            1004.9115503871286,
            811.050224693895,
            921.0051613578277,
            584.3016165526655,
            916.0323552710165,
            499.42011464609095,
            530.5304558318671,
            457.03388989592565,
            919.3070575141542,
            816.7935142229974,
            917.2352524672928,
            761.4760326620642,
            682.3777629689795,
            945.1434003976123,
            938.126
           ],
           "yaxis": "y"
          }
         ],
         "name": "SHELBY"
        },
        {
         "data": [
          {
           "hovertemplate": "variable=85% Revenue<br>County=ST CLAIR<br>Year=%{x}<br>value=%{y}<extra></extra>",
           "legendgroup": "85% Revenue",
           "line": {
            "color": "#636efa",
            "dash": "solid"
           },
           "mode": "lines",
           "name": "85% Revenue",
           "orientation": "v",
           "showlegend": true,
           "type": "scatter",
           "x": [
            2001,
            2002,
            2003,
            2004,
            2005,
            2006,
            2007,
            2008,
            2009,
            2010,
            2011,
            2012,
            2013,
            2014,
            2015,
            2016,
            2017,
            2018,
            2019,
            2020
           ],
           "xaxis": "x",
           "y": [
            893.1500320754676,
            720.0968050261588,
            784.4567551383025,
            522.8982127241218,
            886.8647891513986,
            571.783237448806,
            527.9928082022784,
            968.6180895184863,
            621.1294278036574,
            624.5977377139691,
            632.8470813262945,
            569.3068800000001,
            476.08704,
            829.9915530891924,
            633.9563467321747,
            935.8181887845757,
            585.6425025998743,
            738.0436946879753,
            574.997491670051,
            822.547
           ],
           "yaxis": "y"
          },
          {
           "hovertemplate": "variable=Revenue<br>County=ST CLAIR<br>Year=%{x}<br>value=%{y}<extra></extra>",
           "legendgroup": "Revenue",
           "line": {
            "color": "#EF553B",
            "dash": "solid"
           },
           "mode": "lines",
           "name": "Revenue",
           "orientation": "v",
           "showlegend": true,
           "type": "scatter",
           "x": [
            2001,
            2002,
            2003,
            2004,
            2005,
            2006,
            2007,
            2008,
            2009,
            2010,
            2011,
            2012,
            2013,
            2014,
            2015,
            2016,
            2017,
            2018,
            2019,
            2020
           ],
           "xaxis": "x",
           "y": [
            893.1500320754676,
            720.0968050261588,
            784.4567551383025,
            522.8982127241218,
            886.8647891513986,
            571.783237448806,
            527.9928082022784,
            968.6180895184863,
            621.1294278036574,
            624.5977377139691,
            632.8470813262945,
            393.7797862152258,
            433.3781473999933,
            829.9915530891924,
            633.9563467321747,
            935.8181887845757,
            585.6425025998743,
            738.0436946879753,
            574.997491670051,
            822.547
           ],
           "yaxis": "y"
          }
         ],
         "name": "ST CLAIR"
        },
        {
         "data": [
          {
           "hovertemplate": "variable=85% Revenue<br>County=STARK<br>Year=%{x}<br>value=%{y}<extra></extra>",
           "legendgroup": "85% Revenue",
           "line": {
            "color": "#636efa",
            "dash": "solid"
           },
           "mode": "lines",
           "name": "85% Revenue",
           "orientation": "v",
           "showlegend": true,
           "type": "scatter",
           "x": [
            2001,
            2002,
            2003,
            2004,
            2005,
            2006,
            2007,
            2008,
            2009,
            2010,
            2011,
            2012,
            2013,
            2014,
            2015,
            2016,
            2017,
            2019,
            2020
           ],
           "xaxis": "x",
           "y": [
            588.1431185866458,
            1075.963508564058,
            600.9364490974103,
            828.8655561172033,
            854.1725969358916,
            669.9885844920628,
            1052.5389939944105,
            786.5685346042064,
            806.1165950752363,
            607.3075209011838,
            766.2023314588761,
            718.03665,
            995.2835866638004,
            729.6382623571664,
            1072.3191875253817,
            1100.7860968188372,
            623.7151971604437,
            887.7793452181692,
            1010.208
           ],
           "yaxis": "y"
          },
          {
           "hovertemplate": "variable=Revenue<br>County=STARK<br>Year=%{x}<br>value=%{y}<extra></extra>",
           "legendgroup": "Revenue",
           "line": {
            "color": "#EF553B",
            "dash": "solid"
           },
           "mode": "lines",
           "name": "Revenue",
           "orientation": "v",
           "showlegend": true,
           "type": "scatter",
           "x": [
            2001,
            2002,
            2003,
            2004,
            2005,
            2006,
            2007,
            2008,
            2009,
            2010,
            2011,
            2012,
            2013,
            2014,
            2015,
            2016,
            2017,
            2019,
            2020
           ],
           "xaxis": "x",
           "y": [
            588.1431185866458,
            1075.963508564058,
            600.9364490974103,
            828.8655561172033,
            854.1725969358916,
            669.9885844920628,
            1052.5389939944105,
            786.5685346042064,
            806.1165950752363,
            607.3075209011838,
            766.2023314588761,
            566.697400652424,
            995.2835866638004,
            729.6382623571664,
            1072.3191875253817,
            1100.7860968188372,
            623.7151971604437,
            887.7793452181692,
            1010.208
           ],
           "yaxis": "y"
          }
         ],
         "name": "STARK"
        },
        {
         "data": [
          {
           "hovertemplate": "variable=85% Revenue<br>County=STEPHENSON<br>Year=%{x}<br>value=%{y}<extra></extra>",
           "legendgroup": "85% Revenue",
           "line": {
            "color": "#636efa",
            "dash": "solid"
           },
           "mode": "lines",
           "name": "85% Revenue",
           "orientation": "v",
           "showlegend": true,
           "type": "scatter",
           "x": [
            2001,
            2002,
            2003,
            2004,
            2005,
            2006,
            2007,
            2008,
            2009,
            2010,
            2011,
            2012,
            2013,
            2014,
            2015,
            2016,
            2017,
            2018,
            2019,
            2020
           ],
           "xaxis": "x",
           "y": [
            1064.183247629059,
            996.5100780583367,
            373.2186725528142,
            1021.8539649262513,
            899.9311979248789,
            626.0802212273959,
            928.2685534714099,
            896.5297032623848,
            748.0845523040543,
            656.5995767739267,
            953.3740970736488,
            693.84276,
            952.851510792066,
            692.0593125916727,
            1004.7546965486307,
            704.9198931076129,
            1047.0439489803557,
            709.8731439334944,
            825.1641869239203,
            1038.626
           ],
           "yaxis": "y"
          },
          {
           "hovertemplate": "variable=Revenue<br>County=STEPHENSON<br>Year=%{x}<br>value=%{y}<extra></extra>",
           "legendgroup": "Revenue",
           "line": {
            "color": "#EF553B",
            "dash": "solid"
           },
           "mode": "lines",
           "name": "Revenue",
           "orientation": "v",
           "showlegend": true,
           "type": "scatter",
           "x": [
            2001,
            2002,
            2003,
            2004,
            2005,
            2006,
            2007,
            2008,
            2009,
            2010,
            2011,
            2012,
            2013,
            2014,
            2015,
            2016,
            2017,
            2018,
            2019,
            2020
           ],
           "xaxis": "x",
           "y": [
            1064.183247629059,
            996.5100780583367,
            373.2186725528142,
            1021.8539649262513,
            899.9311979248789,
            626.0802212273959,
            928.2685534714099,
            896.5297032623848,
            748.0845523040543,
            656.5995767739267,
            953.3740970736488,
            655.093677936239,
            952.851510792066,
            692.0593125916727,
            1004.7546965486307,
            704.9198931076129,
            1047.0439489803557,
            709.8731439334944,
            825.1641869239203,
            1038.626
           ],
           "yaxis": "y"
          }
         ],
         "name": "STEPHENSON"
        },
        {
         "data": [
          {
           "hovertemplate": "variable=85% Revenue<br>County=TAZEWELL<br>Year=%{x}<br>value=%{y}<extra></extra>",
           "legendgroup": "85% Revenue",
           "line": {
            "color": "#636efa",
            "dash": "solid"
           },
           "mode": "lines",
           "name": "85% Revenue",
           "orientation": "v",
           "showlegend": true,
           "type": "scatter",
           "x": [
            2001,
            2002,
            2003,
            2004,
            2005,
            2006,
            2007,
            2008,
            2009,
            2010,
            2011,
            2012,
            2013,
            2014,
            2015,
            2016,
            2017,
            2018,
            2019,
            2020
           ],
           "xaxis": "x",
           "y": [
            842.8293464566603,
            917.3278630706393,
            649.8940228433261,
            731.623279526688,
            611.675916827915,
            737.1890443207552,
            972.3377906298363,
            880.0740499589917,
            725.606993958843,
            805.6197755402142,
            934.8192005351046,
            814.2046234500957,
            947.3795590740789,
            584.584871156128,
            528.0781890038196,
            878.2128205749717,
            882.1952484348997,
            1043.9393554546928,
            894.0993107310172,
            533.172
           ],
           "yaxis": "y"
          },
          {
           "hovertemplate": "variable=Revenue<br>County=TAZEWELL<br>Year=%{x}<br>value=%{y}<extra></extra>",
           "legendgroup": "Revenue",
           "line": {
            "color": "#EF553B",
            "dash": "solid"
           },
           "mode": "lines",
           "name": "Revenue",
           "orientation": "v",
           "showlegend": true,
           "type": "scatter",
           "x": [
            2001,
            2002,
            2003,
            2004,
            2005,
            2006,
            2007,
            2008,
            2009,
            2010,
            2011,
            2012,
            2013,
            2014,
            2015,
            2016,
            2017,
            2018,
            2019,
            2020
           ],
           "xaxis": "x",
           "y": [
            842.8293464566603,
            917.3278630706393,
            649.8940228433261,
            731.623279526688,
            611.675916827915,
            737.1890443207552,
            972.3377906298363,
            880.0740499589917,
            725.606993958843,
            805.6197755402142,
            934.8192005351046,
            814.2046234500957,
            947.3795590740789,
            584.584871156128,
            528.0781890038196,
            878.2128205749717,
            882.1952484348997,
            1043.9393554546928,
            894.0993107310172,
            533.172
           ],
           "yaxis": "y"
          }
         ],
         "name": "TAZEWELL"
        },
        {
         "data": [
          {
           "hovertemplate": "variable=85% Revenue<br>County=UNION<br>Year=%{x}<br>value=%{y}<extra></extra>",
           "legendgroup": "85% Revenue",
           "line": {
            "color": "#636efa",
            "dash": "solid"
           },
           "mode": "lines",
           "name": "85% Revenue",
           "orientation": "v",
           "showlegend": true,
           "type": "scatter",
           "x": [
            2001,
            2002,
            2003,
            2004,
            2005,
            2006,
            2007,
            2008,
            2009,
            2010,
            2011,
            2012,
            2013,
            2016,
            2017,
            2019,
            2020
           ],
           "xaxis": "x",
           "y": [
            932.266221991831,
            643.0998828503866,
            514.5680936427176,
            700.1461079116342,
            788.2526314230436,
            933.4397757031878,
            719.7677867248493,
            755.500895350486,
            810.7153071164097,
            504.21306453899047,
            690.637293194143,
            575.2119729199019,
            894.4358947490244,
            534.7043338498578,
            542.1095528343806,
            369.34634717066274,
            481.65
           ],
           "yaxis": "y"
          },
          {
           "hovertemplate": "variable=Revenue<br>County=UNION<br>Year=%{x}<br>value=%{y}<extra></extra>",
           "legendgroup": "Revenue",
           "line": {
            "color": "#EF553B",
            "dash": "solid"
           },
           "mode": "lines",
           "name": "Revenue",
           "orientation": "v",
           "showlegend": true,
           "type": "scatter",
           "x": [
            2001,
            2002,
            2003,
            2004,
            2005,
            2006,
            2007,
            2008,
            2009,
            2010,
            2011,
            2012,
            2013,
            2016,
            2017,
            2019,
            2020
           ],
           "xaxis": "x",
           "y": [
            932.266221991831,
            643.0998828503866,
            514.5680936427176,
            700.1461079116342,
            788.2526314230436,
            933.4397757031878,
            719.7677867248493,
            755.500895350486,
            810.7153071164097,
            504.21306453899047,
            690.637293194143,
            575.2119729199019,
            894.4358947490244,
            534.7043338498578,
            542.1095528343806,
            369.34634717066274,
            481.65
           ],
           "yaxis": "y"
          }
         ],
         "name": "UNION"
        },
        {
         "data": [
          {
           "hovertemplate": "variable=85% Revenue<br>County=VERMILION<br>Year=%{x}<br>value=%{y}<extra></extra>",
           "legendgroup": "85% Revenue",
           "line": {
            "color": "#636efa",
            "dash": "solid"
           },
           "mode": "lines",
           "name": "85% Revenue",
           "orientation": "v",
           "showlegend": true,
           "type": "scatter",
           "x": [
            2001,
            2002,
            2003,
            2004,
            2005,
            2006,
            2007,
            2008,
            2009,
            2010,
            2011,
            2012,
            2013,
            2014,
            2015,
            2016,
            2017,
            2018,
            2020
           ],
           "xaxis": "x",
           "y": [
            776.6710330798496,
            791.6642373569678,
            842.1025810966993,
            756.0619225935575,
            743.9370549039286,
            561.1238395695812,
            608.681007060404,
            687.5873503260796,
            970.7710795012069,
            1039.8789990311857,
            627.3986000000001,
            715.7646000000001,
            795.8750095787915,
            660.7310504893179,
            653.2121988936934,
            778.7520678425159,
            1047.7625243321154,
            910.9919560970303,
            654.346
           ],
           "yaxis": "y"
          },
          {
           "hovertemplate": "variable=Revenue<br>County=VERMILION<br>Year=%{x}<br>value=%{y}<extra></extra>",
           "legendgroup": "Revenue",
           "line": {
            "color": "#EF553B",
            "dash": "solid"
           },
           "mode": "lines",
           "name": "Revenue",
           "orientation": "v",
           "showlegend": true,
           "type": "scatter",
           "x": [
            2001,
            2002,
            2003,
            2004,
            2005,
            2006,
            2007,
            2008,
            2009,
            2010,
            2011,
            2012,
            2013,
            2014,
            2015,
            2016,
            2017,
            2018,
            2020
           ],
           "xaxis": "x",
           "y": [
            776.6710330798496,
            791.6642373569678,
            842.1025810966993,
            756.0619225935575,
            743.9370549039286,
            561.1238395695812,
            608.681007060404,
            687.5873503260796,
            970.7710795012069,
            1039.8789990311857,
            519.4458762284706,
            583.6628325447449,
            795.8750095787915,
            660.7310504893179,
            653.2121988936934,
            778.7520678425159,
            1047.7625243321154,
            910.9919560970303,
            654.346
           ],
           "yaxis": "y"
          }
         ],
         "name": "VERMILION"
        },
        {
         "data": [
          {
           "hovertemplate": "variable=85% Revenue<br>County=WABASH<br>Year=%{x}<br>value=%{y}<extra></extra>",
           "legendgroup": "85% Revenue",
           "line": {
            "color": "#636efa",
            "dash": "solid"
           },
           "mode": "lines",
           "name": "85% Revenue",
           "orientation": "v",
           "showlegend": true,
           "type": "scatter",
           "x": [
            2001,
            2002,
            2003,
            2004,
            2005,
            2006,
            2007,
            2008,
            2009,
            2010,
            2011,
            2012,
            2013,
            2014,
            2015,
            2016,
            2017,
            2020
           ],
           "xaxis": "x",
           "y": [
            520.2133294145443,
            731.5733016411465,
            679.395582575137,
            736.3508953504859,
            695.4345672662706,
            1019.7957894980486,
            716.5297568359842,
            512.2817777777777,
            774.651340216962,
            597.5596326466697,
            749.0912369747501,
            590.1210000000001,
            756.3302624845724,
            722.2387628771412,
            763.0889001324491,
            896.957426855546,
            765.7196041088365,
            610.4350000000001
           ],
           "yaxis": "y"
          },
          {
           "hovertemplate": "variable=Revenue<br>County=WABASH<br>Year=%{x}<br>value=%{y}<extra></extra>",
           "legendgroup": "Revenue",
           "line": {
            "color": "#EF553B",
            "dash": "solid"
           },
           "mode": "lines",
           "name": "Revenue",
           "orientation": "v",
           "showlegend": true,
           "type": "scatter",
           "x": [
            2001,
            2002,
            2003,
            2004,
            2005,
            2006,
            2007,
            2008,
            2009,
            2010,
            2011,
            2012,
            2013,
            2014,
            2015,
            2016,
            2017,
            2020
           ],
           "xaxis": "x",
           "y": [
            520.2133294145443,
            731.5733016411465,
            679.395582575137,
            736.3508953504859,
            695.4345672662706,
            1019.7957894980486,
            716.5297568359842,
            486.2160359093192,
            774.651340216962,
            597.5596326466697,
            749.0912369747501,
            437.78807911898923,
            756.3302624845724,
            722.2387628771412,
            763.0889001324491,
            896.957426855546,
            765.7196041088365,
            610.4350000000001
           ],
           "yaxis": "y"
          }
         ],
         "name": "WABASH"
        },
        {
         "data": [
          {
           "hovertemplate": "variable=85% Revenue<br>County=WARREN<br>Year=%{x}<br>value=%{y}<extra></extra>",
           "legendgroup": "85% Revenue",
           "line": {
            "color": "#636efa",
            "dash": "solid"
           },
           "mode": "lines",
           "name": "85% Revenue",
           "orientation": "v",
           "showlegend": true,
           "type": "scatter",
           "x": [
            2001,
            2002,
            2003,
            2004,
            2005,
            2006,
            2007,
            2008,
            2009,
            2010,
            2011,
            2012,
            2013,
            2014,
            2015,
            2016,
            2017,
            2018,
            2019,
            2020
           ],
           "xaxis": "x",
           "y": [
            951.7149038893278,
            744.897813621271,
            817.5534476189725,
            850.8469512232288,
            1048.1023360008926,
            548.9139315353198,
            1025.405207121453,
            1025.202574163701,
            900.3241573254347,
            929.3635802404258,
            1135.7878469410673,
            733.4142975000001,
            900.5003774417454,
            656.8363352364573,
            801.4855897480818,
            628.5386727364905,
            1038.2201184236721,
            675.8174969616377,
            921.9592237102156,
            579.02
           ],
           "yaxis": "y"
          },
          {
           "hovertemplate": "variable=Revenue<br>County=WARREN<br>Year=%{x}<br>value=%{y}<extra></extra>",
           "legendgroup": "Revenue",
           "line": {
            "color": "#EF553B",
            "dash": "solid"
           },
           "mode": "lines",
           "name": "Revenue",
           "orientation": "v",
           "showlegend": true,
           "type": "scatter",
           "x": [
            2001,
            2002,
            2003,
            2004,
            2005,
            2006,
            2007,
            2008,
            2009,
            2010,
            2011,
            2012,
            2013,
            2014,
            2015,
            2016,
            2017,
            2018,
            2019,
            2020
           ],
           "xaxis": "x",
           "y": [
            951.7149038893278,
            744.897813621271,
            817.5534476189725,
            850.8469512232288,
            1048.1023360008926,
            548.9139315353198,
            1025.405207121453,
            1025.202574163701,
            900.3241573254347,
            929.3635802404258,
            1135.7878469410673,
            678.507896574112,
            900.5003774417454,
            656.8363352364573,
            801.4855897480818,
            628.5386727364905,
            1038.2201184236721,
            675.8174969616377,
            921.9592237102156,
            579.02
           ],
           "yaxis": "y"
          }
         ],
         "name": "WARREN"
        },
        {
         "data": [
          {
           "hovertemplate": "variable=85% Revenue<br>County=WASHINGTON<br>Year=%{x}<br>value=%{y}<extra></extra>",
           "legendgroup": "85% Revenue",
           "line": {
            "color": "#636efa",
            "dash": "solid"
           },
           "mode": "lines",
           "name": "85% Revenue",
           "orientation": "v",
           "showlegend": true,
           "type": "scatter",
           "x": [
            2001,
            2002,
            2003,
            2004,
            2005,
            2006,
            2007,
            2008,
            2009,
            2010,
            2011,
            2012,
            2013,
            2014,
            2015,
            2016,
            2017,
            2018,
            2019,
            2020
           ],
           "xaxis": "x",
           "y": [
            794.705769973113,
            626.22253511383,
            647.6748045521031,
            709.8138504075664,
            821.3546167156389,
            503.32070404752284,
            476.36536437575216,
            583.846100978636,
            683.4933907981182,
            469.14693795869425,
            546.4763561835603,
            520.3166624999999,
            435.11861249999987,
            825.3813284664328,
            494.6802563722798,
            892.1393723694026,
            864.5858090792544,
            493.85054719614385,
            385.2004249948905,
            810.837
           ],
           "yaxis": "y"
          },
          {
           "hovertemplate": "variable=Revenue<br>County=WASHINGTON<br>Year=%{x}<br>value=%{y}<extra></extra>",
           "legendgroup": "Revenue",
           "line": {
            "color": "#EF553B",
            "dash": "solid"
           },
           "mode": "lines",
           "name": "Revenue",
           "orientation": "v",
           "showlegend": true,
           "type": "scatter",
           "x": [
            2001,
            2002,
            2003,
            2004,
            2005,
            2006,
            2007,
            2008,
            2009,
            2010,
            2011,
            2012,
            2013,
            2014,
            2015,
            2016,
            2017,
            2018,
            2019,
            2020
           ],
           "xaxis": "x",
           "y": [
            794.705769973113,
            626.22253511383,
            647.6748045521031,
            709.8138504075664,
            821.3546167156389,
            503.32070404752284,
            476.36536437575216,
            583.846100978636,
            683.4933907981182,
            469.14693795869425,
            546.4763561835603,
            259.0625743473774,
            385.8280439385375,
            825.3813284664328,
            494.6802563722798,
            892.1393723694026,
            864.5858090792544,
            493.85054719614385,
            385.2004249948905,
            810.837
           ],
           "yaxis": "y"
          }
         ],
         "name": "WASHINGTON"
        },
        {
         "data": [
          {
           "hovertemplate": "variable=85% Revenue<br>County=WAYNE<br>Year=%{x}<br>value=%{y}<extra></extra>",
           "legendgroup": "85% Revenue",
           "line": {
            "color": "#636efa",
            "dash": "solid"
           },
           "mode": "lines",
           "name": "85% Revenue",
           "orientation": "v",
           "showlegend": true,
           "type": "scatter",
           "x": [
            2001,
            2002,
            2003,
            2004,
            2005,
            2006,
            2007,
            2008,
            2009,
            2010,
            2011,
            2012,
            2013,
            2014,
            2015,
            2016,
            2017,
            2018,
            2019,
            2020
           ],
           "xaxis": "x",
           "y": [
            860.3964328197299,
            648.4677055970959,
            669.5332595632646,
            690.8853721857264,
            780.9539959469042,
            576.6929845430252,
            360.76888359995684,
            629.868745432105,
            692.1018499335106,
            892.9211829626627,
            462.0999499999999,
            527.18445,
            751.5965337835007,
            828.0895895288378,
            763.9461415425126,
            469.6854707585157,
            713.6605400794695,
            678.7958138967855,
            367.6025579985614,
            661.745
           ],
           "yaxis": "y"
          },
          {
           "hovertemplate": "variable=Revenue<br>County=WAYNE<br>Year=%{x}<br>value=%{y}<extra></extra>",
           "legendgroup": "Revenue",
           "line": {
            "color": "#EF553B",
            "dash": "solid"
           },
           "mode": "lines",
           "name": "Revenue",
           "orientation": "v",
           "showlegend": true,
           "type": "scatter",
           "x": [
            2001,
            2002,
            2003,
            2004,
            2005,
            2006,
            2007,
            2008,
            2009,
            2010,
            2011,
            2012,
            2013,
            2014,
            2015,
            2016,
            2017,
            2018,
            2019,
            2020
           ],
           "xaxis": "x",
           "y": [
            860.3964328197299,
            648.4677055970959,
            669.5332595632646,
            690.8853721857264,
            780.9539959469042,
            576.6929845430252,
            360.76888359995684,
            629.868745432105,
            692.1018499335106,
            892.9211829626627,
            392.6433895033566,
            427.340374795952,
            751.5965337835007,
            828.0895895288378,
            763.9461415425126,
            469.6854707585157,
            713.6605400794695,
            678.7958138967855,
            367.6025579985614,
            661.745
           ],
           "yaxis": "y"
          }
         ],
         "name": "WAYNE"
        },
        {
         "data": [
          {
           "hovertemplate": "variable=85% Revenue<br>County=WHITE<br>Year=%{x}<br>value=%{y}<extra></extra>",
           "legendgroup": "85% Revenue",
           "line": {
            "color": "#636efa",
            "dash": "solid"
           },
           "mode": "lines",
           "name": "85% Revenue",
           "orientation": "v",
           "showlegend": true,
           "type": "scatter",
           "x": [
            2001,
            2002,
            2003,
            2004,
            2005,
            2006,
            2007,
            2008,
            2009,
            2010,
            2011,
            2012,
            2013,
            2014,
            2015,
            2016,
            2017,
            2018,
            2019,
            2020
           ],
           "xaxis": "x",
           "y": [
            852.498744335885,
            631.1581923222101,
            808.4903502698091,
            837.5433749589256,
            978.8224394623484,
            773.9104467982669,
            623.2991551536971,
            550.2074960846616,
            905.7192740158573,
            711.7070744288642,
            633.4209265903828,
            565.8402825000002,
            612.0027589721542,
            538.0733440863813,
            458.1022924652754,
            830.6227207992591,
            526.8035045523678,
            513.1820427711818,
            498.7249159716417,
            915.3720000000001
           ],
           "yaxis": "y"
          },
          {
           "hovertemplate": "variable=Revenue<br>County=WHITE<br>Year=%{x}<br>value=%{y}<extra></extra>",
           "legendgroup": "Revenue",
           "line": {
            "color": "#EF553B",
            "dash": "solid"
           },
           "mode": "lines",
           "name": "Revenue",
           "orientation": "v",
           "showlegend": true,
           "type": "scatter",
           "x": [
            2001,
            2002,
            2003,
            2004,
            2005,
            2006,
            2007,
            2008,
            2009,
            2010,
            2011,
            2012,
            2013,
            2014,
            2015,
            2016,
            2017,
            2018,
            2019,
            2020
           ],
           "xaxis": "x",
           "y": [
            852.498744335885,
            631.1581923222101,
            808.4903502698091,
            837.5433749589256,
            978.8224394623484,
            773.9104467982669,
            623.2991551536971,
            550.2074960846616,
            905.7192740158573,
            711.7070744288642,
            633.4209265903828,
            427.0242446573185,
            612.0027589721542,
            538.0733440863813,
            458.1022924652754,
            830.6227207992591,
            526.8035045523678,
            513.1820427711818,
            498.7249159716417,
            915.3720000000001
           ],
           "yaxis": "y"
          }
         ],
         "name": "WHITE"
        },
        {
         "data": [
          {
           "hovertemplate": "variable=85% Revenue<br>County=WHITESIDE<br>Year=%{x}<br>value=%{y}<extra></extra>",
           "legendgroup": "85% Revenue",
           "line": {
            "color": "#636efa",
            "dash": "solid"
           },
           "mode": "lines",
           "name": "85% Revenue",
           "orientation": "v",
           "showlegend": true,
           "type": "scatter",
           "x": [
            2001,
            2002,
            2003,
            2004,
            2005,
            2006,
            2007,
            2008,
            2009,
            2010,
            2011,
            2012,
            2013,
            2014,
            2015,
            2016,
            2017,
            2018
           ],
           "xaxis": "x",
           "y": [
            715.2078402984487,
            862.5996147631455,
            803.7087942237414,
            865.7297414352797,
            722.7143948305111,
            842.0698490209669,
            926.2144559948407,
            918.754318046233,
            960.0418421235365,
            891.7222042208477,
            974.0479926996493,
            681.2554500000001,
            569.70485,
            911.2999333604074,
            548.827234986689,
            773.5672882136383,
            583.9070779516337,
            862.8660204730472
           ],
           "yaxis": "y"
          },
          {
           "hovertemplate": "variable=Revenue<br>County=WHITESIDE<br>Year=%{x}<br>value=%{y}<extra></extra>",
           "legendgroup": "Revenue",
           "line": {
            "color": "#EF553B",
            "dash": "solid"
           },
           "mode": "lines",
           "name": "Revenue",
           "orientation": "v",
           "showlegend": true,
           "type": "scatter",
           "x": [
            2001,
            2002,
            2003,
            2004,
            2005,
            2006,
            2007,
            2008,
            2009,
            2010,
            2011,
            2012,
            2013,
            2014,
            2015,
            2016,
            2017,
            2018
           ],
           "xaxis": "x",
           "y": [
            715.2078402984487,
            862.5996147631455,
            803.7087942237414,
            865.7297414352797,
            722.7143948305111,
            842.0698490209669,
            926.2144559948407,
            918.754318046233,
            960.0418421235365,
            891.7222042208477,
            974.0479926996493,
            521.9679871532508,
            479.64193128050795,
            911.2999333604074,
            548.827234986689,
            773.5672882136383,
            583.9070779516337,
            862.8660204730472
           ],
           "yaxis": "y"
          }
         ],
         "name": "WHITESIDE"
        },
        {
         "data": [
          {
           "hovertemplate": "variable=85% Revenue<br>County=WILL<br>Year=%{x}<br>value=%{y}<extra></extra>",
           "legendgroup": "85% Revenue",
           "line": {
            "color": "#636efa",
            "dash": "solid"
           },
           "mode": "lines",
           "name": "85% Revenue",
           "orientation": "v",
           "showlegend": true,
           "type": "scatter",
           "x": [
            2001,
            2002,
            2003,
            2004,
            2005,
            2006,
            2007,
            2008,
            2009,
            2010,
            2011,
            2012,
            2013,
            2014,
            2015,
            2016,
            2017,
            2018,
            2019,
            2020
           ],
           "xaxis": "x",
           "y": [
            701.6035933775545,
            638.7748698406638,
            787.2007337527116,
            850.4025125608835,
            566.8620301792445,
            875.3146859091869,
            853.9305235825449,
            718.1529385601558,
            534.1313636468847,
            700.8469364802564,
            966.4850804137507,
            731.1260274060452,
            869.3267499029862,
            506.3878938009127,
            893.4918344972384,
            975.389601590449,
            696.3235627242542,
            600.4389465538064,
            671.1895951315066,
            792.744
           ],
           "yaxis": "y"
          },
          {
           "hovertemplate": "variable=Revenue<br>County=WILL<br>Year=%{x}<br>value=%{y}<extra></extra>",
           "legendgroup": "Revenue",
           "line": {
            "color": "#EF553B",
            "dash": "solid"
           },
           "mode": "lines",
           "name": "Revenue",
           "orientation": "v",
           "showlegend": true,
           "type": "scatter",
           "x": [
            2001,
            2002,
            2003,
            2004,
            2005,
            2006,
            2007,
            2008,
            2009,
            2010,
            2011,
            2012,
            2013,
            2014,
            2015,
            2016,
            2017,
            2018,
            2019,
            2020
           ],
           "xaxis": "x",
           "y": [
            701.6035933775545,
            638.7748698406638,
            787.2007337527116,
            850.4025125608835,
            566.8620301792445,
            875.3146859091869,
            853.9305235825449,
            718.1529385601558,
            534.1313636468847,
            700.8469364802564,
            966.4850804137507,
            731.1260274060452,
            869.3267499029862,
            506.3878938009127,
            893.4918344972384,
            975.389601590449,
            696.3235627242542,
            600.4389465538064,
            671.1895951315066,
            792.744
           ],
           "yaxis": "y"
          }
         ],
         "name": "WILL"
        },
        {
         "data": [
          {
           "hovertemplate": "variable=85% Revenue<br>County=WILLIAMSON<br>Year=%{x}<br>value=%{y}<extra></extra>",
           "legendgroup": "85% Revenue",
           "line": {
            "color": "#636efa",
            "dash": "solid"
           },
           "mode": "lines",
           "name": "85% Revenue",
           "orientation": "v",
           "showlegend": true,
           "type": "scatter",
           "x": [
            2001,
            2002,
            2003,
            2004,
            2005,
            2006,
            2007,
            2008,
            2009,
            2010,
            2011,
            2012,
            2013,
            2014,
            2015,
            2016,
            2017,
            2018,
            2020
           ],
           "xaxis": "x",
           "y": [
            749.9980814892681,
            408.5233250710692,
            455.7653724049704,
            887.0143327892052,
            552.53636516089,
            656.9095731237513,
            626.1582389628114,
            675.2230036294726,
            620.6033986080923,
            685.5479481033797,
            441.09815000000003,
            505.63858666380037,
            762.5254992963489,
            686.2656949427871,
            802.3025980321117,
            697.3124084623983,
            688.8947853945201,
            384.15996000201727,
            424.542
           ],
           "yaxis": "y"
          },
          {
           "hovertemplate": "variable=Revenue<br>County=WILLIAMSON<br>Year=%{x}<br>value=%{y}<extra></extra>",
           "legendgroup": "Revenue",
           "line": {
            "color": "#EF553B",
            "dash": "solid"
           },
           "mode": "lines",
           "name": "Revenue",
           "orientation": "v",
           "showlegend": true,
           "type": "scatter",
           "x": [
            2001,
            2002,
            2003,
            2004,
            2005,
            2006,
            2007,
            2008,
            2009,
            2010,
            2011,
            2012,
            2013,
            2014,
            2015,
            2016,
            2017,
            2018,
            2020
           ],
           "xaxis": "x",
           "y": [
            749.9980814892681,
            408.5233250710692,
            455.7653724049704,
            887.0143327892052,
            552.53636516089,
            656.9095731237513,
            626.1582389628114,
            675.2230036294726,
            620.6033986080923,
            685.5479481033797,
            386.8979747449896,
            505.63858666380037,
            762.5254992963489,
            686.2656949427871,
            802.3025980321117,
            697.3124084623983,
            688.8947853945201,
            384.15996000201727,
            424.542
           ],
           "yaxis": "y"
          }
         ],
         "name": "WILLIAMSON"
        },
        {
         "data": [
          {
           "hovertemplate": "variable=85% Revenue<br>County=WINNEBAGO<br>Year=%{x}<br>value=%{y}<extra></extra>",
           "legendgroup": "85% Revenue",
           "line": {
            "color": "#636efa",
            "dash": "solid"
           },
           "mode": "lines",
           "name": "85% Revenue",
           "orientation": "v",
           "showlegend": true,
           "type": "scatter",
           "x": [
            2001,
            2002,
            2003,
            2004,
            2005,
            2006,
            2007,
            2008,
            2009,
            2010,
            2011,
            2012,
            2013,
            2014,
            2015,
            2016,
            2017,
            2018,
            2019,
            2020
           ],
           "xaxis": "x",
           "y": [
            924.2734584569578,
            743.1947123671205,
            378.68245942577204,
            637.2060506522917,
            618.8624785122195,
            515.0440005096235,
            884.8926470429919,
            863.1646668227394,
            577.5277682961339,
            655.7770677506778,
            546.7800525000001,
            775.9697719818769,
            625.6174255963523,
            820.8459195655465,
            678.4124403037567,
            847.7390685358159,
            434.7491419810007,
            941.898204404524,
            744.4667166394602,
            505.75600000000003
           ],
           "yaxis": "y"
          },
          {
           "hovertemplate": "variable=Revenue<br>County=WINNEBAGO<br>Year=%{x}<br>value=%{y}<extra></extra>",
           "legendgroup": "Revenue",
           "line": {
            "color": "#EF553B",
            "dash": "solid"
           },
           "mode": "lines",
           "name": "Revenue",
           "orientation": "v",
           "showlegend": true,
           "type": "scatter",
           "x": [
            2001,
            2002,
            2003,
            2004,
            2005,
            2006,
            2007,
            2008,
            2009,
            2010,
            2011,
            2012,
            2013,
            2014,
            2015,
            2016,
            2017,
            2018,
            2019,
            2020
           ],
           "xaxis": "x",
           "y": [
            924.2734584569578,
            743.1947123671205,
            378.68245942577204,
            637.2060506522917,
            618.8624785122195,
            515.0440005096235,
            884.8926470429919,
            863.1646668227394,
            577.5277682961339,
            655.7770677506778,
            506.7937421848501,
            775.9697719818769,
            625.6174255963523,
            820.8459195655465,
            678.4124403037567,
            847.7390685358159,
            434.7491419810007,
            941.898204404524,
            744.4667166394602,
            505.75600000000003
           ],
           "yaxis": "y"
          }
         ],
         "name": "WINNEBAGO"
        },
        {
         "data": [
          {
           "hovertemplate": "variable=85% Revenue<br>County=WOODFORD<br>Year=%{x}<br>value=%{y}<extra></extra>",
           "legendgroup": "85% Revenue",
           "line": {
            "color": "#636efa",
            "dash": "solid"
           },
           "mode": "lines",
           "name": "85% Revenue",
           "orientation": "v",
           "showlegend": true,
           "type": "scatter",
           "x": [
            2001,
            2002,
            2003,
            2004,
            2005,
            2006,
            2007,
            2008,
            2009,
            2010,
            2011,
            2012,
            2013,
            2014,
            2015,
            2016,
            2017,
            2018,
            2019,
            2020
           ],
           "xaxis": "x",
           "y": [
            1004.0902353126362,
            999.9001626525891,
            760.14558626088,
            651.483241353793,
            967.378744774373,
            630.1722488171174,
            738.1093280279448,
            914.4055179443083,
            724.4614783848137,
            577.3096079219855,
            848.527921645446,
            731.5828875,
            942.9784142280407,
            1015.9186998877241,
            756.7515388202756,
            961.7854997348368,
            544.3988483839373,
            789.0414927100007,
            543.0065717934223,
            591.522
           ],
           "yaxis": "y"
          },
          {
           "hovertemplate": "variable=Revenue<br>County=WOODFORD<br>Year=%{x}<br>value=%{y}<extra></extra>",
           "legendgroup": "Revenue",
           "line": {
            "color": "#EF553B",
            "dash": "solid"
           },
           "mode": "lines",
           "name": "Revenue",
           "orientation": "v",
           "showlegend": true,
           "type": "scatter",
           "x": [
            2001,
            2002,
            2003,
            2004,
            2005,
            2006,
            2007,
            2008,
            2009,
            2010,
            2011,
            2012,
            2013,
            2014,
            2015,
            2016,
            2017,
            2018,
            2019,
            2020
           ],
           "xaxis": "x",
           "y": [
            1004.0902353126362,
            999.9001626525891,
            760.14558626088,
            651.483241353793,
            967.378744774373,
            630.1722488171174,
            738.1093280279448,
            914.4055179443083,
            724.4614783848137,
            577.3096079219855,
            848.527921645446,
            517.192657463192,
            942.9784142280407,
            1015.9186998877241,
            756.7515388202756,
            961.7854997348368,
            544.3988483839373,
            789.0414927100007,
            543.0065717934223,
            591.522
           ],
           "yaxis": "y"
          }
         ],
         "name": "WOODFORD"
        }
       ],
       "layout": {
        "legend": {
         "title": {
          "text": "variable"
         },
         "tracegroupgap": 0
        },
        "margin": {
         "t": 60
        },
        "sliders": [
         {
          "active": 0,
          "currentvalue": {
           "prefix": "County="
          },
          "len": 0.9,
          "pad": {
           "b": 10,
           "t": 60
          },
          "steps": [
           {
            "args": [
             [
              "ADAMS"
             ],
             {
              "frame": {
               "duration": 0,
               "redraw": false
              },
              "fromcurrent": true,
              "mode": "immediate",
              "transition": {
               "duration": 0,
               "easing": "linear"
              }
             }
            ],
            "label": "ADAMS",
            "method": "animate"
           },
           {
            "args": [
             [
              "ALEXANDER"
             ],
             {
              "frame": {
               "duration": 0,
               "redraw": false
              },
              "fromcurrent": true,
              "mode": "immediate",
              "transition": {
               "duration": 0,
               "easing": "linear"
              }
             }
            ],
            "label": "ALEXANDER",
            "method": "animate"
           },
           {
            "args": [
             [
              "BOND"
             ],
             {
              "frame": {
               "duration": 0,
               "redraw": false
              },
              "fromcurrent": true,
              "mode": "immediate",
              "transition": {
               "duration": 0,
               "easing": "linear"
              }
             }
            ],
            "label": "BOND",
            "method": "animate"
           },
           {
            "args": [
             [
              "BOONE"
             ],
             {
              "frame": {
               "duration": 0,
               "redraw": false
              },
              "fromcurrent": true,
              "mode": "immediate",
              "transition": {
               "duration": 0,
               "easing": "linear"
              }
             }
            ],
            "label": "BOONE",
            "method": "animate"
           },
           {
            "args": [
             [
              "BROWN"
             ],
             {
              "frame": {
               "duration": 0,
               "redraw": false
              },
              "fromcurrent": true,
              "mode": "immediate",
              "transition": {
               "duration": 0,
               "easing": "linear"
              }
             }
            ],
            "label": "BROWN",
            "method": "animate"
           },
           {
            "args": [
             [
              "BUREAU"
             ],
             {
              "frame": {
               "duration": 0,
               "redraw": false
              },
              "fromcurrent": true,
              "mode": "immediate",
              "transition": {
               "duration": 0,
               "easing": "linear"
              }
             }
            ],
            "label": "BUREAU",
            "method": "animate"
           },
           {
            "args": [
             [
              "CALHOUN"
             ],
             {
              "frame": {
               "duration": 0,
               "redraw": false
              },
              "fromcurrent": true,
              "mode": "immediate",
              "transition": {
               "duration": 0,
               "easing": "linear"
              }
             }
            ],
            "label": "CALHOUN",
            "method": "animate"
           },
           {
            "args": [
             [
              "CARROLL"
             ],
             {
              "frame": {
               "duration": 0,
               "redraw": false
              },
              "fromcurrent": true,
              "mode": "immediate",
              "transition": {
               "duration": 0,
               "easing": "linear"
              }
             }
            ],
            "label": "CARROLL",
            "method": "animate"
           },
           {
            "args": [
             [
              "CASS"
             ],
             {
              "frame": {
               "duration": 0,
               "redraw": false
              },
              "fromcurrent": true,
              "mode": "immediate",
              "transition": {
               "duration": 0,
               "easing": "linear"
              }
             }
            ],
            "label": "CASS",
            "method": "animate"
           },
           {
            "args": [
             [
              "CHAMPAIGN"
             ],
             {
              "frame": {
               "duration": 0,
               "redraw": false
              },
              "fromcurrent": true,
              "mode": "immediate",
              "transition": {
               "duration": 0,
               "easing": "linear"
              }
             }
            ],
            "label": "CHAMPAIGN",
            "method": "animate"
           },
           {
            "args": [
             [
              "CHRISTIAN"
             ],
             {
              "frame": {
               "duration": 0,
               "redraw": false
              },
              "fromcurrent": true,
              "mode": "immediate",
              "transition": {
               "duration": 0,
               "easing": "linear"
              }
             }
            ],
            "label": "CHRISTIAN",
            "method": "animate"
           },
           {
            "args": [
             [
              "CLARK"
             ],
             {
              "frame": {
               "duration": 0,
               "redraw": false
              },
              "fromcurrent": true,
              "mode": "immediate",
              "transition": {
               "duration": 0,
               "easing": "linear"
              }
             }
            ],
            "label": "CLARK",
            "method": "animate"
           },
           {
            "args": [
             [
              "CLAY"
             ],
             {
              "frame": {
               "duration": 0,
               "redraw": false
              },
              "fromcurrent": true,
              "mode": "immediate",
              "transition": {
               "duration": 0,
               "easing": "linear"
              }
             }
            ],
            "label": "CLAY",
            "method": "animate"
           },
           {
            "args": [
             [
              "CLINTON"
             ],
             {
              "frame": {
               "duration": 0,
               "redraw": false
              },
              "fromcurrent": true,
              "mode": "immediate",
              "transition": {
               "duration": 0,
               "easing": "linear"
              }
             }
            ],
            "label": "CLINTON",
            "method": "animate"
           },
           {
            "args": [
             [
              "COLES"
             ],
             {
              "frame": {
               "duration": 0,
               "redraw": false
              },
              "fromcurrent": true,
              "mode": "immediate",
              "transition": {
               "duration": 0,
               "easing": "linear"
              }
             }
            ],
            "label": "COLES",
            "method": "animate"
           },
           {
            "args": [
             [
              "COOK"
             ],
             {
              "frame": {
               "duration": 0,
               "redraw": false
              },
              "fromcurrent": true,
              "mode": "immediate",
              "transition": {
               "duration": 0,
               "easing": "linear"
              }
             }
            ],
            "label": "COOK",
            "method": "animate"
           },
           {
            "args": [
             [
              "CRAWFORD"
             ],
             {
              "frame": {
               "duration": 0,
               "redraw": false
              },
              "fromcurrent": true,
              "mode": "immediate",
              "transition": {
               "duration": 0,
               "easing": "linear"
              }
             }
            ],
            "label": "CRAWFORD",
            "method": "animate"
           },
           {
            "args": [
             [
              "CUMBERLAND"
             ],
             {
              "frame": {
               "duration": 0,
               "redraw": false
              },
              "fromcurrent": true,
              "mode": "immediate",
              "transition": {
               "duration": 0,
               "easing": "linear"
              }
             }
            ],
            "label": "CUMBERLAND",
            "method": "animate"
           },
           {
            "args": [
             [
              "DE KALB"
             ],
             {
              "frame": {
               "duration": 0,
               "redraw": false
              },
              "fromcurrent": true,
              "mode": "immediate",
              "transition": {
               "duration": 0,
               "easing": "linear"
              }
             }
            ],
            "label": "DE KALB",
            "method": "animate"
           },
           {
            "args": [
             [
              "DE WITT"
             ],
             {
              "frame": {
               "duration": 0,
               "redraw": false
              },
              "fromcurrent": true,
              "mode": "immediate",
              "transition": {
               "duration": 0,
               "easing": "linear"
              }
             }
            ],
            "label": "DE WITT",
            "method": "animate"
           },
           {
            "args": [
             [
              "DOUGLAS"
             ],
             {
              "frame": {
               "duration": 0,
               "redraw": false
              },
              "fromcurrent": true,
              "mode": "immediate",
              "transition": {
               "duration": 0,
               "easing": "linear"
              }
             }
            ],
            "label": "DOUGLAS",
            "method": "animate"
           },
           {
            "args": [
             [
              "DU PAGE"
             ],
             {
              "frame": {
               "duration": 0,
               "redraw": false
              },
              "fromcurrent": true,
              "mode": "immediate",
              "transition": {
               "duration": 0,
               "easing": "linear"
              }
             }
            ],
            "label": "DU PAGE",
            "method": "animate"
           },
           {
            "args": [
             [
              "EDGAR"
             ],
             {
              "frame": {
               "duration": 0,
               "redraw": false
              },
              "fromcurrent": true,
              "mode": "immediate",
              "transition": {
               "duration": 0,
               "easing": "linear"
              }
             }
            ],
            "label": "EDGAR",
            "method": "animate"
           },
           {
            "args": [
             [
              "EDWARDS"
             ],
             {
              "frame": {
               "duration": 0,
               "redraw": false
              },
              "fromcurrent": true,
              "mode": "immediate",
              "transition": {
               "duration": 0,
               "easing": "linear"
              }
             }
            ],
            "label": "EDWARDS",
            "method": "animate"
           },
           {
            "args": [
             [
              "EFFINGHAM"
             ],
             {
              "frame": {
               "duration": 0,
               "redraw": false
              },
              "fromcurrent": true,
              "mode": "immediate",
              "transition": {
               "duration": 0,
               "easing": "linear"
              }
             }
            ],
            "label": "EFFINGHAM",
            "method": "animate"
           },
           {
            "args": [
             [
              "FAYETTE"
             ],
             {
              "frame": {
               "duration": 0,
               "redraw": false
              },
              "fromcurrent": true,
              "mode": "immediate",
              "transition": {
               "duration": 0,
               "easing": "linear"
              }
             }
            ],
            "label": "FAYETTE",
            "method": "animate"
           },
           {
            "args": [
             [
              "FORD"
             ],
             {
              "frame": {
               "duration": 0,
               "redraw": false
              },
              "fromcurrent": true,
              "mode": "immediate",
              "transition": {
               "duration": 0,
               "easing": "linear"
              }
             }
            ],
            "label": "FORD",
            "method": "animate"
           },
           {
            "args": [
             [
              "FRANKLIN"
             ],
             {
              "frame": {
               "duration": 0,
               "redraw": false
              },
              "fromcurrent": true,
              "mode": "immediate",
              "transition": {
               "duration": 0,
               "easing": "linear"
              }
             }
            ],
            "label": "FRANKLIN",
            "method": "animate"
           },
           {
            "args": [
             [
              "FULTON"
             ],
             {
              "frame": {
               "duration": 0,
               "redraw": false
              },
              "fromcurrent": true,
              "mode": "immediate",
              "transition": {
               "duration": 0,
               "easing": "linear"
              }
             }
            ],
            "label": "FULTON",
            "method": "animate"
           },
           {
            "args": [
             [
              "GALLATIN"
             ],
             {
              "frame": {
               "duration": 0,
               "redraw": false
              },
              "fromcurrent": true,
              "mode": "immediate",
              "transition": {
               "duration": 0,
               "easing": "linear"
              }
             }
            ],
            "label": "GALLATIN",
            "method": "animate"
           },
           {
            "args": [
             [
              "GREENE"
             ],
             {
              "frame": {
               "duration": 0,
               "redraw": false
              },
              "fromcurrent": true,
              "mode": "immediate",
              "transition": {
               "duration": 0,
               "easing": "linear"
              }
             }
            ],
            "label": "GREENE",
            "method": "animate"
           },
           {
            "args": [
             [
              "GRUNDY"
             ],
             {
              "frame": {
               "duration": 0,
               "redraw": false
              },
              "fromcurrent": true,
              "mode": "immediate",
              "transition": {
               "duration": 0,
               "easing": "linear"
              }
             }
            ],
            "label": "GRUNDY",
            "method": "animate"
           },
           {
            "args": [
             [
              "HAMILTON"
             ],
             {
              "frame": {
               "duration": 0,
               "redraw": false
              },
              "fromcurrent": true,
              "mode": "immediate",
              "transition": {
               "duration": 0,
               "easing": "linear"
              }
             }
            ],
            "label": "HAMILTON",
            "method": "animate"
           },
           {
            "args": [
             [
              "HANCOCK"
             ],
             {
              "frame": {
               "duration": 0,
               "redraw": false
              },
              "fromcurrent": true,
              "mode": "immediate",
              "transition": {
               "duration": 0,
               "easing": "linear"
              }
             }
            ],
            "label": "HANCOCK",
            "method": "animate"
           },
           {
            "args": [
             [
              "HARDIN"
             ],
             {
              "frame": {
               "duration": 0,
               "redraw": false
              },
              "fromcurrent": true,
              "mode": "immediate",
              "transition": {
               "duration": 0,
               "easing": "linear"
              }
             }
            ],
            "label": "HARDIN",
            "method": "animate"
           },
           {
            "args": [
             [
              "HENDERSON"
             ],
             {
              "frame": {
               "duration": 0,
               "redraw": false
              },
              "fromcurrent": true,
              "mode": "immediate",
              "transition": {
               "duration": 0,
               "easing": "linear"
              }
             }
            ],
            "label": "HENDERSON",
            "method": "animate"
           },
           {
            "args": [
             [
              "HENRY"
             ],
             {
              "frame": {
               "duration": 0,
               "redraw": false
              },
              "fromcurrent": true,
              "mode": "immediate",
              "transition": {
               "duration": 0,
               "easing": "linear"
              }
             }
            ],
            "label": "HENRY",
            "method": "animate"
           },
           {
            "args": [
             [
              "IROQUOIS"
             ],
             {
              "frame": {
               "duration": 0,
               "redraw": false
              },
              "fromcurrent": true,
              "mode": "immediate",
              "transition": {
               "duration": 0,
               "easing": "linear"
              }
             }
            ],
            "label": "IROQUOIS",
            "method": "animate"
           },
           {
            "args": [
             [
              "JACKSON"
             ],
             {
              "frame": {
               "duration": 0,
               "redraw": false
              },
              "fromcurrent": true,
              "mode": "immediate",
              "transition": {
               "duration": 0,
               "easing": "linear"
              }
             }
            ],
            "label": "JACKSON",
            "method": "animate"
           },
           {
            "args": [
             [
              "JASPER"
             ],
             {
              "frame": {
               "duration": 0,
               "redraw": false
              },
              "fromcurrent": true,
              "mode": "immediate",
              "transition": {
               "duration": 0,
               "easing": "linear"
              }
             }
            ],
            "label": "JASPER",
            "method": "animate"
           },
           {
            "args": [
             [
              "JEFFERSON"
             ],
             {
              "frame": {
               "duration": 0,
               "redraw": false
              },
              "fromcurrent": true,
              "mode": "immediate",
              "transition": {
               "duration": 0,
               "easing": "linear"
              }
             }
            ],
            "label": "JEFFERSON",
            "method": "animate"
           },
           {
            "args": [
             [
              "JERSEY"
             ],
             {
              "frame": {
               "duration": 0,
               "redraw": false
              },
              "fromcurrent": true,
              "mode": "immediate",
              "transition": {
               "duration": 0,
               "easing": "linear"
              }
             }
            ],
            "label": "JERSEY",
            "method": "animate"
           },
           {
            "args": [
             [
              "JO DAVIESS"
             ],
             {
              "frame": {
               "duration": 0,
               "redraw": false
              },
              "fromcurrent": true,
              "mode": "immediate",
              "transition": {
               "duration": 0,
               "easing": "linear"
              }
             }
            ],
            "label": "JO DAVIESS",
            "method": "animate"
           },
           {
            "args": [
             [
              "JOHNSON"
             ],
             {
              "frame": {
               "duration": 0,
               "redraw": false
              },
              "fromcurrent": true,
              "mode": "immediate",
              "transition": {
               "duration": 0,
               "easing": "linear"
              }
             }
            ],
            "label": "JOHNSON",
            "method": "animate"
           },
           {
            "args": [
             [
              "KANE"
             ],
             {
              "frame": {
               "duration": 0,
               "redraw": false
              },
              "fromcurrent": true,
              "mode": "immediate",
              "transition": {
               "duration": 0,
               "easing": "linear"
              }
             }
            ],
            "label": "KANE",
            "method": "animate"
           },
           {
            "args": [
             [
              "KANKAKEE"
             ],
             {
              "frame": {
               "duration": 0,
               "redraw": false
              },
              "fromcurrent": true,
              "mode": "immediate",
              "transition": {
               "duration": 0,
               "easing": "linear"
              }
             }
            ],
            "label": "KANKAKEE",
            "method": "animate"
           },
           {
            "args": [
             [
              "KENDALL"
             ],
             {
              "frame": {
               "duration": 0,
               "redraw": false
              },
              "fromcurrent": true,
              "mode": "immediate",
              "transition": {
               "duration": 0,
               "easing": "linear"
              }
             }
            ],
            "label": "KENDALL",
            "method": "animate"
           },
           {
            "args": [
             [
              "KNOX"
             ],
             {
              "frame": {
               "duration": 0,
               "redraw": false
              },
              "fromcurrent": true,
              "mode": "immediate",
              "transition": {
               "duration": 0,
               "easing": "linear"
              }
             }
            ],
            "label": "KNOX",
            "method": "animate"
           },
           {
            "args": [
             [
              "LA SALLE"
             ],
             {
              "frame": {
               "duration": 0,
               "redraw": false
              },
              "fromcurrent": true,
              "mode": "immediate",
              "transition": {
               "duration": 0,
               "easing": "linear"
              }
             }
            ],
            "label": "LA SALLE",
            "method": "animate"
           },
           {
            "args": [
             [
              "LAKE"
             ],
             {
              "frame": {
               "duration": 0,
               "redraw": false
              },
              "fromcurrent": true,
              "mode": "immediate",
              "transition": {
               "duration": 0,
               "easing": "linear"
              }
             }
            ],
            "label": "LAKE",
            "method": "animate"
           },
           {
            "args": [
             [
              "LAWRENCE"
             ],
             {
              "frame": {
               "duration": 0,
               "redraw": false
              },
              "fromcurrent": true,
              "mode": "immediate",
              "transition": {
               "duration": 0,
               "easing": "linear"
              }
             }
            ],
            "label": "LAWRENCE",
            "method": "animate"
           },
           {
            "args": [
             [
              "LEE"
             ],
             {
              "frame": {
               "duration": 0,
               "redraw": false
              },
              "fromcurrent": true,
              "mode": "immediate",
              "transition": {
               "duration": 0,
               "easing": "linear"
              }
             }
            ],
            "label": "LEE",
            "method": "animate"
           },
           {
            "args": [
             [
              "LIVINGSTON"
             ],
             {
              "frame": {
               "duration": 0,
               "redraw": false
              },
              "fromcurrent": true,
              "mode": "immediate",
              "transition": {
               "duration": 0,
               "easing": "linear"
              }
             }
            ],
            "label": "LIVINGSTON",
            "method": "animate"
           },
           {
            "args": [
             [
              "LOGAN"
             ],
             {
              "frame": {
               "duration": 0,
               "redraw": false
              },
              "fromcurrent": true,
              "mode": "immediate",
              "transition": {
               "duration": 0,
               "easing": "linear"
              }
             }
            ],
            "label": "LOGAN",
            "method": "animate"
           },
           {
            "args": [
             [
              "MACON"
             ],
             {
              "frame": {
               "duration": 0,
               "redraw": false
              },
              "fromcurrent": true,
              "mode": "immediate",
              "transition": {
               "duration": 0,
               "easing": "linear"
              }
             }
            ],
            "label": "MACON",
            "method": "animate"
           },
           {
            "args": [
             [
              "MACOUPIN"
             ],
             {
              "frame": {
               "duration": 0,
               "redraw": false
              },
              "fromcurrent": true,
              "mode": "immediate",
              "transition": {
               "duration": 0,
               "easing": "linear"
              }
             }
            ],
            "label": "MACOUPIN",
            "method": "animate"
           },
           {
            "args": [
             [
              "MADISON"
             ],
             {
              "frame": {
               "duration": 0,
               "redraw": false
              },
              "fromcurrent": true,
              "mode": "immediate",
              "transition": {
               "duration": 0,
               "easing": "linear"
              }
             }
            ],
            "label": "MADISON",
            "method": "animate"
           },
           {
            "args": [
             [
              "MARION"
             ],
             {
              "frame": {
               "duration": 0,
               "redraw": false
              },
              "fromcurrent": true,
              "mode": "immediate",
              "transition": {
               "duration": 0,
               "easing": "linear"
              }
             }
            ],
            "label": "MARION",
            "method": "animate"
           },
           {
            "args": [
             [
              "MARSHALL"
             ],
             {
              "frame": {
               "duration": 0,
               "redraw": false
              },
              "fromcurrent": true,
              "mode": "immediate",
              "transition": {
               "duration": 0,
               "easing": "linear"
              }
             }
            ],
            "label": "MARSHALL",
            "method": "animate"
           },
           {
            "args": [
             [
              "MASON"
             ],
             {
              "frame": {
               "duration": 0,
               "redraw": false
              },
              "fromcurrent": true,
              "mode": "immediate",
              "transition": {
               "duration": 0,
               "easing": "linear"
              }
             }
            ],
            "label": "MASON",
            "method": "animate"
           },
           {
            "args": [
             [
              "MASSAC"
             ],
             {
              "frame": {
               "duration": 0,
               "redraw": false
              },
              "fromcurrent": true,
              "mode": "immediate",
              "transition": {
               "duration": 0,
               "easing": "linear"
              }
             }
            ],
            "label": "MASSAC",
            "method": "animate"
           },
           {
            "args": [
             [
              "MCDONOUGH"
             ],
             {
              "frame": {
               "duration": 0,
               "redraw": false
              },
              "fromcurrent": true,
              "mode": "immediate",
              "transition": {
               "duration": 0,
               "easing": "linear"
              }
             }
            ],
            "label": "MCDONOUGH",
            "method": "animate"
           },
           {
            "args": [
             [
              "MCHENRY"
             ],
             {
              "frame": {
               "duration": 0,
               "redraw": false
              },
              "fromcurrent": true,
              "mode": "immediate",
              "transition": {
               "duration": 0,
               "easing": "linear"
              }
             }
            ],
            "label": "MCHENRY",
            "method": "animate"
           },
           {
            "args": [
             [
              "MCLEAN"
             ],
             {
              "frame": {
               "duration": 0,
               "redraw": false
              },
              "fromcurrent": true,
              "mode": "immediate",
              "transition": {
               "duration": 0,
               "easing": "linear"
              }
             }
            ],
            "label": "MCLEAN",
            "method": "animate"
           },
           {
            "args": [
             [
              "MENARD"
             ],
             {
              "frame": {
               "duration": 0,
               "redraw": false
              },
              "fromcurrent": true,
              "mode": "immediate",
              "transition": {
               "duration": 0,
               "easing": "linear"
              }
             }
            ],
            "label": "MENARD",
            "method": "animate"
           },
           {
            "args": [
             [
              "MERCER"
             ],
             {
              "frame": {
               "duration": 0,
               "redraw": false
              },
              "fromcurrent": true,
              "mode": "immediate",
              "transition": {
               "duration": 0,
               "easing": "linear"
              }
             }
            ],
            "label": "MERCER",
            "method": "animate"
           },
           {
            "args": [
             [
              "MONROE"
             ],
             {
              "frame": {
               "duration": 0,
               "redraw": false
              },
              "fromcurrent": true,
              "mode": "immediate",
              "transition": {
               "duration": 0,
               "easing": "linear"
              }
             }
            ],
            "label": "MONROE",
            "method": "animate"
           },
           {
            "args": [
             [
              "MONTGOMERY"
             ],
             {
              "frame": {
               "duration": 0,
               "redraw": false
              },
              "fromcurrent": true,
              "mode": "immediate",
              "transition": {
               "duration": 0,
               "easing": "linear"
              }
             }
            ],
            "label": "MONTGOMERY",
            "method": "animate"
           },
           {
            "args": [
             [
              "MORGAN"
             ],
             {
              "frame": {
               "duration": 0,
               "redraw": false
              },
              "fromcurrent": true,
              "mode": "immediate",
              "transition": {
               "duration": 0,
               "easing": "linear"
              }
             }
            ],
            "label": "MORGAN",
            "method": "animate"
           },
           {
            "args": [
             [
              "MOULTRIE"
             ],
             {
              "frame": {
               "duration": 0,
               "redraw": false
              },
              "fromcurrent": true,
              "mode": "immediate",
              "transition": {
               "duration": 0,
               "easing": "linear"
              }
             }
            ],
            "label": "MOULTRIE",
            "method": "animate"
           },
           {
            "args": [
             [
              "OGLE"
             ],
             {
              "frame": {
               "duration": 0,
               "redraw": false
              },
              "fromcurrent": true,
              "mode": "immediate",
              "transition": {
               "duration": 0,
               "easing": "linear"
              }
             }
            ],
            "label": "OGLE",
            "method": "animate"
           },
           {
            "args": [
             [
              "OTHER (COMBINED) COUNTIES"
             ],
             {
              "frame": {
               "duration": 0,
               "redraw": false
              },
              "fromcurrent": true,
              "mode": "immediate",
              "transition": {
               "duration": 0,
               "easing": "linear"
              }
             }
            ],
            "label": "OTHER (COMBINED) COUNTIES",
            "method": "animate"
           },
           {
            "args": [
             [
              "OTHER COUNTIES"
             ],
             {
              "frame": {
               "duration": 0,
               "redraw": false
              },
              "fromcurrent": true,
              "mode": "immediate",
              "transition": {
               "duration": 0,
               "easing": "linear"
              }
             }
            ],
            "label": "OTHER COUNTIES",
            "method": "animate"
           },
           {
            "args": [
             [
              "PEORIA"
             ],
             {
              "frame": {
               "duration": 0,
               "redraw": false
              },
              "fromcurrent": true,
              "mode": "immediate",
              "transition": {
               "duration": 0,
               "easing": "linear"
              }
             }
            ],
            "label": "PEORIA",
            "method": "animate"
           },
           {
            "args": [
             [
              "PERRY"
             ],
             {
              "frame": {
               "duration": 0,
               "redraw": false
              },
              "fromcurrent": true,
              "mode": "immediate",
              "transition": {
               "duration": 0,
               "easing": "linear"
              }
             }
            ],
            "label": "PERRY",
            "method": "animate"
           },
           {
            "args": [
             [
              "PIATT"
             ],
             {
              "frame": {
               "duration": 0,
               "redraw": false
              },
              "fromcurrent": true,
              "mode": "immediate",
              "transition": {
               "duration": 0,
               "easing": "linear"
              }
             }
            ],
            "label": "PIATT",
            "method": "animate"
           },
           {
            "args": [
             [
              "PIKE"
             ],
             {
              "frame": {
               "duration": 0,
               "redraw": false
              },
              "fromcurrent": true,
              "mode": "immediate",
              "transition": {
               "duration": 0,
               "easing": "linear"
              }
             }
            ],
            "label": "PIKE",
            "method": "animate"
           },
           {
            "args": [
             [
              "POPE"
             ],
             {
              "frame": {
               "duration": 0,
               "redraw": false
              },
              "fromcurrent": true,
              "mode": "immediate",
              "transition": {
               "duration": 0,
               "easing": "linear"
              }
             }
            ],
            "label": "POPE",
            "method": "animate"
           },
           {
            "args": [
             [
              "PULASKI"
             ],
             {
              "frame": {
               "duration": 0,
               "redraw": false
              },
              "fromcurrent": true,
              "mode": "immediate",
              "transition": {
               "duration": 0,
               "easing": "linear"
              }
             }
            ],
            "label": "PULASKI",
            "method": "animate"
           },
           {
            "args": [
             [
              "PUTNAM"
             ],
             {
              "frame": {
               "duration": 0,
               "redraw": false
              },
              "fromcurrent": true,
              "mode": "immediate",
              "transition": {
               "duration": 0,
               "easing": "linear"
              }
             }
            ],
            "label": "PUTNAM",
            "method": "animate"
           },
           {
            "args": [
             [
              "RANDOLPH"
             ],
             {
              "frame": {
               "duration": 0,
               "redraw": false
              },
              "fromcurrent": true,
              "mode": "immediate",
              "transition": {
               "duration": 0,
               "easing": "linear"
              }
             }
            ],
            "label": "RANDOLPH",
            "method": "animate"
           },
           {
            "args": [
             [
              "RICHLAND"
             ],
             {
              "frame": {
               "duration": 0,
               "redraw": false
              },
              "fromcurrent": true,
              "mode": "immediate",
              "transition": {
               "duration": 0,
               "easing": "linear"
              }
             }
            ],
            "label": "RICHLAND",
            "method": "animate"
           },
           {
            "args": [
             [
              "ROCK ISLAND"
             ],
             {
              "frame": {
               "duration": 0,
               "redraw": false
              },
              "fromcurrent": true,
              "mode": "immediate",
              "transition": {
               "duration": 0,
               "easing": "linear"
              }
             }
            ],
            "label": "ROCK ISLAND",
            "method": "animate"
           },
           {
            "args": [
             [
              "SALINE"
             ],
             {
              "frame": {
               "duration": 0,
               "redraw": false
              },
              "fromcurrent": true,
              "mode": "immediate",
              "transition": {
               "duration": 0,
               "easing": "linear"
              }
             }
            ],
            "label": "SALINE",
            "method": "animate"
           },
           {
            "args": [
             [
              "SANGAMON"
             ],
             {
              "frame": {
               "duration": 0,
               "redraw": false
              },
              "fromcurrent": true,
              "mode": "immediate",
              "transition": {
               "duration": 0,
               "easing": "linear"
              }
             }
            ],
            "label": "SANGAMON",
            "method": "animate"
           },
           {
            "args": [
             [
              "SCHUYLER"
             ],
             {
              "frame": {
               "duration": 0,
               "redraw": false
              },
              "fromcurrent": true,
              "mode": "immediate",
              "transition": {
               "duration": 0,
               "easing": "linear"
              }
             }
            ],
            "label": "SCHUYLER",
            "method": "animate"
           },
           {
            "args": [
             [
              "SCOTT"
             ],
             {
              "frame": {
               "duration": 0,
               "redraw": false
              },
              "fromcurrent": true,
              "mode": "immediate",
              "transition": {
               "duration": 0,
               "easing": "linear"
              }
             }
            ],
            "label": "SCOTT",
            "method": "animate"
           },
           {
            "args": [
             [
              "SHELBY"
             ],
             {
              "frame": {
               "duration": 0,
               "redraw": false
              },
              "fromcurrent": true,
              "mode": "immediate",
              "transition": {
               "duration": 0,
               "easing": "linear"
              }
             }
            ],
            "label": "SHELBY",
            "method": "animate"
           },
           {
            "args": [
             [
              "ST CLAIR"
             ],
             {
              "frame": {
               "duration": 0,
               "redraw": false
              },
              "fromcurrent": true,
              "mode": "immediate",
              "transition": {
               "duration": 0,
               "easing": "linear"
              }
             }
            ],
            "label": "ST CLAIR",
            "method": "animate"
           },
           {
            "args": [
             [
              "STARK"
             ],
             {
              "frame": {
               "duration": 0,
               "redraw": false
              },
              "fromcurrent": true,
              "mode": "immediate",
              "transition": {
               "duration": 0,
               "easing": "linear"
              }
             }
            ],
            "label": "STARK",
            "method": "animate"
           },
           {
            "args": [
             [
              "STEPHENSON"
             ],
             {
              "frame": {
               "duration": 0,
               "redraw": false
              },
              "fromcurrent": true,
              "mode": "immediate",
              "transition": {
               "duration": 0,
               "easing": "linear"
              }
             }
            ],
            "label": "STEPHENSON",
            "method": "animate"
           },
           {
            "args": [
             [
              "TAZEWELL"
             ],
             {
              "frame": {
               "duration": 0,
               "redraw": false
              },
              "fromcurrent": true,
              "mode": "immediate",
              "transition": {
               "duration": 0,
               "easing": "linear"
              }
             }
            ],
            "label": "TAZEWELL",
            "method": "animate"
           },
           {
            "args": [
             [
              "UNION"
             ],
             {
              "frame": {
               "duration": 0,
               "redraw": false
              },
              "fromcurrent": true,
              "mode": "immediate",
              "transition": {
               "duration": 0,
               "easing": "linear"
              }
             }
            ],
            "label": "UNION",
            "method": "animate"
           },
           {
            "args": [
             [
              "VERMILION"
             ],
             {
              "frame": {
               "duration": 0,
               "redraw": false
              },
              "fromcurrent": true,
              "mode": "immediate",
              "transition": {
               "duration": 0,
               "easing": "linear"
              }
             }
            ],
            "label": "VERMILION",
            "method": "animate"
           },
           {
            "args": [
             [
              "WABASH"
             ],
             {
              "frame": {
               "duration": 0,
               "redraw": false
              },
              "fromcurrent": true,
              "mode": "immediate",
              "transition": {
               "duration": 0,
               "easing": "linear"
              }
             }
            ],
            "label": "WABASH",
            "method": "animate"
           },
           {
            "args": [
             [
              "WARREN"
             ],
             {
              "frame": {
               "duration": 0,
               "redraw": false
              },
              "fromcurrent": true,
              "mode": "immediate",
              "transition": {
               "duration": 0,
               "easing": "linear"
              }
             }
            ],
            "label": "WARREN",
            "method": "animate"
           },
           {
            "args": [
             [
              "WASHINGTON"
             ],
             {
              "frame": {
               "duration": 0,
               "redraw": false
              },
              "fromcurrent": true,
              "mode": "immediate",
              "transition": {
               "duration": 0,
               "easing": "linear"
              }
             }
            ],
            "label": "WASHINGTON",
            "method": "animate"
           },
           {
            "args": [
             [
              "WAYNE"
             ],
             {
              "frame": {
               "duration": 0,
               "redraw": false
              },
              "fromcurrent": true,
              "mode": "immediate",
              "transition": {
               "duration": 0,
               "easing": "linear"
              }
             }
            ],
            "label": "WAYNE",
            "method": "animate"
           },
           {
            "args": [
             [
              "WHITE"
             ],
             {
              "frame": {
               "duration": 0,
               "redraw": false
              },
              "fromcurrent": true,
              "mode": "immediate",
              "transition": {
               "duration": 0,
               "easing": "linear"
              }
             }
            ],
            "label": "WHITE",
            "method": "animate"
           },
           {
            "args": [
             [
              "WHITESIDE"
             ],
             {
              "frame": {
               "duration": 0,
               "redraw": false
              },
              "fromcurrent": true,
              "mode": "immediate",
              "transition": {
               "duration": 0,
               "easing": "linear"
              }
             }
            ],
            "label": "WHITESIDE",
            "method": "animate"
           },
           {
            "args": [
             [
              "WILL"
             ],
             {
              "frame": {
               "duration": 0,
               "redraw": false
              },
              "fromcurrent": true,
              "mode": "immediate",
              "transition": {
               "duration": 0,
               "easing": "linear"
              }
             }
            ],
            "label": "WILL",
            "method": "animate"
           },
           {
            "args": [
             [
              "WILLIAMSON"
             ],
             {
              "frame": {
               "duration": 0,
               "redraw": false
              },
              "fromcurrent": true,
              "mode": "immediate",
              "transition": {
               "duration": 0,
               "easing": "linear"
              }
             }
            ],
            "label": "WILLIAMSON",
            "method": "animate"
           },
           {
            "args": [
             [
              "WINNEBAGO"
             ],
             {
              "frame": {
               "duration": 0,
               "redraw": false
              },
              "fromcurrent": true,
              "mode": "immediate",
              "transition": {
               "duration": 0,
               "easing": "linear"
              }
             }
            ],
            "label": "WINNEBAGO",
            "method": "animate"
           },
           {
            "args": [
             [
              "WOODFORD"
             ],
             {
              "frame": {
               "duration": 0,
               "redraw": false
              },
              "fromcurrent": true,
              "mode": "immediate",
              "transition": {
               "duration": 0,
               "easing": "linear"
              }
             }
            ],
            "label": "WOODFORD",
            "method": "animate"
           }
          ],
          "x": 0.1,
          "xanchor": "left",
          "y": 0,
          "yanchor": "top"
         }
        ],
        "template": {
         "data": {
          "bar": [
           {
            "error_x": {
             "color": "#2a3f5f"
            },
            "error_y": {
             "color": "#2a3f5f"
            },
            "marker": {
             "line": {
              "color": "#E5ECF6",
              "width": 0.5
             }
            },
            "type": "bar"
           }
          ],
          "barpolar": [
           {
            "marker": {
             "line": {
              "color": "#E5ECF6",
              "width": 0.5
             }
            },
            "type": "barpolar"
           }
          ],
          "carpet": [
           {
            "aaxis": {
             "endlinecolor": "#2a3f5f",
             "gridcolor": "white",
             "linecolor": "white",
             "minorgridcolor": "white",
             "startlinecolor": "#2a3f5f"
            },
            "baxis": {
             "endlinecolor": "#2a3f5f",
             "gridcolor": "white",
             "linecolor": "white",
             "minorgridcolor": "white",
             "startlinecolor": "#2a3f5f"
            },
            "type": "carpet"
           }
          ],
          "choropleth": [
           {
            "colorbar": {
             "outlinewidth": 0,
             "ticks": ""
            },
            "type": "choropleth"
           }
          ],
          "contour": [
           {
            "colorbar": {
             "outlinewidth": 0,
             "ticks": ""
            },
            "colorscale": [
             [
              0,
              "#0d0887"
             ],
             [
              0.1111111111111111,
              "#46039f"
             ],
             [
              0.2222222222222222,
              "#7201a8"
             ],
             [
              0.3333333333333333,
              "#9c179e"
             ],
             [
              0.4444444444444444,
              "#bd3786"
             ],
             [
              0.5555555555555556,
              "#d8576b"
             ],
             [
              0.6666666666666666,
              "#ed7953"
             ],
             [
              0.7777777777777778,
              "#fb9f3a"
             ],
             [
              0.8888888888888888,
              "#fdca26"
             ],
             [
              1,
              "#f0f921"
             ]
            ],
            "type": "contour"
           }
          ],
          "contourcarpet": [
           {
            "colorbar": {
             "outlinewidth": 0,
             "ticks": ""
            },
            "type": "contourcarpet"
           }
          ],
          "heatmap": [
           {
            "colorbar": {
             "outlinewidth": 0,
             "ticks": ""
            },
            "colorscale": [
             [
              0,
              "#0d0887"
             ],
             [
              0.1111111111111111,
              "#46039f"
             ],
             [
              0.2222222222222222,
              "#7201a8"
             ],
             [
              0.3333333333333333,
              "#9c179e"
             ],
             [
              0.4444444444444444,
              "#bd3786"
             ],
             [
              0.5555555555555556,
              "#d8576b"
             ],
             [
              0.6666666666666666,
              "#ed7953"
             ],
             [
              0.7777777777777778,
              "#fb9f3a"
             ],
             [
              0.8888888888888888,
              "#fdca26"
             ],
             [
              1,
              "#f0f921"
             ]
            ],
            "type": "heatmap"
           }
          ],
          "heatmapgl": [
           {
            "colorbar": {
             "outlinewidth": 0,
             "ticks": ""
            },
            "colorscale": [
             [
              0,
              "#0d0887"
             ],
             [
              0.1111111111111111,
              "#46039f"
             ],
             [
              0.2222222222222222,
              "#7201a8"
             ],
             [
              0.3333333333333333,
              "#9c179e"
             ],
             [
              0.4444444444444444,
              "#bd3786"
             ],
             [
              0.5555555555555556,
              "#d8576b"
             ],
             [
              0.6666666666666666,
              "#ed7953"
             ],
             [
              0.7777777777777778,
              "#fb9f3a"
             ],
             [
              0.8888888888888888,
              "#fdca26"
             ],
             [
              1,
              "#f0f921"
             ]
            ],
            "type": "heatmapgl"
           }
          ],
          "histogram": [
           {
            "marker": {
             "colorbar": {
              "outlinewidth": 0,
              "ticks": ""
             }
            },
            "type": "histogram"
           }
          ],
          "histogram2d": [
           {
            "colorbar": {
             "outlinewidth": 0,
             "ticks": ""
            },
            "colorscale": [
             [
              0,
              "#0d0887"
             ],
             [
              0.1111111111111111,
              "#46039f"
             ],
             [
              0.2222222222222222,
              "#7201a8"
             ],
             [
              0.3333333333333333,
              "#9c179e"
             ],
             [
              0.4444444444444444,
              "#bd3786"
             ],
             [
              0.5555555555555556,
              "#d8576b"
             ],
             [
              0.6666666666666666,
              "#ed7953"
             ],
             [
              0.7777777777777778,
              "#fb9f3a"
             ],
             [
              0.8888888888888888,
              "#fdca26"
             ],
             [
              1,
              "#f0f921"
             ]
            ],
            "type": "histogram2d"
           }
          ],
          "histogram2dcontour": [
           {
            "colorbar": {
             "outlinewidth": 0,
             "ticks": ""
            },
            "colorscale": [
             [
              0,
              "#0d0887"
             ],
             [
              0.1111111111111111,
              "#46039f"
             ],
             [
              0.2222222222222222,
              "#7201a8"
             ],
             [
              0.3333333333333333,
              "#9c179e"
             ],
             [
              0.4444444444444444,
              "#bd3786"
             ],
             [
              0.5555555555555556,
              "#d8576b"
             ],
             [
              0.6666666666666666,
              "#ed7953"
             ],
             [
              0.7777777777777778,
              "#fb9f3a"
             ],
             [
              0.8888888888888888,
              "#fdca26"
             ],
             [
              1,
              "#f0f921"
             ]
            ],
            "type": "histogram2dcontour"
           }
          ],
          "mesh3d": [
           {
            "colorbar": {
             "outlinewidth": 0,
             "ticks": ""
            },
            "type": "mesh3d"
           }
          ],
          "parcoords": [
           {
            "line": {
             "colorbar": {
              "outlinewidth": 0,
              "ticks": ""
             }
            },
            "type": "parcoords"
           }
          ],
          "pie": [
           {
            "automargin": true,
            "type": "pie"
           }
          ],
          "scatter": [
           {
            "marker": {
             "colorbar": {
              "outlinewidth": 0,
              "ticks": ""
             }
            },
            "type": "scatter"
           }
          ],
          "scatter3d": [
           {
            "line": {
             "colorbar": {
              "outlinewidth": 0,
              "ticks": ""
             }
            },
            "marker": {
             "colorbar": {
              "outlinewidth": 0,
              "ticks": ""
             }
            },
            "type": "scatter3d"
           }
          ],
          "scattercarpet": [
           {
            "marker": {
             "colorbar": {
              "outlinewidth": 0,
              "ticks": ""
             }
            },
            "type": "scattercarpet"
           }
          ],
          "scattergeo": [
           {
            "marker": {
             "colorbar": {
              "outlinewidth": 0,
              "ticks": ""
             }
            },
            "type": "scattergeo"
           }
          ],
          "scattergl": [
           {
            "marker": {
             "colorbar": {
              "outlinewidth": 0,
              "ticks": ""
             }
            },
            "type": "scattergl"
           }
          ],
          "scattermapbox": [
           {
            "marker": {
             "colorbar": {
              "outlinewidth": 0,
              "ticks": ""
             }
            },
            "type": "scattermapbox"
           }
          ],
          "scatterpolar": [
           {
            "marker": {
             "colorbar": {
              "outlinewidth": 0,
              "ticks": ""
             }
            },
            "type": "scatterpolar"
           }
          ],
          "scatterpolargl": [
           {
            "marker": {
             "colorbar": {
              "outlinewidth": 0,
              "ticks": ""
             }
            },
            "type": "scatterpolargl"
           }
          ],
          "scatterternary": [
           {
            "marker": {
             "colorbar": {
              "outlinewidth": 0,
              "ticks": ""
             }
            },
            "type": "scatterternary"
           }
          ],
          "surface": [
           {
            "colorbar": {
             "outlinewidth": 0,
             "ticks": ""
            },
            "colorscale": [
             [
              0,
              "#0d0887"
             ],
             [
              0.1111111111111111,
              "#46039f"
             ],
             [
              0.2222222222222222,
              "#7201a8"
             ],
             [
              0.3333333333333333,
              "#9c179e"
             ],
             [
              0.4444444444444444,
              "#bd3786"
             ],
             [
              0.5555555555555556,
              "#d8576b"
             ],
             [
              0.6666666666666666,
              "#ed7953"
             ],
             [
              0.7777777777777778,
              "#fb9f3a"
             ],
             [
              0.8888888888888888,
              "#fdca26"
             ],
             [
              1,
              "#f0f921"
             ]
            ],
            "type": "surface"
           }
          ],
          "table": [
           {
            "cells": {
             "fill": {
              "color": "#EBF0F8"
             },
             "line": {
              "color": "white"
             }
            },
            "header": {
             "fill": {
              "color": "#C8D4E3"
             },
             "line": {
              "color": "white"
             }
            },
            "type": "table"
           }
          ]
         },
         "layout": {
          "annotationdefaults": {
           "arrowcolor": "#2a3f5f",
           "arrowhead": 0,
           "arrowwidth": 1
          },
          "autotypenumbers": "strict",
          "coloraxis": {
           "colorbar": {
            "outlinewidth": 0,
            "ticks": ""
           }
          },
          "colorscale": {
           "diverging": [
            [
             0,
             "#8e0152"
            ],
            [
             0.1,
             "#c51b7d"
            ],
            [
             0.2,
             "#de77ae"
            ],
            [
             0.3,
             "#f1b6da"
            ],
            [
             0.4,
             "#fde0ef"
            ],
            [
             0.5,
             "#f7f7f7"
            ],
            [
             0.6,
             "#e6f5d0"
            ],
            [
             0.7,
             "#b8e186"
            ],
            [
             0.8,
             "#7fbc41"
            ],
            [
             0.9,
             "#4d9221"
            ],
            [
             1,
             "#276419"
            ]
           ],
           "sequential": [
            [
             0,
             "#0d0887"
            ],
            [
             0.1111111111111111,
             "#46039f"
            ],
            [
             0.2222222222222222,
             "#7201a8"
            ],
            [
             0.3333333333333333,
             "#9c179e"
            ],
            [
             0.4444444444444444,
             "#bd3786"
            ],
            [
             0.5555555555555556,
             "#d8576b"
            ],
            [
             0.6666666666666666,
             "#ed7953"
            ],
            [
             0.7777777777777778,
             "#fb9f3a"
            ],
            [
             0.8888888888888888,
             "#fdca26"
            ],
            [
             1,
             "#f0f921"
            ]
           ],
           "sequentialminus": [
            [
             0,
             "#0d0887"
            ],
            [
             0.1111111111111111,
             "#46039f"
            ],
            [
             0.2222222222222222,
             "#7201a8"
            ],
            [
             0.3333333333333333,
             "#9c179e"
            ],
            [
             0.4444444444444444,
             "#bd3786"
            ],
            [
             0.5555555555555556,
             "#d8576b"
            ],
            [
             0.6666666666666666,
             "#ed7953"
            ],
            [
             0.7777777777777778,
             "#fb9f3a"
            ],
            [
             0.8888888888888888,
             "#fdca26"
            ],
            [
             1,
             "#f0f921"
            ]
           ]
          },
          "colorway": [
           "#636efa",
           "#EF553B",
           "#00cc96",
           "#ab63fa",
           "#FFA15A",
           "#19d3f3",
           "#FF6692",
           "#B6E880",
           "#FF97FF",
           "#FECB52"
          ],
          "font": {
           "color": "#2a3f5f"
          },
          "geo": {
           "bgcolor": "white",
           "lakecolor": "white",
           "landcolor": "#E5ECF6",
           "showlakes": true,
           "showland": true,
           "subunitcolor": "white"
          },
          "hoverlabel": {
           "align": "left"
          },
          "hovermode": "closest",
          "mapbox": {
           "style": "light"
          },
          "paper_bgcolor": "white",
          "plot_bgcolor": "#E5ECF6",
          "polar": {
           "angularaxis": {
            "gridcolor": "white",
            "linecolor": "white",
            "ticks": ""
           },
           "bgcolor": "#E5ECF6",
           "radialaxis": {
            "gridcolor": "white",
            "linecolor": "white",
            "ticks": ""
           }
          },
          "scene": {
           "xaxis": {
            "backgroundcolor": "#E5ECF6",
            "gridcolor": "white",
            "gridwidth": 2,
            "linecolor": "white",
            "showbackground": true,
            "ticks": "",
            "zerolinecolor": "white"
           },
           "yaxis": {
            "backgroundcolor": "#E5ECF6",
            "gridcolor": "white",
            "gridwidth": 2,
            "linecolor": "white",
            "showbackground": true,
            "ticks": "",
            "zerolinecolor": "white"
           },
           "zaxis": {
            "backgroundcolor": "#E5ECF6",
            "gridcolor": "white",
            "gridwidth": 2,
            "linecolor": "white",
            "showbackground": true,
            "ticks": "",
            "zerolinecolor": "white"
           }
          },
          "shapedefaults": {
           "line": {
            "color": "#2a3f5f"
           }
          },
          "ternary": {
           "aaxis": {
            "gridcolor": "white",
            "linecolor": "white",
            "ticks": ""
           },
           "baxis": {
            "gridcolor": "white",
            "linecolor": "white",
            "ticks": ""
           },
           "bgcolor": "#E5ECF6",
           "caxis": {
            "gridcolor": "white",
            "linecolor": "white",
            "ticks": ""
           }
          },
          "title": {
           "x": 0.05
          },
          "xaxis": {
           "automargin": true,
           "gridcolor": "white",
           "linecolor": "white",
           "ticks": "",
           "title": {
            "standoff": 15
           },
           "zerolinecolor": "white",
           "zerolinewidth": 2
          },
          "yaxis": {
           "automargin": true,
           "gridcolor": "white",
           "linecolor": "white",
           "ticks": "",
           "title": {
            "standoff": 15
           },
           "zerolinecolor": "white",
           "zerolinewidth": 2
          }
         }
        },
        "xaxis": {
         "anchor": "y",
         "domain": [
          0,
          1
         ],
         "range": [
          3.301029995663981,
          3.3055663135153037
         ],
         "title": {
          "text": "Year"
         },
         "type": "log"
        },
        "yaxis": {
         "anchor": "x",
         "domain": [
          0,
          1
         ],
         "range": [
          300,
          1300
         ],
         "title": {
          "text": "value"
         }
        }
       }
      },
      "text/html": [
       "<div>                            <div id=\"0ba18060-085d-49a2-a718-d28b561c7d2b\" class=\"plotly-graph-div\" style=\"height:525px; width:100%;\"></div>            <script type=\"text/javascript\">                require([\"plotly\"], function(Plotly) {                    window.PLOTLYENV=window.PLOTLYENV || {};                                    if (document.getElementById(\"0ba18060-085d-49a2-a718-d28b561c7d2b\")) {                    Plotly.newPlot(                        \"0ba18060-085d-49a2-a718-d28b561c7d2b\",                        [{\"hovertemplate\": \"variable=85% Revenue<br>County=ADAMS<br>Year=%{x}<br>value=%{y}<extra></extra>\", \"legendgroup\": \"85% Revenue\", \"line\": {\"color\": \"#636efa\", \"dash\": \"solid\"}, \"mode\": \"lines\", \"name\": \"85% Revenue\", \"orientation\": \"v\", \"showlegend\": true, \"type\": \"scatter\", \"x\": [2001, 2002, 2003, 2004, 2005, 2006, 2007, 2008, 2009, 2010, 2011, 2012, 2013, 2014, 2015, 2016, 2017, 2018, 2019, 2020], \"xaxis\": \"x\", \"y\": [562.1873806890004, 924.5518414658043, 494.6400294859447, 782.4929880095242, 570.2906311682318, 619.8910719104767, 643.3038621225278, 630.3918922306368, 809.5159550008101, 846.9380712171769, 544.0280924999998, 642.115925897083, 824.2877751935644, 768.1505431993187, 525.5336619340729, 632.3670858890138, 716.4897735521528, 898.8191078404985, 845.8839760960216, 514.2059999999999], \"yaxis\": \"y\"}, {\"hovertemplate\": \"variable=Revenue<br>County=ADAMS<br>Year=%{x}<br>value=%{y}<extra></extra>\", \"legendgroup\": \"Revenue\", \"line\": {\"color\": \"#EF553B\", \"dash\": \"solid\"}, \"mode\": \"lines\", \"name\": \"Revenue\", \"orientation\": \"v\", \"showlegend\": true, \"type\": \"scatter\", \"x\": [2001, 2002, 2003, 2004, 2005, 2006, 2007, 2008, 2009, 2010, 2011, 2012, 2013, 2014, 2015, 2016, 2017, 2018, 2019, 2020], \"xaxis\": \"x\", \"y\": [562.1873806890004, 924.5518414658043, 494.6400294859447, 782.4929880095242, 570.2906311682318, 619.8910719104767, 643.3038621225278, 630.3918922306368, 809.5159550008101, 846.9380712171769, 530.7871452282557, 642.115925897083, 824.2877751935644, 768.1505431993187, 525.5336619340729, 632.3670858890138, 716.4897735521528, 898.8191078404985, 845.8839760960216, 514.2059999999999], \"yaxis\": \"y\"}],                        {\"legend\": {\"title\": {\"text\": \"variable\"}, \"tracegroupgap\": 0}, \"margin\": {\"t\": 60}, \"sliders\": [{\"active\": 0, \"currentvalue\": {\"prefix\": \"County=\"}, \"len\": 0.9, \"pad\": {\"b\": 10, \"t\": 60}, \"steps\": [{\"args\": [[\"ADAMS\"], {\"frame\": {\"duration\": 0, \"redraw\": false}, \"fromcurrent\": true, \"mode\": \"immediate\", \"transition\": {\"duration\": 0, \"easing\": \"linear\"}}], \"label\": \"ADAMS\", \"method\": \"animate\"}, {\"args\": [[\"ALEXANDER\"], {\"frame\": {\"duration\": 0, \"redraw\": false}, \"fromcurrent\": true, \"mode\": \"immediate\", \"transition\": {\"duration\": 0, \"easing\": \"linear\"}}], \"label\": \"ALEXANDER\", \"method\": \"animate\"}, {\"args\": [[\"BOND\"], {\"frame\": {\"duration\": 0, \"redraw\": false}, \"fromcurrent\": true, \"mode\": \"immediate\", \"transition\": {\"duration\": 0, \"easing\": \"linear\"}}], \"label\": \"BOND\", \"method\": \"animate\"}, {\"args\": [[\"BOONE\"], {\"frame\": {\"duration\": 0, \"redraw\": false}, \"fromcurrent\": true, \"mode\": \"immediate\", \"transition\": {\"duration\": 0, \"easing\": \"linear\"}}], \"label\": \"BOONE\", \"method\": \"animate\"}, {\"args\": [[\"BROWN\"], {\"frame\": {\"duration\": 0, \"redraw\": false}, \"fromcurrent\": true, \"mode\": \"immediate\", \"transition\": {\"duration\": 0, \"easing\": \"linear\"}}], \"label\": \"BROWN\", \"method\": \"animate\"}, {\"args\": [[\"BUREAU\"], {\"frame\": {\"duration\": 0, \"redraw\": false}, \"fromcurrent\": true, \"mode\": \"immediate\", \"transition\": {\"duration\": 0, \"easing\": \"linear\"}}], \"label\": \"BUREAU\", \"method\": \"animate\"}, {\"args\": [[\"CALHOUN\"], {\"frame\": {\"duration\": 0, \"redraw\": false}, \"fromcurrent\": true, \"mode\": \"immediate\", \"transition\": {\"duration\": 0, \"easing\": \"linear\"}}], \"label\": \"CALHOUN\", \"method\": \"animate\"}, {\"args\": [[\"CARROLL\"], {\"frame\": {\"duration\": 0, \"redraw\": false}, \"fromcurrent\": true, \"mode\": \"immediate\", \"transition\": {\"duration\": 0, \"easing\": \"linear\"}}], \"label\": \"CARROLL\", \"method\": \"animate\"}, {\"args\": [[\"CASS\"], {\"frame\": {\"duration\": 0, \"redraw\": false}, \"fromcurrent\": true, \"mode\": \"immediate\", \"transition\": {\"duration\": 0, \"easing\": \"linear\"}}], \"label\": \"CASS\", \"method\": \"animate\"}, {\"args\": [[\"CHAMPAIGN\"], {\"frame\": {\"duration\": 0, \"redraw\": false}, \"fromcurrent\": true, \"mode\": \"immediate\", \"transition\": {\"duration\": 0, \"easing\": \"linear\"}}], \"label\": \"CHAMPAIGN\", \"method\": \"animate\"}, {\"args\": [[\"CHRISTIAN\"], {\"frame\": {\"duration\": 0, \"redraw\": false}, \"fromcurrent\": true, \"mode\": \"immediate\", \"transition\": {\"duration\": 0, \"easing\": \"linear\"}}], \"label\": \"CHRISTIAN\", \"method\": \"animate\"}, {\"args\": [[\"CLARK\"], {\"frame\": {\"duration\": 0, \"redraw\": false}, \"fromcurrent\": true, \"mode\": \"immediate\", \"transition\": {\"duration\": 0, \"easing\": \"linear\"}}], \"label\": \"CLARK\", \"method\": \"animate\"}, {\"args\": [[\"CLAY\"], {\"frame\": {\"duration\": 0, \"redraw\": false}, \"fromcurrent\": true, \"mode\": \"immediate\", \"transition\": {\"duration\": 0, \"easing\": \"linear\"}}], \"label\": \"CLAY\", \"method\": \"animate\"}, {\"args\": [[\"CLINTON\"], {\"frame\": {\"duration\": 0, \"redraw\": false}, \"fromcurrent\": true, \"mode\": \"immediate\", \"transition\": {\"duration\": 0, \"easing\": \"linear\"}}], \"label\": \"CLINTON\", \"method\": \"animate\"}, {\"args\": [[\"COLES\"], {\"frame\": {\"duration\": 0, \"redraw\": false}, \"fromcurrent\": true, \"mode\": \"immediate\", \"transition\": {\"duration\": 0, \"easing\": \"linear\"}}], \"label\": \"COLES\", \"method\": \"animate\"}, {\"args\": [[\"COOK\"], {\"frame\": {\"duration\": 0, \"redraw\": false}, \"fromcurrent\": true, \"mode\": \"immediate\", \"transition\": {\"duration\": 0, \"easing\": \"linear\"}}], \"label\": \"COOK\", \"method\": \"animate\"}, {\"args\": [[\"CRAWFORD\"], {\"frame\": {\"duration\": 0, \"redraw\": false}, \"fromcurrent\": true, \"mode\": \"immediate\", \"transition\": {\"duration\": 0, \"easing\": \"linear\"}}], \"label\": \"CRAWFORD\", \"method\": \"animate\"}, {\"args\": [[\"CUMBERLAND\"], {\"frame\": {\"duration\": 0, \"redraw\": false}, \"fromcurrent\": true, \"mode\": \"immediate\", \"transition\": {\"duration\": 0, \"easing\": \"linear\"}}], \"label\": \"CUMBERLAND\", \"method\": \"animate\"}, {\"args\": [[\"DE KALB\"], {\"frame\": {\"duration\": 0, \"redraw\": false}, \"fromcurrent\": true, \"mode\": \"immediate\", \"transition\": {\"duration\": 0, \"easing\": \"linear\"}}], \"label\": \"DE KALB\", \"method\": \"animate\"}, {\"args\": [[\"DE WITT\"], {\"frame\": {\"duration\": 0, \"redraw\": false}, \"fromcurrent\": true, \"mode\": \"immediate\", \"transition\": {\"duration\": 0, \"easing\": \"linear\"}}], \"label\": \"DE WITT\", \"method\": \"animate\"}, {\"args\": [[\"DOUGLAS\"], {\"frame\": {\"duration\": 0, \"redraw\": false}, \"fromcurrent\": true, \"mode\": \"immediate\", \"transition\": {\"duration\": 0, \"easing\": \"linear\"}}], \"label\": \"DOUGLAS\", \"method\": \"animate\"}, {\"args\": [[\"DU PAGE\"], {\"frame\": {\"duration\": 0, \"redraw\": false}, \"fromcurrent\": true, \"mode\": \"immediate\", \"transition\": {\"duration\": 0, \"easing\": \"linear\"}}], \"label\": \"DU PAGE\", \"method\": \"animate\"}, {\"args\": [[\"EDGAR\"], {\"frame\": {\"duration\": 0, \"redraw\": false}, \"fromcurrent\": true, \"mode\": \"immediate\", \"transition\": {\"duration\": 0, \"easing\": \"linear\"}}], \"label\": \"EDGAR\", \"method\": \"animate\"}, {\"args\": [[\"EDWARDS\"], {\"frame\": {\"duration\": 0, \"redraw\": false}, \"fromcurrent\": true, \"mode\": \"immediate\", \"transition\": {\"duration\": 0, \"easing\": \"linear\"}}], \"label\": \"EDWARDS\", \"method\": \"animate\"}, {\"args\": [[\"EFFINGHAM\"], {\"frame\": {\"duration\": 0, \"redraw\": false}, \"fromcurrent\": true, \"mode\": \"immediate\", \"transition\": {\"duration\": 0, \"easing\": \"linear\"}}], \"label\": \"EFFINGHAM\", \"method\": \"animate\"}, {\"args\": [[\"FAYETTE\"], {\"frame\": {\"duration\": 0, \"redraw\": false}, \"fromcurrent\": true, \"mode\": \"immediate\", \"transition\": {\"duration\": 0, \"easing\": \"linear\"}}], \"label\": \"FAYETTE\", \"method\": \"animate\"}, {\"args\": [[\"FORD\"], {\"frame\": {\"duration\": 0, \"redraw\": false}, \"fromcurrent\": true, \"mode\": \"immediate\", \"transition\": {\"duration\": 0, \"easing\": \"linear\"}}], \"label\": \"FORD\", \"method\": \"animate\"}, {\"args\": [[\"FRANKLIN\"], {\"frame\": {\"duration\": 0, \"redraw\": false}, \"fromcurrent\": true, \"mode\": \"immediate\", \"transition\": {\"duration\": 0, \"easing\": \"linear\"}}], \"label\": \"FRANKLIN\", \"method\": \"animate\"}, {\"args\": [[\"FULTON\"], {\"frame\": {\"duration\": 0, \"redraw\": false}, \"fromcurrent\": true, \"mode\": \"immediate\", \"transition\": {\"duration\": 0, \"easing\": \"linear\"}}], \"label\": \"FULTON\", \"method\": \"animate\"}, {\"args\": [[\"GALLATIN\"], {\"frame\": {\"duration\": 0, \"redraw\": false}, \"fromcurrent\": true, \"mode\": \"immediate\", \"transition\": {\"duration\": 0, \"easing\": \"linear\"}}], \"label\": \"GALLATIN\", \"method\": \"animate\"}, {\"args\": [[\"GREENE\"], {\"frame\": {\"duration\": 0, \"redraw\": false}, \"fromcurrent\": true, \"mode\": \"immediate\", \"transition\": {\"duration\": 0, \"easing\": \"linear\"}}], \"label\": \"GREENE\", \"method\": \"animate\"}, {\"args\": [[\"GRUNDY\"], {\"frame\": {\"duration\": 0, \"redraw\": false}, \"fromcurrent\": true, \"mode\": \"immediate\", \"transition\": {\"duration\": 0, \"easing\": \"linear\"}}], \"label\": \"GRUNDY\", \"method\": \"animate\"}, {\"args\": [[\"HAMILTON\"], {\"frame\": {\"duration\": 0, \"redraw\": false}, \"fromcurrent\": true, \"mode\": \"immediate\", \"transition\": {\"duration\": 0, \"easing\": \"linear\"}}], \"label\": \"HAMILTON\", \"method\": \"animate\"}, {\"args\": [[\"HANCOCK\"], {\"frame\": {\"duration\": 0, \"redraw\": false}, \"fromcurrent\": true, \"mode\": \"immediate\", \"transition\": {\"duration\": 0, \"easing\": \"linear\"}}], \"label\": \"HANCOCK\", \"method\": \"animate\"}, {\"args\": [[\"HARDIN\"], {\"frame\": {\"duration\": 0, \"redraw\": false}, \"fromcurrent\": true, \"mode\": \"immediate\", \"transition\": {\"duration\": 0, \"easing\": \"linear\"}}], \"label\": \"HARDIN\", \"method\": \"animate\"}, {\"args\": [[\"HENDERSON\"], {\"frame\": {\"duration\": 0, \"redraw\": false}, \"fromcurrent\": true, \"mode\": \"immediate\", \"transition\": {\"duration\": 0, \"easing\": \"linear\"}}], \"label\": \"HENDERSON\", \"method\": \"animate\"}, {\"args\": [[\"HENRY\"], {\"frame\": {\"duration\": 0, \"redraw\": false}, \"fromcurrent\": true, \"mode\": \"immediate\", \"transition\": {\"duration\": 0, \"easing\": \"linear\"}}], \"label\": \"HENRY\", \"method\": \"animate\"}, {\"args\": [[\"IROQUOIS\"], {\"frame\": {\"duration\": 0, \"redraw\": false}, \"fromcurrent\": true, \"mode\": \"immediate\", \"transition\": {\"duration\": 0, \"easing\": \"linear\"}}], \"label\": \"IROQUOIS\", \"method\": \"animate\"}, {\"args\": [[\"JACKSON\"], {\"frame\": {\"duration\": 0, \"redraw\": false}, \"fromcurrent\": true, \"mode\": \"immediate\", \"transition\": {\"duration\": 0, \"easing\": \"linear\"}}], \"label\": \"JACKSON\", \"method\": \"animate\"}, {\"args\": [[\"JASPER\"], {\"frame\": {\"duration\": 0, \"redraw\": false}, \"fromcurrent\": true, \"mode\": \"immediate\", \"transition\": {\"duration\": 0, \"easing\": \"linear\"}}], \"label\": \"JASPER\", \"method\": \"animate\"}, {\"args\": [[\"JEFFERSON\"], {\"frame\": {\"duration\": 0, \"redraw\": false}, \"fromcurrent\": true, \"mode\": \"immediate\", \"transition\": {\"duration\": 0, \"easing\": \"linear\"}}], \"label\": \"JEFFERSON\", \"method\": \"animate\"}, {\"args\": [[\"JERSEY\"], {\"frame\": {\"duration\": 0, \"redraw\": false}, \"fromcurrent\": true, \"mode\": \"immediate\", \"transition\": {\"duration\": 0, \"easing\": \"linear\"}}], \"label\": \"JERSEY\", \"method\": \"animate\"}, {\"args\": [[\"JO DAVIESS\"], {\"frame\": {\"duration\": 0, \"redraw\": false}, \"fromcurrent\": true, \"mode\": \"immediate\", \"transition\": {\"duration\": 0, \"easing\": \"linear\"}}], \"label\": \"JO DAVIESS\", \"method\": \"animate\"}, {\"args\": [[\"JOHNSON\"], {\"frame\": {\"duration\": 0, \"redraw\": false}, \"fromcurrent\": true, \"mode\": \"immediate\", \"transition\": {\"duration\": 0, \"easing\": \"linear\"}}], \"label\": \"JOHNSON\", \"method\": \"animate\"}, {\"args\": [[\"KANE\"], {\"frame\": {\"duration\": 0, \"redraw\": false}, \"fromcurrent\": true, \"mode\": \"immediate\", \"transition\": {\"duration\": 0, \"easing\": \"linear\"}}], \"label\": \"KANE\", \"method\": \"animate\"}, {\"args\": [[\"KANKAKEE\"], {\"frame\": {\"duration\": 0, \"redraw\": false}, \"fromcurrent\": true, \"mode\": \"immediate\", \"transition\": {\"duration\": 0, \"easing\": \"linear\"}}], \"label\": \"KANKAKEE\", \"method\": \"animate\"}, {\"args\": [[\"KENDALL\"], {\"frame\": {\"duration\": 0, \"redraw\": false}, \"fromcurrent\": true, \"mode\": \"immediate\", \"transition\": {\"duration\": 0, \"easing\": \"linear\"}}], \"label\": \"KENDALL\", \"method\": \"animate\"}, {\"args\": [[\"KNOX\"], {\"frame\": {\"duration\": 0, \"redraw\": false}, \"fromcurrent\": true, \"mode\": \"immediate\", \"transition\": {\"duration\": 0, \"easing\": \"linear\"}}], \"label\": \"KNOX\", \"method\": \"animate\"}, {\"args\": [[\"LA SALLE\"], {\"frame\": {\"duration\": 0, \"redraw\": false}, \"fromcurrent\": true, \"mode\": \"immediate\", \"transition\": {\"duration\": 0, \"easing\": \"linear\"}}], \"label\": \"LA SALLE\", \"method\": \"animate\"}, {\"args\": [[\"LAKE\"], {\"frame\": {\"duration\": 0, \"redraw\": false}, \"fromcurrent\": true, \"mode\": \"immediate\", \"transition\": {\"duration\": 0, \"easing\": \"linear\"}}], \"label\": \"LAKE\", \"method\": \"animate\"}, {\"args\": [[\"LAWRENCE\"], {\"frame\": {\"duration\": 0, \"redraw\": false}, \"fromcurrent\": true, \"mode\": \"immediate\", \"transition\": {\"duration\": 0, \"easing\": \"linear\"}}], \"label\": \"LAWRENCE\", \"method\": \"animate\"}, {\"args\": [[\"LEE\"], {\"frame\": {\"duration\": 0, \"redraw\": false}, \"fromcurrent\": true, \"mode\": \"immediate\", \"transition\": {\"duration\": 0, \"easing\": \"linear\"}}], \"label\": \"LEE\", \"method\": \"animate\"}, {\"args\": [[\"LIVINGSTON\"], {\"frame\": {\"duration\": 0, \"redraw\": false}, \"fromcurrent\": true, \"mode\": \"immediate\", \"transition\": {\"duration\": 0, \"easing\": \"linear\"}}], \"label\": \"LIVINGSTON\", \"method\": \"animate\"}, {\"args\": [[\"LOGAN\"], {\"frame\": {\"duration\": 0, \"redraw\": false}, \"fromcurrent\": true, \"mode\": \"immediate\", \"transition\": {\"duration\": 0, \"easing\": \"linear\"}}], \"label\": \"LOGAN\", \"method\": \"animate\"}, {\"args\": [[\"MACON\"], {\"frame\": {\"duration\": 0, \"redraw\": false}, \"fromcurrent\": true, \"mode\": \"immediate\", \"transition\": {\"duration\": 0, \"easing\": \"linear\"}}], \"label\": \"MACON\", \"method\": \"animate\"}, {\"args\": [[\"MACOUPIN\"], {\"frame\": {\"duration\": 0, \"redraw\": false}, \"fromcurrent\": true, \"mode\": \"immediate\", \"transition\": {\"duration\": 0, \"easing\": \"linear\"}}], \"label\": \"MACOUPIN\", \"method\": \"animate\"}, {\"args\": [[\"MADISON\"], {\"frame\": {\"duration\": 0, \"redraw\": false}, \"fromcurrent\": true, \"mode\": \"immediate\", \"transition\": {\"duration\": 0, \"easing\": \"linear\"}}], \"label\": \"MADISON\", \"method\": \"animate\"}, {\"args\": [[\"MARION\"], {\"frame\": {\"duration\": 0, \"redraw\": false}, \"fromcurrent\": true, \"mode\": \"immediate\", \"transition\": {\"duration\": 0, \"easing\": \"linear\"}}], \"label\": \"MARION\", \"method\": \"animate\"}, {\"args\": [[\"MARSHALL\"], {\"frame\": {\"duration\": 0, \"redraw\": false}, \"fromcurrent\": true, \"mode\": \"immediate\", \"transition\": {\"duration\": 0, \"easing\": \"linear\"}}], \"label\": \"MARSHALL\", \"method\": \"animate\"}, {\"args\": [[\"MASON\"], {\"frame\": {\"duration\": 0, \"redraw\": false}, \"fromcurrent\": true, \"mode\": \"immediate\", \"transition\": {\"duration\": 0, \"easing\": \"linear\"}}], \"label\": \"MASON\", \"method\": \"animate\"}, {\"args\": [[\"MASSAC\"], {\"frame\": {\"duration\": 0, \"redraw\": false}, \"fromcurrent\": true, \"mode\": \"immediate\", \"transition\": {\"duration\": 0, \"easing\": \"linear\"}}], \"label\": \"MASSAC\", \"method\": \"animate\"}, {\"args\": [[\"MCDONOUGH\"], {\"frame\": {\"duration\": 0, \"redraw\": false}, \"fromcurrent\": true, \"mode\": \"immediate\", \"transition\": {\"duration\": 0, \"easing\": \"linear\"}}], \"label\": \"MCDONOUGH\", \"method\": \"animate\"}, {\"args\": [[\"MCHENRY\"], {\"frame\": {\"duration\": 0, \"redraw\": false}, \"fromcurrent\": true, \"mode\": \"immediate\", \"transition\": {\"duration\": 0, \"easing\": \"linear\"}}], \"label\": \"MCHENRY\", \"method\": \"animate\"}, {\"args\": [[\"MCLEAN\"], {\"frame\": {\"duration\": 0, \"redraw\": false}, \"fromcurrent\": true, \"mode\": \"immediate\", \"transition\": {\"duration\": 0, \"easing\": \"linear\"}}], \"label\": \"MCLEAN\", \"method\": \"animate\"}, {\"args\": [[\"MENARD\"], {\"frame\": {\"duration\": 0, \"redraw\": false}, \"fromcurrent\": true, \"mode\": \"immediate\", \"transition\": {\"duration\": 0, \"easing\": \"linear\"}}], \"label\": \"MENARD\", \"method\": \"animate\"}, {\"args\": [[\"MERCER\"], {\"frame\": {\"duration\": 0, \"redraw\": false}, \"fromcurrent\": true, \"mode\": \"immediate\", \"transition\": {\"duration\": 0, \"easing\": \"linear\"}}], \"label\": \"MERCER\", \"method\": \"animate\"}, {\"args\": [[\"MONROE\"], {\"frame\": {\"duration\": 0, \"redraw\": false}, \"fromcurrent\": true, \"mode\": \"immediate\", \"transition\": {\"duration\": 0, \"easing\": \"linear\"}}], \"label\": \"MONROE\", \"method\": \"animate\"}, {\"args\": [[\"MONTGOMERY\"], {\"frame\": {\"duration\": 0, \"redraw\": false}, \"fromcurrent\": true, \"mode\": \"immediate\", \"transition\": {\"duration\": 0, \"easing\": \"linear\"}}], \"label\": \"MONTGOMERY\", \"method\": \"animate\"}, {\"args\": [[\"MORGAN\"], {\"frame\": {\"duration\": 0, \"redraw\": false}, \"fromcurrent\": true, \"mode\": \"immediate\", \"transition\": {\"duration\": 0, \"easing\": \"linear\"}}], \"label\": \"MORGAN\", \"method\": \"animate\"}, {\"args\": [[\"MOULTRIE\"], {\"frame\": {\"duration\": 0, \"redraw\": false}, \"fromcurrent\": true, \"mode\": \"immediate\", \"transition\": {\"duration\": 0, \"easing\": \"linear\"}}], \"label\": \"MOULTRIE\", \"method\": \"animate\"}, {\"args\": [[\"OGLE\"], {\"frame\": {\"duration\": 0, \"redraw\": false}, \"fromcurrent\": true, \"mode\": \"immediate\", \"transition\": {\"duration\": 0, \"easing\": \"linear\"}}], \"label\": \"OGLE\", \"method\": \"animate\"}, {\"args\": [[\"OTHER (COMBINED) COUNTIES\"], {\"frame\": {\"duration\": 0, \"redraw\": false}, \"fromcurrent\": true, \"mode\": \"immediate\", \"transition\": {\"duration\": 0, \"easing\": \"linear\"}}], \"label\": \"OTHER (COMBINED) COUNTIES\", \"method\": \"animate\"}, {\"args\": [[\"OTHER COUNTIES\"], {\"frame\": {\"duration\": 0, \"redraw\": false}, \"fromcurrent\": true, \"mode\": \"immediate\", \"transition\": {\"duration\": 0, \"easing\": \"linear\"}}], \"label\": \"OTHER COUNTIES\", \"method\": \"animate\"}, {\"args\": [[\"PEORIA\"], {\"frame\": {\"duration\": 0, \"redraw\": false}, \"fromcurrent\": true, \"mode\": \"immediate\", \"transition\": {\"duration\": 0, \"easing\": \"linear\"}}], \"label\": \"PEORIA\", \"method\": \"animate\"}, {\"args\": [[\"PERRY\"], {\"frame\": {\"duration\": 0, \"redraw\": false}, \"fromcurrent\": true, \"mode\": \"immediate\", \"transition\": {\"duration\": 0, \"easing\": \"linear\"}}], \"label\": \"PERRY\", \"method\": \"animate\"}, {\"args\": [[\"PIATT\"], {\"frame\": {\"duration\": 0, \"redraw\": false}, \"fromcurrent\": true, \"mode\": \"immediate\", \"transition\": {\"duration\": 0, \"easing\": \"linear\"}}], \"label\": \"PIATT\", \"method\": \"animate\"}, {\"args\": [[\"PIKE\"], {\"frame\": {\"duration\": 0, \"redraw\": false}, \"fromcurrent\": true, \"mode\": \"immediate\", \"transition\": {\"duration\": 0, \"easing\": \"linear\"}}], \"label\": \"PIKE\", \"method\": \"animate\"}, {\"args\": [[\"POPE\"], {\"frame\": {\"duration\": 0, \"redraw\": false}, \"fromcurrent\": true, \"mode\": \"immediate\", \"transition\": {\"duration\": 0, \"easing\": \"linear\"}}], \"label\": \"POPE\", \"method\": \"animate\"}, {\"args\": [[\"PULASKI\"], {\"frame\": {\"duration\": 0, \"redraw\": false}, \"fromcurrent\": true, \"mode\": \"immediate\", \"transition\": {\"duration\": 0, \"easing\": \"linear\"}}], \"label\": \"PULASKI\", \"method\": \"animate\"}, {\"args\": [[\"PUTNAM\"], {\"frame\": {\"duration\": 0, \"redraw\": false}, \"fromcurrent\": true, \"mode\": \"immediate\", \"transition\": {\"duration\": 0, \"easing\": \"linear\"}}], \"label\": \"PUTNAM\", \"method\": \"animate\"}, {\"args\": [[\"RANDOLPH\"], {\"frame\": {\"duration\": 0, \"redraw\": false}, \"fromcurrent\": true, \"mode\": \"immediate\", \"transition\": {\"duration\": 0, \"easing\": \"linear\"}}], \"label\": \"RANDOLPH\", \"method\": \"animate\"}, {\"args\": [[\"RICHLAND\"], {\"frame\": {\"duration\": 0, \"redraw\": false}, \"fromcurrent\": true, \"mode\": \"immediate\", \"transition\": {\"duration\": 0, \"easing\": \"linear\"}}], \"label\": \"RICHLAND\", \"method\": \"animate\"}, {\"args\": [[\"ROCK ISLAND\"], {\"frame\": {\"duration\": 0, \"redraw\": false}, \"fromcurrent\": true, \"mode\": \"immediate\", \"transition\": {\"duration\": 0, \"easing\": \"linear\"}}], \"label\": \"ROCK ISLAND\", \"method\": \"animate\"}, {\"args\": [[\"SALINE\"], {\"frame\": {\"duration\": 0, \"redraw\": false}, \"fromcurrent\": true, \"mode\": \"immediate\", \"transition\": {\"duration\": 0, \"easing\": \"linear\"}}], \"label\": \"SALINE\", \"method\": \"animate\"}, {\"args\": [[\"SANGAMON\"], {\"frame\": {\"duration\": 0, \"redraw\": false}, \"fromcurrent\": true, \"mode\": \"immediate\", \"transition\": {\"duration\": 0, \"easing\": \"linear\"}}], \"label\": \"SANGAMON\", \"method\": \"animate\"}, {\"args\": [[\"SCHUYLER\"], {\"frame\": {\"duration\": 0, \"redraw\": false}, \"fromcurrent\": true, \"mode\": \"immediate\", \"transition\": {\"duration\": 0, \"easing\": \"linear\"}}], \"label\": \"SCHUYLER\", \"method\": \"animate\"}, {\"args\": [[\"SCOTT\"], {\"frame\": {\"duration\": 0, \"redraw\": false}, \"fromcurrent\": true, \"mode\": \"immediate\", \"transition\": {\"duration\": 0, \"easing\": \"linear\"}}], \"label\": \"SCOTT\", \"method\": \"animate\"}, {\"args\": [[\"SHELBY\"], {\"frame\": {\"duration\": 0, \"redraw\": false}, \"fromcurrent\": true, \"mode\": \"immediate\", \"transition\": {\"duration\": 0, \"easing\": \"linear\"}}], \"label\": \"SHELBY\", \"method\": \"animate\"}, {\"args\": [[\"ST CLAIR\"], {\"frame\": {\"duration\": 0, \"redraw\": false}, \"fromcurrent\": true, \"mode\": \"immediate\", \"transition\": {\"duration\": 0, \"easing\": \"linear\"}}], \"label\": \"ST CLAIR\", \"method\": \"animate\"}, {\"args\": [[\"STARK\"], {\"frame\": {\"duration\": 0, \"redraw\": false}, \"fromcurrent\": true, \"mode\": \"immediate\", \"transition\": {\"duration\": 0, \"easing\": \"linear\"}}], \"label\": \"STARK\", \"method\": \"animate\"}, {\"args\": [[\"STEPHENSON\"], {\"frame\": {\"duration\": 0, \"redraw\": false}, \"fromcurrent\": true, \"mode\": \"immediate\", \"transition\": {\"duration\": 0, \"easing\": \"linear\"}}], \"label\": \"STEPHENSON\", \"method\": \"animate\"}, {\"args\": [[\"TAZEWELL\"], {\"frame\": {\"duration\": 0, \"redraw\": false}, \"fromcurrent\": true, \"mode\": \"immediate\", \"transition\": {\"duration\": 0, \"easing\": \"linear\"}}], \"label\": \"TAZEWELL\", \"method\": \"animate\"}, {\"args\": [[\"UNION\"], {\"frame\": {\"duration\": 0, \"redraw\": false}, \"fromcurrent\": true, \"mode\": \"immediate\", \"transition\": {\"duration\": 0, \"easing\": \"linear\"}}], \"label\": \"UNION\", \"method\": \"animate\"}, {\"args\": [[\"VERMILION\"], {\"frame\": {\"duration\": 0, \"redraw\": false}, \"fromcurrent\": true, \"mode\": \"immediate\", \"transition\": {\"duration\": 0, \"easing\": \"linear\"}}], \"label\": \"VERMILION\", \"method\": \"animate\"}, {\"args\": [[\"WABASH\"], {\"frame\": {\"duration\": 0, \"redraw\": false}, \"fromcurrent\": true, \"mode\": \"immediate\", \"transition\": {\"duration\": 0, \"easing\": \"linear\"}}], \"label\": \"WABASH\", \"method\": \"animate\"}, {\"args\": [[\"WARREN\"], {\"frame\": {\"duration\": 0, \"redraw\": false}, \"fromcurrent\": true, \"mode\": \"immediate\", \"transition\": {\"duration\": 0, \"easing\": \"linear\"}}], \"label\": \"WARREN\", \"method\": \"animate\"}, {\"args\": [[\"WASHINGTON\"], {\"frame\": {\"duration\": 0, \"redraw\": false}, \"fromcurrent\": true, \"mode\": \"immediate\", \"transition\": {\"duration\": 0, \"easing\": \"linear\"}}], \"label\": \"WASHINGTON\", \"method\": \"animate\"}, {\"args\": [[\"WAYNE\"], {\"frame\": {\"duration\": 0, \"redraw\": false}, \"fromcurrent\": true, \"mode\": \"immediate\", \"transition\": {\"duration\": 0, \"easing\": \"linear\"}}], \"label\": \"WAYNE\", \"method\": \"animate\"}, {\"args\": [[\"WHITE\"], {\"frame\": {\"duration\": 0, \"redraw\": false}, \"fromcurrent\": true, \"mode\": \"immediate\", \"transition\": {\"duration\": 0, \"easing\": \"linear\"}}], \"label\": \"WHITE\", \"method\": \"animate\"}, {\"args\": [[\"WHITESIDE\"], {\"frame\": {\"duration\": 0, \"redraw\": false}, \"fromcurrent\": true, \"mode\": \"immediate\", \"transition\": {\"duration\": 0, \"easing\": \"linear\"}}], \"label\": \"WHITESIDE\", \"method\": \"animate\"}, {\"args\": [[\"WILL\"], {\"frame\": {\"duration\": 0, \"redraw\": false}, \"fromcurrent\": true, \"mode\": \"immediate\", \"transition\": {\"duration\": 0, \"easing\": \"linear\"}}], \"label\": \"WILL\", \"method\": \"animate\"}, {\"args\": [[\"WILLIAMSON\"], {\"frame\": {\"duration\": 0, \"redraw\": false}, \"fromcurrent\": true, \"mode\": \"immediate\", \"transition\": {\"duration\": 0, \"easing\": \"linear\"}}], \"label\": \"WILLIAMSON\", \"method\": \"animate\"}, {\"args\": [[\"WINNEBAGO\"], {\"frame\": {\"duration\": 0, \"redraw\": false}, \"fromcurrent\": true, \"mode\": \"immediate\", \"transition\": {\"duration\": 0, \"easing\": \"linear\"}}], \"label\": \"WINNEBAGO\", \"method\": \"animate\"}, {\"args\": [[\"WOODFORD\"], {\"frame\": {\"duration\": 0, \"redraw\": false}, \"fromcurrent\": true, \"mode\": \"immediate\", \"transition\": {\"duration\": 0, \"easing\": \"linear\"}}], \"label\": \"WOODFORD\", \"method\": \"animate\"}], \"x\": 0.1, \"xanchor\": \"left\", \"y\": 0, \"yanchor\": \"top\"}], \"template\": {\"data\": {\"bar\": [{\"error_x\": {\"color\": \"#2a3f5f\"}, \"error_y\": {\"color\": \"#2a3f5f\"}, \"marker\": {\"line\": {\"color\": \"#E5ECF6\", \"width\": 0.5}}, \"type\": \"bar\"}], \"barpolar\": [{\"marker\": {\"line\": {\"color\": \"#E5ECF6\", \"width\": 0.5}}, \"type\": \"barpolar\"}], \"carpet\": [{\"aaxis\": {\"endlinecolor\": \"#2a3f5f\", \"gridcolor\": \"white\", \"linecolor\": \"white\", \"minorgridcolor\": \"white\", \"startlinecolor\": \"#2a3f5f\"}, \"baxis\": {\"endlinecolor\": \"#2a3f5f\", \"gridcolor\": \"white\", \"linecolor\": \"white\", \"minorgridcolor\": \"white\", \"startlinecolor\": \"#2a3f5f\"}, \"type\": \"carpet\"}], \"choropleth\": [{\"colorbar\": {\"outlinewidth\": 0, \"ticks\": \"\"}, \"type\": \"choropleth\"}], \"contour\": [{\"colorbar\": {\"outlinewidth\": 0, \"ticks\": \"\"}, \"colorscale\": [[0.0, \"#0d0887\"], [0.1111111111111111, \"#46039f\"], [0.2222222222222222, \"#7201a8\"], [0.3333333333333333, \"#9c179e\"], [0.4444444444444444, \"#bd3786\"], [0.5555555555555556, \"#d8576b\"], [0.6666666666666666, \"#ed7953\"], [0.7777777777777778, \"#fb9f3a\"], [0.8888888888888888, \"#fdca26\"], [1.0, \"#f0f921\"]], \"type\": \"contour\"}], \"contourcarpet\": [{\"colorbar\": {\"outlinewidth\": 0, \"ticks\": \"\"}, \"type\": \"contourcarpet\"}], \"heatmap\": [{\"colorbar\": {\"outlinewidth\": 0, \"ticks\": \"\"}, \"colorscale\": [[0.0, \"#0d0887\"], [0.1111111111111111, \"#46039f\"], [0.2222222222222222, \"#7201a8\"], [0.3333333333333333, \"#9c179e\"], [0.4444444444444444, \"#bd3786\"], [0.5555555555555556, \"#d8576b\"], [0.6666666666666666, \"#ed7953\"], [0.7777777777777778, \"#fb9f3a\"], [0.8888888888888888, \"#fdca26\"], [1.0, \"#f0f921\"]], \"type\": \"heatmap\"}], \"heatmapgl\": [{\"colorbar\": {\"outlinewidth\": 0, \"ticks\": \"\"}, \"colorscale\": [[0.0, \"#0d0887\"], [0.1111111111111111, \"#46039f\"], [0.2222222222222222, \"#7201a8\"], [0.3333333333333333, \"#9c179e\"], [0.4444444444444444, \"#bd3786\"], [0.5555555555555556, \"#d8576b\"], [0.6666666666666666, \"#ed7953\"], [0.7777777777777778, \"#fb9f3a\"], [0.8888888888888888, \"#fdca26\"], [1.0, \"#f0f921\"]], \"type\": \"heatmapgl\"}], \"histogram\": [{\"marker\": {\"colorbar\": {\"outlinewidth\": 0, \"ticks\": \"\"}}, \"type\": \"histogram\"}], \"histogram2d\": [{\"colorbar\": {\"outlinewidth\": 0, \"ticks\": \"\"}, \"colorscale\": [[0.0, \"#0d0887\"], [0.1111111111111111, \"#46039f\"], [0.2222222222222222, \"#7201a8\"], [0.3333333333333333, \"#9c179e\"], [0.4444444444444444, \"#bd3786\"], [0.5555555555555556, \"#d8576b\"], [0.6666666666666666, \"#ed7953\"], [0.7777777777777778, \"#fb9f3a\"], [0.8888888888888888, \"#fdca26\"], [1.0, \"#f0f921\"]], \"type\": \"histogram2d\"}], \"histogram2dcontour\": [{\"colorbar\": {\"outlinewidth\": 0, \"ticks\": \"\"}, \"colorscale\": [[0.0, \"#0d0887\"], [0.1111111111111111, \"#46039f\"], [0.2222222222222222, \"#7201a8\"], [0.3333333333333333, \"#9c179e\"], [0.4444444444444444, \"#bd3786\"], [0.5555555555555556, \"#d8576b\"], [0.6666666666666666, \"#ed7953\"], [0.7777777777777778, \"#fb9f3a\"], [0.8888888888888888, \"#fdca26\"], [1.0, \"#f0f921\"]], \"type\": \"histogram2dcontour\"}], \"mesh3d\": [{\"colorbar\": {\"outlinewidth\": 0, \"ticks\": \"\"}, \"type\": \"mesh3d\"}], \"parcoords\": [{\"line\": {\"colorbar\": {\"outlinewidth\": 0, \"ticks\": \"\"}}, \"type\": \"parcoords\"}], \"pie\": [{\"automargin\": true, \"type\": \"pie\"}], \"scatter\": [{\"marker\": {\"colorbar\": {\"outlinewidth\": 0, \"ticks\": \"\"}}, \"type\": \"scatter\"}], \"scatter3d\": [{\"line\": {\"colorbar\": {\"outlinewidth\": 0, \"ticks\": \"\"}}, \"marker\": {\"colorbar\": {\"outlinewidth\": 0, \"ticks\": \"\"}}, \"type\": \"scatter3d\"}], \"scattercarpet\": [{\"marker\": {\"colorbar\": {\"outlinewidth\": 0, \"ticks\": \"\"}}, \"type\": \"scattercarpet\"}], \"scattergeo\": [{\"marker\": {\"colorbar\": {\"outlinewidth\": 0, \"ticks\": \"\"}}, \"type\": \"scattergeo\"}], \"scattergl\": [{\"marker\": {\"colorbar\": {\"outlinewidth\": 0, \"ticks\": \"\"}}, \"type\": \"scattergl\"}], \"scattermapbox\": [{\"marker\": {\"colorbar\": {\"outlinewidth\": 0, \"ticks\": \"\"}}, \"type\": \"scattermapbox\"}], \"scatterpolar\": [{\"marker\": {\"colorbar\": {\"outlinewidth\": 0, \"ticks\": \"\"}}, \"type\": \"scatterpolar\"}], \"scatterpolargl\": [{\"marker\": {\"colorbar\": {\"outlinewidth\": 0, \"ticks\": \"\"}}, \"type\": \"scatterpolargl\"}], \"scatterternary\": [{\"marker\": {\"colorbar\": {\"outlinewidth\": 0, \"ticks\": \"\"}}, \"type\": \"scatterternary\"}], \"surface\": [{\"colorbar\": {\"outlinewidth\": 0, \"ticks\": \"\"}, \"colorscale\": [[0.0, \"#0d0887\"], [0.1111111111111111, \"#46039f\"], [0.2222222222222222, \"#7201a8\"], [0.3333333333333333, \"#9c179e\"], [0.4444444444444444, \"#bd3786\"], [0.5555555555555556, \"#d8576b\"], [0.6666666666666666, \"#ed7953\"], [0.7777777777777778, \"#fb9f3a\"], [0.8888888888888888, \"#fdca26\"], [1.0, \"#f0f921\"]], \"type\": \"surface\"}], \"table\": [{\"cells\": {\"fill\": {\"color\": \"#EBF0F8\"}, \"line\": {\"color\": \"white\"}}, \"header\": {\"fill\": {\"color\": \"#C8D4E3\"}, \"line\": {\"color\": \"white\"}}, \"type\": \"table\"}]}, \"layout\": {\"annotationdefaults\": {\"arrowcolor\": \"#2a3f5f\", \"arrowhead\": 0, \"arrowwidth\": 1}, \"autotypenumbers\": \"strict\", \"coloraxis\": {\"colorbar\": {\"outlinewidth\": 0, \"ticks\": \"\"}}, \"colorscale\": {\"diverging\": [[0, \"#8e0152\"], [0.1, \"#c51b7d\"], [0.2, \"#de77ae\"], [0.3, \"#f1b6da\"], [0.4, \"#fde0ef\"], [0.5, \"#f7f7f7\"], [0.6, \"#e6f5d0\"], [0.7, \"#b8e186\"], [0.8, \"#7fbc41\"], [0.9, \"#4d9221\"], [1, \"#276419\"]], \"sequential\": [[0.0, \"#0d0887\"], [0.1111111111111111, \"#46039f\"], [0.2222222222222222, \"#7201a8\"], [0.3333333333333333, \"#9c179e\"], [0.4444444444444444, \"#bd3786\"], [0.5555555555555556, \"#d8576b\"], [0.6666666666666666, \"#ed7953\"], [0.7777777777777778, \"#fb9f3a\"], [0.8888888888888888, \"#fdca26\"], [1.0, \"#f0f921\"]], \"sequentialminus\": [[0.0, \"#0d0887\"], [0.1111111111111111, \"#46039f\"], [0.2222222222222222, \"#7201a8\"], [0.3333333333333333, \"#9c179e\"], [0.4444444444444444, \"#bd3786\"], [0.5555555555555556, \"#d8576b\"], [0.6666666666666666, \"#ed7953\"], [0.7777777777777778, \"#fb9f3a\"], [0.8888888888888888, \"#fdca26\"], [1.0, \"#f0f921\"]]}, \"colorway\": [\"#636efa\", \"#EF553B\", \"#00cc96\", \"#ab63fa\", \"#FFA15A\", \"#19d3f3\", \"#FF6692\", \"#B6E880\", \"#FF97FF\", \"#FECB52\"], \"font\": {\"color\": \"#2a3f5f\"}, \"geo\": {\"bgcolor\": \"white\", \"lakecolor\": \"white\", \"landcolor\": \"#E5ECF6\", \"showlakes\": true, \"showland\": true, \"subunitcolor\": \"white\"}, \"hoverlabel\": {\"align\": \"left\"}, \"hovermode\": \"closest\", \"mapbox\": {\"style\": \"light\"}, \"paper_bgcolor\": \"white\", \"plot_bgcolor\": \"#E5ECF6\", \"polar\": {\"angularaxis\": {\"gridcolor\": \"white\", \"linecolor\": \"white\", \"ticks\": \"\"}, \"bgcolor\": \"#E5ECF6\", \"radialaxis\": {\"gridcolor\": \"white\", \"linecolor\": \"white\", \"ticks\": \"\"}}, \"scene\": {\"xaxis\": {\"backgroundcolor\": \"#E5ECF6\", \"gridcolor\": \"white\", \"gridwidth\": 2, \"linecolor\": \"white\", \"showbackground\": true, \"ticks\": \"\", \"zerolinecolor\": \"white\"}, \"yaxis\": {\"backgroundcolor\": \"#E5ECF6\", \"gridcolor\": \"white\", \"gridwidth\": 2, \"linecolor\": \"white\", \"showbackground\": true, \"ticks\": \"\", \"zerolinecolor\": \"white\"}, \"zaxis\": {\"backgroundcolor\": \"#E5ECF6\", \"gridcolor\": \"white\", \"gridwidth\": 2, \"linecolor\": \"white\", \"showbackground\": true, \"ticks\": \"\", \"zerolinecolor\": \"white\"}}, \"shapedefaults\": {\"line\": {\"color\": \"#2a3f5f\"}}, \"ternary\": {\"aaxis\": {\"gridcolor\": \"white\", \"linecolor\": \"white\", \"ticks\": \"\"}, \"baxis\": {\"gridcolor\": \"white\", \"linecolor\": \"white\", \"ticks\": \"\"}, \"bgcolor\": \"#E5ECF6\", \"caxis\": {\"gridcolor\": \"white\", \"linecolor\": \"white\", \"ticks\": \"\"}}, \"title\": {\"x\": 0.05}, \"xaxis\": {\"automargin\": true, \"gridcolor\": \"white\", \"linecolor\": \"white\", \"ticks\": \"\", \"title\": {\"standoff\": 15}, \"zerolinecolor\": \"white\", \"zerolinewidth\": 2}, \"yaxis\": {\"automargin\": true, \"gridcolor\": \"white\", \"linecolor\": \"white\", \"ticks\": \"\", \"title\": {\"standoff\": 15}, \"zerolinecolor\": \"white\", \"zerolinewidth\": 2}}}, \"xaxis\": {\"anchor\": \"y\", \"domain\": [0.0, 1.0], \"range\": [3.301029995663981, 3.3055663135153037], \"title\": {\"text\": \"Year\"}, \"type\": \"log\"}, \"yaxis\": {\"anchor\": \"x\", \"domain\": [0.0, 1.0], \"range\": [300, 1300], \"title\": {\"text\": \"value\"}}},                        {\"responsive\": true}                    ).then(function(){\n",
       "                            Plotly.addFrames('0ba18060-085d-49a2-a718-d28b561c7d2b', [{\"data\": [{\"hovertemplate\": \"variable=85% Revenue<br>County=ADAMS<br>Year=%{x}<br>value=%{y}<extra></extra>\", \"legendgroup\": \"85% Revenue\", \"line\": {\"color\": \"#636efa\", \"dash\": \"solid\"}, \"mode\": \"lines\", \"name\": \"85% Revenue\", \"orientation\": \"v\", \"showlegend\": true, \"x\": [2001, 2002, 2003, 2004, 2005, 2006, 2007, 2008, 2009, 2010, 2011, 2012, 2013, 2014, 2015, 2016, 2017, 2018, 2019, 2020], \"xaxis\": \"x\", \"y\": [562.1873806890004, 924.5518414658043, 494.6400294859447, 782.4929880095242, 570.2906311682318, 619.8910719104767, 643.3038621225278, 630.3918922306368, 809.5159550008101, 846.9380712171769, 544.0280924999998, 642.115925897083, 824.2877751935644, 768.1505431993187, 525.5336619340729, 632.3670858890138, 716.4897735521528, 898.8191078404985, 845.8839760960216, 514.2059999999999], \"yaxis\": \"y\", \"type\": \"scatter\"}, {\"hovertemplate\": \"variable=Revenue<br>County=ADAMS<br>Year=%{x}<br>value=%{y}<extra></extra>\", \"legendgroup\": \"Revenue\", \"line\": {\"color\": \"#EF553B\", \"dash\": \"solid\"}, \"mode\": \"lines\", \"name\": \"Revenue\", \"orientation\": \"v\", \"showlegend\": true, \"x\": [2001, 2002, 2003, 2004, 2005, 2006, 2007, 2008, 2009, 2010, 2011, 2012, 2013, 2014, 2015, 2016, 2017, 2018, 2019, 2020], \"xaxis\": \"x\", \"y\": [562.1873806890004, 924.5518414658043, 494.6400294859447, 782.4929880095242, 570.2906311682318, 619.8910719104767, 643.3038621225278, 630.3918922306368, 809.5159550008101, 846.9380712171769, 530.7871452282557, 642.115925897083, 824.2877751935644, 768.1505431993187, 525.5336619340729, 632.3670858890138, 716.4897735521528, 898.8191078404985, 845.8839760960216, 514.2059999999999], \"yaxis\": \"y\", \"type\": \"scatter\"}], \"name\": \"ADAMS\"}, {\"data\": [{\"hovertemplate\": \"variable=85% Revenue<br>County=ALEXANDER<br>Year=%{x}<br>value=%{y}<extra></extra>\", \"legendgroup\": \"85% Revenue\", \"line\": {\"color\": \"#636efa\", \"dash\": \"solid\"}, \"mode\": \"lines\", \"name\": \"85% Revenue\", \"orientation\": \"v\", \"showlegend\": true, \"x\": [2001, 2002, 2003, 2004, 2005, 2006, 2007, 2008, 2009, 2010, 2011, 2016, 2017, 2020], \"xaxis\": \"x\", \"y\": [583.1223056379719, 428.99489327058643, 439.2568252088265, 989.0195071774585, 502.45028629671253, 781.3582812599376, 634.5870434082113, 646.0518193513458, 527.0745640190157, 743.848677151101, 669.4811119084594, 367.31428717368874, 663.3914484603808, 397.91999999999996], \"yaxis\": \"y\", \"type\": \"scatter\"}, {\"hovertemplate\": \"variable=Revenue<br>County=ALEXANDER<br>Year=%{x}<br>value=%{y}<extra></extra>\", \"legendgroup\": \"Revenue\", \"line\": {\"color\": \"#EF553B\", \"dash\": \"solid\"}, \"mode\": \"lines\", \"name\": \"Revenue\", \"orientation\": \"v\", \"showlegend\": true, \"x\": [2001, 2002, 2003, 2004, 2005, 2006, 2007, 2008, 2009, 2010, 2011, 2016, 2017, 2020], \"xaxis\": \"x\", \"y\": [583.1223056379719, 428.99489327058643, 439.2568252088265, 989.0195071774585, 502.45028629671253, 781.3582812599376, 634.5870434082113, 646.0518193513458, 527.0745640190157, 743.848677151101, 669.4811119084594, 367.31428717368874, 663.3914484603808, 397.91999999999996], \"yaxis\": \"y\", \"type\": \"scatter\"}], \"name\": \"ALEXANDER\"}, {\"data\": [{\"hovertemplate\": \"variable=85% Revenue<br>County=BOND<br>Year=%{x}<br>value=%{y}<extra></extra>\", \"legendgroup\": \"85% Revenue\", \"line\": {\"color\": \"#636efa\", \"dash\": \"solid\"}, \"mode\": \"lines\", \"name\": \"85% Revenue\", \"orientation\": \"v\", \"showlegend\": true, \"x\": [2001, 2002, 2003, 2004, 2005, 2006, 2007, 2008, 2009, 2010, 2011, 2012, 2014, 2015, 2017, 2018, 2019, 2020], \"xaxis\": \"x\", \"y\": [532.125475647182, 845.4334356847671, 694.0209254941627, 529.2935519574045, 854.1080699935508, 768.5111825241746, 511.54643391594993, 749.5483888456246, 627.2024978179111, 526.8406309134201, 741.3478055564849, 567.3737250000001, 580.3577618371916, 478.3979049499801, 529.143623761178, 751.5438595330048, 855.9733912010386, 941.801], \"yaxis\": \"y\", \"type\": \"scatter\"}, {\"hovertemplate\": \"variable=Revenue<br>County=BOND<br>Year=%{x}<br>value=%{y}<extra></extra>\", \"legendgroup\": \"Revenue\", \"line\": {\"color\": \"#EF553B\", \"dash\": \"solid\"}, \"mode\": \"lines\", \"name\": \"Revenue\", \"orientation\": \"v\", \"showlegend\": true, \"x\": [2001, 2002, 2003, 2004, 2005, 2006, 2007, 2008, 2009, 2010, 2011, 2012, 2014, 2015, 2017, 2018, 2019, 2020], \"xaxis\": \"x\", \"y\": [532.125475647182, 845.4334356847671, 694.0209254941627, 529.2935519574045, 854.1080699935508, 768.5111825241746, 511.54643391594993, 749.5483888456246, 627.2024978179111, 526.8406309134201, 741.3478055564849, 543.0725594207287, 580.3577618371916, 478.3979049499801, 529.143623761178, 751.5438595330048, 855.9733912010386, 941.801], \"yaxis\": \"y\", \"type\": \"scatter\"}], \"name\": \"BOND\"}, {\"data\": [{\"hovertemplate\": \"variable=85% Revenue<br>County=BOONE<br>Year=%{x}<br>value=%{y}<extra></extra>\", \"legendgroup\": \"85% Revenue\", \"line\": {\"color\": \"#636efa\", \"dash\": \"solid\"}, \"mode\": \"lines\", \"name\": \"85% Revenue\", \"orientation\": \"v\", \"showlegend\": true, \"x\": [2001, 2002, 2003, 2004, 2005, 2006, 2007, 2008, 2009, 2010, 2011, 2012, 2013, 2014, 2015, 2016, 2017, 2018, 2019, 2020], \"xaxis\": \"x\", \"y\": [766.3036009682846, 595.8966944124609, 621.3406341962428, 569.7266718595143, 449.6616508205733, 515.5296924243996, 892.4146093441528, 810.3831337681061, 738.1059589057973, 652.3291728179773, 1092.5351789302697, 642.0400199999999, 881.1844280229016, 711.2867943718499, 645.104400871668, 751.2336366434947, 749.9140425519379, 641.7572493474436, 626.0881179496164, 810.676], \"yaxis\": \"y\", \"type\": \"scatter\"}, {\"hovertemplate\": \"variable=Revenue<br>County=BOONE<br>Year=%{x}<br>value=%{y}<extra></extra>\", \"legendgroup\": \"Revenue\", \"line\": {\"color\": \"#EF553B\", \"dash\": \"solid\"}, \"mode\": \"lines\", \"name\": \"Revenue\", \"orientation\": \"v\", \"showlegend\": true, \"x\": [2001, 2002, 2003, 2004, 2005, 2006, 2007, 2008, 2009, 2010, 2011, 2012, 2013, 2014, 2015, 2016, 2017, 2018, 2019, 2020], \"xaxis\": \"x\", \"y\": [766.3036009682846, 595.8966944124609, 621.3406341962428, 569.7266718595143, 449.6616508205733, 515.5296924243996, 892.4146093441528, 810.3831337681061, 738.1059589057973, 652.3291728179773, 1092.5351789302697, 522.1476670064156, 881.1844280229016, 711.2867943718499, 645.104400871668, 751.2336366434947, 749.9140425519379, 641.7572493474436, 626.0881179496164, 810.676], \"yaxis\": \"y\", \"type\": \"scatter\"}], \"name\": \"BOONE\"}, {\"data\": [{\"hovertemplate\": \"variable=85% Revenue<br>County=BROWN<br>Year=%{x}<br>value=%{y}<extra></extra>\", \"legendgroup\": \"85% Revenue\", \"line\": {\"color\": \"#636efa\", \"dash\": \"solid\"}, \"mode\": \"lines\", \"name\": \"85% Revenue\", \"orientation\": \"v\", \"showlegend\": true, \"x\": [2001, 2002, 2003, 2004, 2005, 2006, 2007, 2008, 2009, 2010, 2011, 2012, 2013, 2014, 2015, 2016, 2017, 2018, 2019, 2020], \"xaxis\": \"x\", \"y\": [656.9012439077483, 903.5520483887159, 574.8536283031945, 614.6537740617764, 864.0101782725376, 783.9601938924861, 561.419929710232, 533.4481, 882.7822292921819, 847.9759841963753, 538.6388375, 614.5034625000001, 780.57228087772, 889.5202368473442, 771.3395011214365, 501.3863239599841, 614.268867123735, 986.2664704118657, 915.4290976039752, 1021.845], \"yaxis\": \"y\", \"type\": \"scatter\"}, {\"hovertemplate\": \"variable=Revenue<br>County=BROWN<br>Year=%{x}<br>value=%{y}<extra></extra>\", \"legendgroup\": \"Revenue\", \"line\": {\"color\": \"#EF553B\", \"dash\": \"solid\"}, \"mode\": \"lines\", \"name\": \"Revenue\", \"orientation\": \"v\", \"showlegend\": true, \"x\": [2001, 2002, 2003, 2004, 2005, 2006, 2007, 2008, 2009, 2010, 2011, 2012, 2013, 2014, 2015, 2016, 2017, 2018, 2019, 2020], \"xaxis\": \"x\", \"y\": [656.9012439077483, 903.5520483887159, 574.8536283031945, 614.6537740617764, 864.0101782725376, 783.9601938924861, 561.419929710232, 400.04554918420513, 882.7822292921819, 847.9759841963753, 465.29433731635675, 604.9343938823995, 780.57228087772, 889.5202368473442, 771.3395011214365, 501.3863239599841, 614.268867123735, 986.2664704118657, 915.4290976039752, 1021.845], \"yaxis\": \"y\", \"type\": \"scatter\"}], \"name\": \"BROWN\"}, {\"data\": [{\"hovertemplate\": \"variable=85% Revenue<br>County=BUREAU<br>Year=%{x}<br>value=%{y}<extra></extra>\", \"legendgroup\": \"85% Revenue\", \"line\": {\"color\": \"#636efa\", \"dash\": \"solid\"}, \"mode\": \"lines\", \"name\": \"85% Revenue\", \"orientation\": \"v\", \"showlegend\": true, \"x\": [2001, 2002, 2003, 2004, 2005, 2006, 2007, 2008, 2009, 2010, 2011, 2012, 2013, 2014, 2015, 2016, 2017, 2018, 2019, 2020], \"xaxis\": \"x\", \"y\": [802.9789172101327, 1103.052170717375, 463.47459438193647, 784.4436664760893, 738.2629958194984, 754.023237448806, 940.6400635346085, 982.5261348080558, 531.2123869849692, 1054.0568019981476, 884.262211337522, 878.7308346246443, 595.32759, 532.3256002038494, 1032.7888985266056, 1078.708656423242, 881.2449735776341, 682.7420657626166, 513.4174318923209, 561.8340000000001], \"yaxis\": \"y\", \"type\": \"scatter\"}, {\"hovertemplate\": \"variable=Revenue<br>County=BUREAU<br>Year=%{x}<br>value=%{y}<extra></extra>\", \"legendgroup\": \"Revenue\", \"line\": {\"color\": \"#EF553B\", \"dash\": \"solid\"}, \"mode\": \"lines\", \"name\": \"Revenue\", \"orientation\": \"v\", \"showlegend\": true, \"x\": [2001, 2002, 2003, 2004, 2005, 2006, 2007, 2008, 2009, 2010, 2011, 2012, 2013, 2014, 2015, 2016, 2017, 2018, 2019, 2020], \"xaxis\": \"x\", \"y\": [802.9789172101327, 1103.052170717375, 463.47459438193647, 784.4436664760893, 738.2629958194984, 754.023237448806, 940.6400635346085, 982.5261348080558, 531.2123869849692, 1054.0568019981476, 884.262211337522, 878.7308346246443, 588.1171496991367, 532.3256002038494, 1032.7888985266056, 1078.708656423242, 881.2449735776341, 682.7420657626166, 513.4174318923209, 561.8340000000001], \"yaxis\": \"y\", \"type\": \"scatter\"}], \"name\": \"BUREAU\"}, {\"data\": [{\"hovertemplate\": \"variable=85% Revenue<br>County=CALHOUN<br>Year=%{x}<br>value=%{y}<extra></extra>\", \"legendgroup\": \"85% Revenue\", \"line\": {\"color\": \"#636efa\", \"dash\": \"solid\"}, \"mode\": \"lines\", \"name\": \"85% Revenue\", \"orientation\": \"v\", \"showlegend\": true, \"x\": [2001, 2002, 2003, 2004, 2005, 2006, 2007, 2008, 2009, 2010, 2011, 2012, 2014, 2015, 2017, 2018, 2019, 2020], \"xaxis\": \"x\", \"y\": [639.292087219343, 848.1306493777032, 476.2476032318604, 937.1028804238372, 488.0186458756364, 836.2707226954823, 476.3207003617797, 716.3227277322572, 799.2653110213968, 949.0922190556582, 688.056190645231, 707.2280825854882, 481.2300731341027, 846.5911776355083, 943.4873617862291, 840.1474838600767, 607.1262739447218, 619.1460000000001], \"yaxis\": \"y\", \"type\": \"scatter\"}, {\"hovertemplate\": \"variable=Revenue<br>County=CALHOUN<br>Year=%{x}<br>value=%{y}<extra></extra>\", \"legendgroup\": \"Revenue\", \"line\": {\"color\": \"#EF553B\", \"dash\": \"solid\"}, \"mode\": \"lines\", \"name\": \"Revenue\", \"orientation\": \"v\", \"showlegend\": true, \"x\": [2001, 2002, 2003, 2004, 2005, 2006, 2007, 2008, 2009, 2010, 2011, 2012, 2014, 2015, 2017, 2018, 2019, 2020], \"xaxis\": \"x\", \"y\": [639.292087219343, 848.1306493777032, 476.2476032318604, 937.1028804238372, 488.0186458756364, 836.2707226954823, 476.3207003617797, 716.3227277322572, 799.2653110213968, 949.0922190556582, 688.056190645231, 707.2280825854882, 481.2300731341027, 846.5911776355083, 943.4873617862291, 840.1474838600767, 607.1262739447218, 619.1460000000001], \"yaxis\": \"y\", \"type\": \"scatter\"}], \"name\": \"CALHOUN\"}, {\"data\": [{\"hovertemplate\": \"variable=85% Revenue<br>County=CARROLL<br>Year=%{x}<br>value=%{y}<extra></extra>\", \"legendgroup\": \"85% Revenue\", \"line\": {\"color\": \"#636efa\", \"dash\": \"solid\"}, \"mode\": \"lines\", \"name\": \"85% Revenue\", \"orientation\": \"v\", \"showlegend\": true, \"x\": [2001, 2002, 2003, 2004, 2005, 2006, 2007, 2008, 2009, 2010, 2011, 2012, 2013, 2014, 2015, 2016, 2017, 2018, 2019, 2020], \"xaxis\": \"x\", \"y\": [842.1672078147528, 1240.5107717063624, 698.0784955543353, 1194.2488287108931, 1159.6366020082344, 703.4605431074806, 912.8067328046, 881.1974726547388, 959.0041573254347, 1092.579109043422, 1206.9500853586876, 972.860412968847, 926.8683038691545, 653.3070918739004, 549.9313220074905, 702.2455535276804, 852.5341085337984, 579.0276801998149, 791.6532532524307, 1137.66], \"yaxis\": \"y\", \"type\": \"scatter\"}, {\"hovertemplate\": \"variable=Revenue<br>County=CARROLL<br>Year=%{x}<br>value=%{y}<extra></extra>\", \"legendgroup\": \"Revenue\", \"line\": {\"color\": \"#EF553B\", \"dash\": \"solid\"}, \"mode\": \"lines\", \"name\": \"Revenue\", \"orientation\": \"v\", \"showlegend\": true, \"x\": [2001, 2002, 2003, 2004, 2005, 2006, 2007, 2008, 2009, 2010, 2011, 2012, 2013, 2014, 2015, 2016, 2017, 2018, 2019, 2020], \"xaxis\": \"x\", \"y\": [842.1672078147528, 1240.5107717063624, 698.0784955543353, 1194.2488287108931, 1159.6366020082344, 703.4605431074806, 912.8067328046, 881.1974726547388, 959.0041573254347, 1092.579109043422, 1206.9500853586876, 972.860412968847, 926.8683038691545, 653.3070918739004, 549.9313220074905, 702.2455535276804, 852.5341085337984, 579.0276801998149, 791.6532532524307, 1137.66], \"yaxis\": \"y\", \"type\": \"scatter\"}], \"name\": \"CARROLL\"}, {\"data\": [{\"hovertemplate\": \"variable=85% Revenue<br>County=CASS<br>Year=%{x}<br>value=%{y}<extra></extra>\", \"legendgroup\": \"85% Revenue\", \"line\": {\"color\": \"#636efa\", \"dash\": \"solid\"}, \"mode\": \"lines\", \"name\": \"85% Revenue\", \"orientation\": \"v\", \"showlegend\": true, \"x\": [2001, 2002, 2003, 2004, 2005, 2006, 2007, 2008, 2009, 2010, 2011, 2012, 2013, 2014, 2015, 2016, 2017, 2018, 2020], \"xaxis\": \"x\", \"y\": [814.0491356287616, 973.2808563006148, 991.1130678218133, 921.2421828708244, 494.9797689894337, 833.1743640291022, 892.4097529309971, 968.0506116432963, 1002.2013285020005, 690.0178986540113, 820.8709778648388, 686.0214, 947.7956809286825, 908.0651678730404, 652.3216553832925, 887.3606189436471, 841.3269755301277, 1217.4653695962036, 859.172], \"yaxis\": \"y\", \"type\": \"scatter\"}, {\"hovertemplate\": \"variable=Revenue<br>County=CASS<br>Year=%{x}<br>value=%{y}<extra></extra>\", \"legendgroup\": \"Revenue\", \"line\": {\"color\": \"#EF553B\", \"dash\": \"solid\"}, \"mode\": \"lines\", \"name\": \"Revenue\", \"orientation\": \"v\", \"showlegend\": true, \"x\": [2001, 2002, 2003, 2004, 2005, 2006, 2007, 2008, 2009, 2010, 2011, 2012, 2013, 2014, 2015, 2016, 2017, 2018, 2020], \"xaxis\": \"x\", \"y\": [814.0491356287616, 973.2808563006148, 991.1130678218133, 921.2421828708244, 494.9797689894337, 833.1743640291022, 892.4097529309971, 968.0506116432963, 1002.2013285020005, 690.0178986540113, 820.8709778648388, 442.20532707983324, 947.7956809286825, 908.0651678730404, 652.3216553832925, 887.3606189436471, 841.3269755301277, 1217.4653695962036, 859.172], \"yaxis\": \"y\", \"type\": \"scatter\"}], \"name\": \"CASS\"}, {\"data\": [{\"hovertemplate\": \"variable=85% Revenue<br>County=CHAMPAIGN<br>Year=%{x}<br>value=%{y}<extra></extra>\", \"legendgroup\": \"85% Revenue\", \"line\": {\"color\": \"#636efa\", \"dash\": \"solid\"}, \"mode\": \"lines\", \"name\": \"85% Revenue\", \"orientation\": \"v\", \"showlegend\": true, \"x\": [2001, 2002, 2003, 2004, 2005, 2006, 2007, 2008, 2009, 2010, 2011, 2012, 2013, 2014, 2015, 2016, 2017, 2018, 2019, 2020], \"xaxis\": \"x\", \"y\": [687.7244290984189, 648.6842607868905, 603.5053797764566, 769.3745097876841, 765.9312519369665, 853.1877524569414, 706.2044833297504, 633.097, 1003.5414627648652, 736.3562566270916, 1008.2432459520801, 729.293625, 609.877125, 1166.188737367319, 1033.4653270798333, 740.4453610929293, 1106.951767694672, 984.6773554546928, 544.9529044759244, 1027.65], \"yaxis\": \"y\", \"type\": \"scatter\"}, {\"hovertemplate\": \"variable=Revenue<br>County=CHAMPAIGN<br>Year=%{x}<br>value=%{y}<extra></extra>\", \"legendgroup\": \"Revenue\", \"line\": {\"color\": \"#EF553B\", \"dash\": \"solid\"}, \"mode\": \"lines\", \"name\": \"Revenue\", \"orientation\": \"v\", \"showlegend\": true, \"x\": [2001, 2002, 2003, 2004, 2005, 2006, 2007, 2008, 2009, 2010, 2011, 2012, 2013, 2014, 2015, 2016, 2017, 2018, 2019, 2020], \"xaxis\": \"x\", \"y\": [687.7244290984189, 648.6842607868905, 603.5053797764566, 769.3745097876841, 765.9312519369665, 853.1877524569414, 706.2044833297504, 499.7146408032938, 1003.5414627648652, 736.3562566270916, 1008.2432459520801, 698.8855035479858, 584.5442324683015, 1166.188737367319, 1033.4653270798333, 740.4453610929293, 1106.951767694672, 984.6773554546928, 544.9529044759244, 1027.65], \"yaxis\": \"y\", \"type\": \"scatter\"}], \"name\": \"CHAMPAIGN\"}, {\"data\": [{\"hovertemplate\": \"variable=85% Revenue<br>County=CHRISTIAN<br>Year=%{x}<br>value=%{y}<extra></extra>\", \"legendgroup\": \"85% Revenue\", \"line\": {\"color\": \"#636efa\", \"dash\": \"solid\"}, \"mode\": \"lines\", \"name\": \"85% Revenue\", \"orientation\": \"v\", \"showlegend\": true, \"x\": [2001, 2002, 2003, 2004, 2005, 2006, 2007, 2008, 2009, 2010, 2011, 2012, 2013, 2014, 2015, 2016, 2017, 2018, 2020], \"xaxis\": \"x\", \"y\": [1111.9845277779116, 826.6294078402337, 692.8653797764566, 633.9649661498773, 977.6071733276008, 722.4049431584428, 621.8219115363283, 947.3552342371187, 812.5713480269361, 1133.5474670165022, 1006.4457434796116, 923.5426881727625, 1069.140883253307, 947.2212181075467, 689.3914583502547, 651.3811407218069, 918.997037607001, 906.584217506085, 601.063], \"yaxis\": \"y\", \"type\": \"scatter\"}, {\"hovertemplate\": \"variable=Revenue<br>County=CHRISTIAN<br>Year=%{x}<br>value=%{y}<extra></extra>\", \"legendgroup\": \"Revenue\", \"line\": {\"color\": \"#EF553B\", \"dash\": \"solid\"}, \"mode\": \"lines\", \"name\": \"Revenue\", \"orientation\": \"v\", \"showlegend\": true, \"x\": [2001, 2002, 2003, 2004, 2005, 2006, 2007, 2008, 2009, 2010, 2011, 2012, 2013, 2014, 2015, 2016, 2017, 2018, 2020], \"xaxis\": \"x\", \"y\": [1111.9845277779116, 826.6294078402337, 692.8653797764566, 633.9649661498773, 977.6071733276008, 722.4049431584428, 621.8219115363283, 947.3552342371187, 812.5713480269361, 1133.5474670165022, 1006.4457434796116, 923.5426881727625, 1069.140883253307, 947.2212181075467, 689.3914583502547, 651.3811407218069, 918.997037607001, 906.584217506085, 601.063], \"yaxis\": \"y\", \"type\": \"scatter\"}], \"name\": \"CHRISTIAN\"}, {\"data\": [{\"hovertemplate\": \"variable=85% Revenue<br>County=CLARK<br>Year=%{x}<br>value=%{y}<extra></extra>\", \"legendgroup\": \"85% Revenue\", \"line\": {\"color\": \"#636efa\", \"dash\": \"solid\"}, \"mode\": \"lines\", \"name\": \"85% Revenue\", \"orientation\": \"v\", \"showlegend\": true, \"x\": [2001, 2002, 2003, 2004, 2005, 2006, 2007, 2008, 2009, 2010, 2011, 2012, 2013, 2014, 2015, 2017, 2018, 2020], \"xaxis\": \"x\", \"y\": [590.5737662518021, 867.7951262129436, 530.3862462987299, 929.1444212884446, 651.2623060764599, 873.2944559948406, 828.5170355982372, 559.4722666666665, 632.4526281757886, 616.5268707176399, 734.5914960846615, 666.5589633766781, 762.5731590231165, 559.4303253465838, 792.6807227517527, 529.8050227721906, 571.436854588068, 711.76], \"yaxis\": \"y\", \"type\": \"scatter\"}, {\"hovertemplate\": \"variable=Revenue<br>County=CLARK<br>Year=%{x}<br>value=%{y}<extra></extra>\", \"legendgroup\": \"Revenue\", \"line\": {\"color\": \"#EF553B\", \"dash\": \"solid\"}, \"mode\": \"lines\", \"name\": \"Revenue\", \"orientation\": \"v\", \"showlegend\": true, \"x\": [2001, 2002, 2003, 2004, 2005, 2006, 2007, 2008, 2009, 2010, 2011, 2012, 2013, 2014, 2015, 2017, 2018, 2020], \"xaxis\": \"x\", \"y\": [590.5737662518021, 867.7951262129436, 530.3862462987299, 929.1444212884446, 651.2623060764599, 873.2944559948406, 828.5170355982372, 477.4312831768634, 632.4526281757886, 616.5268707176399, 734.5914960846615, 666.5589633766781, 762.5731590231165, 559.4303253465838, 792.6807227517527, 529.8050227721906, 571.436854588068, 711.76], \"yaxis\": \"y\", \"type\": \"scatter\"}], \"name\": \"CLARK\"}, {\"data\": [{\"hovertemplate\": \"variable=85% Revenue<br>County=CLAY<br>Year=%{x}<br>value=%{y}<extra></extra>\", \"legendgroup\": \"85% Revenue\", \"line\": {\"color\": \"#636efa\", \"dash\": \"solid\"}, \"mode\": \"lines\", \"name\": \"85% Revenue\", \"orientation\": \"v\", \"showlegend\": true, \"x\": [2001, 2002, 2003, 2004, 2005, 2006, 2007, 2008, 2009, 2010, 2011, 2012, 2013, 2014, 2015, 2016, 2017, 2018, 2019, 2020], \"xaxis\": \"x\", \"y\": [630.0480511263474, 540.4217074221837, 744.5150036650404, 611.6481051384349, 787.2443063312716, 677.5619685764268, 600.7102168839207, 511.63756896395245, 589.4226242708015, 812.4778331462066, 549.2497345022817, 525.2222249999999, 783.2918073815728, 727.6126624081288, 679.389195682006, 937.4841887845756, 749.3458524163303, 923.9024336255704, 360.55314289354453, 612.85], \"yaxis\": \"y\", \"type\": \"scatter\"}, {\"hovertemplate\": \"variable=Revenue<br>County=CLAY<br>Year=%{x}<br>value=%{y}<extra></extra>\", \"legendgroup\": \"Revenue\", \"line\": {\"color\": \"#EF553B\", \"dash\": \"solid\"}, \"mode\": \"lines\", \"name\": \"Revenue\", \"orientation\": \"v\", \"showlegend\": true, \"x\": [2001, 2002, 2003, 2004, 2005, 2006, 2007, 2008, 2009, 2010, 2011, 2012, 2013, 2014, 2015, 2016, 2017, 2018, 2019, 2020], \"xaxis\": \"x\", \"y\": [630.0480511263474, 540.4217074221837, 744.5150036650404, 611.6481051384349, 787.2443063312716, 677.5619685764268, 600.7102168839207, 511.63756896395245, 589.4226242708015, 812.4778331462066, 549.2497345022817, 450.3382113375222, 783.2918073815728, 727.6126624081288, 679.389195682006, 937.4841887845756, 749.3458524163303, 923.9024336255704, 360.55314289354453, 612.85], \"yaxis\": \"y\", \"type\": \"scatter\"}], \"name\": \"CLAY\"}, {\"data\": [{\"hovertemplate\": \"variable=85% Revenue<br>County=CLINTON<br>Year=%{x}<br>value=%{y}<extra></extra>\", \"legendgroup\": \"85% Revenue\", \"line\": {\"color\": \"#636efa\", \"dash\": \"solid\"}, \"mode\": \"lines\", \"name\": \"85% Revenue\", \"orientation\": \"v\", \"showlegend\": true, \"x\": [2001, 2002, 2003, 2004, 2005, 2006, 2007, 2008, 2009, 2010, 2011, 2012, 2013, 2014, 2015, 2016, 2017, 2018, 2019, 2020], \"xaxis\": \"x\", \"y\": [885.4910938056911, 705.8407339719555, 396.15536871922734, 885.6718340943181, 593.3424440250676, 554.4891822693629, 446.0832643452277, 570.4677069125603, 778.593126177376, 602.9502007543487, 690.8225208093457, 567.21384, 636.1471521256861, 746.635712642635, 652.0777457431873, 924.7875280178583, 906.3245223796215, 965.1185942189628, 860.2822490007937, 687.828], \"yaxis\": \"y\", \"type\": \"scatter\"}, {\"hovertemplate\": \"variable=Revenue<br>County=CLINTON<br>Year=%{x}<br>value=%{y}<extra></extra>\", \"legendgroup\": \"Revenue\", \"line\": {\"color\": \"#EF553B\", \"dash\": \"solid\"}, \"mode\": \"lines\", \"name\": \"Revenue\", \"orientation\": \"v\", \"showlegend\": true, \"x\": [2001, 2002, 2003, 2004, 2005, 2006, 2007, 2008, 2009, 2010, 2011, 2012, 2013, 2014, 2015, 2016, 2017, 2018, 2019, 2020], \"xaxis\": \"x\", \"y\": [885.4910938056911, 705.8407339719555, 396.15536871922734, 885.6718340943181, 593.3424440250676, 554.4891822693629, 446.0832643452277, 570.4677069125603, 778.593126177376, 602.9502007543487, 690.8225208093457, 518.2877433522056, 636.1471521256861, 746.635712642635, 652.0777457431873, 924.7875280178583, 906.3245223796215, 965.1185942189628, 860.2822490007937, 687.828], \"yaxis\": \"y\", \"type\": \"scatter\"}], \"name\": \"CLINTON\"}, {\"data\": [{\"hovertemplate\": \"variable=85% Revenue<br>County=COLES<br>Year=%{x}<br>value=%{y}<extra></extra>\", \"legendgroup\": \"85% Revenue\", \"line\": {\"color\": \"#636efa\", \"dash\": \"solid\"}, \"mode\": \"lines\", \"name\": \"85% Revenue\", \"orientation\": \"v\", \"showlegend\": true, \"x\": [2001, 2002, 2003, 2004, 2005, 2006, 2007, 2008, 2009, 2010, 2011, 2012, 2013, 2014, 2015, 2016, 2017, 2018, 2019, 2020], \"xaxis\": \"x\", \"y\": [707.6733597774653, 877.3906493777032, 1062.6711282928432, 974.1159812394995, 958.9101092982338, 932.8326813108999, 653.2282741076954, 750.4916814027381, 889.2764647173589, 1101.788224000595, 717.3601492606487, 725.0421375, 1057.4238165781467, 732.5758997857993, 1080.2729330137574, 700.2199574836299, 775.3361380760136, 891.4829055158741, 549.4645648959918, 706.0899999999999], \"yaxis\": \"y\", \"type\": \"scatter\"}, {\"hovertemplate\": \"variable=Revenue<br>County=COLES<br>Year=%{x}<br>value=%{y}<extra></extra>\", \"legendgroup\": \"Revenue\", \"line\": {\"color\": \"#EF553B\", \"dash\": \"solid\"}, \"mode\": \"lines\", \"name\": \"Revenue\", \"orientation\": \"v\", \"showlegend\": true, \"x\": [2001, 2002, 2003, 2004, 2005, 2006, 2007, 2008, 2009, 2010, 2011, 2012, 2013, 2014, 2015, 2016, 2017, 2018, 2019, 2020], \"xaxis\": \"x\", \"y\": [707.6733597774653, 877.3906493777032, 1062.6711282928432, 974.1159812394995, 958.9101092982338, 932.8326813108999, 653.2282741076954, 750.4916814027381, 889.2764647173589, 1101.788224000595, 717.3601492606487, 570.2743189232091, 1057.4238165781467, 732.5758997857993, 1080.2729330137574, 700.2199574836299, 775.3361380760136, 891.4829055158741, 549.4645648959918, 706.0899999999999], \"yaxis\": \"y\", \"type\": \"scatter\"}], \"name\": \"COLES\"}, {\"data\": [{\"hovertemplate\": \"variable=85% Revenue<br>County=COOK<br>Year=%{x}<br>value=%{y}<extra></extra>\", \"legendgroup\": \"85% Revenue\", \"line\": {\"color\": \"#636efa\", \"dash\": \"solid\"}, \"mode\": \"lines\", \"name\": \"85% Revenue\", \"orientation\": \"v\", \"showlegend\": true, \"x\": [2001, 2002, 2003, 2004, 2005, 2006, 2007], \"xaxis\": \"x\", \"y\": [598.1844139169585, 620.6222670265887, 486.2812020491102, 553.4413326262318, 926.2235625761456, 484.9364419451682, 697.3431109959156], \"yaxis\": \"y\", \"type\": \"scatter\"}, {\"hovertemplate\": \"variable=Revenue<br>County=COOK<br>Year=%{x}<br>value=%{y}<extra></extra>\", \"legendgroup\": \"Revenue\", \"line\": {\"color\": \"#EF553B\", \"dash\": \"solid\"}, \"mode\": \"lines\", \"name\": \"Revenue\", \"orientation\": \"v\", \"showlegend\": true, \"x\": [2001, 2002, 2003, 2004, 2005, 2006, 2007], \"xaxis\": \"x\", \"y\": [598.1844139169585, 620.6222670265887, 486.2812020491102, 553.4413326262318, 926.2235625761456, 484.9364419451682, 697.3431109959156], \"yaxis\": \"y\", \"type\": \"scatter\"}], \"name\": \"COOK\"}, {\"data\": [{\"hovertemplate\": \"variable=85% Revenue<br>County=CRAWFORD<br>Year=%{x}<br>value=%{y}<extra></extra>\", \"legendgroup\": \"85% Revenue\", \"line\": {\"color\": \"#636efa\", \"dash\": \"solid\"}, \"mode\": \"lines\", \"name\": \"85% Revenue\", \"orientation\": \"v\", \"showlegend\": true, \"x\": [2001, 2002, 2003, 2004, 2005, 2006, 2007, 2008, 2009, 2010, 2011, 2012, 2013, 2014, 2015, 2016, 2017, 2018, 2019, 2020], \"xaxis\": \"x\", \"y\": [523.0571622703716, 720.3321941472977, 477.3681858277001, 667.4270778953633, 631.0595425415866, 661.7392282522321, 867.9982350578243, 765.5551691678019, 727.0280016769791, 648.7103075548977, 657.3975482716614, 601.48737, 677.3348785276141, 780.3270387743568, 761.6165306636516, 590.2830031198491, 837.9276297460646, 699.4687081361863, 675.9347258360342, 706.904], \"yaxis\": \"y\", \"type\": \"scatter\"}, {\"hovertemplate\": \"variable=Revenue<br>County=CRAWFORD<br>Year=%{x}<br>value=%{y}<extra></extra>\", \"legendgroup\": \"Revenue\", \"line\": {\"color\": \"#EF553B\", \"dash\": \"solid\"}, \"mode\": \"lines\", \"name\": \"Revenue\", \"orientation\": \"v\", \"showlegend\": true, \"x\": [2001, 2002, 2003, 2004, 2005, 2006, 2007, 2008, 2009, 2010, 2011, 2012, 2013, 2014, 2015, 2016, 2017, 2018, 2019, 2020], \"xaxis\": \"x\", \"y\": [523.0571622703716, 720.3321941472977, 477.3681858277001, 667.4270778953633, 631.0595425415866, 661.7392282522321, 867.9982350578243, 765.5551691678019, 727.0280016769791, 648.7103075548977, 657.3975482716614, 381.20551101131014, 677.3348785276141, 780.3270387743568, 761.6165306636516, 590.2830031198491, 837.9276297460646, 699.4687081361863, 675.9347258360342, 706.904], \"yaxis\": \"y\", \"type\": \"scatter\"}], \"name\": \"CRAWFORD\"}, {\"data\": [{\"hovertemplate\": \"variable=85% Revenue<br>County=CUMBERLAND<br>Year=%{x}<br>value=%{y}<extra></extra>\", \"legendgroup\": \"85% Revenue\", \"line\": {\"color\": \"#636efa\", \"dash\": \"solid\"}, \"mode\": \"lines\", \"name\": \"85% Revenue\", \"orientation\": \"v\", \"showlegend\": true, \"x\": [2001, 2002, 2003, 2004, 2005, 2006, 2007, 2008, 2009, 2010, 2011, 2012, 2013, 2014, 2015, 2016, 2017, 2018, 2019, 2020], \"xaxis\": \"x\", \"y\": [1007.7687822895359, 796.7119872243862, 599.7359586865532, 943.0996147631454, 590.2506311682318, 657.9167868166875, 826.0923403443678, 906.6076027933724, 615.4340425875057, 567.1842828302135, 778.2976823152819, 659.9436963293866, 668.9627221858588, 789.7585658441033, 696.4589493270057, 797.198811378398, 708.7619410429756, 1153.041667791554, 511.3054686786163, 576.572], \"yaxis\": \"y\", \"type\": \"scatter\"}, {\"hovertemplate\": \"variable=Revenue<br>County=CUMBERLAND<br>Year=%{x}<br>value=%{y}<extra></extra>\", \"legendgroup\": \"Revenue\", \"line\": {\"color\": \"#EF553B\", \"dash\": \"solid\"}, \"mode\": \"lines\", \"name\": \"Revenue\", \"orientation\": \"v\", \"showlegend\": true, \"x\": [2001, 2002, 2003, 2004, 2005, 2006, 2007, 2008, 2009, 2010, 2011, 2012, 2013, 2014, 2015, 2016, 2017, 2018, 2019, 2020], \"xaxis\": \"x\", \"y\": [1007.7687822895359, 796.7119872243862, 599.7359586865532, 943.0996147631454, 590.2506311682318, 657.9167868166875, 826.0923403443678, 906.6076027933724, 615.4340425875057, 567.1842828302135, 778.2976823152819, 659.9436963293866, 668.9627221858588, 789.7585658441033, 696.4589493270057, 797.198811378398, 708.7619410429756, 1153.041667791554, 511.3054686786163, 576.572], \"yaxis\": \"y\", \"type\": \"scatter\"}], \"name\": \"CUMBERLAND\"}, {\"data\": [{\"hovertemplate\": \"variable=85% Revenue<br>County=DE KALB<br>Year=%{x}<br>value=%{y}<extra></extra>\", \"legendgroup\": \"85% Revenue\", \"line\": {\"color\": \"#636efa\", \"dash\": \"solid\"}, \"mode\": \"lines\", \"name\": \"85% Revenue\", \"orientation\": \"v\", \"showlegend\": true, \"x\": [2001, 2002, 2003, 2004, 2005, 2006, 2007, 2008, 2009, 2010, 2011, 2012, 2013, 2014, 2015, 2016, 2017, 2018, 2019, 2020], \"xaxis\": \"x\", \"y\": [534.3286456563924, 653.6495653137772, 591.4276142890897, 805.7676487762416, 616.9009415525991, 958.9505617554399, 948.23097191552, 740.2472045674976, 598.9614861947879, 629.9208148448969, 611.6231100000001, 697.7672100000002, 974.4673843391759, 542.3296277935709, 692.7608688569845, 616.4989935766254, 911.3230199071531, 731.264905515874, 581.2609090742112, 772.5600000000001], \"yaxis\": \"y\", \"type\": \"scatter\"}, {\"hovertemplate\": \"variable=Revenue<br>County=DE KALB<br>Year=%{x}<br>value=%{y}<extra></extra>\", \"legendgroup\": \"Revenue\", \"line\": {\"color\": \"#EF553B\", \"dash\": \"solid\"}, \"mode\": \"lines\", \"name\": \"Revenue\", \"orientation\": \"v\", \"showlegend\": true, \"x\": [2001, 2002, 2003, 2004, 2005, 2006, 2007, 2008, 2009, 2010, 2011, 2012, 2013, 2014, 2015, 2016, 2017, 2018, 2019, 2020], \"xaxis\": \"x\", \"y\": [534.3286456563924, 653.6495653137772, 591.4276142890897, 805.7676487762416, 616.9009415525991, 958.9505617554399, 948.23097191552, 740.2472045674976, 598.9614861947879, 629.9208148448969, 553.1546594156855, 607.553703792711, 974.4673843391759, 542.3296277935709, 692.7608688569845, 616.4989935766254, 911.3230199071531, 731.264905515874, 581.2609090742112, 772.5600000000001], \"yaxis\": \"y\", \"type\": \"scatter\"}], \"name\": \"DE KALB\"}, {\"data\": [{\"hovertemplate\": \"variable=85% Revenue<br>County=DE WITT<br>Year=%{x}<br>value=%{y}<extra></extra>\", \"legendgroup\": \"85% Revenue\", \"line\": {\"color\": \"#636efa\", \"dash\": \"solid\"}, \"mode\": \"lines\", \"name\": \"85% Revenue\", \"orientation\": \"v\", \"showlegend\": true, \"x\": [2001, 2002, 2003, 2004, 2005, 2006, 2007, 2008, 2009, 2010, 2011, 2012, 2014, 2015, 2016, 2017, 2018, 2020], \"xaxis\": \"x\", \"y\": [566.8682240005951, 617.989297226536, 530.5958591300845, 1124.0331216146567, 589.9055719563958, 1053.0312055156094, 608.2444911397246, 847.4212519369665, 702.0930231544082, 850.28546849494, 972.4490291392948, 747.462375, 874.1487766720021, 736.3172038386301, 906.3926649265163, 931.2734780025961, 1065.636910460811, 570.722], \"yaxis\": \"y\", \"type\": \"scatter\"}, {\"hovertemplate\": \"variable=Revenue<br>County=DE WITT<br>Year=%{x}<br>value=%{y}<extra></extra>\", \"legendgroup\": \"Revenue\", \"line\": {\"color\": \"#EF553B\", \"dash\": \"solid\"}, \"mode\": \"lines\", \"name\": \"Revenue\", \"orientation\": \"v\", \"showlegend\": true, \"x\": [2001, 2002, 2003, 2004, 2005, 2006, 2007, 2008, 2009, 2010, 2011, 2012, 2014, 2015, 2016, 2017, 2018, 2020], \"xaxis\": \"x\", \"y\": [566.8682240005951, 617.989297226536, 530.5958591300845, 1124.0331216146567, 589.9055719563958, 1053.0312055156094, 608.2444911397246, 847.4212519369665, 702.0930231544082, 850.28546849494, 972.4490291392948, 543.0308311581452, 874.1487766720021, 736.3172038386301, 906.3926649265163, 931.2734780025961, 1065.636910460811, 570.722], \"yaxis\": \"y\", \"type\": \"scatter\"}], \"name\": \"DE WITT\"}, {\"data\": [{\"hovertemplate\": \"variable=85% Revenue<br>County=DOUGLAS<br>Year=%{x}<br>value=%{y}<extra></extra>\", \"legendgroup\": \"85% Revenue\", \"line\": {\"color\": \"#636efa\", \"dash\": \"solid\"}, \"mode\": \"lines\", \"name\": \"85% Revenue\", \"orientation\": \"v\", \"showlegend\": true, \"x\": [2001, 2002, 2003, 2004, 2005, 2006, 2007, 2008, 2009, 2010, 2011, 2012, 2013, 2014, 2015, 2016, 2017, 2018, 2019, 2020], \"xaxis\": \"x\", \"y\": [970.3219295265558, 631.3522292921818, 848.248595110804, 1079.1270657419136, 771.2972618268401, 1129.6397297203184, 1150.1400518196472, 731.5743414761556, 566.7734181330279, 1133.4181419247302, 718.3167610520536, 745.38387, 824.1512279974203, 816.7573953608372, 902.8849247297275, 1054.050802875124, 586.1175823765957, 684.6782765905152, 866.5307350326079, 609.84], \"yaxis\": \"y\", \"type\": \"scatter\"}, {\"hovertemplate\": \"variable=Revenue<br>County=DOUGLAS<br>Year=%{x}<br>value=%{y}<extra></extra>\", \"legendgroup\": \"Revenue\", \"line\": {\"color\": \"#EF553B\", \"dash\": \"solid\"}, \"mode\": \"lines\", \"name\": \"Revenue\", \"orientation\": \"v\", \"showlegend\": true, \"x\": [2001, 2002, 2003, 2004, 2005, 2006, 2007, 2008, 2009, 2010, 2011, 2012, 2013, 2014, 2015, 2016, 2017, 2018, 2019, 2020], \"xaxis\": \"x\", \"y\": [970.3219295265558, 631.3522292921818, 848.248595110804, 1079.1270657419136, 771.2972618268401, 1129.6397297203184, 1150.1400518196472, 731.5743414761556, 566.7734181330279, 1133.4181419247302, 718.3167610520536, 646.0652004076987, 824.1512279974203, 816.7573953608372, 902.8849247297275, 1054.050802875124, 586.1175823765957, 684.6782765905152, 866.5307350326079, 609.84], \"yaxis\": \"y\", \"type\": \"scatter\"}], \"name\": \"DOUGLAS\"}, {\"data\": [{\"hovertemplate\": \"variable=85% Revenue<br>County=DU PAGE<br>Year=%{x}<br>value=%{y}<extra></extra>\", \"legendgroup\": \"85% Revenue\", \"line\": {\"color\": \"#636efa\", \"dash\": \"solid\"}, \"mode\": \"lines\", \"name\": \"85% Revenue\", \"orientation\": \"v\", \"showlegend\": true, \"x\": [2001, 2002, 2003, 2004, 2005, 2006, 2007], \"xaxis\": \"x\", \"y\": [616.5795572845589, 536.5269130503337, 880.853167378282, 763.8138885804615, 666.6069664046892, 711.5694351751437, 853.8497646459585], \"yaxis\": \"y\", \"type\": \"scatter\"}, {\"hovertemplate\": \"variable=Revenue<br>County=DU PAGE<br>Year=%{x}<br>value=%{y}<extra></extra>\", \"legendgroup\": \"Revenue\", \"line\": {\"color\": \"#EF553B\", \"dash\": \"solid\"}, \"mode\": \"lines\", \"name\": \"Revenue\", \"orientation\": \"v\", \"showlegend\": true, \"x\": [2001, 2002, 2003, 2004, 2005, 2006, 2007], \"xaxis\": \"x\", \"y\": [616.5795572845589, 536.5269130503337, 880.853167378282, 763.8138885804615, 666.6069664046892, 711.5694351751437, 853.8497646459585], \"yaxis\": \"y\", \"type\": \"scatter\"}], \"name\": \"DU PAGE\"}, {\"data\": [{\"hovertemplate\": \"variable=85% Revenue<br>County=EDGAR<br>Year=%{x}<br>value=%{y}<extra></extra>\", \"legendgroup\": \"85% Revenue\", \"line\": {\"color\": \"#636efa\", \"dash\": \"solid\"}, \"mode\": \"lines\", \"name\": \"85% Revenue\", \"orientation\": \"v\", \"showlegend\": true, \"x\": [2001, 2002, 2003, 2004, 2005, 2006, 2007, 2008, 2009, 2010, 2011, 2012, 2013, 2014, 2015, 2016, 2017, 2018, 2019, 2020], \"xaxis\": \"x\", \"y\": [818.3693464566603, 934.5380582785895, 517.0951769777762, 1116.0539649262512, 961.062872833107, 616.3262810051259, 628.1217620920032, 765.2072045674977, 948.5415853127686, 1039.2272469920297, 959.827412402953, 714.642345, 740.6026440149809, 693.3728948408625, 1047.5255914813313, 828.0095818107015, 681.3642799296084, 660.3184647736292, 788.1752854404391, 603.792], \"yaxis\": \"y\", \"type\": \"scatter\"}, {\"hovertemplate\": \"variable=Revenue<br>County=EDGAR<br>Year=%{x}<br>value=%{y}<extra></extra>\", \"legendgroup\": \"Revenue\", \"line\": {\"color\": \"#EF553B\", \"dash\": \"solid\"}, \"mode\": \"lines\", \"name\": \"Revenue\", \"orientation\": \"v\", \"showlegend\": true, \"x\": [2001, 2002, 2003, 2004, 2005, 2006, 2007, 2008, 2009, 2010, 2011, 2012, 2013, 2014, 2015, 2016, 2017, 2018, 2019, 2020], \"xaxis\": \"x\", \"y\": [818.3693464566603, 934.5380582785895, 517.0951769777762, 1116.0539649262512, 961.062872833107, 616.3262810051259, 628.1217620920032, 765.2072045674977, 948.5415853127686, 1039.2272469920297, 959.827412402953, 607.4760083195977, 740.6026440149809, 693.3728948408625, 1047.5255914813313, 828.0095818107015, 681.3642799296084, 660.3184647736292, 788.1752854404391, 603.792], \"yaxis\": \"y\", \"type\": \"scatter\"}], \"name\": \"EDGAR\"}, {\"data\": [{\"hovertemplate\": \"variable=85% Revenue<br>County=EDWARDS<br>Year=%{x}<br>value=%{y}<extra></extra>\", \"legendgroup\": \"85% Revenue\", \"line\": {\"color\": \"#636efa\", \"dash\": \"solid\"}, \"mode\": \"lines\", \"name\": \"85% Revenue\", \"orientation\": \"v\", \"showlegend\": true, \"x\": [2001, 2002, 2003, 2004, 2005, 2006, 2007, 2008, 2009, 2010, 2011, 2012, 2013, 2014, 2016, 2017, 2018, 2020], \"xaxis\": \"x\", \"y\": [701.1916883357362, 478.9520106543089, 548.6359623722963, 731.1695193309079, 638.2912174498146, 701.315540935743, 354.3827083333333, 518.2186881727627, 444.3659823357199, 487.2897869085256, 696.0926724254083, 559.3794750000001, 478.35518648543217, 675.7325559542296, 774.1322616638666, 656.7382503873934, 386.7404095941861, 909.2199999999999], \"yaxis\": \"y\", \"type\": \"scatter\"}, {\"hovertemplate\": \"variable=Revenue<br>County=EDWARDS<br>Year=%{x}<br>value=%{y}<extra></extra>\", \"legendgroup\": \"Revenue\", \"line\": {\"color\": \"#EF553B\", \"dash\": \"solid\"}, \"mode\": \"lines\", \"name\": \"Revenue\", \"orientation\": \"v\", \"showlegend\": true, \"x\": [2001, 2002, 2003, 2004, 2005, 2006, 2007, 2008, 2009, 2010, 2011, 2012, 2013, 2014, 2016, 2017, 2018, 2020], \"xaxis\": \"x\", \"y\": [701.1916883357362, 478.9520106543089, 548.6359623722963, 731.1695193309079, 638.2912174498146, 701.315540935743, 347.422827727214, 518.2186881727627, 444.3659823357199, 487.2897869085256, 696.0926724254083, 438.6133550162047, 478.35518648543217, 675.7325559542296, 774.1322616638666, 656.7382503873934, 386.7404095941861, 909.2199999999999], \"yaxis\": \"y\", \"type\": \"scatter\"}], \"name\": \"EDWARDS\"}, {\"data\": [{\"hovertemplate\": \"variable=85% Revenue<br>County=EFFINGHAM<br>Year=%{x}<br>value=%{y}<extra></extra>\", \"legendgroup\": \"85% Revenue\", \"line\": {\"color\": \"#636efa\", \"dash\": \"solid\"}, \"mode\": \"lines\", \"name\": \"85% Revenue\", \"orientation\": \"v\", \"showlegend\": true, \"x\": [2001, 2002, 2003, 2004, 2005, 2006, 2007, 2008, 2009, 2010, 2011, 2012, 2013, 2014, 2015, 2016, 2017, 2018, 2019, 2020], \"xaxis\": \"x\", \"y\": [506.812049265692, 763.0727420367415, 457.75799040050583, 891.0306229197695, 503.26752276183925, 745.4216007134729, 457.4817620920033, 679.7521030585353, 622.5782702027084, 918.0479481033797, 844.9419198203583, 731.7518809541634, 842.6556832278258, 894.6678781809643, 504.97687046282806, 622.8141775081024, 602.213020819697, 952.1969882850386, 770.910482820127, 865.8299999999999], \"yaxis\": \"y\", \"type\": \"scatter\"}, {\"hovertemplate\": \"variable=Revenue<br>County=EFFINGHAM<br>Year=%{x}<br>value=%{y}<extra></extra>\", \"legendgroup\": \"Revenue\", \"line\": {\"color\": \"#EF553B\", \"dash\": \"solid\"}, \"mode\": \"lines\", \"name\": \"Revenue\", \"orientation\": \"v\", \"showlegend\": true, \"x\": [2001, 2002, 2003, 2004, 2005, 2006, 2007, 2008, 2009, 2010, 2011, 2012, 2013, 2014, 2015, 2016, 2017, 2018, 2019, 2020], \"xaxis\": \"x\", \"y\": [506.812049265692, 763.0727420367415, 457.75799040050583, 891.0306229197695, 503.26752276183925, 745.4216007134729, 457.4817620920033, 679.7521030585353, 622.5782702027084, 918.0479481033797, 844.9419198203583, 731.7518809541634, 842.6556832278258, 894.6678781809643, 504.97687046282806, 622.8141775081024, 602.213020819697, 952.1969882850386, 770.910482820127, 865.8299999999999], \"yaxis\": \"y\", \"type\": \"scatter\"}], \"name\": \"EFFINGHAM\"}, {\"data\": [{\"hovertemplate\": \"variable=85% Revenue<br>County=FAYETTE<br>Year=%{x}<br>value=%{y}<extra></extra>\", \"legendgroup\": \"85% Revenue\", \"line\": {\"color\": \"#636efa\", \"dash\": \"solid\"}, \"mode\": \"lines\", \"name\": \"85% Revenue\", \"orientation\": \"v\", \"showlegend\": true, \"x\": [2001, 2002, 2003, 2004, 2005, 2006, 2007, 2008, 2009, 2010, 2011, 2012, 2013, 2014, 2015, 2016, 2017, 2018, 2019, 2020], \"xaxis\": \"x\", \"y\": [477.7980055819662, 424.5523750507637, 781.5243288842182, 1044.9114159050198, 594.6740844461436, 543.708699449236, 371.31812856835757, 627.0225975936237, 598.1317273856074, 993.3655179443084, 778.3235158644088, 576.0438525, 481.7208824999999, 511.8712475223559, 932.5364929648124, 836.5452797103644, 937.3090681891659, 506.43268479810166, 464.0373057860804, 837.8100000000001], \"yaxis\": \"y\", \"type\": \"scatter\"}, {\"hovertemplate\": \"variable=Revenue<br>County=FAYETTE<br>Year=%{x}<br>value=%{y}<extra></extra>\", \"legendgroup\": \"Revenue\", \"line\": {\"color\": \"#EF553B\", \"dash\": \"solid\"}, \"mode\": \"lines\", \"name\": \"Revenue\", \"orientation\": \"v\", \"showlegend\": true, \"x\": [2001, 2002, 2003, 2004, 2005, 2006, 2007, 2008, 2009, 2010, 2011, 2012, 2013, 2014, 2015, 2016, 2017, 2018, 2019, 2020], \"xaxis\": \"x\", \"y\": [477.7980055819662, 424.5523750507637, 781.5243288842182, 1044.9114159050198, 594.6740844461436, 543.708699449236, 371.31812856835757, 627.0225975936237, 598.1317273856074, 993.3655179443084, 778.3235158644088, 374.05084955129297, 476.4261519982802, 511.8712475223559, 932.5364929648124, 836.5452797103644, 937.3090681891659, 506.43268479810166, 464.0373057860804, 837.8100000000001], \"yaxis\": \"y\", \"type\": \"scatter\"}], \"name\": \"FAYETTE\"}, {\"data\": [{\"hovertemplate\": \"variable=85% Revenue<br>County=FORD<br>Year=%{x}<br>value=%{y}<extra></extra>\", \"legendgroup\": \"85% Revenue\", \"line\": {\"color\": \"#636efa\", \"dash\": \"solid\"}, \"mode\": \"lines\", \"name\": \"85% Revenue\", \"orientation\": \"v\", \"showlegend\": true, \"x\": [2001, 2002, 2003, 2004, 2005, 2006, 2007, 2008, 2009, 2010, 2011, 2012, 2013, 2014, 2015, 2016, 2017, 2018, 2019, 2020], \"xaxis\": \"x\", \"y\": [596.4333445960049, 782.3579476648915, 618.9033480625039, 995.2593041595339, 830.6563801231064, 864.5822904565115, 815.6306847418313, 814.8734174752958, 855.5010873111811, 712.6970054545604, 583.988845, 693.0838714109397, 814.5723866383192, 959.9996722980023, 950.3498935816687, 924.2250320961703, 737.0839705851909, 782.9481074938487, 605.570085761608, 683.636], \"yaxis\": \"y\", \"type\": \"scatter\"}, {\"hovertemplate\": \"variable=Revenue<br>County=FORD<br>Year=%{x}<br>value=%{y}<extra></extra>\", \"legendgroup\": \"Revenue\", \"line\": {\"color\": \"#EF553B\", \"dash\": \"solid\"}, \"mode\": \"lines\", \"name\": \"Revenue\", \"orientation\": \"v\", \"showlegend\": true, \"x\": [2001, 2002, 2003, 2004, 2005, 2006, 2007, 2008, 2009, 2010, 2011, 2012, 2013, 2014, 2015, 2016, 2017, 2018, 2019, 2020], \"xaxis\": \"x\", \"y\": [596.4333445960049, 782.3579476648915, 618.9033480625039, 995.2593041595339, 830.6563801231064, 864.5822904565115, 815.6306847418313, 814.8734174752958, 855.5010873111811, 712.6970054545604, 482.21371069014145, 693.0838714109397, 814.5723866383192, 959.9996722980023, 950.3498935816687, 924.2250320961703, 737.0839705851909, 782.9481074938487, 605.570085761608, 683.636], \"yaxis\": \"y\", \"type\": \"scatter\"}], \"name\": \"FORD\"}, {\"data\": [{\"hovertemplate\": \"variable=85% Revenue<br>County=FRANKLIN<br>Year=%{x}<br>value=%{y}<extra></extra>\", \"legendgroup\": \"85% Revenue\", \"line\": {\"color\": \"#636efa\", \"dash\": \"solid\"}, \"mode\": \"lines\", \"name\": \"85% Revenue\", \"orientation\": \"v\", \"showlegend\": true, \"x\": [2001, 2002, 2003, 2004, 2005, 2006, 2007, 2008, 2009, 2010, 2011, 2012, 2013, 2014, 2015, 2016, 2017, 2018, 2019, 2020], \"xaxis\": \"x\", \"y\": [721.0406266055126, 566.5425351138299, 614.6466518960908, 951.0567551383025, 634.4198529259539, 915.2236239597192, 376.6740310917883, 857.9814471449166, 784.0240230625701, 442.7980168228718, 444.556205, 507.169755, 777.1237223132647, 620.2104416903564, 679.2459181789469, 487.7567371125075, 539.0539360980388, 646.9537176794099, 599.6354943158443, 634.032], \"yaxis\": \"y\", \"type\": \"scatter\"}, {\"hovertemplate\": \"variable=Revenue<br>County=FRANKLIN<br>Year=%{x}<br>value=%{y}<extra></extra>\", \"legendgroup\": \"Revenue\", \"line\": {\"color\": \"#EF553B\", \"dash\": \"solid\"}, \"mode\": \"lines\", \"name\": \"Revenue\", \"orientation\": \"v\", \"showlegend\": true, \"x\": [2001, 2002, 2003, 2004, 2005, 2006, 2007, 2008, 2009, 2010, 2011, 2012, 2013, 2014, 2015, 2016, 2017, 2018, 2019, 2020], \"xaxis\": \"x\", \"y\": [721.0406266055126, 566.5425351138299, 614.6466518960908, 951.0567551383025, 634.4198529259539, 915.2236239597192, 376.6740310917883, 857.9814471449166, 784.0240230625701, 442.7980168228718, 373.04845158023005, 487.3428986540113, 777.1237223132647, 620.2104416903564, 679.2459181789469, 487.7567371125075, 539.0539360980388, 646.9537176794099, 599.6354943158443, 634.032], \"yaxis\": \"y\", \"type\": \"scatter\"}], \"name\": \"FRANKLIN\"}, {\"data\": [{\"hovertemplate\": \"variable=85% Revenue<br>County=FULTON<br>Year=%{x}<br>value=%{y}<extra></extra>\", \"legendgroup\": \"85% Revenue\", \"line\": {\"color\": \"#636efa\", \"dash\": \"solid\"}, \"mode\": \"lines\", \"name\": \"85% Revenue\", \"orientation\": \"v\", \"showlegend\": true, \"x\": [2001, 2002, 2003, 2004, 2005, 2006, 2007, 2008, 2009, 2010, 2011, 2012, 2013, 2014, 2015, 2016, 2017, 2018, 2019, 2020], \"xaxis\": \"x\", \"y\": [1021.3602580848267, 998.9860150689195, 965.503167378282, 950.9809907827234, 927.3677251220315, 722.1654259785699, 500.7973696317712, 1001.3969052403596, 771.2223635550464, 606.9446917310997, 800.0886152934717, 656.6913, 549.1628999999999, 952.0356545981546, 710.966208783567, 1020.5096567698922, 656.9753144167603, 536.7862627956544, 629.5963770595278, 859.852], \"yaxis\": \"y\", \"type\": \"scatter\"}, {\"hovertemplate\": \"variable=Revenue<br>County=FULTON<br>Year=%{x}<br>value=%{y}<extra></extra>\", \"legendgroup\": \"Revenue\", \"line\": {\"color\": \"#EF553B\", \"dash\": \"solid\"}, \"mode\": \"lines\", \"name\": \"Revenue\", \"orientation\": \"v\", \"showlegend\": true, \"x\": [2001, 2002, 2003, 2004, 2005, 2006, 2007, 2008, 2009, 2010, 2011, 2012, 2013, 2014, 2015, 2016, 2017, 2018, 2019, 2020], \"xaxis\": \"x\", \"y\": [1021.3602580848267, 998.9860150689195, 965.503167378282, 950.9809907827234, 927.3677251220315, 722.1654259785699, 500.7973696317712, 1001.3969052403596, 771.2223635550464, 606.9446917310997, 800.0886152934717, 576.1056949427871, 480.82190598992975, 952.0356545981546, 710.966208783567, 1020.5096567698922, 656.9753144167603, 536.7862627956544, 629.5963770595278, 859.852], \"yaxis\": \"y\", \"type\": \"scatter\"}], \"name\": \"FULTON\"}, {\"data\": [{\"hovertemplate\": \"variable=85% Revenue<br>County=GALLATIN<br>Year=%{x}<br>value=%{y}<extra></extra>\", \"legendgroup\": \"85% Revenue\", \"line\": {\"color\": \"#636efa\", \"dash\": \"solid\"}, \"mode\": \"lines\", \"name\": \"85% Revenue\", \"orientation\": \"v\", \"showlegend\": true, \"x\": [2001, 2002, 2003, 2004, 2005, 2006, 2007, 2008, 2009, 2010, 2011, 2012, 2013, 2014, 2015, 2016, 2017, 2018, 2019, 2020], \"xaxis\": \"x\", \"y\": [844.2806493777032, 572.51569753231, 680.2267440810732, 478.97648792803733, 944.2505921183606, 652.4271546796414, 803.3786872957864, 551.9198724508894, 872.074540589093, 511.74280174333603, 849.1746863476749, 581.2764525000001, 793.8873429545935, 843.3604200855214, 648.1793187958032, 498.2383975325749, 643.8009636877604, 819.7953236133342, 606.9894115466797, 772.59], \"yaxis\": \"y\", \"type\": \"scatter\"}, {\"hovertemplate\": \"variable=Revenue<br>County=GALLATIN<br>Year=%{x}<br>value=%{y}<extra></extra>\", \"legendgroup\": \"Revenue\", \"line\": {\"color\": \"#EF553B\", \"dash\": \"solid\"}, \"mode\": \"lines\", \"name\": \"Revenue\", \"orientation\": \"v\", \"showlegend\": true, \"x\": [2001, 2002, 2003, 2004, 2005, 2006, 2007, 2008, 2009, 2010, 2011, 2012, 2013, 2014, 2015, 2016, 2017, 2018, 2019, 2020], \"xaxis\": \"x\", \"y\": [844.2806493777032, 572.51569753231, 680.2267440810732, 478.97648792803733, 944.2505921183606, 652.4271546796414, 803.3786872957864, 551.9198724508894, 872.074540589093, 511.74280174333603, 849.1746863476749, 538.7549803832262, 793.8873429545935, 843.3604200855214, 648.1793187958032, 498.2383975325749, 643.8009636877604, 819.7953236133342, 606.9894115466797, 772.59], \"yaxis\": \"y\", \"type\": \"scatter\"}], \"name\": \"GALLATIN\"}, {\"data\": [{\"hovertemplate\": \"variable=85% Revenue<br>County=GREENE<br>Year=%{x}<br>value=%{y}<extra></extra>\", \"legendgroup\": \"85% Revenue\", \"line\": {\"color\": \"#636efa\", \"dash\": \"solid\"}, \"mode\": \"lines\", \"name\": \"85% Revenue\", \"orientation\": \"v\", \"showlegend\": true, \"x\": [2001, 2002, 2003, 2004, 2005, 2006, 2007, 2008, 2009, 2010, 2011, 2012, 2013, 2014, 2015, 2016, 2017, 2018, 2019, 2020], \"xaxis\": \"x\", \"y\": [1073.043458456958, 1044.0937883662607, 571.8429461508861, 544.0694048122227, 850.2930452688668, 793.8542720633639, 644.8202285988821, 921.3081623977773, 882.8585152985149, 867.0730613273032, 600.0419449999999, 684.554895, 572.464035, 590.6055322694953, 610.9936553832924, 923.1628301181955, 933.5340927864443, 652.9110243780342, 943.7526457126629, 785.808], \"yaxis\": \"y\", \"type\": \"scatter\"}, {\"hovertemplate\": \"variable=Revenue<br>County=GREENE<br>Year=%{x}<br>value=%{y}<extra></extra>\", \"legendgroup\": \"Revenue\", \"line\": {\"color\": \"#EF553B\", \"dash\": \"solid\"}, \"mode\": \"lines\", \"name\": \"Revenue\", \"orientation\": \"v\", \"showlegend\": true, \"x\": [2001, 2002, 2003, 2004, 2005, 2006, 2007, 2008, 2009, 2010, 2011, 2012, 2013, 2014, 2015, 2016, 2017, 2018, 2019, 2020], \"xaxis\": \"x\", \"y\": [1073.043458456958, 1044.0937883662607, 571.8429461508861, 544.0694048122227, 850.2930452688668, 793.8542720633639, 644.8202285988821, 921.3081623977773, 882.8585152985149, 867.0730613273032, 526.4063116791287, 590.4758965741119, 563.2463083400356, 590.6055322694953, 610.9936553832924, 923.1628301181955, 933.5340927864443, 652.9110243780342, 943.7526457126629, 785.808], \"yaxis\": \"y\", \"type\": \"scatter\"}], \"name\": \"GREENE\"}, {\"data\": [{\"hovertemplate\": \"variable=85% Revenue<br>County=GRUNDY<br>Year=%{x}<br>value=%{y}<extra></extra>\", \"legendgroup\": \"85% Revenue\", \"line\": {\"color\": \"#636efa\", \"dash\": \"solid\"}, \"mode\": \"lines\", \"name\": \"85% Revenue\", \"orientation\": \"v\", \"showlegend\": true, \"x\": [2001, 2002, 2003, 2004, 2005, 2006, 2007, 2008, 2009, 2010, 2011, 2012, 2013, 2014, 2015, 2016, 2017, 2018, 2019, 2020], \"xaxis\": \"x\", \"y\": [880.4300168940073, 968.7124505195776, 842.6328723946191, 765.1897032623847, 574.8733602159533, 972.8151917207485, 588.4276685204212, 979.1034747346382, 608.8177682961339, 588.1791137335471, 817.1698586560286, 650.804625, 852.5330578608041, 851.2721944228123, 707.1354337529764, 696.7831962478999, 698.6951449734439, 870.159089447351, 621.2895514477809, 645.2210000000001], \"yaxis\": \"y\", \"type\": \"scatter\"}, {\"hovertemplate\": \"variable=Revenue<br>County=GRUNDY<br>Year=%{x}<br>value=%{y}<extra></extra>\", \"legendgroup\": \"Revenue\", \"line\": {\"color\": \"#EF553B\", \"dash\": \"solid\"}, \"mode\": \"lines\", \"name\": \"Revenue\", \"orientation\": \"v\", \"showlegend\": true, \"x\": [2001, 2002, 2003, 2004, 2005, 2006, 2007, 2008, 2009, 2010, 2011, 2012, 2013, 2014, 2015, 2016, 2017, 2018, 2019, 2020], \"xaxis\": \"x\", \"y\": [880.4300168940073, 968.7124505195776, 842.6328723946191, 765.1897032623847, 574.8733602159533, 972.8151917207485, 588.4276685204212, 979.1034747346382, 608.8177682961339, 588.1791137335471, 817.1698586560286, 550.4413829525761, 852.5330578608041, 851.2721944228123, 707.1354337529764, 696.7831962478999, 698.6951449734439, 870.159089447351, 621.2895514477809, 645.2210000000001], \"yaxis\": \"y\", \"type\": \"scatter\"}], \"name\": \"GRUNDY\"}, {\"data\": [{\"hovertemplate\": \"variable=85% Revenue<br>County=HAMILTON<br>Year=%{x}<br>value=%{y}<extra></extra>\", \"legendgroup\": \"85% Revenue\", \"line\": {\"color\": \"#636efa\", \"dash\": \"solid\"}, \"mode\": \"lines\", \"name\": \"85% Revenue\", \"orientation\": \"v\", \"showlegend\": true, \"x\": [2001, 2002, 2003, 2004, 2005, 2006, 2007, 2008, 2009, 2010, 2011, 2012, 2013, 2014, 2016, 2017, 2018, 2020], \"xaxis\": \"x\", \"y\": [554.9784500099541, 685.373581443349, 478.71178833069297, 589.4460124793966, 962.2724394623484, 787.5326813109, 496.64340597957846, 852.8499791596003, 723.7214705748395, 771.9144489700045, 672.5226607104469, 522.53325, 515.8974255963522, 660.6973776609893, 470.2888103384483, 589.4612159002414, 604.1161761215028, 717.6899999999999], \"yaxis\": \"y\", \"type\": \"scatter\"}, {\"hovertemplate\": \"variable=Revenue<br>County=HAMILTON<br>Year=%{x}<br>value=%{y}<extra></extra>\", \"legendgroup\": \"Revenue\", \"line\": {\"color\": \"#EF553B\", \"dash\": \"solid\"}, \"mode\": \"lines\", \"name\": \"Revenue\", \"orientation\": \"v\", \"showlegend\": true, \"x\": [2001, 2002, 2003, 2004, 2005, 2006, 2007, 2008, 2009, 2010, 2011, 2012, 2013, 2014, 2016, 2017, 2018, 2020], \"xaxis\": \"x\", \"y\": [554.9784500099541, 685.373581443349, 478.71178833069297, 589.4460124793966, 962.2724394623484, 787.5326813109, 496.64340597957846, 852.8499791596003, 723.7214705748395, 771.9144489700045, 672.5226607104469, 334.9130334827699, 515.8974255963522, 660.6973776609893, 470.2888103384483, 589.4612159002414, 604.1161761215028, 717.6899999999999], \"yaxis\": \"y\", \"type\": \"scatter\"}], \"name\": \"HAMILTON\"}, {\"data\": [{\"hovertemplate\": \"variable=85% Revenue<br>County=HANCOCK<br>Year=%{x}<br>value=%{y}<extra></extra>\", \"legendgroup\": \"85% Revenue\", \"line\": {\"color\": \"#636efa\", \"dash\": \"solid\"}, \"mode\": \"lines\", \"name\": \"85% Revenue\", \"orientation\": \"v\", \"showlegend\": true, \"x\": [2001, 2002, 2003, 2004, 2005, 2006, 2007, 2008, 2009, 2010, 2011, 2012, 2013, 2014, 2015, 2016, 2017, 2018, 2020], \"xaxis\": \"x\", \"y\": [528.5763037773164, 989.0074257948935, 602.0971238782324, 1104.2395071774583, 663.9825819736752, 914.6353526607909, 692.6825054086413, 970.6113820756, 553.0055951670745, 689.4681285683575, 686.1621857002942, 680.8576500000001, 569.3721868421054, 668.2524229505589, 729.755110267048, 1006.67567446974, 730.6439016108868, 775.6401393352073, 990.56], \"yaxis\": \"y\", \"type\": \"scatter\"}, {\"hovertemplate\": \"variable=Revenue<br>County=HANCOCK<br>Year=%{x}<br>value=%{y}<extra></extra>\", \"legendgroup\": \"Revenue\", \"line\": {\"color\": \"#EF553B\", \"dash\": \"solid\"}, \"mode\": \"lines\", \"name\": \"Revenue\", \"orientation\": \"v\", \"showlegend\": true, \"x\": [2001, 2002, 2003, 2004, 2005, 2006, 2007, 2008, 2009, 2010, 2011, 2012, 2013, 2014, 2015, 2016, 2017, 2018, 2020], \"xaxis\": \"x\", \"y\": [528.5763037773164, 989.0074257948935, 602.0971238782324, 1104.2395071774583, 663.9825819736752, 914.6353526607909, 692.6825054086413, 970.6113820756, 553.0055951670745, 689.4681285683575, 686.1621857002942, 616.9870253261458, 510.9651634939976, 668.2524229505589, 729.755110267048, 1006.67567446974, 730.6439016108868, 775.6401393352073, 990.56], \"yaxis\": \"y\", \"type\": \"scatter\"}], \"name\": \"HANCOCK\"}, {\"data\": [{\"hovertemplate\": \"variable=85% Revenue<br>County=HARDIN<br>Year=%{x}<br>value=%{y}<extra></extra>\", \"legendgroup\": \"85% Revenue\", \"line\": {\"color\": \"#636efa\", \"dash\": \"solid\"}, \"mode\": \"lines\", \"name\": \"85% Revenue\", \"orientation\": \"v\", \"showlegend\": true, \"x\": [2001, 2002, 2003, 2004, 2005, 2006, 2007, 2010, 2015, 2016, 2018, 2019, 2020], \"xaxis\": \"x\", \"y\": [820.1019674802067, 386.16496614987744, 770.4078170877701, 486.8008190046959, 597.3543258562072, 724.813536337456, 408.2787263456576, 382.7955604606785, 454.69684092061306, 572.9660133563727, 661.067961041967, 758.4171159971227, 537.5730000000001], \"yaxis\": \"y\", \"type\": \"scatter\"}, {\"hovertemplate\": \"variable=Revenue<br>County=HARDIN<br>Year=%{x}<br>value=%{y}<extra></extra>\", \"legendgroup\": \"Revenue\", \"line\": {\"color\": \"#EF553B\", \"dash\": \"solid\"}, \"mode\": \"lines\", \"name\": \"Revenue\", \"orientation\": \"v\", \"showlegend\": true, \"x\": [2001, 2002, 2003, 2004, 2005, 2006, 2007, 2010, 2015, 2016, 2018, 2019, 2020], \"xaxis\": \"x\", \"y\": [820.1019674802067, 386.16496614987744, 770.4078170877701, 486.8008190046959, 597.3543258562072, 724.813536337456, 408.2787263456576, 382.7955604606785, 454.69684092061306, 572.9660133563727, 661.067961041967, 758.4171159971227, 537.5730000000001], \"yaxis\": \"y\", \"type\": \"scatter\"}], \"name\": \"HARDIN\"}, {\"data\": [{\"hovertemplate\": \"variable=85% Revenue<br>County=HENDERSON<br>Year=%{x}<br>value=%{y}<extra></extra>\", \"legendgroup\": \"85% Revenue\", \"line\": {\"color\": \"#636efa\", \"dash\": \"solid\"}, \"mode\": \"lines\", \"name\": \"85% Revenue\", \"orientation\": \"v\", \"showlegend\": true, \"x\": [2001, 2002, 2003, 2004, 2005, 2006, 2007, 2008, 2009, 2010, 2011, 2012, 2013, 2014, 2015, 2016, 2017, 2018, 2020], \"xaxis\": \"x\", \"y\": [1099.5423891360042, 1067.4272800363115, 800.7117035171966, 727.6095002444603, 979.1337350119053, 601.6683775691513, 709.3626587579533, 689.2003591760035, 650.8454569992227, 588.4635767739267, 899.3827394472185, 684.7821, 855.2733613477411, 736.4696298734704, 656.7330248520899, 1036.249353976255, 954.1886021563429, 1039.31595679033, 909.7790000000001], \"yaxis\": \"y\", \"type\": \"scatter\"}, {\"hovertemplate\": \"variable=Revenue<br>County=HENDERSON<br>Year=%{x}<br>value=%{y}<extra></extra>\", \"legendgroup\": \"Revenue\", \"line\": {\"color\": \"#EF553B\", \"dash\": \"solid\"}, \"mode\": \"lines\", \"name\": \"Revenue\", \"orientation\": \"v\", \"showlegend\": true, \"x\": [2001, 2002, 2003, 2004, 2005, 2006, 2007, 2008, 2009, 2010, 2011, 2012, 2013, 2014, 2015, 2016, 2017, 2018, 2020], \"xaxis\": \"x\", \"y\": [1099.5423891360042, 1067.4272800363115, 800.7117035171966, 727.6095002444603, 979.1337350119053, 601.6683775691513, 709.3626587579533, 689.2003591760035, 650.8454569992227, 588.4635767739267, 899.3827394472185, 676.0091077486604, 855.2733613477411, 736.4696298734704, 656.7330248520899, 1036.249353976255, 954.1886021563429, 1039.31595679033, 909.7790000000001], \"yaxis\": \"y\", \"type\": \"scatter\"}], \"name\": \"HENDERSON\"}, {\"data\": [{\"hovertemplate\": \"variable=85% Revenue<br>County=HENRY<br>Year=%{x}<br>value=%{y}<extra></extra>\", \"legendgroup\": \"85% Revenue\", \"line\": {\"color\": \"#636efa\", \"dash\": \"solid\"}, \"mode\": \"lines\", \"name\": \"85% Revenue\", \"orientation\": \"v\", \"showlegend\": true, \"x\": [2001, 2002, 2003, 2004, 2005, 2006, 2007, 2008, 2009, 2010, 2011, 2012, 2013, 2014, 2015, 2016, 2017, 2018, 2019, 2020], \"xaxis\": \"x\", \"y\": [608.2527045215786, 761.2955752036509, 778.5825810966993, 1059.291726508631, 926.8090206715884, 827.294019157583, 859.7662844716249, 833.5488755707386, 544.4582858226569, 1104.0032059540972, 813.8331965027115, 697.374765, 601.3162370665884, 650.5734682401282, 948.2527145951284, 1085.106473185065, 707.4105577793174, 655.4138043535618, 800.4662053170679, 689.724], \"yaxis\": \"y\", \"type\": \"scatter\"}, {\"hovertemplate\": \"variable=Revenue<br>County=HENRY<br>Year=%{x}<br>value=%{y}<extra></extra>\", \"legendgroup\": \"Revenue\", \"line\": {\"color\": \"#EF553B\", \"dash\": \"solid\"}, \"mode\": \"lines\", \"name\": \"Revenue\", \"orientation\": \"v\", \"showlegend\": true, \"x\": [2001, 2002, 2003, 2004, 2005, 2006, 2007, 2008, 2009, 2010, 2011, 2012, 2013, 2014, 2015, 2016, 2017, 2018, 2019, 2020], \"xaxis\": \"x\", \"y\": [608.2527045215786, 761.2955752036509, 778.5825810966993, 1059.291726508631, 926.8090206715884, 827.294019157583, 859.7662844716249, 833.5488755707386, 544.4582858226569, 1104.0032059540972, 813.8331965027115, 653.3940805055888, 601.3162370665884, 650.5734682401282, 948.2527145951284, 1085.106473185065, 707.4105577793174, 655.4138043535618, 800.4662053170679, 689.724], \"yaxis\": \"y\", \"type\": \"scatter\"}], \"name\": \"HENRY\"}, {\"data\": [{\"hovertemplate\": \"variable=85% Revenue<br>County=IROQUOIS<br>Year=%{x}<br>value=%{y}<extra></extra>\", \"legendgroup\": \"85% Revenue\", \"line\": {\"color\": \"#636efa\", \"dash\": \"solid\"}, \"mode\": \"lines\", \"name\": \"85% Revenue\", \"orientation\": \"v\", \"showlegend\": true, \"x\": [2001, 2002, 2003, 2004, 2005, 2006, 2007, 2008, 2009, 2010, 2011, 2012, 2013, 2014, 2015, 2016, 2017, 2018, 2019, 2020], \"xaxis\": \"x\", \"y\": [1066.6236616941262, 1090.4476327178052, 448.7840154718399, 1039.4788096244456, 609.0903207838645, 690.7810259276075, 889.324766598452, 568.3678, 497.7252158084032, 494.7692750000001, 573.898325, 887.0881759378265, 703.0828969207619, 766.2671205035716, 912.4400660174282, 945.5882616638665, 598.0881262336464, 902.9634658135788, 726.0133728078906, 519.2], \"yaxis\": \"y\", \"type\": \"scatter\"}, {\"hovertemplate\": \"variable=Revenue<br>County=IROQUOIS<br>Year=%{x}<br>value=%{y}<extra></extra>\", \"legendgroup\": \"Revenue\", \"line\": {\"color\": \"#EF553B\", \"dash\": \"solid\"}, \"mode\": \"lines\", \"name\": \"Revenue\", \"orientation\": \"v\", \"showlegend\": true, \"x\": [2001, 2002, 2003, 2004, 2005, 2006, 2007, 2008, 2009, 2010, 2011, 2012, 2013, 2014, 2015, 2016, 2017, 2018, 2019, 2020], \"xaxis\": \"x\", \"y\": [1066.6236616941262, 1090.4476327178052, 448.7840154718399, 1039.4788096244456, 609.0903207838645, 690.7810259276075, 889.324766598452, 489.843310766585, 497.7252158084032, 469.219203966036, 572.3003058216481, 887.0881759378265, 703.0828969207619, 766.2671205035716, 912.4400660174282, 945.5882616638665, 598.0881262336464, 902.9634658135788, 726.0133728078906, 519.2], \"yaxis\": \"y\", \"type\": \"scatter\"}], \"name\": \"IROQUOIS\"}, {\"data\": [{\"hovertemplate\": \"variable=85% Revenue<br>County=JACKSON<br>Year=%{x}<br>value=%{y}<extra></extra>\", \"legendgroup\": \"85% Revenue\", \"line\": {\"color\": \"#636efa\", \"dash\": \"solid\"}, \"mode\": \"lines\", \"name\": \"85% Revenue\", \"orientation\": \"v\", \"showlegend\": true, \"x\": [2001, 2002, 2003, 2004, 2005, 2006, 2007, 2008, 2009, 2010, 2011, 2012, 2013, 2014, 2017, 2018, 2019, 2020], \"xaxis\": \"x\", \"y\": [634.4988944379421, 574.2926925873732, 711.3460693002511, 748.9714662313642, 888.7492275945, 786.9906767126131, 730.4571772325879, 798.9689406400554, 530.1249511876612, 525.5976687396652, 468.08801111111114, 596.5442297306698, 587.3169291087703, 716.3565431993186, 809.8086504383557, 517.5070979506249, 489.758111052186, 761.748], \"yaxis\": \"y\", \"type\": \"scatter\"}, {\"hovertemplate\": \"variable=Revenue<br>County=JACKSON<br>Year=%{x}<br>value=%{y}<extra></extra>\", \"legendgroup\": \"Revenue\", \"line\": {\"color\": \"#EF553B\", \"dash\": \"solid\"}, \"mode\": \"lines\", \"name\": \"Revenue\", \"orientation\": \"v\", \"showlegend\": true, \"x\": [2001, 2002, 2003, 2004, 2005, 2006, 2007, 2008, 2009, 2010, 2011, 2012, 2013, 2014, 2017, 2018, 2019, 2020], \"xaxis\": \"x\", \"y\": [634.4988944379421, 574.2926925873732, 711.3460693002511, 748.9714662313642, 888.7492275945, 786.9906767126131, 730.4571772325879, 798.9689406400554, 530.1249511876612, 525.5976687396652, 388.6358092066604, 596.5442297306698, 587.3169291087703, 716.3565431993186, 809.8086504383557, 517.5070979506249, 489.758111052186, 761.748], \"yaxis\": \"y\", \"type\": \"scatter\"}], \"name\": \"JACKSON\"}, {\"data\": [{\"hovertemplate\": \"variable=85% Revenue<br>County=JASPER<br>Year=%{x}<br>value=%{y}<extra></extra>\", \"legendgroup\": \"85% Revenue\", \"line\": {\"color\": \"#636efa\", \"dash\": \"solid\"}, \"mode\": \"lines\", \"name\": \"85% Revenue\", \"orientation\": \"v\", \"showlegend\": true, \"x\": [2001, 2002, 2003, 2004, 2005, 2006, 2007, 2008, 2009, 2010, 2011, 2012, 2013, 2014, 2015, 2016, 2017, 2018, 2019, 2020], \"xaxis\": \"x\", \"y\": [1048.8385714616375, 538.2645288741317, 663.248779480769, 1075.8839840126989, 599.4337395746245, 610.1685844920629, 441.3276763303954, 532.19894, 639.7422371021561, 790.2949102771346, 689.7844753923703, 792.5855887436998, 600.5458946216185, 855.8410525692174, 905.3742860419009, 863.7269769167274, 965.3759420829253, 635.245666751604, 520.459025983878, 718.24], \"yaxis\": \"y\", \"type\": \"scatter\"}, {\"hovertemplate\": \"variable=Revenue<br>County=JASPER<br>Year=%{x}<br>value=%{y}<extra></extra>\", \"legendgroup\": \"Revenue\", \"line\": {\"color\": \"#EF553B\", \"dash\": \"solid\"}, \"mode\": \"lines\", \"name\": \"Revenue\", \"orientation\": \"v\", \"showlegend\": true, \"x\": [2001, 2002, 2003, 2004, 2005, 2006, 2007, 2008, 2009, 2010, 2011, 2012, 2013, 2014, 2015, 2016, 2017, 2018, 2019, 2020], \"xaxis\": \"x\", \"y\": [1048.8385714616375, 538.2645288741317, 663.248779480769, 1075.8839840126989, 599.4337395746245, 610.1685844920629, 441.3276763303954, 460.7712831768634, 639.7422371021561, 790.2949102771346, 689.7844753923703, 792.5855887436998, 600.5458946216185, 855.8410525692174, 905.3742860419009, 863.7269769167274, 965.3759420829253, 635.245666751604, 520.459025983878, 718.24], \"yaxis\": \"y\", \"type\": \"scatter\"}], \"name\": \"JASPER\"}, {\"data\": [{\"hovertemplate\": \"variable=85% Revenue<br>County=JEFFERSON<br>Year=%{x}<br>value=%{y}<extra></extra>\", \"legendgroup\": \"85% Revenue\", \"line\": {\"color\": \"#636efa\", \"dash\": \"solid\"}, \"mode\": \"lines\", \"name\": \"85% Revenue\", \"orientation\": \"v\", \"showlegend\": true, \"x\": [2001, 2002, 2003, 2004, 2005, 2006, 2007, 2008, 2009, 2010, 2011, 2012, 2013, 2014, 2015, 2016, 2017, 2018, 2019, 2020], \"xaxis\": \"x\", \"y\": [882.1811013964214, 344.9844065454724, 361.46304202161167, 538.4279021205105, 658.9245672662706, 448.00402350105816, 308.75081249999994, 791.785510134334, 436.85315351228576, 492.3024207788213, 461.45278174434475, 533.000340089556, 742.1877751935643, 852.2812831768634, 730.7735635449599, 758.5744816883391, 459.5883213141907, 827.5281630199416, 476.9855514477809, 542.633], \"yaxis\": \"y\", \"type\": \"scatter\"}, {\"hovertemplate\": \"variable=Revenue<br>County=JEFFERSON<br>Year=%{x}<br>value=%{y}<extra></extra>\", \"legendgroup\": \"Revenue\", \"line\": {\"color\": \"#EF553B\", \"dash\": \"solid\"}, \"mode\": \"lines\", \"name\": \"Revenue\", \"orientation\": \"v\", \"showlegend\": true, \"x\": [2001, 2002, 2003, 2004, 2005, 2006, 2007, 2008, 2009, 2010, 2011, 2012, 2013, 2014, 2015, 2016, 2017, 2018, 2019, 2020], \"xaxis\": \"x\", \"y\": [882.1811013964214, 344.9844065454724, 361.46304202161167, 538.4279021205105, 658.9245672662706, 448.00402350105816, 289.672977171539, 791.785510134334, 436.85315351228576, 492.3024207788213, 461.45278174434475, 533.000340089556, 742.1877751935643, 852.2812831768634, 730.7735635449599, 758.5744816883391, 459.5883213141907, 827.5281630199416, 476.9855514477809, 542.633], \"yaxis\": \"y\", \"type\": \"scatter\"}], \"name\": \"JEFFERSON\"}, {\"data\": [{\"hovertemplate\": \"variable=85% Revenue<br>County=JERSEY<br>Year=%{x}<br>value=%{y}<extra></extra>\", \"legendgroup\": \"85% Revenue\", \"line\": {\"color\": \"#636efa\", \"dash\": \"solid\"}, \"mode\": \"lines\", \"name\": \"85% Revenue\", \"orientation\": \"v\", \"showlegend\": true, \"x\": [2001, 2002, 2003, 2004, 2005, 2006, 2007, 2008, 2009, 2010, 2011, 2012, 2013, 2014, 2015, 2016, 2017, 2019, 2020], \"xaxis\": \"x\", \"y\": [690.7750767635754, 896.7215616636017, 442.43420352754794, 855.8168054646468, 921.3123704880445, 505.5719269370327, 534.2379674090712, 956.9438963904356, 496.35764574823065, 748.7911335132944, 863.109194677624, 777.5885049345854, 850.5193199631588, 499.8896051487862, 683.4490642841787, 569.4498379281698, 503.51268779054493, 861.3151777273464, 682.446], \"yaxis\": \"y\", \"type\": \"scatter\"}, {\"hovertemplate\": \"variable=Revenue<br>County=JERSEY<br>Year=%{x}<br>value=%{y}<extra></extra>\", \"legendgroup\": \"Revenue\", \"line\": {\"color\": \"#EF553B\", \"dash\": \"solid\"}, \"mode\": \"lines\", \"name\": \"Revenue\", \"orientation\": \"v\", \"showlegend\": true, \"x\": [2001, 2002, 2003, 2004, 2005, 2006, 2007, 2008, 2009, 2010, 2011, 2012, 2013, 2014, 2015, 2016, 2017, 2019, 2020], \"xaxis\": \"x\", \"y\": [690.7750767635754, 896.7215616636017, 442.43420352754794, 855.8168054646468, 921.3123704880445, 505.5719269370327, 534.2379674090712, 956.9438963904356, 496.35764574823065, 748.7911335132944, 863.109194677624, 777.5885049345854, 850.5193199631588, 499.8896051487862, 683.4490642841787, 569.4498379281698, 503.51268779054493, 861.3151777273464, 682.446], \"yaxis\": \"y\", \"type\": \"scatter\"}], \"name\": \"JERSEY\"}, {\"data\": [{\"hovertemplate\": \"variable=85% Revenue<br>County=JO DAVIESS<br>Year=%{x}<br>value=%{y}<extra></extra>\", \"legendgroup\": \"85% Revenue\", \"line\": {\"color\": \"#636efa\", \"dash\": \"solid\"}, \"mode\": \"lines\", \"name\": \"85% Revenue\", \"orientation\": \"v\", \"showlegend\": true, \"x\": [2001, 2002, 2003, 2004, 2005, 2006, 2007, 2008, 2009, 2010, 2011, 2012, 2013, 2014, 2015, 2016, 2017, 2019, 2020], \"xaxis\": \"x\", \"y\": [907.36617644745, 1158.7366475526155, 593.871603960728, 896.9430261824191, 869.5063801231064, 876.2939961661483, 682.5941805361133, 915.7455023243598, 842.758258487747, 787.8978675059527, 718.1452023601923, 706.3375975936237, 558.0296526315789, 814.3097540272173, 696.1676192902968, 565.826011969773, 685.9897735521528, 832.3113406198823, 667.535], \"yaxis\": \"y\", \"type\": \"scatter\"}, {\"hovertemplate\": \"variable=Revenue<br>County=JO DAVIESS<br>Year=%{x}<br>value=%{y}<extra></extra>\", \"legendgroup\": \"Revenue\", \"line\": {\"color\": \"#EF553B\", \"dash\": \"solid\"}, \"mode\": \"lines\", \"name\": \"Revenue\", \"orientation\": \"v\", \"showlegend\": true, \"x\": [2001, 2002, 2003, 2004, 2005, 2006, 2007, 2008, 2009, 2010, 2011, 2012, 2013, 2014, 2015, 2016, 2017, 2019, 2020], \"xaxis\": \"x\", \"y\": [907.36617644745, 1158.7366475526155, 593.871603960728, 896.9430261824191, 869.5063801231064, 876.2939961661483, 682.5941805361133, 915.7455023243598, 842.758258487747, 787.8978675059527, 718.1452023601923, 706.3375975936237, 544.986225570871, 814.3097540272173, 696.1676192902968, 565.826011969773, 685.9897735521528, 832.3113406198823, 667.535], \"yaxis\": \"y\", \"type\": \"scatter\"}], \"name\": \"JO DAVIESS\"}, {\"data\": [{\"hovertemplate\": \"variable=85% Revenue<br>County=JOHNSON<br>Year=%{x}<br>value=%{y}<extra></extra>\", \"legendgroup\": \"85% Revenue\", \"line\": {\"color\": \"#636efa\", \"dash\": \"solid\"}, \"mode\": \"lines\", \"name\": \"85% Revenue\", \"orientation\": \"v\", \"showlegend\": true, \"x\": [2001, 2002, 2003, 2004, 2005, 2006, 2007, 2008, 2009, 2010, 2011, 2014, 2015, 2017, 2020], \"xaxis\": \"x\", \"y\": [489.5829001680169, 495.56466291775223, 472.82332963378843, 1002.1026270795685, 575.6625819736753, 792.1265985417353, 513.2208419961305, 716.4810411090679, 520.9641768503702, 407.6962877751503, 733.689339523662, 467.98773424747, 778.5644929648124, 745.6565883614821, 707.4], \"yaxis\": \"y\", \"type\": \"scatter\"}, {\"hovertemplate\": \"variable=Revenue<br>County=JOHNSON<br>Year=%{x}<br>value=%{y}<extra></extra>\", \"legendgroup\": \"Revenue\", \"line\": {\"color\": \"#EF553B\", \"dash\": \"solid\"}, \"mode\": \"lines\", \"name\": \"Revenue\", \"orientation\": \"v\", \"showlegend\": true, \"x\": [2001, 2002, 2003, 2004, 2005, 2006, 2007, 2008, 2009, 2010, 2011, 2014, 2015, 2017, 2020], \"xaxis\": \"x\", \"y\": [489.5829001680169, 495.56466291775223, 472.82332963378843, 1002.1026270795685, 575.6625819736753, 792.1265985417353, 513.2208419961305, 716.4810411090679, 520.9641768503702, 407.6962877751503, 733.689339523662, 467.98773424747, 778.5644929648124, 745.6565883614821, 707.4], \"yaxis\": \"y\", \"type\": \"scatter\"}], \"name\": \"JOHNSON\"}, {\"data\": [{\"hovertemplate\": \"variable=85% Revenue<br>County=KANE<br>Year=%{x}<br>value=%{y}<extra></extra>\", \"legendgroup\": \"85% Revenue\", \"line\": {\"color\": \"#636efa\", \"dash\": \"solid\"}, \"mode\": \"lines\", \"name\": \"85% Revenue\", \"orientation\": \"v\", \"showlegend\": true, \"x\": [2001, 2002, 2003, 2004, 2005, 2006, 2007, 2008, 2009, 2010, 2011, 2012, 2013, 2014, 2015, 2016, 2017, 2018, 2019, 2020], \"xaxis\": \"x\", \"y\": [696.9633825496558, 707.2586413129172, 555.6711061783845, 773.5945479605792, 524.964690252662, 625.5943453811427, 930.7506691218828, 694.1992321572192, 492.60841618053433, 917.2702633052778, 677.6763215690024, 661.5968624999999, 761.2947520747238, 705.3925007747866, 859.6639871532507, 684.0810307095707, 670.3725991638997, 499.6591113988359, 419.16684009990735, 518.256], \"yaxis\": \"y\", \"type\": \"scatter\"}, {\"hovertemplate\": \"variable=Revenue<br>County=KANE<br>Year=%{x}<br>value=%{y}<extra></extra>\", \"legendgroup\": \"Revenue\", \"line\": {\"color\": \"#EF553B\", \"dash\": \"solid\"}, \"mode\": \"lines\", \"name\": \"Revenue\", \"orientation\": \"v\", \"showlegend\": true, \"x\": [2001, 2002, 2003, 2004, 2005, 2006, 2007, 2008, 2009, 2010, 2011, 2012, 2013, 2014, 2015, 2016, 2017, 2018, 2019, 2020], \"xaxis\": \"x\", \"y\": [696.9633825496558, 707.2586413129172, 555.6711061783845, 773.5945479605792, 524.964690252662, 625.5943453811427, 930.7506691218828, 694.1992321572192, 492.60841618053433, 917.2702633052778, 677.6763215690024, 454.5026383767444, 761.2947520747238, 705.3925007747866, 859.6639871532507, 684.0810307095707, 670.3725991638997, 499.6591113988359, 419.16684009990735, 518.256], \"yaxis\": \"y\", \"type\": \"scatter\"}], \"name\": \"KANE\"}, {\"data\": [{\"hovertemplate\": \"variable=85% Revenue<br>County=KANKAKEE<br>Year=%{x}<br>value=%{y}<extra></extra>\", \"legendgroup\": \"85% Revenue\", \"line\": {\"color\": \"#636efa\", \"dash\": \"solid\"}, \"mode\": \"lines\", \"name\": \"85% Revenue\", \"orientation\": \"v\", \"showlegend\": true, \"x\": [2001, 2002, 2003, 2004, 2005, 2006, 2007, 2008, 2009, 2010, 2011, 2012, 2013, 2014, 2015, 2016, 2017, 2018, 2019, 2020], \"xaxis\": \"x\", \"y\": [708.3065677403264, 780.7895418838544, 688.8592735773693, 815.8178327077185, 659.9270204167766, 589.3625017228982, 1073.7439920419172, 935.3674648447645, 708.5933986080923, 804.3012731951517, 574.3480003822176, 677.2157515088297, 592.2825405535253, 547.7969677201534, 533.3331693514782, 829.8318301181955, 862.8495450244063, 854.1864290272836, 724.6357327334645, 435.78000000000003], \"yaxis\": \"y\", \"type\": \"scatter\"}, {\"hovertemplate\": \"variable=Revenue<br>County=KANKAKEE<br>Year=%{x}<br>value=%{y}<extra></extra>\", \"legendgroup\": \"Revenue\", \"line\": {\"color\": \"#EF553B\", \"dash\": \"solid\"}, \"mode\": \"lines\", \"name\": \"Revenue\", \"orientation\": \"v\", \"showlegend\": true, \"x\": [2001, 2002, 2003, 2004, 2005, 2006, 2007, 2008, 2009, 2010, 2011, 2012, 2013, 2014, 2015, 2016, 2017, 2018, 2019, 2020], \"xaxis\": \"x\", \"y\": [708.3065677403264, 780.7895418838544, 688.8592735773693, 815.8178327077185, 659.9270204167766, 589.3625017228982, 1073.7439920419172, 935.3674648447645, 708.5933986080923, 804.3012731951517, 574.3480003822176, 677.2157515088297, 592.2825405535253, 547.7969677201534, 533.3331693514782, 829.8318301181955, 862.8495450244063, 854.1864290272836, 724.6357327334645, 435.78000000000003], \"yaxis\": \"y\", \"type\": \"scatter\"}], \"name\": \"KANKAKEE\"}, {\"data\": [{\"hovertemplate\": \"variable=85% Revenue<br>County=KENDALL<br>Year=%{x}<br>value=%{y}<extra></extra>\", \"legendgroup\": \"85% Revenue\", \"line\": {\"color\": \"#636efa\", \"dash\": \"solid\"}, \"mode\": \"lines\", \"name\": \"85% Revenue\", \"orientation\": \"v\", \"showlegend\": true, \"x\": [2001, 2002, 2003, 2004, 2005, 2006, 2007, 2008, 2009, 2010, 2011, 2012, 2013, 2017, 2018, 2019, 2020], \"xaxis\": \"x\", \"y\": [900.5210938056912, 497.4967790067132, 838.91889378021, 776.1877945348234, 665.580232284625, 1012.8670353789931, 571.5244911397247, 770.9200676588397, 597.2403324988259, 624.126067750678, 962.7848114139657, 646.4569499999999, 939.0756970226864, 912.9670287570771, 1040.5839475937562, 642.9386476651564, 835.416], \"yaxis\": \"y\", \"type\": \"scatter\"}, {\"hovertemplate\": \"variable=Revenue<br>County=KENDALL<br>Year=%{x}<br>value=%{y}<extra></extra>\", \"legendgroup\": \"Revenue\", \"line\": {\"color\": \"#EF553B\", \"dash\": \"solid\"}, \"mode\": \"lines\", \"name\": \"Revenue\", \"orientation\": \"v\", \"showlegend\": true, \"x\": [2001, 2002, 2003, 2004, 2005, 2006, 2007, 2008, 2009, 2010, 2011, 2012, 2013, 2017, 2018, 2019, 2020], \"xaxis\": \"x\", \"y\": [900.5210938056912, 497.4967790067132, 838.91889378021, 776.1877945348234, 665.580232284625, 1012.8670353789931, 571.5244911397247, 770.9200676588397, 597.2403324988259, 624.126067750678, 962.7848114139657, 515.5355110113101, 939.0756970226864, 912.9670287570771, 1040.5839475937562, 642.9386476651564, 835.416], \"yaxis\": \"y\", \"type\": \"scatter\"}], \"name\": \"KENDALL\"}, {\"data\": [{\"hovertemplate\": \"variable=85% Revenue<br>County=KNOX<br>Year=%{x}<br>value=%{y}<extra></extra>\", \"legendgroup\": \"85% Revenue\", \"line\": {\"color\": \"#636efa\", \"dash\": \"solid\"}, \"mode\": \"lines\", \"name\": \"85% Revenue\", \"orientation\": \"v\", \"showlegend\": true, \"x\": [2001, 2002, 2003, 2004, 2005, 2006, 2007, 2008, 2009, 2010, 2011, 2012, 2013, 2014, 2015, 2016, 2017, 2018, 2019, 2020], \"xaxis\": \"x\", \"y\": [777.1367861589554, 1147.3676938821345, 730.7868436375419, 819.3081433113298, 847.5242028698158, 973.9190859601492, 633.2082741076955, 869.5344716147891, 678.1345562090415, 590.6775619391162, 1062.8287493370922, 721.1830950000002, 768.5147957584496, 1032.985815191547, 850.9680577333984, 978.9087660888285, 614.7249104608109, 858.4749974816125, 455.8799777018652, 699.448], \"yaxis\": \"y\", \"type\": \"scatter\"}, {\"hovertemplate\": \"variable=Revenue<br>County=KNOX<br>Year=%{x}<br>value=%{y}<extra></extra>\", \"legendgroup\": \"Revenue\", \"line\": {\"color\": \"#EF553B\", \"dash\": \"solid\"}, \"mode\": \"lines\", \"name\": \"Revenue\", \"orientation\": \"v\", \"showlegend\": true, \"x\": [2001, 2002, 2003, 2004, 2005, 2006, 2007, 2008, 2009, 2010, 2011, 2012, 2013, 2014, 2015, 2016, 2017, 2018, 2019, 2020], \"xaxis\": \"x\", \"y\": [777.1367861589554, 1147.3676938821345, 730.7868436375419, 819.3081433113298, 847.5242028698158, 973.9190859601492, 633.2082741076955, 869.5344716147891, 678.1345562090415, 590.6775619391162, 1062.8287493370922, 603.9785014680864, 768.5147957584496, 1032.985815191547, 850.9680577333984, 978.9087660888285, 614.7249104608109, 858.4749974816125, 455.8799777018652, 699.448], \"yaxis\": \"y\", \"type\": \"scatter\"}], \"name\": \"KNOX\"}, {\"data\": [{\"hovertemplate\": \"variable=85% Revenue<br>County=LA SALLE<br>Year=%{x}<br>value=%{y}<extra></extra>\", \"legendgroup\": \"85% Revenue\", \"line\": {\"color\": \"#636efa\", \"dash\": \"solid\"}, \"mode\": \"lines\", \"name\": \"85% Revenue\", \"orientation\": \"v\", \"showlegend\": true, \"x\": [2001, 2002, 2003, 2004, 2005, 2006, 2007, 2008, 2009, 2010, 2011, 2012, 2013, 2014, 2015, 2016, 2017, 2018, 2019, 2020], \"xaxis\": \"x\", \"y\": [809.16275765669, 807.4954177301074, 766.4462684131885, 680.027407585422, 702.5370893910805, 703.0488833807128, 477.12949699720537, 645.9368636009656, 607.1241768503703, 680.5096326466697, 948.3262783593324, 922.289955220054, 963.7955682706527, 685.0146150386599, 555.9078819585454, 1044.7426840129635, 537.6622611898107, 1132.7465071981612, 484.5488538947682, 963.6990000000001], \"yaxis\": \"y\", \"type\": \"scatter\"}, {\"hovertemplate\": \"variable=Revenue<br>County=LA SALLE<br>Year=%{x}<br>value=%{y}<extra></extra>\", \"legendgroup\": \"Revenue\", \"line\": {\"color\": \"#EF553B\", \"dash\": \"solid\"}, \"mode\": \"lines\", \"name\": \"Revenue\", \"orientation\": \"v\", \"showlegend\": true, \"x\": [2001, 2002, 2003, 2004, 2005, 2006, 2007, 2008, 2009, 2010, 2011, 2012, 2013, 2014, 2015, 2016, 2017, 2018, 2019, 2020], \"xaxis\": \"x\", \"y\": [809.16275765669, 807.4954177301074, 766.4462684131885, 680.027407585422, 702.5370893910805, 703.0488833807128, 477.12949699720537, 645.9368636009656, 607.1241768503703, 680.5096326466697, 948.3262783593324, 922.289955220054, 963.7955682706527, 685.0146150386599, 555.9078819585454, 1044.7426840129635, 537.6622611898107, 1132.7465071981612, 484.5488538947682, 963.6990000000001], \"yaxis\": \"y\", \"type\": \"scatter\"}], \"name\": \"LA SALLE\"}, {\"data\": [{\"hovertemplate\": \"variable=85% Revenue<br>County=LAKE<br>Year=%{x}<br>value=%{y}<extra></extra>\", \"legendgroup\": \"85% Revenue\", \"line\": {\"color\": \"#636efa\", \"dash\": \"solid\"}, \"mode\": \"lines\", \"name\": \"85% Revenue\", \"orientation\": \"v\", \"showlegend\": true, \"x\": [2001, 2002, 2003, 2004, 2005, 2006, 2007, 2008, 2009, 2010, 2012, 2014, 2015, 2016, 2018, 2019, 2020], \"xaxis\": \"x\", \"y\": [834.4681270336494, 599.0299557296776, 565.1417993879222, 709.3475984498972, 526.780301258929, 557.5246442697928, 669.9620531706792, 715.5187948814734, 504.9880212019147, 491.9524469819432, 693.1786881727626, 662.5980062396983, 711.7181136061412, 815.9376192902969, 405.08261617044775, 510.59462697286534, 858.8580000000001], \"yaxis\": \"y\", \"type\": \"scatter\"}, {\"hovertemplate\": \"variable=Revenue<br>County=LAKE<br>Year=%{x}<br>value=%{y}<extra></extra>\", \"legendgroup\": \"Revenue\", \"line\": {\"color\": \"#EF553B\", \"dash\": \"solid\"}, \"mode\": \"lines\", \"name\": \"Revenue\", \"orientation\": \"v\", \"showlegend\": true, \"x\": [2001, 2002, 2003, 2004, 2005, 2006, 2007, 2008, 2009, 2010, 2012, 2014, 2015, 2016, 2018, 2019, 2020], \"xaxis\": \"x\", \"y\": [834.4681270336494, 599.0299557296776, 565.1417993879222, 709.3475984498972, 526.780301258929, 557.5246442697928, 669.9620531706792, 715.5187948814734, 504.9880212019147, 491.9524469819432, 693.1786881727626, 662.5980062396983, 711.7181136061412, 815.9376192902969, 405.08261617044775, 510.59462697286534, 858.8580000000001], \"yaxis\": \"y\", \"type\": \"scatter\"}], \"name\": \"LAKE\"}, {\"data\": [{\"hovertemplate\": \"variable=85% Revenue<br>County=LAWRENCE<br>Year=%{x}<br>value=%{y}<extra></extra>\", \"legendgroup\": \"85% Revenue\", \"line\": {\"color\": \"#636efa\", \"dash\": \"solid\"}, \"mode\": \"lines\", \"name\": \"85% Revenue\", \"orientation\": \"v\", \"showlegend\": true, \"x\": [2001, 2002, 2003, 2004, 2005, 2006, 2007, 2008, 2009, 2010, 2011, 2012, 2013, 2014, 2015, 2017, 2018, 2019, 2020], \"xaxis\": \"x\", \"y\": [1006.5704840941858, 746.7400897732981, 727.1049962935542, 930.3434322182682, 907.0362571367151, 552.9043683725774, 559.3052344563627, 504.31351378450944, 606.0985270134763, 855.7779070654474, 644.6144398652688, 577.9957499999999, 708.579365946028, 649.6939510602552, 474.64854697689987, 494.68547696264625, 787.7199242556717, 783.7856710032409, 674.834], \"yaxis\": \"y\", \"type\": \"scatter\"}, {\"hovertemplate\": \"variable=Revenue<br>County=LAWRENCE<br>Year=%{x}<br>value=%{y}<extra></extra>\", \"legendgroup\": \"Revenue\", \"line\": {\"color\": \"#EF553B\", \"dash\": \"solid\"}, \"mode\": \"lines\", \"name\": \"Revenue\", \"orientation\": \"v\", \"showlegend\": true, \"x\": [2001, 2002, 2003, 2004, 2005, 2006, 2007, 2008, 2009, 2010, 2011, 2012, 2013, 2014, 2015, 2017, 2018, 2019, 2020], \"xaxis\": \"x\", \"y\": [1006.5704840941858, 746.7400897732981, 727.1049962935542, 930.3434322182682, 907.0362571367151, 552.9043683725774, 559.3052344563627, 504.31351378450944, 606.0985270134763, 855.7779070654474, 644.6144398652688, 558.3963387029564, 708.579365946028, 649.6939510602552, 474.64854697689987, 494.68547696264625, 787.7199242556717, 783.7856710032409, 674.834], \"yaxis\": \"y\", \"type\": \"scatter\"}], \"name\": \"LAWRENCE\"}, {\"data\": [{\"hovertemplate\": \"variable=85% Revenue<br>County=LEE<br>Year=%{x}<br>value=%{y}<extra></extra>\", \"legendgroup\": \"85% Revenue\", \"line\": {\"color\": \"#636efa\", \"dash\": \"solid\"}, \"mode\": \"lines\", \"name\": \"85% Revenue\", \"orientation\": \"v\", \"showlegend\": true, \"x\": [2001, 2002, 2003, 2004, 2005, 2006, 2007, 2008, 2009, 2010, 2011, 2012, 2013, 2014, 2015, 2016, 2017, 2018, 2019, 2020], \"xaxis\": \"x\", \"y\": [963.1976901963916, 1032.741124387856, 470.877997771992, 1076.0079663128508, 967.2877940963355, 977.7807916697861, 893.1353682807393, 854.5618766106883, 839.4363343594813, 589.3475209011839, 794.5637354148255, 788.3661643147033, 902.9834372194753, 1072.381549184205, 528.2370445044314, 1089.322216374297, 1004.9930199071531, 726.6904421288446, 852.0326043280807, 990.5350000000001], \"yaxis\": \"y\", \"type\": \"scatter\"}, {\"hovertemplate\": \"variable=Revenue<br>County=LEE<br>Year=%{x}<br>value=%{y}<extra></extra>\", \"legendgroup\": \"Revenue\", \"line\": {\"color\": \"#EF553B\", \"dash\": \"solid\"}, \"mode\": \"lines\", \"name\": \"Revenue\", \"orientation\": \"v\", \"showlegend\": true, \"x\": [2001, 2002, 2003, 2004, 2005, 2006, 2007, 2008, 2009, 2010, 2011, 2012, 2013, 2014, 2015, 2016, 2017, 2018, 2019, 2020], \"xaxis\": \"x\", \"y\": [963.1976901963916, 1032.741124387856, 470.877997771992, 1076.0079663128508, 967.2877940963355, 977.7807916697861, 893.1353682807393, 854.5618766106883, 839.4363343594813, 589.3475209011839, 794.5637354148255, 788.3661643147033, 902.9834372194753, 1072.381549184205, 528.2370445044314, 1089.322216374297, 1004.9930199071531, 726.6904421288446, 852.0326043280807, 990.5350000000001], \"yaxis\": \"y\", \"type\": \"scatter\"}], \"name\": \"LEE\"}, {\"data\": [{\"hovertemplate\": \"variable=85% Revenue<br>County=LIVINGSTON<br>Year=%{x}<br>value=%{y}<extra></extra>\", \"legendgroup\": \"85% Revenue\", \"line\": {\"color\": \"#636efa\", \"dash\": \"solid\"}, \"mode\": \"lines\", \"name\": \"85% Revenue\", \"orientation\": \"v\", \"showlegend\": true, \"x\": [2001, 2002, 2003, 2004, 2005, 2006, 2007, 2008, 2009, 2010, 2011, 2012, 2013, 2014, 2015, 2016, 2017, 2018, 2019, 2020], \"xaxis\": \"x\", \"y\": [994.0555743266747, 1001.2188248059061, 482.0485803678317, 802.2869512232288, 876.1981584927903, 545.727848766155, 781.8393241229577, 871.2213170062832, 811.3350620206031, 513.947145, 596.1433349999999, 751.1314776915139, 568.7446049999999, 1026.8322920267874, 664.6195568667736, 548.4456907829882, 856.6385124897479, 901.7820848490641, 547.193739284245, 884.906], \"yaxis\": \"y\", \"type\": \"scatter\"}, {\"hovertemplate\": \"variable=Revenue<br>County=LIVINGSTON<br>Year=%{x}<br>value=%{y}<extra></extra>\", \"legendgroup\": \"Revenue\", \"line\": {\"color\": \"#EF553B\", \"dash\": \"solid\"}, \"mode\": \"lines\", \"name\": \"Revenue\", \"orientation\": \"v\", \"showlegend\": true, \"x\": [2001, 2002, 2003, 2004, 2005, 2006, 2007, 2008, 2009, 2010, 2011, 2012, 2013, 2014, 2015, 2016, 2017, 2018, 2019, 2020], \"xaxis\": \"x\", \"y\": [994.0555743266747, 1001.2188248059061, 482.0485803678317, 802.2869512232288, 876.1981584927903, 545.727848766155, 781.8393241229577, 871.2213170062832, 811.3350620206031, 512.6797819635888, 575.3782545471922, 751.1314776915139, 567.9890761265459, 1026.8322920267874, 664.6195568667736, 548.4456907829882, 856.6385124897479, 901.7820848490641, 547.193739284245, 884.906], \"yaxis\": \"y\", \"type\": \"scatter\"}], \"name\": \"LIVINGSTON\"}, {\"data\": [{\"hovertemplate\": \"variable=85% Revenue<br>County=LOGAN<br>Year=%{x}<br>value=%{y}<extra></extra>\", \"legendgroup\": \"85% Revenue\", \"line\": {\"color\": \"#636efa\", \"dash\": \"solid\"}, \"mode\": \"lines\", \"name\": \"85% Revenue\", \"orientation\": \"v\", \"showlegend\": true, \"x\": [2001, 2002, 2003, 2004, 2005, 2006, 2007, 2008, 2009, 2010, 2011, 2012, 2013, 2014, 2015, 2016, 2017, 2018, 2020], \"xaxis\": \"x\", \"y\": [859.4734053218465, 1076.6532287618554, 916.4581157571761, 974.592347715854, 627.7903207838644, 827.393835226106, 612.6144872347376, 633.007347368421, 624.1511029311296, 788.9301515597922, 1079.4778676333585, 729.1903500000002, 682.4484439895, 778.6167805769892, 556.7352054444738, 1077.3885828506513, 896.1054504128745, 652.9110243780342, 1015.3519999999999], \"yaxis\": \"y\", \"type\": \"scatter\"}, {\"hovertemplate\": \"variable=Revenue<br>County=LOGAN<br>Year=%{x}<br>value=%{y}<extra></extra>\", \"legendgroup\": \"Revenue\", \"line\": {\"color\": \"#EF553B\", \"dash\": \"solid\"}, \"mode\": \"lines\", \"name\": \"Revenue\", \"orientation\": \"v\", \"showlegend\": true, \"x\": [2001, 2002, 2003, 2004, 2005, 2006, 2007, 2008, 2009, 2010, 2011, 2012, 2013, 2014, 2015, 2016, 2017, 2018, 2020], \"xaxis\": \"x\", \"y\": [859.4734053218465, 1076.6532287618554, 916.4581157571761, 974.592347715854, 627.7903207838644, 827.393835226106, 612.6144872347376, 515.043310766585, 624.1511029311296, 788.9301515597922, 1079.4778676333585, 476.5867119493351, 682.4484439895, 778.6167805769892, 556.7352054444738, 1077.3885828506513, 896.1054504128745, 652.9110243780342, 1015.3519999999999], \"yaxis\": \"y\", \"type\": \"scatter\"}], \"name\": \"LOGAN\"}, {\"data\": [{\"hovertemplate\": \"variable=85% Revenue<br>County=MACON<br>Year=%{x}<br>value=%{y}<extra></extra>\", \"legendgroup\": \"85% Revenue\", \"line\": {\"color\": \"#636efa\", \"dash\": \"solid\"}, \"mode\": \"lines\", \"name\": \"85% Revenue\", \"orientation\": \"v\", \"showlegend\": true, \"x\": [2001, 2002, 2003, 2004, 2005, 2006, 2007, 2008, 2009, 2010, 2011, 2012, 2013, 2014, 2015, 2016, 2017, 2018, 2019, 2020], \"xaxis\": \"x\", \"y\": [833.507441414842, 909.094432564918, 1007.8890892074043, 1068.1142946163102, 780.9227888965869, 581.2838625610159, 768.734172726139, 767.7168557909913, 589.6535445859182, 1063.4941451364175, 735.6295118320159, 749.3737275000001, 626.6692575000001, 786.8275510092928, 1091.8127720737152, 901.8036461867185, 827.6537528598618, 759.2949327589457, 756.1969550570803, 991.473], \"yaxis\": \"y\", \"type\": \"scatter\"}, {\"hovertemplate\": \"variable=Revenue<br>County=MACON<br>Year=%{x}<br>value=%{y}<extra></extra>\", \"legendgroup\": \"Revenue\", \"line\": {\"color\": \"#EF553B\", \"dash\": \"solid\"}, \"mode\": \"lines\", \"name\": \"Revenue\", \"orientation\": \"v\", \"showlegend\": true, \"x\": [2001, 2002, 2003, 2004, 2005, 2006, 2007, 2008, 2009, 2010, 2011, 2012, 2013, 2014, 2015, 2016, 2017, 2018, 2019, 2020], \"xaxis\": \"x\", \"y\": [833.507441414842, 909.094432564918, 1007.8890892074043, 1068.1142946163102, 780.9227888965869, 581.2838625610159, 768.734172726139, 767.7168557909913, 589.6535445859182, 1063.4941451364175, 735.6295118320159, 610.8442092576227, 591.8801565965672, 786.8275510092928, 1091.8127720737152, 901.8036461867185, 827.6537528598618, 759.2949327589457, 756.1969550570803, 991.473], \"yaxis\": \"y\", \"type\": \"scatter\"}], \"name\": \"MACON\"}, {\"data\": [{\"hovertemplate\": \"variable=85% Revenue<br>County=MACOUPIN<br>Year=%{x}<br>value=%{y}<extra></extra>\", \"legendgroup\": \"85% Revenue\", \"line\": {\"color\": \"#636efa\", \"dash\": \"solid\"}, \"mode\": \"lines\", \"name\": \"85% Revenue\", \"orientation\": \"v\", \"showlegend\": true, \"x\": [2001, 2002, 2003, 2004, 2005, 2006, 2007, 2008, 2009, 2010, 2011, 2012, 2013, 2014, 2015, 2016, 2017, 2018, 2019, 2020], \"xaxis\": \"x\", \"y\": [1017.2789931174345, 987.6011361028173, 580.8466371531184, 1067.4143327892052, 853.721646257854, 963.8093618573648, 616.7047744084263, 955.4357131522586, 526.3364881472816, 603.2733468595804, 586.2248125, 668.7916875, 575.9403773143395, 680.4969638151663, 487.26991150076054, 1017.6491332584826, 607.9397912520008, 585.5716801998149, 675.3689458605066, 822.2040000000001], \"yaxis\": \"y\", \"type\": \"scatter\"}, {\"hovertemplate\": \"variable=Revenue<br>County=MACOUPIN<br>Year=%{x}<br>value=%{y}<extra></extra>\", \"legendgroup\": \"Revenue\", \"line\": {\"color\": \"#EF553B\", \"dash\": \"solid\"}, \"mode\": \"lines\", \"name\": \"Revenue\", \"orientation\": \"v\", \"showlegend\": true, \"x\": [2001, 2002, 2003, 2004, 2005, 2006, 2007, 2008, 2009, 2010, 2011, 2012, 2013, 2014, 2015, 2016, 2017, 2018, 2019, 2020], \"xaxis\": \"x\", \"y\": [1017.2789931174345, 987.6011361028173, 580.8466371531184, 1067.4143327892052, 853.721646257854, 963.8093618573648, 616.7047744084263, 955.4357131522586, 526.3364881472816, 603.2733468595804, 421.6208456463059, 523.1162814436138, 575.9403773143395, 680.4969638151663, 487.26991150076054, 1017.6491332584826, 607.9397912520008, 585.5716801998149, 675.3689458605066, 822.2040000000001], \"yaxis\": \"y\", \"type\": \"scatter\"}], \"name\": \"MACOUPIN\"}, {\"data\": [{\"hovertemplate\": \"variable=85% Revenue<br>County=MADISON<br>Year=%{x}<br>value=%{y}<extra></extra>\", \"legendgroup\": \"85% Revenue\", \"line\": {\"color\": \"#636efa\", \"dash\": \"solid\"}, \"mode\": \"lines\", \"name\": \"85% Revenue\", \"orientation\": \"v\", \"showlegend\": true, \"x\": [2001, 2002, 2003, 2004, 2005, 2006, 2007, 2008, 2009, 2010, 2011, 2012, 2013, 2014, 2015, 2016, 2017, 2018, 2019, 2020], \"xaxis\": \"x\", \"y\": [834.8242714056316, 653.1850884785366, 493.1709070654473, 594.9799756931012, 694.2547741891822, 554.8675225425952, 683.9021791850814, 779.6672696368144, 853.799147562967, 836.9763322795819, 580.8982527221044, 603.3187800000002, 504.52974000000006, 913.875943250281, 595.153776891246, 749.6053985725247, 680.4126976804187, 647.7209465538065, 749.7838565405615, 726.9119999999999], \"yaxis\": \"y\", \"type\": \"scatter\"}, {\"hovertemplate\": \"variable=Revenue<br>County=MADISON<br>Year=%{x}<br>value=%{y}<extra></extra>\", \"legendgroup\": \"Revenue\", \"line\": {\"color\": \"#EF553B\", \"dash\": \"solid\"}, \"mode\": \"lines\", \"name\": \"Revenue\", \"orientation\": \"v\", \"showlegend\": true, \"x\": [2001, 2002, 2003, 2004, 2005, 2006, 2007, 2008, 2009, 2010, 2011, 2012, 2013, 2014, 2015, 2016, 2017, 2018, 2019, 2020], \"xaxis\": \"x\", \"y\": [834.8242714056316, 653.1850884785366, 493.1709070654473, 594.9799756931012, 694.2547741891822, 554.8675225425952, 683.9021791850814, 779.6672696368144, 853.799147562967, 836.9763322795819, 580.8982527221044, 538.7426499998676, 453.6800945196937, 913.875943250281, 595.153776891246, 749.6053985725247, 680.4126976804187, 647.7209465538065, 749.7838565405615, 726.9119999999999], \"yaxis\": \"y\", \"type\": \"scatter\"}], \"name\": \"MADISON\"}, {\"data\": [{\"hovertemplate\": \"variable=85% Revenue<br>County=MARION<br>Year=%{x}<br>value=%{y}<extra></extra>\", \"legendgroup\": \"85% Revenue\", \"line\": {\"color\": \"#636efa\", \"dash\": \"solid\"}, \"mode\": \"lines\", \"name\": \"85% Revenue\", \"orientation\": \"v\", \"showlegend\": true, \"x\": [2001, 2002, 2003, 2004, 2005, 2006, 2007, 2008, 2009, 2010, 2011, 2012, 2013, 2014, 2015, 2016, 2017, 2018, 2019, 2020], \"xaxis\": \"x\", \"y\": [618.531236317018, 759.1276938821346, 511.1781968849293, 890.6373763455252, 529.1474193003834, 802.8232101138962, 587.7605196775578, 933.6973919654736, 699.743126177376, 734.0719644166279, 687.0632261723326, 552.2355225, 545.503554348386, 811.7934151405846, 526.0319213906342, 764.7589033441365, 575.4855922664693, 1014.3927824020768, 516.1786430668695, 686.147], \"yaxis\": \"y\", \"type\": \"scatter\"}, {\"hovertemplate\": \"variable=Revenue<br>County=MARION<br>Year=%{x}<br>value=%{y}<extra></extra>\", \"legendgroup\": \"Revenue\", \"line\": {\"color\": \"#EF553B\", \"dash\": \"solid\"}, \"mode\": \"lines\", \"name\": \"Revenue\", \"orientation\": \"v\", \"showlegend\": true, \"x\": [2001, 2002, 2003, 2004, 2005, 2006, 2007, 2008, 2009, 2010, 2011, 2012, 2013, 2014, 2015, 2016, 2017, 2018, 2019, 2020], \"xaxis\": \"x\", \"y\": [618.531236317018, 759.1276938821346, 511.1781968849293, 890.6373763455252, 529.1474193003834, 802.8232101138962, 587.7605196775578, 933.6973919654736, 699.743126177376, 734.0719644166279, 687.0632261723326, 413.7542276507704, 545.503554348386, 811.7934151405846, 526.0319213906342, 764.7589033441365, 575.4855922664693, 1014.3927824020768, 516.1786430668695, 686.147], \"yaxis\": \"y\", \"type\": \"scatter\"}], \"name\": \"MARION\"}, {\"data\": [{\"hovertemplate\": \"variable=85% Revenue<br>County=MARSHALL<br>Year=%{x}<br>value=%{y}<extra></extra>\", \"legendgroup\": \"85% Revenue\", \"line\": {\"color\": \"#636efa\", \"dash\": \"solid\"}, \"mode\": \"lines\", \"name\": \"85% Revenue\", \"orientation\": \"v\", \"showlegend\": true, \"x\": [2001, 2002, 2003, 2004, 2005, 2006, 2007, 2008, 2009, 2010, 2011, 2012, 2013, 2014, 2015, 2016, 2017, 2018, 2019, 2020], \"xaxis\": \"x\", \"y\": [1027.6030216197, 671.7062076873468, 780.7456858173488, 732.6079402934054, 1060.9310059641837, 1063.4194998059722, 752.694019376827, 714.7493779158011, 901.9486378464183, 717.1009035989482, 820.2777659969905, 883.2498455544676, 767.804913014766, 797.8575195145843, 1040.920066017428, 726.3849942699251, 756.4026129587604, 890.1661534767181, 780.6336112255109, 613.5480000000001], \"yaxis\": \"y\", \"type\": \"scatter\"}, {\"hovertemplate\": \"variable=Revenue<br>County=MARSHALL<br>Year=%{x}<br>value=%{y}<extra></extra>\", \"legendgroup\": \"Revenue\", \"line\": {\"color\": \"#EF553B\", \"dash\": \"solid\"}, \"mode\": \"lines\", \"name\": \"Revenue\", \"orientation\": \"v\", \"showlegend\": true, \"x\": [2001, 2002, 2003, 2004, 2005, 2006, 2007, 2008, 2009, 2010, 2011, 2012, 2013, 2014, 2015, 2016, 2017, 2018, 2019, 2020], \"xaxis\": \"x\", \"y\": [1027.6030216197, 671.7062076873468, 780.7456858173488, 732.6079402934054, 1060.9310059641837, 1063.4194998059722, 752.694019376827, 714.7493779158011, 901.9486378464183, 717.1009035989482, 820.2777659969905, 883.2498455544676, 767.804913014766, 797.8575195145843, 1040.920066017428, 726.3849942699251, 756.4026129587604, 890.1661534767181, 780.6336112255109, 613.5480000000001], \"yaxis\": \"y\", \"type\": \"scatter\"}], \"name\": \"MARSHALL\"}, {\"data\": [{\"hovertemplate\": \"variable=85% Revenue<br>County=MASON<br>Year=%{x}<br>value=%{y}<extra></extra>\", \"legendgroup\": \"85% Revenue\", \"line\": {\"color\": \"#636efa\", \"dash\": \"solid\"}, \"mode\": \"lines\", \"name\": \"85% Revenue\", \"orientation\": \"v\", \"showlegend\": true, \"x\": [2001, 2002, 2003, 2004, 2005, 2006, 2007, 2008, 2009, 2010, 2011, 2012, 2013, 2014, 2015, 2016, 2017, 2019, 2020], \"xaxis\": \"x\", \"y\": [922.2517338801174, 903.9246394878296, 801.3822824272933, 742.7595193309078, 629.2172618268402, 869.8966445246045, 631.9746210591142, 921.6083081563593, 649.9667371480751, 944.0133340128314, 555.6424499999999, 698.8475696572522, 798.0032188008465, 962.317507799623, 748.5667621838413, 973.5403168433098, 1001.8493775335834, 479.4779937958694, 934.304], \"yaxis\": \"y\", \"type\": \"scatter\"}, {\"hovertemplate\": \"variable=Revenue<br>County=MASON<br>Year=%{x}<br>value=%{y}<extra></extra>\", \"legendgroup\": \"Revenue\", \"line\": {\"color\": \"#EF553B\", \"dash\": \"solid\"}, \"mode\": \"lines\", \"name\": \"Revenue\", \"orientation\": \"v\", \"showlegend\": true, \"x\": [2001, 2002, 2003, 2004, 2005, 2006, 2007, 2008, 2009, 2010, 2011, 2012, 2013, 2014, 2015, 2016, 2017, 2019, 2020], \"xaxis\": \"x\", \"y\": [922.2517338801174, 903.9246394878296, 801.3822824272933, 742.7595193309078, 629.2172618268402, 869.8966445246045, 631.9746210591142, 921.6083081563593, 649.9667371480751, 944.0133340128314, 543.6959018656987, 698.8475696572522, 798.0032188008465, 962.317507799623, 748.5667621838413, 973.5403168433098, 1001.8493775335834, 479.4779937958694, 934.304], \"yaxis\": \"y\", \"type\": \"scatter\"}], \"name\": \"MASON\"}, {\"data\": [{\"hovertemplate\": \"variable=85% Revenue<br>County=MASSAC<br>Year=%{x}<br>value=%{y}<extra></extra>\", \"legendgroup\": \"85% Revenue\", \"line\": {\"color\": \"#636efa\", \"dash\": \"solid\"}, \"mode\": \"lines\", \"name\": \"85% Revenue\", \"orientation\": \"v\", \"showlegend\": true, \"x\": [2001, 2002, 2003, 2004, 2005, 2006, 2007, 2008, 2009, 2010, 2011, 2012, 2013, 2014, 2015, 2016, 2019, 2020], \"xaxis\": \"x\", \"y\": [705.6461612659895, 565.4033745204375, 654.1241187140516, 564.5029498366292, 905.8182424293104, 822.6792469001916, 339.0082780126826, 478.7659630300283, 443.13008740301933, 671.6983060764599, 790.858463677409, 519.33555, 964.4438901507374, 608.4306387233943, 651.8345207737779, 637.3054901916131, 557.3138404465573, 449.58], \"yaxis\": \"y\", \"type\": \"scatter\"}, {\"hovertemplate\": \"variable=Revenue<br>County=MASSAC<br>Year=%{x}<br>value=%{y}<extra></extra>\", \"legendgroup\": \"Revenue\", \"line\": {\"color\": \"#EF553B\", \"dash\": \"solid\"}, \"mode\": \"lines\", \"name\": \"Revenue\", \"orientation\": \"v\", \"showlegend\": true, \"x\": [2001, 2002, 2003, 2004, 2005, 2006, 2007, 2008, 2009, 2010, 2011, 2012, 2013, 2014, 2015, 2016, 2019, 2020], \"xaxis\": \"x\", \"y\": [705.6461612659895, 565.4033745204375, 654.1241187140516, 564.5029498366292, 905.8182424293104, 822.6792469001916, 339.0082780126826, 478.7659630300283, 443.13008740301933, 671.6983060764599, 790.858463677409, 431.54706211244115, 964.4438901507374, 608.4306387233943, 651.8345207737779, 637.3054901916131, 557.3138404465573, 449.58], \"yaxis\": \"y\", \"type\": \"scatter\"}], \"name\": \"MASSAC\"}, {\"data\": [{\"hovertemplate\": \"variable=85% Revenue<br>County=MCDONOUGH<br>Year=%{x}<br>value=%{y}<extra></extra>\", \"legendgroup\": \"85% Revenue\", \"line\": {\"color\": \"#636efa\", \"dash\": \"solid\"}, \"mode\": \"lines\", \"name\": \"85% Revenue\", \"orientation\": \"v\", \"showlegend\": true, \"x\": [2001, 2002, 2003, 2004, 2005, 2006, 2007, 2008, 2009, 2010, 2011, 2012, 2013, 2014, 2015, 2016, 2017, 2018, 2019, 2020], \"xaxis\": \"x\", \"y\": [708.585280000744, 969.2810020591967, 600.8915892177556, 894.9304389882925, 687.631079501207, 755.7355869186122, 602.7744872347375, 659.0251197184335, 782.1422449121302, 622.7878427812685, 865.4592477771677, 718.7630175000002, 708.1516647072722, 802.3660614191413, 561.0498589671109, 929.1272705137904, 975.7892809695581, 679.8241987662875, 664.0117852671142, 823.04], \"yaxis\": \"y\", \"type\": \"scatter\"}, {\"hovertemplate\": \"variable=Revenue<br>County=MCDONOUGH<br>Year=%{x}<br>value=%{y}<extra></extra>\", \"legendgroup\": \"Revenue\", \"line\": {\"color\": \"#EF553B\", \"dash\": \"solid\"}, \"mode\": \"lines\", \"name\": \"Revenue\", \"orientation\": \"v\", \"showlegend\": true, \"x\": [2001, 2002, 2003, 2004, 2005, 2006, 2007, 2008, 2009, 2010, 2011, 2012, 2013, 2014, 2015, 2016, 2017, 2018, 2019, 2020], \"xaxis\": \"x\", \"y\": [708.585280000744, 969.2810020591967, 600.8915892177556, 894.9304389882925, 687.631079501207, 755.7355869186122, 602.7744872347375, 659.0251197184335, 782.1422449121302, 622.7878427812685, 865.4592477771677, 475.88160159044895, 708.1516647072722, 802.3660614191413, 561.0498589671109, 929.1272705137904, 975.7892809695581, 679.8241987662875, 664.0117852671142, 823.04], \"yaxis\": \"y\", \"type\": \"scatter\"}], \"name\": \"MCDONOUGH\"}, {\"data\": [{\"hovertemplate\": \"variable=85% Revenue<br>County=MCHENRY<br>Year=%{x}<br>value=%{y}<extra></extra>\", \"legendgroup\": \"85% Revenue\", \"line\": {\"color\": \"#636efa\", \"dash\": \"solid\"}, \"mode\": \"lines\", \"name\": \"85% Revenue\", \"orientation\": \"v\", \"showlegend\": true, \"x\": [2001, 2002, 2003, 2004, 2005, 2006, 2007, 2008, 2009, 2010, 2011, 2012, 2013, 2014, 2015, 2016, 2017, 2018, 2020], \"xaxis\": \"x\", \"y\": [919.2059883917418, 711.5634473997284, 568.2676179748328, 946.8057088087834, 471.3474882746873, 752.5057478586544, 752.0144716147892, 562.0149739598517, 612.1744297561511, 1045.632352059329, 535.84765, 611.31915, 698.3428417413187, 828.6746486132679, 507.9490904873007, 943.7021148653349, 544.3119292006086, 649.1921301386334, 735.3000000000001], \"yaxis\": \"y\", \"type\": \"scatter\"}, {\"hovertemplate\": \"variable=Revenue<br>County=MCHENRY<br>Year=%{x}<br>value=%{y}<extra></extra>\", \"legendgroup\": \"Revenue\", \"line\": {\"color\": \"#EF553B\", \"dash\": \"solid\"}, \"mode\": \"lines\", \"name\": \"Revenue\", \"orientation\": \"v\", \"showlegend\": true, \"x\": [2001, 2002, 2003, 2004, 2005, 2006, 2007, 2008, 2009, 2010, 2011, 2012, 2013, 2014, 2015, 2016, 2017, 2018, 2020], \"xaxis\": \"x\", \"y\": [919.2059883917418, 711.5634473997284, 568.2676179748328, 946.8057088087834, 471.3474882746873, 752.5057478586544, 752.0144716147892, 562.0149739598517, 612.1744297561511, 1045.632352059329, 513.457425943002, 603.3840444125933, 698.3428417413187, 828.6746486132679, 507.9490904873007, 943.7021148653349, 544.3119292006086, 649.1921301386334, 735.3000000000001], \"yaxis\": \"y\", \"type\": \"scatter\"}], \"name\": \"MCHENRY\"}, {\"data\": [{\"hovertemplate\": \"variable=85% Revenue<br>County=MCLEAN<br>Year=%{x}<br>value=%{y}<extra></extra>\", \"legendgroup\": \"85% Revenue\", \"line\": {\"color\": \"#636efa\", \"dash\": \"solid\"}, \"mode\": \"lines\", \"name\": \"85% Revenue\", \"orientation\": \"v\", \"showlegend\": true, \"x\": [2001, 2002, 2003, 2004, 2005, 2006, 2007, 2008, 2009, 2010, 2011, 2012, 2013, 2014, 2015, 2016, 2017, 2018, 2019, 2020], \"xaxis\": \"x\", \"y\": [1070.638556280177, 760.8200520388913, 585.3277101598153, 725.4055179443083, 866.7834096653215, 791.621416781996, 844.7840154718398, 811.9602784867383, 1006.7747934948738, 574.6784929648123, 796.4022221399397, 941.9307072592101, 857.1220647582345, 751.2335785990144, 1127.052956005192, 583.1425623776042, 1086.207251427343, 824.9969239090218, 600.8460328813082, 717.1759999999999], \"yaxis\": \"y\", \"type\": \"scatter\"}, {\"hovertemplate\": \"variable=Revenue<br>County=MCLEAN<br>Year=%{x}<br>value=%{y}<extra></extra>\", \"legendgroup\": \"Revenue\", \"line\": {\"color\": \"#EF553B\", \"dash\": \"solid\"}, \"mode\": \"lines\", \"name\": \"Revenue\", \"orientation\": \"v\", \"showlegend\": true, \"x\": [2001, 2002, 2003, 2004, 2005, 2006, 2007, 2008, 2009, 2010, 2011, 2012, 2013, 2014, 2015, 2016, 2017, 2018, 2019, 2020], \"xaxis\": \"x\", \"y\": [1070.638556280177, 760.8200520388913, 585.3277101598153, 725.4055179443083, 866.7834096653215, 791.621416781996, 844.7840154718398, 811.9602784867383, 1006.7747934948738, 574.6784929648123, 796.4022221399397, 941.9307072592101, 857.1220647582345, 751.2335785990144, 1127.052956005192, 583.1425623776042, 1086.207251427343, 824.9969239090218, 600.8460328813082, 717.1759999999999], \"yaxis\": \"y\", \"type\": \"scatter\"}], \"name\": \"MCLEAN\"}, {\"data\": [{\"hovertemplate\": \"variable=85% Revenue<br>County=MENARD<br>Year=%{x}<br>value=%{y}<extra></extra>\", \"legendgroup\": \"85% Revenue\", \"line\": {\"color\": \"#636efa\", \"dash\": \"solid\"}, \"mode\": \"lines\", \"name\": \"85% Revenue\", \"orientation\": \"v\", \"showlegend\": true, \"x\": [2001, 2002, 2003, 2004, 2005, 2006, 2007, 2008, 2009, 2010, 2011, 2012, 2014, 2015, 2016, 2017, 2018, 2019, 2020], \"xaxis\": \"x\", \"y\": [752.0891204473012, 920.6535202790194, 972.471902630134, 960.674953996428, 971.3150995357659, 913.7247548834907, 729.3847744084262, 847.0136283031944, 606.7364881472815, 799.1789824631257, 691.7608546236357, 703.6470000000002, 685.5749086357232, 614.7872744187777, 991.7093624795291, 1115.7033617862292, 917.0199974816124, 718.8078036602619, 638.83], \"yaxis\": \"y\", \"type\": \"scatter\"}, {\"hovertemplate\": \"variable=Revenue<br>County=MENARD<br>Year=%{x}<br>value=%{y}<extra></extra>\", \"legendgroup\": \"Revenue\", \"line\": {\"color\": \"#EF553B\", \"dash\": \"solid\"}, \"mode\": \"lines\", \"name\": \"Revenue\", \"orientation\": \"v\", \"showlegend\": true, \"x\": [2001, 2002, 2003, 2004, 2005, 2006, 2007, 2008, 2009, 2010, 2011, 2012, 2014, 2015, 2016, 2017, 2018, 2019, 2020], \"xaxis\": \"x\", \"y\": [752.0891204473012, 920.6535202790194, 972.471902630134, 960.674953996428, 971.3150995357659, 913.7247548834907, 729.3847744084262, 847.0136283031944, 606.7364881472815, 799.1789824631257, 691.7608546236357, 396.9278584012169, 685.5749086357232, 614.7872744187777, 991.7093624795291, 1115.7033617862292, 917.0199974816124, 718.8078036602619, 638.83], \"yaxis\": \"y\", \"type\": \"scatter\"}], \"name\": \"MENARD\"}, {\"data\": [{\"hovertemplate\": \"variable=85% Revenue<br>County=MERCER<br>Year=%{x}<br>value=%{y}<extra></extra>\", \"legendgroup\": \"85% Revenue\", \"line\": {\"color\": \"#636efa\", \"dash\": \"solid\"}, \"mode\": \"lines\", \"name\": \"85% Revenue\", \"orientation\": \"v\", \"showlegend\": true, \"x\": [2001, 2002, 2003, 2004, 2005, 2006, 2007, 2008, 2009, 2010, 2011, 2012, 2013, 2014, 2015, 2016, 2017, 2018, 2019, 2020], \"xaxis\": \"x\", \"y\": [1025.655574326675, 767.2075338190685, 484.776733023844, 1094.8267360518548, 844.257813621271, 635.2607730218267, 541.484797838349, 598.4044199999998, 464.7114979097492, 1035.9063159663335, 663.5827669095343, 848.9992194941462, 668.135798057593, 919.8097501222302, 533.2403679903598, 837.2810133563728, 744.519739065001, 762.8053413131822, 523.6730397787387, 793.656], \"yaxis\": \"y\", \"type\": \"scatter\"}, {\"hovertemplate\": \"variable=Revenue<br>County=MERCER<br>Year=%{x}<br>value=%{y}<extra></extra>\", \"legendgroup\": \"Revenue\", \"line\": {\"color\": \"#EF553B\", \"dash\": \"solid\"}, \"mode\": \"lines\", \"name\": \"Revenue\", \"orientation\": \"v\", \"showlegend\": true, \"x\": [2001, 2002, 2003, 2004, 2005, 2006, 2007, 2008, 2009, 2010, 2011, 2012, 2013, 2014, 2015, 2016, 2017, 2018, 2019, 2020], \"xaxis\": \"x\", \"y\": [1025.655574326675, 767.2075338190685, 484.776733023844, 1094.8267360518548, 844.257813621271, 635.2607730218267, 541.484797838349, 593.1467985316488, 464.7114979097492, 1035.9063159663335, 663.5827669095343, 848.9992194941462, 668.135798057593, 919.8097501222302, 533.2403679903598, 837.2810133563728, 744.519739065001, 762.8053413131822, 523.6730397787387, 793.656], \"yaxis\": \"y\", \"type\": \"scatter\"}], \"name\": \"MERCER\"}, {\"data\": [{\"hovertemplate\": \"variable=85% Revenue<br>County=MONROE<br>Year=%{x}<br>value=%{y}<extra></extra>\", \"legendgroup\": \"85% Revenue\", \"line\": {\"color\": \"#636efa\", \"dash\": \"solid\"}, \"mode\": \"lines\", \"name\": \"85% Revenue\", \"orientation\": \"v\", \"showlegend\": true, \"x\": [2001, 2002, 2003, 2004, 2005, 2006, 2007, 2008, 2009, 2010, 2011, 2012, 2013, 2014, 2015, 2016, 2017, 2018, 2019, 2020], \"xaxis\": \"x\", \"y\": [949.8045201871812, 797.1151756623118, 505.18838494063743, 588.8713517126793, 479.8844488425985, 659.9267134989084, 405.13812075838337, 963.4597683317015, 627.9377604861597, 856.6490170776837, 474.9997624999999, 595.5658979607115, 472.00271298928493, 861.3495215944837, 708.1090676232719, 838.3969684134532, 617.1527440099377, 800.596653650043, 708.6633406198823, 655.956], \"yaxis\": \"y\", \"type\": \"scatter\"}, {\"hovertemplate\": \"variable=Revenue<br>County=MONROE<br>Year=%{x}<br>value=%{y}<extra></extra>\", \"legendgroup\": \"Revenue\", \"line\": {\"color\": \"#EF553B\", \"dash\": \"solid\"}, \"mode\": \"lines\", \"name\": \"Revenue\", \"orientation\": \"v\", \"showlegend\": true, \"x\": [2001, 2002, 2003, 2004, 2005, 2006, 2007, 2008, 2009, 2010, 2011, 2012, 2013, 2014, 2015, 2016, 2017, 2018, 2019, 2020], \"xaxis\": \"x\", \"y\": [949.8045201871812, 797.1151756623118, 505.18838494063743, 588.8713517126793, 479.8844488425985, 659.9267134989084, 405.13812075838337, 963.4597683317015, 627.9377604861597, 856.6490170776837, 458.6513265139393, 595.5658979607115, 472.00271298928493, 861.3495215944837, 708.1090676232719, 838.3969684134532, 617.1527440099377, 800.596653650043, 708.6633406198823, 655.956], \"yaxis\": \"y\", \"type\": \"scatter\"}], \"name\": \"MONROE\"}, {\"data\": [{\"hovertemplate\": \"variable=85% Revenue<br>County=MONTGOMERY<br>Year=%{x}<br>value=%{y}<extra></extra>\", \"legendgroup\": \"85% Revenue\", \"line\": {\"color\": \"#636efa\", \"dash\": \"solid\"}, \"mode\": \"lines\", \"name\": \"85% Revenue\", \"orientation\": \"v\", \"showlegend\": true, \"x\": [2001, 2002, 2003, 2004, 2005, 2006, 2007, 2008, 2009, 2010, 2011, 2012, 2013, 2014, 2015, 2016, 2017, 2018, 2019, 2020], \"xaxis\": \"x\", \"y\": [528.7533294145444, 958.7071459926909, 575.4191629636713, 951.5608259376938, 676.0084884020931, 951.7692698916262, 696.5020375507307, 583.3009399999999, 504.57020995092256, 1003.8007921082741, 886.178686347675, 671.9312474999999, 596.5664232972086, 994.414250642205, 526.0779804750645, 1085.4660419860438, 567.0231488784311, 1146.501291425326, 1025.3122535990808, 977.1620000000001], \"yaxis\": \"y\", \"type\": \"scatter\"}, {\"hovertemplate\": \"variable=Revenue<br>County=MONTGOMERY<br>Year=%{x}<br>value=%{y}<extra></extra>\", \"legendgroup\": \"Revenue\", \"line\": {\"color\": \"#EF553B\", \"dash\": \"solid\"}, \"mode\": \"lines\", \"name\": \"Revenue\", \"orientation\": \"v\", \"showlegend\": true, \"x\": [2001, 2002, 2003, 2004, 2005, 2006, 2007, 2008, 2009, 2010, 2011, 2012, 2013, 2014, 2015, 2016, 2017, 2018, 2019, 2020], \"xaxis\": \"x\", \"y\": [528.7533294145444, 958.7071459926909, 575.4191629636713, 951.5608259376938, 676.0084884020931, 951.7692698916262, 696.5020375507307, 579.0209265903828, 504.57020995092256, 1003.8007921082741, 886.178686347675, 418.86091358065994, 596.5664232972086, 994.414250642205, 526.0779804750645, 1085.4660419860438, 567.0231488784311, 1146.501291425326, 1025.3122535990808, 977.1620000000001], \"yaxis\": \"y\", \"type\": \"scatter\"}], \"name\": \"MONTGOMERY\"}, {\"data\": [{\"hovertemplate\": \"variable=85% Revenue<br>County=MORGAN<br>Year=%{x}<br>value=%{y}<extra></extra>\", \"legendgroup\": \"85% Revenue\", \"line\": {\"color\": \"#636efa\", \"dash\": \"solid\"}, \"mode\": \"lines\", \"name\": \"85% Revenue\", \"orientation\": \"v\", \"showlegend\": true, \"x\": [2001, 2002, 2003, 2004, 2005, 2006, 2007, 2008, 2009, 2010, 2011, 2012, 2013, 2014, 2015, 2016, 2017, 2018, 2019, 2020], \"xaxis\": \"x\", \"y\": [772.5227424752297, 1131.0544091349952, 981.5665597111083, 704.3667100324093, 637.7478331462065, 768.5873386111183, 703.7514436784177, 627.36222, 702.9300717830708, 750.911596553674, 633.4667925000001, 722.6874675, 848.9611130402473, 992.9658742759772, 559.0486044554864, 868.882921737284, 1031.7793272990773, 1159.1212178527348, 1032.2306641058103, 666.663], \"yaxis\": \"y\", \"type\": \"scatter\"}, {\"hovertemplate\": \"variable=Revenue<br>County=MORGAN<br>Year=%{x}<br>value=%{y}<extra></extra>\", \"legendgroup\": \"Revenue\", \"line\": {\"color\": \"#EF553B\", \"dash\": \"solid\"}, \"mode\": \"lines\", \"name\": \"Revenue\", \"orientation\": \"v\", \"showlegend\": true, \"x\": [2001, 2002, 2003, 2004, 2005, 2006, 2007, 2008, 2009, 2010, 2011, 2012, 2013, 2014, 2015, 2016, 2017, 2018, 2019, 2020], \"xaxis\": \"x\", \"y\": [772.5227424752297, 1131.0544091349952, 981.5665597111083, 704.3667100324093, 637.7478331462065, 768.5873386111183, 703.7514436784177, 508.4168792209139, 702.9300717830708, 750.911596553674, 525.8654880198756, 610.6361172918843, 848.9611130402473, 992.9658742759772, 559.0486044554864, 868.882921737284, 1031.7793272990773, 1159.1212178527348, 1032.2306641058103, 666.663], \"yaxis\": \"y\", \"type\": \"scatter\"}], \"name\": \"MORGAN\"}, {\"data\": [{\"hovertemplate\": \"variable=85% Revenue<br>County=MOULTRIE<br>Year=%{x}<br>value=%{y}<extra></extra>\", \"legendgroup\": \"85% Revenue\", \"line\": {\"color\": \"#636efa\", \"dash\": \"solid\"}, \"mode\": \"lines\", \"name\": \"85% Revenue\", \"orientation\": \"v\", \"showlegend\": true, \"x\": [2001, 2002, 2003, 2004, 2005, 2006, 2007, 2008, 2009, 2010, 2011, 2012, 2013, 2014, 2015, 2016, 2017, 2018, 2019, 2020], \"xaxis\": \"x\", \"y\": [823.8078554799092, 843.8527537517028, 503.6765339109066, 655.3063421694554, 879.5778825955748, 1093.2533710539385, 1123.2014163435078, 898.5776834826376, 979.9231300823631, 697.7311728179772, 747.4821699529399, 745.7109075, 956.5474579117665, 881.6459372653944, 629.1057719463092, 642.4941679648786, 924.8950307095707, 885.9800339212582, 775.928423042397, 572.5440000000001], \"yaxis\": \"y\", \"type\": \"scatter\"}, {\"hovertemplate\": \"variable=Revenue<br>County=MOULTRIE<br>Year=%{x}<br>value=%{y}<extra></extra>\", \"legendgroup\": \"Revenue\", \"line\": {\"color\": \"#EF553B\", \"dash\": \"solid\"}, \"mode\": \"lines\", \"name\": \"Revenue\", \"orientation\": \"v\", \"showlegend\": true, \"x\": [2001, 2002, 2003, 2004, 2005, 2006, 2007, 2008, 2009, 2010, 2011, 2012, 2013, 2014, 2015, 2016, 2017, 2018, 2019, 2020], \"xaxis\": \"x\", \"y\": [823.8078554799092, 843.8527537517028, 503.6765339109066, 655.3063421694554, 879.5778825955748, 1093.2533710539385, 1123.2014163435078, 898.5776834826376, 979.9231300823631, 697.7311728179772, 747.4821699529399, 739.4210914354122, 956.5474579117665, 881.6459372653944, 629.1057719463092, 642.4941679648786, 924.8950307095707, 885.9800339212582, 775.928423042397, 572.5440000000001], \"yaxis\": \"y\", \"type\": \"scatter\"}], \"name\": \"MOULTRIE\"}, {\"data\": [{\"hovertemplate\": \"variable=85% Revenue<br>County=OGLE<br>Year=%{x}<br>value=%{y}<extra></extra>\", \"legendgroup\": \"85% Revenue\", \"line\": {\"color\": \"#636efa\", \"dash\": \"solid\"}, \"mode\": \"lines\", \"name\": \"85% Revenue\", \"orientation\": \"v\", \"showlegend\": true, \"x\": [2001, 2002, 2003, 2004, 2005, 2006, 2007, 2008, 2009, 2010, 2011, 2012, 2013, 2014, 2015, 2016, 2017, 2018, 2019, 2020], \"xaxis\": \"x\", \"y\": [943.2136389219357, 848.6073646305639, 671.6847160528637, 1035.5220752851376, 860.0499023753222, 1024.1350077892716, 661.6741805361133, 907.2294924344861, 574.7591788028639, 880.1652353689066, 957.4041384582313, 785.8818250814205, 851.2032188008466, 648.694798276837, 1008.1214075498544, 747.8254162723723, 577.7084129332793, 1055.6631906096634, 854.8426043280806, 724.71], \"yaxis\": \"y\", \"type\": \"scatter\"}, {\"hovertemplate\": \"variable=Revenue<br>County=OGLE<br>Year=%{x}<br>value=%{y}<extra></extra>\", \"legendgroup\": \"Revenue\", \"line\": {\"color\": \"#EF553B\", \"dash\": \"solid\"}, \"mode\": \"lines\", \"name\": \"Revenue\", \"orientation\": \"v\", \"showlegend\": true, \"x\": [2001, 2002, 2003, 2004, 2005, 2006, 2007, 2008, 2009, 2010, 2011, 2012, 2013, 2014, 2015, 2016, 2017, 2018, 2019, 2020], \"xaxis\": \"x\", \"y\": [943.2136389219357, 848.6073646305639, 671.6847160528637, 1035.5220752851376, 860.0499023753222, 1024.1350077892716, 661.6741805361133, 907.2294924344861, 574.7591788028639, 880.1652353689066, 957.4041384582313, 785.8818250814205, 851.2032188008466, 648.694798276837, 1008.1214075498544, 747.8254162723723, 577.7084129332793, 1055.6631906096634, 854.8426043280806, 724.71], \"yaxis\": \"y\", \"type\": \"scatter\"}], \"name\": \"OGLE\"}, {\"data\": [{\"hovertemplate\": \"variable=85% Revenue<br>County=OTHER (COMBINED) COUNTIES<br>Year=%{x}<br>value=%{y}<extra></extra>\", \"legendgroup\": \"85% Revenue\", \"line\": {\"color\": \"#636efa\", \"dash\": \"solid\"}, \"mode\": \"lines\", \"name\": \"85% Revenue\", \"orientation\": \"v\", \"showlegend\": true, \"x\": [2008, 2008, 2009, 2009, 2010, 2011, 2011, 2012, 2012, 2012, 2013, 2013, 2013, 2013, 2013, 2014, 2014, 2014, 2015, 2015, 2015, 2016, 2016, 2016, 2016, 2017, 2017, 2018, 2018, 2018, 2018, 2018, 2018, 2019, 2019, 2019, 2019, 2019, 2019, 2019, 2019, 2019], \"xaxis\": \"x\", \"y\": [544.5742761904761, 544.5742761904761, 401.0021379841754, 810.4820989343043, 626.9748937090746, 549.8732773809523, 608.5990349967755, 690.0393666393278, 627.3202178571429, 645.0999368269064, 524.6011178571428, 745.341490099775, 583.4388601344664, 660.8390026813611, 593.4628969207619, 830.2097540272173, 599.7556022837488, 553.8833815659765, 651.0227522939678, 825.7704830749386, 711.6718475987994, 975.7711060154111, 878.1915641108538, 420.7910119697731, 759.154627793571, 418.758029669621, 854.2199351854949, 628.0086299653085, 468.13547856849, 843.7519058625238, 536.5006805464647, 414.13732380952376, 579.8859921900258, 1022.2833889018951, 636.2686384685826, 432.6163126835108, 715.9611823256333, 482.00156719513524, 640.2903199275911, 446.0777944636881, 761.9490033390932, 481.14311990210996], \"yaxis\": \"y\", \"type\": \"scatter\"}, {\"hovertemplate\": \"variable=Revenue<br>County=OTHER (COMBINED) COUNTIES<br>Year=%{x}<br>value=%{y}<extra></extra>\", \"legendgroup\": \"Revenue\", \"line\": {\"color\": \"#EF553B\", \"dash\": \"solid\"}, \"mode\": \"lines\", \"name\": \"Revenue\", \"orientation\": \"v\", \"showlegend\": true, \"x\": [2008, 2008, 2009, 2009, 2010, 2011, 2011, 2012, 2012, 2012, 2013, 2013, 2013, 2013, 2013, 2014, 2014, 2014, 2015, 2015, 2015, 2016, 2016, 2016, 2016, 2017, 2017, 2018, 2018, 2018, 2018, 2018, 2018, 2019, 2019, 2019, 2019, 2019, 2019, 2019, 2019, 2019], \"xaxis\": \"x\", \"y\": [452.5219807298762, 542.5738547510416, 401.0021379841754, 810.4820989343043, 626.9748937090746, 516.9159018656987, 608.5990349967755, 690.0393666393278, 427.32448376823845, 645.0999368269064, 521.0119013916428, 745.341490099775, 583.4388601344664, 660.8390026813611, 593.4628969207619, 830.2097540272173, 599.7556022837488, 553.8833815659765, 651.0227522939678, 825.7704830749386, 711.6718475987994, 975.7711060154111, 878.1915641108538, 420.7910119697731, 759.154627793571, 418.758029669621, 854.2199351854949, 628.0086299653085, 468.13547856849, 843.7519058625238, 536.5006805464647, 402.08583159663334, 579.8859921900258, 1022.2833889018951, 636.2686384685826, 432.6163126835108, 715.9611823256333, 482.00156719513524, 640.2903199275911, 446.0777944636881, 761.9490033390932, 481.14311990210996], \"yaxis\": \"y\", \"type\": \"scatter\"}], \"name\": \"OTHER (COMBINED) COUNTIES\"}, {\"data\": [{\"hovertemplate\": \"variable=85% Revenue<br>County=OTHER COUNTIES<br>Year=%{x}<br>value=%{y}<extra></extra>\", \"legendgroup\": \"85% Revenue\", \"line\": {\"color\": \"#636efa\", \"dash\": \"solid\"}, \"mode\": \"lines\", \"name\": \"85% Revenue\", \"orientation\": \"v\", \"showlegend\": true, \"x\": [2020], \"xaxis\": \"x\", \"y\": [652.311], \"yaxis\": \"y\", \"type\": \"scatter\"}, {\"hovertemplate\": \"variable=Revenue<br>County=OTHER COUNTIES<br>Year=%{x}<br>value=%{y}<extra></extra>\", \"legendgroup\": \"Revenue\", \"line\": {\"color\": \"#EF553B\", \"dash\": \"solid\"}, \"mode\": \"lines\", \"name\": \"Revenue\", \"orientation\": \"v\", \"showlegend\": true, \"x\": [2020], \"xaxis\": \"x\", \"y\": [652.311], \"yaxis\": \"y\", \"type\": \"scatter\"}], \"name\": \"OTHER COUNTIES\"}, {\"data\": [{\"hovertemplate\": \"variable=85% Revenue<br>County=PEORIA<br>Year=%{x}<br>value=%{y}<extra></extra>\", \"legendgroup\": \"85% Revenue\", \"line\": {\"color\": \"#636efa\", \"dash\": \"solid\"}, \"mode\": \"lines\", \"name\": \"85% Revenue\", \"orientation\": \"v\", \"showlegend\": true, \"x\": [2001, 2002, 2003, 2004, 2005, 2006, 2007, 2008, 2009, 2010, 2011, 2012, 2013, 2014, 2015, 2016, 2017, 2018, 2019, 2020], \"xaxis\": \"x\", \"y\": [523.4631109959155, 607.4883849406374, 791.3188864087239, 958.7797605217272, 755.8520106543089, 1007.3471043532969, 730.3217464720548, 610.8960199999999, 807.8744141362026, 547.8725159562468, 718.0489068106356, 981.9749000406109, 900.8675958603743, 1010.4653058216481, 722.8296718239468, 962.3128396614194, 1004.9337696471658, 1047.147575825815, 818.6621915222071, 999.9599999999999], \"yaxis\": \"y\", \"type\": \"scatter\"}, {\"hovertemplate\": \"variable=Revenue<br>County=PEORIA<br>Year=%{x}<br>value=%{y}<extra></extra>\", \"legendgroup\": \"Revenue\", \"line\": {\"color\": \"#EF553B\", \"dash\": \"solid\"}, \"mode\": \"lines\", \"name\": \"Revenue\", \"orientation\": \"v\", \"showlegend\": true, \"x\": [2001, 2002, 2003, 2004, 2005, 2006, 2007, 2008, 2009, 2010, 2011, 2012, 2013, 2014, 2015, 2016, 2017, 2018, 2019, 2020], \"xaxis\": \"x\", \"y\": [523.4631109959155, 607.4883849406374, 791.3188864087239, 958.7797605217272, 755.8520106543089, 1007.3471043532969, 730.3217464720548, 566.6663846858256, 807.8744141362026, 547.8725159562468, 718.0489068106356, 981.9749000406109, 900.8675958603743, 1010.4653058216481, 722.8296718239468, 962.3128396614194, 1004.9337696471658, 1047.147575825815, 818.6621915222071, 999.9599999999999], \"yaxis\": \"y\", \"type\": \"scatter\"}], \"name\": \"PEORIA\"}, {\"data\": [{\"hovertemplate\": \"variable=85% Revenue<br>County=PERRY<br>Year=%{x}<br>value=%{y}<extra></extra>\", \"legendgroup\": \"85% Revenue\", \"line\": {\"color\": \"#636efa\", \"dash\": \"solid\"}, \"mode\": \"lines\", \"name\": \"85% Revenue\", \"orientation\": \"v\", \"showlegend\": true, \"x\": [2001, 2002, 2003, 2004, 2005, 2006, 2007, 2008, 2009, 2010, 2011, 2012, 2013, 2014, 2015, 2016, 2017, 2018, 2019, 2020], \"xaxis\": \"x\", \"y\": [718.2661612659895, 600.3797370918046, 663.0788900944669, 801.4908068512465, 866.8534591146898, 657.124019157583, 487.55597386801355, 744.5176912926117, 742.8760736437263, 879.8086969308484, 433.08970500000004, 513.4055887436999, 660.5657407064124, 606.5454190455716, 693.7425356085884, 700.4692061377735, 429.7906444534691, 716.8045800774521, 377.85348247347713, 647.4250000000001], \"yaxis\": \"y\", \"type\": \"scatter\"}, {\"hovertemplate\": \"variable=Revenue<br>County=PERRY<br>Year=%{x}<br>value=%{y}<extra></extra>\", \"legendgroup\": \"Revenue\", \"line\": {\"color\": \"#EF553B\", \"dash\": \"solid\"}, \"mode\": \"lines\", \"name\": \"Revenue\", \"orientation\": \"v\", \"showlegend\": true, \"x\": [2001, 2002, 2003, 2004, 2005, 2006, 2007, 2008, 2009, 2010, 2011, 2012, 2013, 2014, 2015, 2016, 2017, 2018, 2019, 2020], \"xaxis\": \"x\", \"y\": [718.2661612659895, 600.3797370918046, 663.0788900944669, 801.4908068512465, 866.8534591146898, 657.124019157583, 487.55597386801355, 744.5176912926117, 742.8760736437263, 879.8086969308484, 355.2024830749387, 513.4055887436999, 660.5657407064124, 606.5454190455716, 693.7425356085884, 700.4692061377735, 429.7906444534691, 716.8045800774521, 377.85348247347713, 647.4250000000001], \"yaxis\": \"y\", \"type\": \"scatter\"}], \"name\": \"PERRY\"}, {\"data\": [{\"hovertemplate\": \"variable=85% Revenue<br>County=PIATT<br>Year=%{x}<br>value=%{y}<extra></extra>\", \"legendgroup\": \"85% Revenue\", \"line\": {\"color\": \"#636efa\", \"dash\": \"solid\"}, \"mode\": \"lines\", \"name\": \"85% Revenue\", \"orientation\": \"v\", \"showlegend\": true, \"x\": [2001, 2002, 2003, 2004, 2005, 2006, 2007, 2008, 2009, 2010, 2011, 2012, 2013, 2014, 2015, 2016, 2017, 2018, 2020], \"xaxis\": \"x\", \"y\": [869.4176598334709, 809.041792016436, 520.6759550008101, 921.6104389882925, 1066.8803507082973, 1128.7176101648586, 953.676736709587, 672.9326526315788, 901.9926242708015, 818.9274126221969, 844.8177758868641, 841.1183210031085, 833.9789589976352, 949.7094968697994, 882.415862306204, 937.6437837886764, 857.3543124642667, 760.3506299653086, 1037.055], \"yaxis\": \"y\", \"type\": \"scatter\"}, {\"hovertemplate\": \"variable=Revenue<br>County=PIATT<br>Year=%{x}<br>value=%{y}<extra></extra>\", \"legendgroup\": \"Revenue\", \"line\": {\"color\": \"#EF553B\", \"dash\": \"solid\"}, \"mode\": \"lines\", \"name\": \"Revenue\", \"orientation\": \"v\", \"showlegend\": true, \"x\": [2001, 2002, 2003, 2004, 2005, 2006, 2007, 2008, 2009, 2010, 2011, 2012, 2013, 2014, 2015, 2016, 2017, 2018, 2020], \"xaxis\": \"x\", \"y\": [869.4176598334709, 809.041792016436, 520.6759550008101, 921.6104389882925, 1066.8803507082973, 1128.7176101648586, 953.676736709587, 504.00666839301533, 901.9926242708015, 818.9274126221969, 844.8177758868641, 841.1183210031085, 833.9789589976352, 949.7094968697994, 882.415862306204, 937.6437837886764, 857.3543124642667, 760.3506299653086, 1037.055], \"yaxis\": \"y\", \"type\": \"scatter\"}], \"name\": \"PIATT\"}, {\"data\": [{\"hovertemplate\": \"variable=85% Revenue<br>County=PIKE<br>Year=%{x}<br>value=%{y}<extra></extra>\", \"legendgroup\": \"85% Revenue\", \"line\": {\"color\": \"#636efa\", \"dash\": \"solid\"}, \"mode\": \"lines\", \"name\": \"85% Revenue\", \"orientation\": \"v\", \"showlegend\": true, \"x\": [2001, 2002, 2003, 2004, 2005, 2006, 2007, 2008, 2009, 2010, 2011, 2012, 2013, 2014, 2015, 2016, 2017, 2018, 2020], \"xaxis\": \"x\", \"y\": [713.9295421030985, 780.2359773345125, 754.9825700394699, 522.6425056278852, 689.6114588598781, 679.2290213293205, 550.8229654565777, 864.7616579728154, 570.2923869849691, 918.7279841963752, 726.9680556890667, 637.8264000000001, 783.6934717066273, 553.2859450753687, 789.3616160786096, 751.1207378058073, 559.2849104608109, 656.0921117454858, 963.9000000000001], \"yaxis\": \"y\", \"type\": \"scatter\"}, {\"hovertemplate\": \"variable=Revenue<br>County=PIKE<br>Year=%{x}<br>value=%{y}<extra></extra>\", \"legendgroup\": \"Revenue\", \"line\": {\"color\": \"#EF553B\", \"dash\": \"solid\"}, \"mode\": \"lines\", \"name\": \"Revenue\", \"orientation\": \"v\", \"showlegend\": true, \"x\": [2001, 2002, 2003, 2004, 2005, 2006, 2007, 2008, 2009, 2010, 2011, 2012, 2013, 2014, 2015, 2016, 2017, 2018, 2020], \"xaxis\": \"x\", \"y\": [713.9295421030985, 780.2359773345125, 754.9825700394699, 522.6425056278852, 689.6114588598781, 679.2290213293205, 550.8229654565777, 864.7616579728154, 570.2923869849691, 918.7279841963752, 726.9680556890667, 590.5932732869896, 783.6934717066273, 553.2859450753687, 789.3616160786096, 751.1207378058073, 559.2849104608109, 656.0921117454858, 963.9000000000001], \"yaxis\": \"y\", \"type\": \"scatter\"}], \"name\": \"PIKE\"}, {\"data\": [{\"hovertemplate\": \"variable=85% Revenue<br>County=POPE<br>Year=%{x}<br>value=%{y}<extra></extra>\", \"legendgroup\": \"85% Revenue\", \"line\": {\"color\": \"#636efa\", \"dash\": \"solid\"}, \"mode\": \"lines\", \"name\": \"85% Revenue\", \"orientation\": \"v\", \"showlegend\": true, \"x\": [2001, 2002, 2003, 2004, 2005, 2006, 2007, 2010, 2015, 2016, 2017, 2020], \"xaxis\": \"x\", \"y\": [825.6836768755866, 674.7276938821346, 776.1507374384546, 640.1398871938618, 716.9037890239928, 826.0150077892715, 323.2032721552019, 563.2756361131687, 709.0536291801706, 502.60927016714066, 778.3044740976089, 775.52], \"yaxis\": \"y\", \"type\": \"scatter\"}, {\"hovertemplate\": \"variable=Revenue<br>County=POPE<br>Year=%{x}<br>value=%{y}<extra></extra>\", \"legendgroup\": \"Revenue\", \"line\": {\"color\": \"#EF553B\", \"dash\": \"solid\"}, \"mode\": \"lines\", \"name\": \"Revenue\", \"orientation\": \"v\", \"showlegend\": true, \"x\": [2001, 2002, 2003, 2004, 2005, 2006, 2007, 2010, 2015, 2016, 2017, 2020], \"xaxis\": \"x\", \"y\": [825.6836768755866, 674.7276938821346, 776.1507374384546, 640.1398871938618, 716.9037890239928, 826.0150077892715, 323.2032721552019, 563.2756361131687, 709.0536291801706, 502.60927016714066, 778.3044740976089, 775.52], \"yaxis\": \"y\", \"type\": \"scatter\"}], \"name\": \"POPE\"}, {\"data\": [{\"hovertemplate\": \"variable=85% Revenue<br>County=PULASKI<br>Year=%{x}<br>value=%{y}<extra></extra>\", \"legendgroup\": \"85% Revenue\", \"line\": {\"color\": \"#636efa\", \"dash\": \"solid\"}, \"mode\": \"lines\", \"name\": \"85% Revenue\", \"orientation\": \"v\", \"showlegend\": true, \"x\": [2001, 2002, 2003, 2004, 2005, 2006, 2007, 2008, 2009, 2010, 2011, 2012, 2013, 2014, 2015, 2016, 2017, 2018, 2019, 2020], \"xaxis\": \"x\", \"y\": [644.2767785682252, 457.1733485009919, 639.958296441398, 585.509297226536, 602.8623405636118, 642.3712558419536, 451.20827801268257, 738.9414627648652, 860.4776145083337, 748.800925111945, 805.6414429851178, 553.6090800000001, 792.564524586927, 560.1986840129638, 408.0400330087141, 453.2943791394272, 790.3887883869634, 779.8355942189629, 548.6961225479033, 745.13], \"yaxis\": \"y\", \"type\": \"scatter\"}, {\"hovertemplate\": \"variable=Revenue<br>County=PULASKI<br>Year=%{x}<br>value=%{y}<extra></extra>\", \"legendgroup\": \"Revenue\", \"line\": {\"color\": \"#EF553B\", \"dash\": \"solid\"}, \"mode\": \"lines\", \"name\": \"Revenue\", \"orientation\": \"v\", \"showlegend\": true, \"x\": [2001, 2002, 2003, 2004, 2005, 2006, 2007, 2008, 2009, 2010, 2011, 2012, 2013, 2014, 2015, 2016, 2017, 2018, 2019, 2020], \"xaxis\": \"x\", \"y\": [644.2767785682252, 457.1733485009919, 639.958296441398, 585.509297226536, 602.8623405636118, 642.3712558419536, 451.20827801268257, 738.9414627648652, 860.4776145083337, 748.800925111945, 805.6414429851178, 397.7700607258415, 792.564524586927, 560.1986840129638, 408.0400330087141, 453.2943791394272, 790.3887883869634, 779.8355942189629, 548.6961225479033, 745.13], \"yaxis\": \"y\", \"type\": \"scatter\"}], \"name\": \"PULASKI\"}, {\"data\": [{\"hovertemplate\": \"variable=85% Revenue<br>County=PUTNAM<br>Year=%{x}<br>value=%{y}<extra></extra>\", \"legendgroup\": \"85% Revenue\", \"line\": {\"color\": \"#636efa\", \"dash\": \"solid\"}, \"mode\": \"lines\", \"name\": \"85% Revenue\", \"orientation\": \"v\", \"showlegend\": true, \"x\": [2001, 2002, 2003, 2004, 2005, 2006, 2007, 2008, 2009, 2010, 2011, 2012, 2013, 2014, 2015, 2016, 2017, 2020], \"xaxis\": \"x\", \"y\": [827.2321175822639, 878.7473034662343, 446.93022491313894, 922.5685493471788, 510.8297000151298, 715.2490443207553, 872.8640037568786, 947.924950529929, 940.449151467954, 623.3026457482306, 935.0217601395098, 866.149908197235, 1048.546832672151, 524.1658662111912, 883.9993861642635, 922.9046649265161, 545.6606099663172, 650.844], \"yaxis\": \"y\", \"type\": \"scatter\"}, {\"hovertemplate\": \"variable=Revenue<br>County=PUTNAM<br>Year=%{x}<br>value=%{y}<extra></extra>\", \"legendgroup\": \"Revenue\", \"line\": {\"color\": \"#EF553B\", \"dash\": \"solid\"}, \"mode\": \"lines\", \"name\": \"Revenue\", \"orientation\": \"v\", \"showlegend\": true, \"x\": [2001, 2002, 2003, 2004, 2005, 2006, 2007, 2008, 2009, 2010, 2011, 2012, 2013, 2014, 2015, 2016, 2017, 2020], \"xaxis\": \"x\", \"y\": [827.2321175822639, 878.7473034662343, 446.93022491313894, 922.5685493471788, 510.8297000151298, 715.2490443207553, 872.8640037568786, 947.924950529929, 940.449151467954, 623.3026457482306, 935.0217601395098, 866.149908197235, 1048.546832672151, 524.1658662111912, 883.9993861642635, 922.9046649265161, 545.6606099663172, 650.844], \"yaxis\": \"y\", \"type\": \"scatter\"}], \"name\": \"PUTNAM\"}, {\"data\": [{\"hovertemplate\": \"variable=85% Revenue<br>County=RANDOLPH<br>Year=%{x}<br>value=%{y}<extra></extra>\", \"legendgroup\": \"85% Revenue\", \"line\": {\"color\": \"#636efa\", \"dash\": \"solid\"}, \"mode\": \"lines\", \"name\": \"85% Revenue\", \"orientation\": \"v\", \"showlegend\": true, \"x\": [2001, 2002, 2003, 2004, 2005, 2006, 2007, 2008, 2009, 2010, 2011, 2012, 2013, 2014, 2015, 2016, 2017, 2018, 2019, 2020], \"xaxis\": \"x\", \"y\": [890.7198364290292, 588.2340187190948, 361.5839122296281, 643.3619225935576, 540.9562616994343, 446.75844654345514, 402.1731227108769, 554.699596553674, 510.0105893095938, 444.18791496725964, 716.397660710447, 624.7757433522056, 576.3828808267576, 414.07502680458356, 454.8616094004233, 703.3320041597989, 699.9288888559759, 881.0479292006085, 468.8226476651564, 450.97499999999997], \"yaxis\": \"y\", \"type\": \"scatter\"}, {\"hovertemplate\": \"variable=Revenue<br>County=RANDOLPH<br>Year=%{x}<br>value=%{y}<extra></extra>\", \"legendgroup\": \"Revenue\", \"line\": {\"color\": \"#EF553B\", \"dash\": \"solid\"}, \"mode\": \"lines\", \"name\": \"Revenue\", \"orientation\": \"v\", \"showlegend\": true, \"x\": [2001, 2002, 2003, 2004, 2005, 2006, 2007, 2008, 2009, 2010, 2011, 2012, 2013, 2014, 2015, 2016, 2017, 2018, 2019, 2020], \"xaxis\": \"x\", \"y\": [890.7198364290292, 588.2340187190948, 361.5839122296281, 643.3619225935576, 540.9562616994343, 446.75844654345514, 402.1731227108769, 554.699596553674, 510.0105893095938, 444.18791496725964, 716.397660710447, 624.7757433522056, 576.3828808267576, 414.07502680458356, 454.8616094004233, 703.3320041597989, 699.9288888559759, 881.0479292006085, 468.8226476651564, 450.97499999999997], \"yaxis\": \"y\", \"type\": \"scatter\"}], \"name\": \"RANDOLPH\"}, {\"data\": [{\"hovertemplate\": \"variable=85% Revenue<br>County=RICHLAND<br>Year=%{x}<br>value=%{y}<extra></extra>\", \"legendgroup\": \"85% Revenue\", \"line\": {\"color\": \"#636efa\", \"dash\": \"solid\"}, \"mode\": \"lines\", \"name\": \"85% Revenue\", \"orientation\": \"v\", \"showlegend\": true, \"x\": [2001, 2002, 2003, 2004, 2005, 2006, 2007, 2008, 2009, 2010, 2011, 2012, 2013, 2014, 2015, 2016, 2017, 2018, 2020], \"xaxis\": \"x\", \"y\": [580.8865449681358, 647.7441527627154, 745.6019911293735, 826.1857973080228, 427.0540349967754, 861.5530491738539, 461.0037165831899, 561.8596616229908, 489.42084221537453, 465.77431892320914, 475.73904999999996, 542.74455, 684.1595912620874, 607.8055096247106, 453.34426947384077, 544.045571920828, 759.4577351600138, 735.4682588906674, 442.624], \"yaxis\": \"y\", \"type\": \"scatter\"}, {\"hovertemplate\": \"variable=Revenue<br>County=RICHLAND<br>Year=%{x}<br>value=%{y}<extra></extra>\", \"legendgroup\": \"Revenue\", \"line\": {\"color\": \"#EF553B\", \"dash\": \"solid\"}, \"mode\": \"lines\", \"name\": \"Revenue\", \"orientation\": \"v\", \"showlegend\": true, \"x\": [2001, 2002, 2003, 2004, 2005, 2006, 2007, 2008, 2009, 2010, 2011, 2012, 2013, 2014, 2015, 2016, 2017, 2018, 2020], \"xaxis\": \"x\", \"y\": [580.8865449681358, 647.7441527627154, 745.6019911293735, 826.1857973080228, 427.0540349967754, 861.5530491738539, 461.0037165831899, 561.8596616229908, 489.42084221537453, 465.77431892320914, 394.56978851436924, 434.89787956756385, 684.1595912620874, 607.8055096247106, 453.34426947384077, 544.045571920828, 759.4577351600138, 735.4682588906674, 442.624], \"yaxis\": \"y\", \"type\": \"scatter\"}], \"name\": \"RICHLAND\"}, {\"data\": [{\"hovertemplate\": \"variable=85% Revenue<br>County=ROCK ISLAND<br>Year=%{x}<br>value=%{y}<extra></extra>\", \"legendgroup\": \"85% Revenue\", \"line\": {\"color\": \"#636efa\", \"dash\": \"solid\"}, \"mode\": \"lines\", \"name\": \"85% Revenue\", \"orientation\": \"v\", \"showlegend\": true, \"x\": [2001, 2002, 2003, 2004, 2005, 2006, 2007, 2008, 2009, 2010, 2011, 2012, 2013, 2014, 2015, 2016, 2017, 2018, 2020], \"xaxis\": \"x\", \"y\": [752.3638042054532, 991.5035202790194, 687.825095850023, 1118.9984799343868, 554.6875572489911, 748.893536337456, 538.374951187661, 872.5189406400553, 540.5227741536146, 574.30375081553, 722.9860053271545, 679.61835, 574.5764784766518, 644.9286564232422, 546.7265699683345, 820.9440317495204, 1003.1301805005455, 1031.8608007952243, 577.92], \"yaxis\": \"y\", \"type\": \"scatter\"}, {\"hovertemplate\": \"variable=Revenue<br>County=ROCK ISLAND<br>Year=%{x}<br>value=%{y}<extra></extra>\", \"legendgroup\": \"Revenue\", \"line\": {\"color\": \"#EF553B\", \"dash\": \"solid\"}, \"mode\": \"lines\", \"name\": \"Revenue\", \"orientation\": \"v\", \"showlegend\": true, \"x\": [2001, 2002, 2003, 2004, 2005, 2006, 2007, 2008, 2009, 2010, 2011, 2012, 2013, 2014, 2015, 2016, 2017, 2018, 2020], \"xaxis\": \"x\", \"y\": [752.3638042054532, 991.5035202790194, 687.825095850023, 1118.9984799343868, 554.6875572489911, 748.893536337456, 538.374951187661, 872.5189406400553, 540.5227741536146, 574.30375081553, 722.9860053271545, 631.6468693310402, 574.5764784766518, 644.9286564232422, 546.7265699683345, 820.9440317495204, 1003.1301805005455, 1031.8608007952243, 577.92], \"yaxis\": \"y\", \"type\": \"scatter\"}], \"name\": \"ROCK ISLAND\"}, {\"data\": [{\"hovertemplate\": \"variable=85% Revenue<br>County=SALINE<br>Year=%{x}<br>value=%{y}<extra></extra>\", \"legendgroup\": \"85% Revenue\", \"line\": {\"color\": \"#636efa\", \"dash\": \"solid\"}, \"mode\": \"lines\", \"name\": \"85% Revenue\", \"orientation\": \"v\", \"showlegend\": true, \"x\": [2001, 2002, 2003, 2004, 2005, 2006, 2007, 2008, 2009, 2010, 2011, 2012, 2013, 2014, 2016, 2017, 2018, 2020], \"xaxis\": \"x\", \"y\": [728.554655107778, 464.6227043023345, 868.7884070550958, 640.6912250405447, 901.5488137486768, 736.8178214312453, 458.9209914404555, 704.5505543839538, 456.8172663895594, 615.8317394472186, 481.6567027777777, 591.2268632543155, 691.9789681942092, 786.6341264884582, 605.8472882136384, 440.81168089311456, 412.8505288029962, 491.26000000000005], \"yaxis\": \"y\", \"type\": \"scatter\"}, {\"hovertemplate\": \"variable=Revenue<br>County=SALINE<br>Year=%{x}<br>value=%{y}<extra></extra>\", \"legendgroup\": \"Revenue\", \"line\": {\"color\": \"#EF553B\", \"dash\": \"solid\"}, \"mode\": \"lines\", \"name\": \"Revenue\", \"orientation\": \"v\", \"showlegend\": true, \"x\": [2001, 2002, 2003, 2004, 2005, 2006, 2007, 2008, 2009, 2010, 2011, 2012, 2013, 2014, 2016, 2017, 2018, 2020], \"xaxis\": \"x\", \"y\": [728.554655107778, 464.6227043023345, 868.7884070550958, 640.6912250405447, 901.5488137486768, 736.8178214312453, 458.9209914404555, 704.5505543839538, 456.8172663895594, 615.8317394472186, 470.83822305248356, 591.2268632543155, 691.9789681942092, 786.6341264884582, 605.8472882136384, 440.81168089311456, 412.8505288029962, 491.26000000000005], \"yaxis\": \"y\", \"type\": \"scatter\"}], \"name\": \"SALINE\"}, {\"data\": [{\"hovertemplate\": \"variable=85% Revenue<br>County=SANGAMON<br>Year=%{x}<br>value=%{y}<extra></extra>\", \"legendgroup\": \"85% Revenue\", \"line\": {\"color\": \"#636efa\", \"dash\": \"solid\"}, \"mode\": \"lines\", \"name\": \"85% Revenue\", \"orientation\": \"v\", \"showlegend\": true, \"x\": [2001, 2002, 2003, 2004, 2005, 2006, 2007, 2008, 2009, 2010, 2011, 2012, 2013, 2014, 2015, 2016, 2017, 2018, 2019, 2020], \"xaxis\": \"x\", \"y\": [1039.4781270336493, 1035.8935814433491, 784.3568399517989, 978.2611556277528, 1078.3221980522849, 919.3022904565115, 926.090822471195, 905.4322982664856, 614.072643795737, 1164.7460499589918, 919.7047808318008, 857.358092128712, 726.3146256218333, 1038.4975392943315, 667.8815338753391, 1144.734720799259, 984.3118977058998, 1211.2466812397647, 899.636730434321, 960.596], \"yaxis\": \"y\", \"type\": \"scatter\"}, {\"hovertemplate\": \"variable=Revenue<br>County=SANGAMON<br>Year=%{x}<br>value=%{y}<extra></extra>\", \"legendgroup\": \"Revenue\", \"line\": {\"color\": \"#EF553B\", \"dash\": \"solid\"}, \"mode\": \"lines\", \"name\": \"Revenue\", \"orientation\": \"v\", \"showlegend\": true, \"x\": [2001, 2002, 2003, 2004, 2005, 2006, 2007, 2008, 2009, 2010, 2011, 2012, 2013, 2014, 2015, 2016, 2017, 2018, 2019, 2020], \"xaxis\": \"x\", \"y\": [1039.4781270336493, 1035.8935814433491, 784.3568399517989, 978.2611556277528, 1078.3221980522849, 919.3022904565115, 926.090822471195, 905.4322982664856, 614.072643795737, 1164.7460499589918, 919.7047808318008, 857.358092128712, 726.3146256218333, 1038.4975392943315, 667.8815338753391, 1144.734720799259, 984.3118977058998, 1211.2466812397647, 899.636730434321, 960.596], \"yaxis\": \"y\", \"type\": \"scatter\"}], \"name\": \"SANGAMON\"}, {\"data\": [{\"hovertemplate\": \"variable=85% Revenue<br>County=SCHUYLER<br>Year=%{x}<br>value=%{y}<extra></extra>\", \"legendgroup\": \"85% Revenue\", \"line\": {\"color\": \"#636efa\", \"dash\": \"solid\"}, \"mode\": \"lines\", \"name\": \"85% Revenue\", \"orientation\": \"v\", \"showlegend\": true, \"x\": [2001, 2002, 2003, 2004, 2005, 2006, 2007, 2008, 2009, 2010, 2011, 2012, 2013, 2014, 2015, 2016, 2017, 2018, 2020], \"xaxis\": \"x\", \"y\": [586.0997225680763, 482.7747592269659, 499.38643804018113, 868.7668054646467, 494.2184734398768, 876.4214354299555, 521.6735749488391, 805.8443987354982, 615.238665181328, 815.3060432808055, 654.2851807553574, 633.21345, 529.5293763157895, 516.7103253465837, 839.180379613483, 708.0371046288113, 670.1867892995073, 554.8363041802368, 502.216], \"yaxis\": \"y\", \"type\": \"scatter\"}, {\"hovertemplate\": \"variable=Revenue<br>County=SCHUYLER<br>Year=%{x}<br>value=%{y}<extra></extra>\", \"legendgroup\": \"Revenue\", \"line\": {\"color\": \"#EF553B\", \"dash\": \"solid\"}, \"mode\": \"lines\", \"name\": \"Revenue\", \"orientation\": \"v\", \"showlegend\": true, \"x\": [2001, 2002, 2003, 2004, 2005, 2006, 2007, 2008, 2009, 2010, 2011, 2012, 2013, 2014, 2015, 2016, 2017, 2018, 2020], \"xaxis\": \"x\", \"y\": [586.0997225680763, 482.7747592269659, 499.38643804018113, 868.7668054646467, 494.2184734398768, 876.4214354299555, 521.6735749488391, 805.8443987354982, 615.238665181328, 815.3060432808055, 654.2851807553574, 591.0872011009985, 487.86198875909446, 516.7103253465837, 839.180379613483, 708.0371046288113, 670.1867892995073, 554.8363041802368, 502.216], \"yaxis\": \"y\", \"type\": \"scatter\"}], \"name\": \"SCHUYLER\"}, {\"data\": [{\"hovertemplate\": \"variable=85% Revenue<br>County=SCOTT<br>Year=%{x}<br>value=%{y}<extra></extra>\", \"legendgroup\": \"85% Revenue\", \"line\": {\"color\": \"#636efa\", \"dash\": \"solid\"}, \"mode\": \"lines\", \"name\": \"85% Revenue\", \"orientation\": \"v\", \"showlegend\": true, \"x\": [2001, 2002, 2003, 2004, 2005, 2006, 2007, 2008, 2009, 2010, 2011, 2012, 2013, 2014, 2015, 2016, 2017, 2020], \"xaxis\": \"x\", \"y\": [966.4274945499533, 830.4389094001583, 581.833237448806, 774.8460697387391, 712.3200253617135, 556.3121798428135, 811.5600596296214, 719.020002589523, 568.3027741536146, 935.810122144983, 691.7490093595474, 844.7636343799192, 888.9194119288973, 944.8350900488126, 681.0435897480818, 820.8484629485415, 790.7158996583934, 939.3299999999999], \"yaxis\": \"y\", \"type\": \"scatter\"}, {\"hovertemplate\": \"variable=Revenue<br>County=SCOTT<br>Year=%{x}<br>value=%{y}<extra></extra>\", \"legendgroup\": \"Revenue\", \"line\": {\"color\": \"#EF553B\", \"dash\": \"solid\"}, \"mode\": \"lines\", \"name\": \"Revenue\", \"orientation\": \"v\", \"showlegend\": true, \"x\": [2001, 2002, 2003, 2004, 2005, 2006, 2007, 2008, 2009, 2010, 2011, 2012, 2013, 2014, 2015, 2016, 2017, 2020], \"xaxis\": \"x\", \"y\": [966.4274945499533, 830.4389094001583, 581.833237448806, 774.8460697387391, 712.3200253617135, 556.3121798428135, 811.5600596296214, 719.020002589523, 568.3027741536146, 935.810122144983, 691.7490093595474, 844.7636343799192, 888.9194119288973, 944.8350900488126, 681.0435897480818, 820.8484629485415, 790.7158996583934, 939.3299999999999], \"yaxis\": \"y\", \"type\": \"scatter\"}], \"name\": \"SCOTT\"}, {\"data\": [{\"hovertemplate\": \"variable=85% Revenue<br>County=SHELBY<br>Year=%{x}<br>value=%{y}<extra></extra>\", \"legendgroup\": \"85% Revenue\", \"line\": {\"color\": \"#636efa\", \"dash\": \"solid\"}, \"mode\": \"lines\", \"name\": \"85% Revenue\", \"orientation\": \"v\", \"showlegend\": true, \"x\": [2001, 2002, 2003, 2004, 2005, 2006, 2007, 2008, 2009, 2010, 2011, 2012, 2013, 2014, 2015, 2016, 2017, 2018, 2019, 2020], \"xaxis\": \"x\", \"y\": [499.5984348284938, 856.4640681684632, 955.7397676739695, 694.4701787110256, 714.0003357460809, 1004.9115503871286, 811.050224693895, 921.0051613578277, 584.3016165526655, 916.0323552710165, 586.9128025, 669.5765774999999, 559.9383074999998, 919.3070575141542, 816.7935142229974, 917.2352524672928, 761.4760326620642, 682.3777629689795, 945.1434003976123, 938.126], \"yaxis\": \"y\", \"type\": \"scatter\"}, {\"hovertemplate\": \"variable=Revenue<br>County=SHELBY<br>Year=%{x}<br>value=%{y}<extra></extra>\", \"legendgroup\": \"Revenue\", \"line\": {\"color\": \"#EF553B\", \"dash\": \"solid\"}, \"mode\": \"lines\", \"name\": \"Revenue\", \"orientation\": \"v\", \"showlegend\": true, \"x\": [2001, 2002, 2003, 2004, 2005, 2006, 2007, 2008, 2009, 2010, 2011, 2012, 2013, 2014, 2015, 2016, 2017, 2018, 2019, 2020], \"xaxis\": \"x\", \"y\": [499.5984348284938, 856.4640681684632, 955.7397676739695, 694.4701787110256, 714.0003357460809, 1004.9115503871286, 811.050224693895, 921.0051613578277, 584.3016165526655, 916.0323552710165, 499.42011464609095, 530.5304558318671, 457.03388989592565, 919.3070575141542, 816.7935142229974, 917.2352524672928, 761.4760326620642, 682.3777629689795, 945.1434003976123, 938.126], \"yaxis\": \"y\", \"type\": \"scatter\"}], \"name\": \"SHELBY\"}, {\"data\": [{\"hovertemplate\": \"variable=85% Revenue<br>County=ST CLAIR<br>Year=%{x}<br>value=%{y}<extra></extra>\", \"legendgroup\": \"85% Revenue\", \"line\": {\"color\": \"#636efa\", \"dash\": \"solid\"}, \"mode\": \"lines\", \"name\": \"85% Revenue\", \"orientation\": \"v\", \"showlegend\": true, \"x\": [2001, 2002, 2003, 2004, 2005, 2006, 2007, 2008, 2009, 2010, 2011, 2012, 2013, 2014, 2015, 2016, 2017, 2018, 2019, 2020], \"xaxis\": \"x\", \"y\": [893.1500320754676, 720.0968050261588, 784.4567551383025, 522.8982127241218, 886.8647891513986, 571.783237448806, 527.9928082022784, 968.6180895184863, 621.1294278036574, 624.5977377139691, 632.8470813262945, 569.3068800000001, 476.08704, 829.9915530891924, 633.9563467321747, 935.8181887845757, 585.6425025998743, 738.0436946879753, 574.997491670051, 822.547], \"yaxis\": \"y\", \"type\": \"scatter\"}, {\"hovertemplate\": \"variable=Revenue<br>County=ST CLAIR<br>Year=%{x}<br>value=%{y}<extra></extra>\", \"legendgroup\": \"Revenue\", \"line\": {\"color\": \"#EF553B\", \"dash\": \"solid\"}, \"mode\": \"lines\", \"name\": \"Revenue\", \"orientation\": \"v\", \"showlegend\": true, \"x\": [2001, 2002, 2003, 2004, 2005, 2006, 2007, 2008, 2009, 2010, 2011, 2012, 2013, 2014, 2015, 2016, 2017, 2018, 2019, 2020], \"xaxis\": \"x\", \"y\": [893.1500320754676, 720.0968050261588, 784.4567551383025, 522.8982127241218, 886.8647891513986, 571.783237448806, 527.9928082022784, 968.6180895184863, 621.1294278036574, 624.5977377139691, 632.8470813262945, 393.7797862152258, 433.3781473999933, 829.9915530891924, 633.9563467321747, 935.8181887845757, 585.6425025998743, 738.0436946879753, 574.997491670051, 822.547], \"yaxis\": \"y\", \"type\": \"scatter\"}], \"name\": \"ST CLAIR\"}, {\"data\": [{\"hovertemplate\": \"variable=85% Revenue<br>County=STARK<br>Year=%{x}<br>value=%{y}<extra></extra>\", \"legendgroup\": \"85% Revenue\", \"line\": {\"color\": \"#636efa\", \"dash\": \"solid\"}, \"mode\": \"lines\", \"name\": \"85% Revenue\", \"orientation\": \"v\", \"showlegend\": true, \"x\": [2001, 2002, 2003, 2004, 2005, 2006, 2007, 2008, 2009, 2010, 2011, 2012, 2013, 2014, 2015, 2016, 2017, 2019, 2020], \"xaxis\": \"x\", \"y\": [588.1431185866458, 1075.963508564058, 600.9364490974103, 828.8655561172033, 854.1725969358916, 669.9885844920628, 1052.5389939944105, 786.5685346042064, 806.1165950752363, 607.3075209011838, 766.2023314588761, 718.03665, 995.2835866638004, 729.6382623571664, 1072.3191875253817, 1100.7860968188372, 623.7151971604437, 887.7793452181692, 1010.208], \"yaxis\": \"y\", \"type\": \"scatter\"}, {\"hovertemplate\": \"variable=Revenue<br>County=STARK<br>Year=%{x}<br>value=%{y}<extra></extra>\", \"legendgroup\": \"Revenue\", \"line\": {\"color\": \"#EF553B\", \"dash\": \"solid\"}, \"mode\": \"lines\", \"name\": \"Revenue\", \"orientation\": \"v\", \"showlegend\": true, \"x\": [2001, 2002, 2003, 2004, 2005, 2006, 2007, 2008, 2009, 2010, 2011, 2012, 2013, 2014, 2015, 2016, 2017, 2019, 2020], \"xaxis\": \"x\", \"y\": [588.1431185866458, 1075.963508564058, 600.9364490974103, 828.8655561172033, 854.1725969358916, 669.9885844920628, 1052.5389939944105, 786.5685346042064, 806.1165950752363, 607.3075209011838, 766.2023314588761, 566.697400652424, 995.2835866638004, 729.6382623571664, 1072.3191875253817, 1100.7860968188372, 623.7151971604437, 887.7793452181692, 1010.208], \"yaxis\": \"y\", \"type\": \"scatter\"}], \"name\": \"STARK\"}, {\"data\": [{\"hovertemplate\": \"variable=85% Revenue<br>County=STEPHENSON<br>Year=%{x}<br>value=%{y}<extra></extra>\", \"legendgroup\": \"85% Revenue\", \"line\": {\"color\": \"#636efa\", \"dash\": \"solid\"}, \"mode\": \"lines\", \"name\": \"85% Revenue\", \"orientation\": \"v\", \"showlegend\": true, \"x\": [2001, 2002, 2003, 2004, 2005, 2006, 2007, 2008, 2009, 2010, 2011, 2012, 2013, 2014, 2015, 2016, 2017, 2018, 2019, 2020], \"xaxis\": \"x\", \"y\": [1064.183247629059, 996.5100780583367, 373.2186725528142, 1021.8539649262513, 899.9311979248789, 626.0802212273959, 928.2685534714099, 896.5297032623848, 748.0845523040543, 656.5995767739267, 953.3740970736488, 693.84276, 952.851510792066, 692.0593125916727, 1004.7546965486307, 704.9198931076129, 1047.0439489803557, 709.8731439334944, 825.1641869239203, 1038.626], \"yaxis\": \"y\", \"type\": \"scatter\"}, {\"hovertemplate\": \"variable=Revenue<br>County=STEPHENSON<br>Year=%{x}<br>value=%{y}<extra></extra>\", \"legendgroup\": \"Revenue\", \"line\": {\"color\": \"#EF553B\", \"dash\": \"solid\"}, \"mode\": \"lines\", \"name\": \"Revenue\", \"orientation\": \"v\", \"showlegend\": true, \"x\": [2001, 2002, 2003, 2004, 2005, 2006, 2007, 2008, 2009, 2010, 2011, 2012, 2013, 2014, 2015, 2016, 2017, 2018, 2019, 2020], \"xaxis\": \"x\", \"y\": [1064.183247629059, 996.5100780583367, 373.2186725528142, 1021.8539649262513, 899.9311979248789, 626.0802212273959, 928.2685534714099, 896.5297032623848, 748.0845523040543, 656.5995767739267, 953.3740970736488, 655.093677936239, 952.851510792066, 692.0593125916727, 1004.7546965486307, 704.9198931076129, 1047.0439489803557, 709.8731439334944, 825.1641869239203, 1038.626], \"yaxis\": \"y\", \"type\": \"scatter\"}], \"name\": \"STEPHENSON\"}, {\"data\": [{\"hovertemplate\": \"variable=85% Revenue<br>County=TAZEWELL<br>Year=%{x}<br>value=%{y}<extra></extra>\", \"legendgroup\": \"85% Revenue\", \"line\": {\"color\": \"#636efa\", \"dash\": \"solid\"}, \"mode\": \"lines\", \"name\": \"85% Revenue\", \"orientation\": \"v\", \"showlegend\": true, \"x\": [2001, 2002, 2003, 2004, 2005, 2006, 2007, 2008, 2009, 2010, 2011, 2012, 2013, 2014, 2015, 2016, 2017, 2018, 2019, 2020], \"xaxis\": \"x\", \"y\": [842.8293464566603, 917.3278630706393, 649.8940228433261, 731.623279526688, 611.675916827915, 737.1890443207552, 972.3377906298363, 880.0740499589917, 725.606993958843, 805.6197755402142, 934.8192005351046, 814.2046234500957, 947.3795590740789, 584.584871156128, 528.0781890038196, 878.2128205749717, 882.1952484348997, 1043.9393554546928, 894.0993107310172, 533.172], \"yaxis\": \"y\", \"type\": \"scatter\"}, {\"hovertemplate\": \"variable=Revenue<br>County=TAZEWELL<br>Year=%{x}<br>value=%{y}<extra></extra>\", \"legendgroup\": \"Revenue\", \"line\": {\"color\": \"#EF553B\", \"dash\": \"solid\"}, \"mode\": \"lines\", \"name\": \"Revenue\", \"orientation\": \"v\", \"showlegend\": true, \"x\": [2001, 2002, 2003, 2004, 2005, 2006, 2007, 2008, 2009, 2010, 2011, 2012, 2013, 2014, 2015, 2016, 2017, 2018, 2019, 2020], \"xaxis\": \"x\", \"y\": [842.8293464566603, 917.3278630706393, 649.8940228433261, 731.623279526688, 611.675916827915, 737.1890443207552, 972.3377906298363, 880.0740499589917, 725.606993958843, 805.6197755402142, 934.8192005351046, 814.2046234500957, 947.3795590740789, 584.584871156128, 528.0781890038196, 878.2128205749717, 882.1952484348997, 1043.9393554546928, 894.0993107310172, 533.172], \"yaxis\": \"y\", \"type\": \"scatter\"}], \"name\": \"TAZEWELL\"}, {\"data\": [{\"hovertemplate\": \"variable=85% Revenue<br>County=UNION<br>Year=%{x}<br>value=%{y}<extra></extra>\", \"legendgroup\": \"85% Revenue\", \"line\": {\"color\": \"#636efa\", \"dash\": \"solid\"}, \"mode\": \"lines\", \"name\": \"85% Revenue\", \"orientation\": \"v\", \"showlegend\": true, \"x\": [2001, 2002, 2003, 2004, 2005, 2006, 2007, 2008, 2009, 2010, 2011, 2012, 2013, 2016, 2017, 2019, 2020], \"xaxis\": \"x\", \"y\": [932.266221991831, 643.0998828503866, 514.5680936427176, 700.1461079116342, 788.2526314230436, 933.4397757031878, 719.7677867248493, 755.500895350486, 810.7153071164097, 504.21306453899047, 690.637293194143, 575.2119729199019, 894.4358947490244, 534.7043338498578, 542.1095528343806, 369.34634717066274, 481.65], \"yaxis\": \"y\", \"type\": \"scatter\"}, {\"hovertemplate\": \"variable=Revenue<br>County=UNION<br>Year=%{x}<br>value=%{y}<extra></extra>\", \"legendgroup\": \"Revenue\", \"line\": {\"color\": \"#EF553B\", \"dash\": \"solid\"}, \"mode\": \"lines\", \"name\": \"Revenue\", \"orientation\": \"v\", \"showlegend\": true, \"x\": [2001, 2002, 2003, 2004, 2005, 2006, 2007, 2008, 2009, 2010, 2011, 2012, 2013, 2016, 2017, 2019, 2020], \"xaxis\": \"x\", \"y\": [932.266221991831, 643.0998828503866, 514.5680936427176, 700.1461079116342, 788.2526314230436, 933.4397757031878, 719.7677867248493, 755.500895350486, 810.7153071164097, 504.21306453899047, 690.637293194143, 575.2119729199019, 894.4358947490244, 534.7043338498578, 542.1095528343806, 369.34634717066274, 481.65], \"yaxis\": \"y\", \"type\": \"scatter\"}], \"name\": \"UNION\"}, {\"data\": [{\"hovertemplate\": \"variable=85% Revenue<br>County=VERMILION<br>Year=%{x}<br>value=%{y}<extra></extra>\", \"legendgroup\": \"85% Revenue\", \"line\": {\"color\": \"#636efa\", \"dash\": \"solid\"}, \"mode\": \"lines\", \"name\": \"85% Revenue\", \"orientation\": \"v\", \"showlegend\": true, \"x\": [2001, 2002, 2003, 2004, 2005, 2006, 2007, 2008, 2009, 2010, 2011, 2012, 2013, 2014, 2015, 2016, 2017, 2018, 2020], \"xaxis\": \"x\", \"y\": [776.6710330798496, 791.6642373569678, 842.1025810966993, 756.0619225935575, 743.9370549039286, 561.1238395695812, 608.681007060404, 687.5873503260796, 970.7710795012069, 1039.8789990311857, 627.3986000000001, 715.7646000000001, 795.8750095787915, 660.7310504893179, 653.2121988936934, 778.7520678425159, 1047.7625243321154, 910.9919560970303, 654.346], \"yaxis\": \"y\", \"type\": \"scatter\"}, {\"hovertemplate\": \"variable=Revenue<br>County=VERMILION<br>Year=%{x}<br>value=%{y}<extra></extra>\", \"legendgroup\": \"Revenue\", \"line\": {\"color\": \"#EF553B\", \"dash\": \"solid\"}, \"mode\": \"lines\", \"name\": \"Revenue\", \"orientation\": \"v\", \"showlegend\": true, \"x\": [2001, 2002, 2003, 2004, 2005, 2006, 2007, 2008, 2009, 2010, 2011, 2012, 2013, 2014, 2015, 2016, 2017, 2018, 2020], \"xaxis\": \"x\", \"y\": [776.6710330798496, 791.6642373569678, 842.1025810966993, 756.0619225935575, 743.9370549039286, 561.1238395695812, 608.681007060404, 687.5873503260796, 970.7710795012069, 1039.8789990311857, 519.4458762284706, 583.6628325447449, 795.8750095787915, 660.7310504893179, 653.2121988936934, 778.7520678425159, 1047.7625243321154, 910.9919560970303, 654.346], \"yaxis\": \"y\", \"type\": \"scatter\"}], \"name\": \"VERMILION\"}, {\"data\": [{\"hovertemplate\": \"variable=85% Revenue<br>County=WABASH<br>Year=%{x}<br>value=%{y}<extra></extra>\", \"legendgroup\": \"85% Revenue\", \"line\": {\"color\": \"#636efa\", \"dash\": \"solid\"}, \"mode\": \"lines\", \"name\": \"85% Revenue\", \"orientation\": \"v\", \"showlegend\": true, \"x\": [2001, 2002, 2003, 2004, 2005, 2006, 2007, 2008, 2009, 2010, 2011, 2012, 2013, 2014, 2015, 2016, 2017, 2020], \"xaxis\": \"x\", \"y\": [520.2133294145443, 731.5733016411465, 679.395582575137, 736.3508953504859, 695.4345672662706, 1019.7957894980486, 716.5297568359842, 512.2817777777777, 774.651340216962, 597.5596326466697, 749.0912369747501, 590.1210000000001, 756.3302624845724, 722.2387628771412, 763.0889001324491, 896.957426855546, 765.7196041088365, 610.4350000000001], \"yaxis\": \"y\", \"type\": \"scatter\"}, {\"hovertemplate\": \"variable=Revenue<br>County=WABASH<br>Year=%{x}<br>value=%{y}<extra></extra>\", \"legendgroup\": \"Revenue\", \"line\": {\"color\": \"#EF553B\", \"dash\": \"solid\"}, \"mode\": \"lines\", \"name\": \"Revenue\", \"orientation\": \"v\", \"showlegend\": true, \"x\": [2001, 2002, 2003, 2004, 2005, 2006, 2007, 2008, 2009, 2010, 2011, 2012, 2013, 2014, 2015, 2016, 2017, 2020], \"xaxis\": \"x\", \"y\": [520.2133294145443, 731.5733016411465, 679.395582575137, 736.3508953504859, 695.4345672662706, 1019.7957894980486, 716.5297568359842, 486.2160359093192, 774.651340216962, 597.5596326466697, 749.0912369747501, 437.78807911898923, 756.3302624845724, 722.2387628771412, 763.0889001324491, 896.957426855546, 765.7196041088365, 610.4350000000001], \"yaxis\": \"y\", \"type\": \"scatter\"}], \"name\": \"WABASH\"}, {\"data\": [{\"hovertemplate\": \"variable=85% Revenue<br>County=WARREN<br>Year=%{x}<br>value=%{y}<extra></extra>\", \"legendgroup\": \"85% Revenue\", \"line\": {\"color\": \"#636efa\", \"dash\": \"solid\"}, \"mode\": \"lines\", \"name\": \"85% Revenue\", \"orientation\": \"v\", \"showlegend\": true, \"x\": [2001, 2002, 2003, 2004, 2005, 2006, 2007, 2008, 2009, 2010, 2011, 2012, 2013, 2014, 2015, 2016, 2017, 2018, 2019, 2020], \"xaxis\": \"x\", \"y\": [951.7149038893278, 744.897813621271, 817.5534476189725, 850.8469512232288, 1048.1023360008926, 548.9139315353198, 1025.405207121453, 1025.202574163701, 900.3241573254347, 929.3635802404258, 1135.7878469410673, 733.4142975000001, 900.5003774417454, 656.8363352364573, 801.4855897480818, 628.5386727364905, 1038.2201184236721, 675.8174969616377, 921.9592237102156, 579.02], \"yaxis\": \"y\", \"type\": \"scatter\"}, {\"hovertemplate\": \"variable=Revenue<br>County=WARREN<br>Year=%{x}<br>value=%{y}<extra></extra>\", \"legendgroup\": \"Revenue\", \"line\": {\"color\": \"#EF553B\", \"dash\": \"solid\"}, \"mode\": \"lines\", \"name\": \"Revenue\", \"orientation\": \"v\", \"showlegend\": true, \"x\": [2001, 2002, 2003, 2004, 2005, 2006, 2007, 2008, 2009, 2010, 2011, 2012, 2013, 2014, 2015, 2016, 2017, 2018, 2019, 2020], \"xaxis\": \"x\", \"y\": [951.7149038893278, 744.897813621271, 817.5534476189725, 850.8469512232288, 1048.1023360008926, 548.9139315353198, 1025.405207121453, 1025.202574163701, 900.3241573254347, 929.3635802404258, 1135.7878469410673, 678.507896574112, 900.5003774417454, 656.8363352364573, 801.4855897480818, 628.5386727364905, 1038.2201184236721, 675.8174969616377, 921.9592237102156, 579.02], \"yaxis\": \"y\", \"type\": \"scatter\"}], \"name\": \"WARREN\"}, {\"data\": [{\"hovertemplate\": \"variable=85% Revenue<br>County=WASHINGTON<br>Year=%{x}<br>value=%{y}<extra></extra>\", \"legendgroup\": \"85% Revenue\", \"line\": {\"color\": \"#636efa\", \"dash\": \"solid\"}, \"mode\": \"lines\", \"name\": \"85% Revenue\", \"orientation\": \"v\", \"showlegend\": true, \"x\": [2001, 2002, 2003, 2004, 2005, 2006, 2007, 2008, 2009, 2010, 2011, 2012, 2013, 2014, 2015, 2016, 2017, 2018, 2019, 2020], \"xaxis\": \"x\", \"y\": [794.705769973113, 626.22253511383, 647.6748045521031, 709.8138504075664, 821.3546167156389, 503.32070404752284, 476.36536437575216, 583.846100978636, 683.4933907981182, 469.14693795869425, 546.4763561835603, 520.3166624999999, 435.11861249999987, 825.3813284664328, 494.6802563722798, 892.1393723694026, 864.5858090792544, 493.85054719614385, 385.2004249948905, 810.837], \"yaxis\": \"y\", \"type\": \"scatter\"}, {\"hovertemplate\": \"variable=Revenue<br>County=WASHINGTON<br>Year=%{x}<br>value=%{y}<extra></extra>\", \"legendgroup\": \"Revenue\", \"line\": {\"color\": \"#EF553B\", \"dash\": \"solid\"}, \"mode\": \"lines\", \"name\": \"Revenue\", \"orientation\": \"v\", \"showlegend\": true, \"x\": [2001, 2002, 2003, 2004, 2005, 2006, 2007, 2008, 2009, 2010, 2011, 2012, 2013, 2014, 2015, 2016, 2017, 2018, 2019, 2020], \"xaxis\": \"x\", \"y\": [794.705769973113, 626.22253511383, 647.6748045521031, 709.8138504075664, 821.3546167156389, 503.32070404752284, 476.36536437575216, 583.846100978636, 683.4933907981182, 469.14693795869425, 546.4763561835603, 259.0625743473774, 385.8280439385375, 825.3813284664328, 494.6802563722798, 892.1393723694026, 864.5858090792544, 493.85054719614385, 385.2004249948905, 810.837], \"yaxis\": \"y\", \"type\": \"scatter\"}], \"name\": \"WASHINGTON\"}, {\"data\": [{\"hovertemplate\": \"variable=85% Revenue<br>County=WAYNE<br>Year=%{x}<br>value=%{y}<extra></extra>\", \"legendgroup\": \"85% Revenue\", \"line\": {\"color\": \"#636efa\", \"dash\": \"solid\"}, \"mode\": \"lines\", \"name\": \"85% Revenue\", \"orientation\": \"v\", \"showlegend\": true, \"x\": [2001, 2002, 2003, 2004, 2005, 2006, 2007, 2008, 2009, 2010, 2011, 2012, 2013, 2014, 2015, 2016, 2017, 2018, 2019, 2020], \"xaxis\": \"x\", \"y\": [860.3964328197299, 648.4677055970959, 669.5332595632646, 690.8853721857264, 780.9539959469042, 576.6929845430252, 360.76888359995684, 629.868745432105, 692.1018499335106, 892.9211829626627, 462.0999499999999, 527.18445, 751.5965337835007, 828.0895895288378, 763.9461415425126, 469.6854707585157, 713.6605400794695, 678.7958138967855, 367.6025579985614, 661.745], \"yaxis\": \"y\", \"type\": \"scatter\"}, {\"hovertemplate\": \"variable=Revenue<br>County=WAYNE<br>Year=%{x}<br>value=%{y}<extra></extra>\", \"legendgroup\": \"Revenue\", \"line\": {\"color\": \"#EF553B\", \"dash\": \"solid\"}, \"mode\": \"lines\", \"name\": \"Revenue\", \"orientation\": \"v\", \"showlegend\": true, \"x\": [2001, 2002, 2003, 2004, 2005, 2006, 2007, 2008, 2009, 2010, 2011, 2012, 2013, 2014, 2015, 2016, 2017, 2018, 2019, 2020], \"xaxis\": \"x\", \"y\": [860.3964328197299, 648.4677055970959, 669.5332595632646, 690.8853721857264, 780.9539959469042, 576.6929845430252, 360.76888359995684, 629.868745432105, 692.1018499335106, 892.9211829626627, 392.6433895033566, 427.340374795952, 751.5965337835007, 828.0895895288378, 763.9461415425126, 469.6854707585157, 713.6605400794695, 678.7958138967855, 367.6025579985614, 661.745], \"yaxis\": \"y\", \"type\": \"scatter\"}], \"name\": \"WAYNE\"}, {\"data\": [{\"hovertemplate\": \"variable=85% Revenue<br>County=WHITE<br>Year=%{x}<br>value=%{y}<extra></extra>\", \"legendgroup\": \"85% Revenue\", \"line\": {\"color\": \"#636efa\", \"dash\": \"solid\"}, \"mode\": \"lines\", \"name\": \"85% Revenue\", \"orientation\": \"v\", \"showlegend\": true, \"x\": [2001, 2002, 2003, 2004, 2005, 2006, 2007, 2008, 2009, 2010, 2011, 2012, 2013, 2014, 2015, 2016, 2017, 2018, 2019, 2020], \"xaxis\": \"x\", \"y\": [852.498744335885, 631.1581923222101, 808.4903502698091, 837.5433749589256, 978.8224394623484, 773.9104467982669, 623.2991551536971, 550.2074960846616, 905.7192740158573, 711.7070744288642, 633.4209265903828, 565.8402825000002, 612.0027589721542, 538.0733440863813, 458.1022924652754, 830.6227207992591, 526.8035045523678, 513.1820427711818, 498.7249159716417, 915.3720000000001], \"yaxis\": \"y\", \"type\": \"scatter\"}, {\"hovertemplate\": \"variable=Revenue<br>County=WHITE<br>Year=%{x}<br>value=%{y}<extra></extra>\", \"legendgroup\": \"Revenue\", \"line\": {\"color\": \"#EF553B\", \"dash\": \"solid\"}, \"mode\": \"lines\", \"name\": \"Revenue\", \"orientation\": \"v\", \"showlegend\": true, \"x\": [2001, 2002, 2003, 2004, 2005, 2006, 2007, 2008, 2009, 2010, 2011, 2012, 2013, 2014, 2015, 2016, 2017, 2018, 2019, 2020], \"xaxis\": \"x\", \"y\": [852.498744335885, 631.1581923222101, 808.4903502698091, 837.5433749589256, 978.8224394623484, 773.9104467982669, 623.2991551536971, 550.2074960846616, 905.7192740158573, 711.7070744288642, 633.4209265903828, 427.0242446573185, 612.0027589721542, 538.0733440863813, 458.1022924652754, 830.6227207992591, 526.8035045523678, 513.1820427711818, 498.7249159716417, 915.3720000000001], \"yaxis\": \"y\", \"type\": \"scatter\"}], \"name\": \"WHITE\"}, {\"data\": [{\"hovertemplate\": \"variable=85% Revenue<br>County=WHITESIDE<br>Year=%{x}<br>value=%{y}<extra></extra>\", \"legendgroup\": \"85% Revenue\", \"line\": {\"color\": \"#636efa\", \"dash\": \"solid\"}, \"mode\": \"lines\", \"name\": \"85% Revenue\", \"orientation\": \"v\", \"showlegend\": true, \"x\": [2001, 2002, 2003, 2004, 2005, 2006, 2007, 2008, 2009, 2010, 2011, 2012, 2013, 2014, 2015, 2016, 2017, 2018], \"xaxis\": \"x\", \"y\": [715.2078402984487, 862.5996147631455, 803.7087942237414, 865.7297414352797, 722.7143948305111, 842.0698490209669, 926.2144559948407, 918.754318046233, 960.0418421235365, 891.7222042208477, 974.0479926996493, 681.2554500000001, 569.70485, 911.2999333604074, 548.827234986689, 773.5672882136383, 583.9070779516337, 862.8660204730472], \"yaxis\": \"y\", \"type\": \"scatter\"}, {\"hovertemplate\": \"variable=Revenue<br>County=WHITESIDE<br>Year=%{x}<br>value=%{y}<extra></extra>\", \"legendgroup\": \"Revenue\", \"line\": {\"color\": \"#EF553B\", \"dash\": \"solid\"}, \"mode\": \"lines\", \"name\": \"Revenue\", \"orientation\": \"v\", \"showlegend\": true, \"x\": [2001, 2002, 2003, 2004, 2005, 2006, 2007, 2008, 2009, 2010, 2011, 2012, 2013, 2014, 2015, 2016, 2017, 2018], \"xaxis\": \"x\", \"y\": [715.2078402984487, 862.5996147631455, 803.7087942237414, 865.7297414352797, 722.7143948305111, 842.0698490209669, 926.2144559948407, 918.754318046233, 960.0418421235365, 891.7222042208477, 974.0479926996493, 521.9679871532508, 479.64193128050795, 911.2999333604074, 548.827234986689, 773.5672882136383, 583.9070779516337, 862.8660204730472], \"yaxis\": \"y\", \"type\": \"scatter\"}], \"name\": \"WHITESIDE\"}, {\"data\": [{\"hovertemplate\": \"variable=85% Revenue<br>County=WILL<br>Year=%{x}<br>value=%{y}<extra></extra>\", \"legendgroup\": \"85% Revenue\", \"line\": {\"color\": \"#636efa\", \"dash\": \"solid\"}, \"mode\": \"lines\", \"name\": \"85% Revenue\", \"orientation\": \"v\", \"showlegend\": true, \"x\": [2001, 2002, 2003, 2004, 2005, 2006, 2007, 2008, 2009, 2010, 2011, 2012, 2013, 2014, 2015, 2016, 2017, 2018, 2019, 2020], \"xaxis\": \"x\", \"y\": [701.6035933775545, 638.7748698406638, 787.2007337527116, 850.4025125608835, 566.8620301792445, 875.3146859091869, 853.9305235825449, 718.1529385601558, 534.1313636468847, 700.8469364802564, 966.4850804137507, 731.1260274060452, 869.3267499029862, 506.3878938009127, 893.4918344972384, 975.389601590449, 696.3235627242542, 600.4389465538064, 671.1895951315066, 792.744], \"yaxis\": \"y\", \"type\": \"scatter\"}, {\"hovertemplate\": \"variable=Revenue<br>County=WILL<br>Year=%{x}<br>value=%{y}<extra></extra>\", \"legendgroup\": \"Revenue\", \"line\": {\"color\": \"#EF553B\", \"dash\": \"solid\"}, \"mode\": \"lines\", \"name\": \"Revenue\", \"orientation\": \"v\", \"showlegend\": true, \"x\": [2001, 2002, 2003, 2004, 2005, 2006, 2007, 2008, 2009, 2010, 2011, 2012, 2013, 2014, 2015, 2016, 2017, 2018, 2019, 2020], \"xaxis\": \"x\", \"y\": [701.6035933775545, 638.7748698406638, 787.2007337527116, 850.4025125608835, 566.8620301792445, 875.3146859091869, 853.9305235825449, 718.1529385601558, 534.1313636468847, 700.8469364802564, 966.4850804137507, 731.1260274060452, 869.3267499029862, 506.3878938009127, 893.4918344972384, 975.389601590449, 696.3235627242542, 600.4389465538064, 671.1895951315066, 792.744], \"yaxis\": \"y\", \"type\": \"scatter\"}], \"name\": \"WILL\"}, {\"data\": [{\"hovertemplate\": \"variable=85% Revenue<br>County=WILLIAMSON<br>Year=%{x}<br>value=%{y}<extra></extra>\", \"legendgroup\": \"85% Revenue\", \"line\": {\"color\": \"#636efa\", \"dash\": \"solid\"}, \"mode\": \"lines\", \"name\": \"85% Revenue\", \"orientation\": \"v\", \"showlegend\": true, \"x\": [2001, 2002, 2003, 2004, 2005, 2006, 2007, 2008, 2009, 2010, 2011, 2012, 2013, 2014, 2015, 2016, 2017, 2018, 2020], \"xaxis\": \"x\", \"y\": [749.9980814892681, 408.5233250710692, 455.7653724049704, 887.0143327892052, 552.53636516089, 656.9095731237513, 626.1582389628114, 675.2230036294726, 620.6033986080923, 685.5479481033797, 441.09815000000003, 505.63858666380037, 762.5254992963489, 686.2656949427871, 802.3025980321117, 697.3124084623983, 688.8947853945201, 384.15996000201727, 424.542], \"yaxis\": \"y\", \"type\": \"scatter\"}, {\"hovertemplate\": \"variable=Revenue<br>County=WILLIAMSON<br>Year=%{x}<br>value=%{y}<extra></extra>\", \"legendgroup\": \"Revenue\", \"line\": {\"color\": \"#EF553B\", \"dash\": \"solid\"}, \"mode\": \"lines\", \"name\": \"Revenue\", \"orientation\": \"v\", \"showlegend\": true, \"x\": [2001, 2002, 2003, 2004, 2005, 2006, 2007, 2008, 2009, 2010, 2011, 2012, 2013, 2014, 2015, 2016, 2017, 2018, 2020], \"xaxis\": \"x\", \"y\": [749.9980814892681, 408.5233250710692, 455.7653724049704, 887.0143327892052, 552.53636516089, 656.9095731237513, 626.1582389628114, 675.2230036294726, 620.6033986080923, 685.5479481033797, 386.8979747449896, 505.63858666380037, 762.5254992963489, 686.2656949427871, 802.3025980321117, 697.3124084623983, 688.8947853945201, 384.15996000201727, 424.542], \"yaxis\": \"y\", \"type\": \"scatter\"}], \"name\": \"WILLIAMSON\"}, {\"data\": [{\"hovertemplate\": \"variable=85% Revenue<br>County=WINNEBAGO<br>Year=%{x}<br>value=%{y}<extra></extra>\", \"legendgroup\": \"85% Revenue\", \"line\": {\"color\": \"#636efa\", \"dash\": \"solid\"}, \"mode\": \"lines\", \"name\": \"85% Revenue\", \"orientation\": \"v\", \"showlegend\": true, \"x\": [2001, 2002, 2003, 2004, 2005, 2006, 2007, 2008, 2009, 2010, 2011, 2012, 2013, 2014, 2015, 2016, 2017, 2018, 2019, 2020], \"xaxis\": \"x\", \"y\": [924.2734584569578, 743.1947123671205, 378.68245942577204, 637.2060506522917, 618.8624785122195, 515.0440005096235, 884.8926470429919, 863.1646668227394, 577.5277682961339, 655.7770677506778, 546.7800525000001, 775.9697719818769, 625.6174255963523, 820.8459195655465, 678.4124403037567, 847.7390685358159, 434.7491419810007, 941.898204404524, 744.4667166394602, 505.75600000000003], \"yaxis\": \"y\", \"type\": \"scatter\"}, {\"hovertemplate\": \"variable=Revenue<br>County=WINNEBAGO<br>Year=%{x}<br>value=%{y}<extra></extra>\", \"legendgroup\": \"Revenue\", \"line\": {\"color\": \"#EF553B\", \"dash\": \"solid\"}, \"mode\": \"lines\", \"name\": \"Revenue\", \"orientation\": \"v\", \"showlegend\": true, \"x\": [2001, 2002, 2003, 2004, 2005, 2006, 2007, 2008, 2009, 2010, 2011, 2012, 2013, 2014, 2015, 2016, 2017, 2018, 2019, 2020], \"xaxis\": \"x\", \"y\": [924.2734584569578, 743.1947123671205, 378.68245942577204, 637.2060506522917, 618.8624785122195, 515.0440005096235, 884.8926470429919, 863.1646668227394, 577.5277682961339, 655.7770677506778, 506.7937421848501, 775.9697719818769, 625.6174255963523, 820.8459195655465, 678.4124403037567, 847.7390685358159, 434.7491419810007, 941.898204404524, 744.4667166394602, 505.75600000000003], \"yaxis\": \"y\", \"type\": \"scatter\"}], \"name\": \"WINNEBAGO\"}, {\"data\": [{\"hovertemplate\": \"variable=85% Revenue<br>County=WOODFORD<br>Year=%{x}<br>value=%{y}<extra></extra>\", \"legendgroup\": \"85% Revenue\", \"line\": {\"color\": \"#636efa\", \"dash\": \"solid\"}, \"mode\": \"lines\", \"name\": \"85% Revenue\", \"orientation\": \"v\", \"showlegend\": true, \"x\": [2001, 2002, 2003, 2004, 2005, 2006, 2007, 2008, 2009, 2010, 2011, 2012, 2013, 2014, 2015, 2016, 2017, 2018, 2019, 2020], \"xaxis\": \"x\", \"y\": [1004.0902353126362, 999.9001626525891, 760.14558626088, 651.483241353793, 967.378744774373, 630.1722488171174, 738.1093280279448, 914.4055179443083, 724.4614783848137, 577.3096079219855, 848.527921645446, 731.5828875, 942.9784142280407, 1015.9186998877241, 756.7515388202756, 961.7854997348368, 544.3988483839373, 789.0414927100007, 543.0065717934223, 591.522], \"yaxis\": \"y\", \"type\": \"scatter\"}, {\"hovertemplate\": \"variable=Revenue<br>County=WOODFORD<br>Year=%{x}<br>value=%{y}<extra></extra>\", \"legendgroup\": \"Revenue\", \"line\": {\"color\": \"#EF553B\", \"dash\": \"solid\"}, \"mode\": \"lines\", \"name\": \"Revenue\", \"orientation\": \"v\", \"showlegend\": true, \"x\": [2001, 2002, 2003, 2004, 2005, 2006, 2007, 2008, 2009, 2010, 2011, 2012, 2013, 2014, 2015, 2016, 2017, 2018, 2019, 2020], \"xaxis\": \"x\", \"y\": [1004.0902353126362, 999.9001626525891, 760.14558626088, 651.483241353793, 967.378744774373, 630.1722488171174, 738.1093280279448, 914.4055179443083, 724.4614783848137, 577.3096079219855, 848.527921645446, 517.192657463192, 942.9784142280407, 1015.9186998877241, 756.7515388202756, 961.7854997348368, 544.3988483839373, 789.0414927100007, 543.0065717934223, 591.522], \"yaxis\": \"y\", \"type\": \"scatter\"}], \"name\": \"WOODFORD\"}]);\n",
       "                        }).then(function(){\n",
       "                            \n",
       "var gd = document.getElementById('0ba18060-085d-49a2-a718-d28b561c7d2b');\n",
       "var x = new MutationObserver(function (mutations, observer) {{\n",
       "        var display = window.getComputedStyle(gd).display;\n",
       "        if (!display || display === 'none') {{\n",
       "            console.log([gd, 'removed!']);\n",
       "            Plotly.purge(gd);\n",
       "            observer.disconnect();\n",
       "        }}\n",
       "}});\n",
       "\n",
       "// Listen for the removal of the full notebook cells\n",
       "var notebookContainer = gd.closest('#notebook-container');\n",
       "if (notebookContainer) {{\n",
       "    x.observe(notebookContainer, {childList: true});\n",
       "}}\n",
       "\n",
       "// Listen for the clearing of the current output cell\n",
       "var outputEl = gd.closest('.output');\n",
       "if (outputEl) {{\n",
       "    x.observe(outputEl, {childList: true});\n",
       "}}\n",
       "\n",
       "                        })                };                });            </script>        </div>"
      ]
     },
     "metadata": {},
     "output_type": "display_data"
    }
   ],
   "source": [
    "fig = px.line(beans, x=\"Year\", y=[\"85% Revenue\",\"Revenue\"], animation_frame=\"County\", \n",
    "           log_x=True, range_x=[2000,2021], range_y=[300,1300])\n",
    "\n",
    "fig[\"layout\"].pop(\"updatemenus\") # optional, drop animation buttons\n",
    "fig.show()\n"
   ]
  },
  {
   "cell_type": "code",
   "execution_count": null,
   "id": "descending-collect",
   "metadata": {},
   "outputs": [],
   "source": []
  },
  {
   "cell_type": "code",
   "execution_count": null,
   "id": "single-america",
   "metadata": {},
   "outputs": [],
   "source": []
  },
  {
   "cell_type": "code",
   "execution_count": null,
   "id": "controlled-enlargement",
   "metadata": {},
   "outputs": [],
   "source": []
  }
 ],
 "metadata": {
  "kernelspec": {
   "display_name": "Python 3",
   "language": "python",
   "name": "python3"
  },
  "language_info": {
   "codemirror_mode": {
    "name": "ipython",
    "version": 3
   },
   "file_extension": ".py",
   "mimetype": "text/x-python",
   "name": "python",
   "nbconvert_exporter": "python",
   "pygments_lexer": "ipython3",
   "version": "3.8.5"
  }
 },
 "nbformat": 4,
 "nbformat_minor": 5
}
